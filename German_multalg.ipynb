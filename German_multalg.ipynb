{
 "cells": [
  {
   "cell_type": "markdown",
   "id": "48588bc0-c255-49d2-a039-1a2845b201d7",
   "metadata": {},
   "source": [
    "<img src=\"img/ibidat.png\" alt=\"drawing\" width=\"600\"/>"
   ]
  },
  {
   "cell_type": "markdown",
   "id": "36e0774d-c02d-4ff7-9609-31ba1adec1c9",
   "metadata": {},
   "source": [
    "# Introducción\n",
    "\n",
    "En este cuaderno vamos a probar todas las parejas posibles de métodos de fairness que afecten a distintas partes del proceso de la construcción del algoritmo de machine learning. Vamos a usar el dataset `German`."
   ]
  },
  {
   "cell_type": "markdown",
   "id": "daab952a-8d5e-4540-b2e6-0da1fe09c666",
   "metadata": {},
   "source": [
    "# Carga de librerías\n"
   ]
  },
  {
   "cell_type": "code",
   "execution_count": 46,
   "id": "5be38405-c18a-401d-8e81-8ad1e39a25b7",
   "metadata": {
    "tags": []
   },
   "outputs": [
    {
     "name": "stdout",
     "output_type": "stream",
     "text": [
      "The autoreload extension is already loaded. To reload it, use:\n",
      "  %reload_ext autoreload\n"
     ]
    }
   ],
   "source": [
    "# Con esta celda, podemos hacer cambios en cualquier script/libreria y verlo reflejado en las funciones del notebook.\n",
    "%load_ext autoreload\n",
    "%autoreload 2\n",
    "%matplotlib inline"
   ]
  },
  {
   "cell_type": "code",
   "execution_count": 47,
   "id": "5473c1a0-a0fe-459b-b556-cc76d9815039",
   "metadata": {
    "tags": []
   },
   "outputs": [],
   "source": [
    "## CARGAMOS LIBRERIAS\n",
    "# Obs: La primera vez puede tardar en cargar porque AIF360 pre-compila algunas cosas de tensorflow\n",
    "import pandas as pd\n",
    "import numpy as np\n",
    "import matplotlib.pyplot as plt\n",
    "\n",
    "# Cargamos librerías de sklearn\n",
    "# vanilla LR\n",
    "from sklearn.preprocessing import StandardScaler\n",
    "from sklearn.linear_model import LogisticRegression\n",
    "from sklearn.pipeline import make_pipeline\n",
    "\n",
    "# Cargamos xgboost\n",
    "from xgboost import XGBClassifier\n",
    "\n",
    "# Cargamos algoritmos de fairness\n",
    "# Pre-procesado\n",
    "from aif360.algorithms.preprocessing import Reweighing\n",
    "from aif360.algorithms.preprocessing import DisparateImpactRemover\n",
    "# In-procesado\n",
    "from aif360.algorithms.inprocessing import PrejudiceRemover\n",
    "from aif360.algorithms.inprocessing import MetaFairClassifier\n",
    "from aif360.algorithms.inprocessing.adversarial_debiasing import AdversarialDebiasing\n",
    "# Post-procesado\n",
    "from aif360.algorithms.postprocessing import RejectOptionClassification # when scores are given\n",
    "from aif360.algorithms.postprocessing import CalibratedEqOddsPostprocessing # when scores (R) are given\n",
    "from aif360.algorithms.postprocessing import EqOddsPostprocessing # when labels (Y^hat) are given\n",
    "from aif360.datasets import GermanDataset\n",
    "\n",
    "# TF para adversarial debiasing\n",
    "import tensorflow.compat.v1 as tf\n",
    "tf.disable_eager_execution()\n",
    "\n",
    "from IPython.display import Markdown, display\n",
    "\n",
    "# Librería local con funciones de ayuda extra\n",
    "import utils\n",
    "\n",
    "seed = 12345 # fijamos la semilla de números aleatorios para reproducir exactamante el notebook"
   ]
  },
  {
   "cell_type": "markdown",
   "id": "0cef5f86-1db9-4454-b9c5-b6b85d7e19fa",
   "metadata": {},
   "source": [
    "# Selección de dataset.\n",
    "\n",
    "El siguiente bloque permite seleccionar el conjunto de datos sobre el que trabajar. Debe recordarse que el conjunto de `homecredit` es mucho mayor por lo que tardará más tiempo en ejecutarse.\n"
   ]
  },
  {
   "cell_type": "code",
   "execution_count": 48,
   "id": "cc32cf77-8d25-4374-8172-7dbcfad85366",
   "metadata": {
    "tags": []
   },
   "outputs": [
    {
     "name": "stdout",
     "output_type": "stream",
     "text": [
      "Dimensiones del conjunto de datos: (1000, 57)\n",
      "Grupos privilegiados: [{'the_protected_attr': 1.0}]\n",
      "Grupos no privilegiados: [{'the_protected_attr': 0.0}]\n",
      "Label del grupo favorable: 1.0\n",
      "Label del grupo desfavorable: 0.0\n"
     ]
    }
   ],
   "source": [
    "dataset_name = 'german' # valid options are: german; homecredit\n",
    "\n",
    "if dataset_name == 'german':\n",
    "    dataset_german = GermanDataset(\n",
    "        protected_attribute_names=['age'],            \n",
    "        privileged_classes=[lambda x: x >= 25],      \n",
    "        features_to_drop=['personal_status', 'sex'] \n",
    "    )\n",
    "    \n",
    "\n",
    "    # xgboost requiere que los labels empiecen en 0, y en este conjunto empiezan en 1\n",
    "    # dataset_german.labels = dataset_german.labels - 1\n",
    "    # dataset_german.favorable_label = dataset_german.favorable_label - 1\n",
    "    # dataset_german.unfavorable_label = dataset_german.unfavorable_label - 1\n",
    "    # cambiar los labels 2 a 0 (label 2 es desfavorabel y 1 es favorable) \n",
    "    dataset_german.labels[dataset_german.labels.ravel() == 2] =  dataset_german.labels[dataset_german.labels.ravel() == 2] - 2\n",
    "    dataset_german.unfavorable_label = dataset_german.unfavorable_label - 2\n",
    "\n",
    "    \n",
    "    \n",
    "    # Separamos el conjunto de datos en train, validate, test\n",
    "    data_train, vt = dataset_german.split([0.7], shuffle=True, seed=seed)\n",
    "    data_val, data_test = vt.split([0.5], shuffle=True, seed=seed)\n",
    "\n",
    "    # Obtenemos los indicadores del grupo sensible\n",
    "    sensitive_attribute = dataset_german.protected_attribute_names[0] # age\n",
    "    privileged_groups, unprivileged_groups = utils.get_privileged_groups(dataset_german)\n",
    "    \n",
    "    print(f'Dimensiones del conjunto de datos: {dataset_german.features.shape}')\n",
    "    print(\"Grupos privilegiados:\", privileged_groups)\n",
    "    print(\"Grupos no privilegiados:\", unprivileged_groups)\n",
    "    print(\"Label del grupo favorable:\", dataset_german.favorable_label)\n",
    "    print(\"Label del grupo desfavorable:\", dataset_german.unfavorable_label) \n",
    "    \n",
    "elif dataset_name == 'homecredit':\n",
    "    dataset_homecredit = pd.read_csv('data/homecredit.zip', compression='zip', header=0, sep=',', quotechar='\"')\n",
    "\n",
    "    dataset_homecredit = utils.preprocess_homecredit(dataset_homecredit)\n",
    "\n",
    "    dataset_homecredit_aif = utils.convert_to_standard_dataset(\n",
    "            df=dataset_homecredit,\n",
    "            target_label_name='TARGET',\n",
    "            sensitive_attribute='AGE',\n",
    "            priviledged_classes=[lambda x: x >= 25],\n",
    "            favorable_target_label=[1],\n",
    "            features_to_keep=[],\n",
    "            categorical_features=[])\n",
    "\n",
    "    # para hacer submuestra \n",
    "    sample_size_hc = 50000\n",
    "    dataset_homecredit_aif = dataset_homecredit_aif.subset(np.random.randint(0, 307511+1, size=(sample_size_hc)))\n",
    "    # Separamos el conjunto de datos en train, validate, test\n",
    "    data_train, vt = dataset_homecredit_aif.split([0.7], shuffle=True, seed=seed)\n",
    "    data_val, data_test = vt.split([0.5], shuffle=True, seed=seed)\n",
    "\n",
    "    # Obtenemos los indicadores del grupo sensible\n",
    "    sensitive_attribute = dataset_homecredit_aif.protected_attribute_names[0] # age\n",
    "    privileged_groups, unprivileged_groups = utils.get_privileged_groups(dataset_homecredit_aif)\n",
    "\n",
    "    print(f'Dimensiones del conjunto de datos: {dataset_homecredit_aif.features.shape}')\n",
    "    print(\"Grupos privilegiados:\", privileged_groups)\n",
    "    print(\"Grupos no privilegiados:\", unprivileged_groups)\n",
    "    print(\"Label del grupo favorable:\", dataset_homecredit_aif.favorable_label)\n",
    "    print(\"Label del grupo desfavorable:\", dataset_homecredit_aif.unfavorable_label) \n",
    "else:\n",
    "    print('Invalid dataset selected')"
   ]
  },
  {
   "cell_type": "markdown",
   "id": "cc846922-b51e-42f7-ba70-f80176d8c20e",
   "metadata": {},
   "source": [
    "## Modelos\n",
    "Para esta sección, creamos un diccionario de métricas y modelos para poder acceder los resultados de todos los modelos."
   ]
  },
  {
   "cell_type": "code",
   "execution_count": 49,
   "id": "61957d07-fe06-40c8-9176-65bb30e28891",
   "metadata": {
    "tags": []
   },
   "outputs": [],
   "source": [
    "# Inicializamos diccionarios\n",
    "models = dict()\n",
    "\n",
    "# Rango de umbrales para evaluar el score de los modelos\n",
    "thresh_sweep = np.linspace(0.01, 1.0, 50)\n",
    "\n",
    "metrics_sweep = dict()\n",
    "\n",
    "# Store results from validation and test\n",
    "metrics_best_thresh_validate = dict()\n",
    "metrics_best_thresh_test = dict()"
   ]
  },
  {
   "cell_type": "markdown",
   "id": "7fd3e46d-a36f-4124-aa39-5b33e2b11e3d",
   "metadata": {},
   "source": [
    "### Regresión Logística"
   ]
  },
  {
   "cell_type": "code",
   "execution_count": 50,
   "id": "e6c59d73-fc36-4e01-97ea-90d58ca0bfc6",
   "metadata": {
    "tags": []
   },
   "outputs": [
    {
     "name": "stdout",
     "output_type": "stream",
     "text": [
      "CPU times: user 16.4 ms, sys: 12 µs, total: 16.4 ms\n",
      "Wall time: 15.4 ms\n"
     ]
    }
   ],
   "source": [
    "%%time \n",
    "\n",
    "# Nombramos al modelo\n",
    "model_name = 'logistic_regression'\n",
    "fairness_method = ''\n",
    "\n",
    "# Hacemos una copia de los datasets\n",
    "data_train_copy, data_val_copy, data_test_copy = data_train.copy(deepcopy=True), data_val.copy(deepcopy=True), data_test.copy(deepcopy=True)\n",
    "\n",
    "# Parámetros del modelo\n",
    "fit_params = {'logisticregression__sample_weight': data_train_copy.instance_weights}\n",
    "\n",
    "# Asignamos el modelo al diccionario\n",
    "models[model_name+fairness_method] = make_pipeline(\n",
    "            #StandardScaler(),\n",
    "            LogisticRegression(solver='liblinear', random_state=seed))\n",
    "\n",
    "# Entrenamos el modelo\n",
    "models[model_name+fairness_method] = models[model_name+fairness_method].fit(data_train_copy.features, data_train_copy.labels.ravel(), **fit_params)"
   ]
  },
  {
   "cell_type": "code",
   "execution_count": 51,
   "id": "557d01f4-0db7-456e-ad01-c7b9b304bfd7",
   "metadata": {
    "tags": []
   },
   "outputs": [
    {
     "data": {
      "text/markdown": [
       "**Validation set results**"
      ],
      "text/plain": [
       "<IPython.core.display.Markdown object>"
      ]
     },
     "metadata": {},
     "output_type": "display_data"
    },
    {
     "name": "stdout",
     "output_type": "stream",
     "text": [
      "Threshold corresponding to *best balanced accuracy*: 0.7980\n",
      "AUC: 0.7499\n",
      "Balanced accuracy: 0.7050\n",
      "Accuracy: 0.6733\n",
      "Independence ( |ΔP(Y_pred = 1)| ): 0.1481\n",
      "Separation ( |ΔFPR + ΔFNR|/2 ): 0.1776\n",
      "Sufficiency ( |ΔPPV| ) : 0.2769\n",
      "CPU times: user 226 ms, sys: 12.1 ms, total: 238 ms\n",
      "Wall time: 224 ms\n"
     ]
    },
    {
     "data": {
      "image/png": "[encoded data removed]",
      "text/plain": [
       "<Figure size 640x480 with 2 Axes>"
      ]
     },
     "execution_count": 51,
     "metadata": {},
     "output_type": "execute_result"
    }
   ],
   "source": [
    "%%time \n",
    "\n",
    "# Evaluamos al modelo para un rango de umbrales\n",
    "metrics_sweep[model_name+fairness_method] = utils.metrics_threshold_sweep(\n",
    "    dataset=data_val_copy,\n",
    "    model=models[model_name+fairness_method],\n",
    "    thresh_arr=thresh_sweep\n",
    ")\n",
    "\n",
    "# Evaluamos las métricas para el mejor umbral\n",
    "metrics_best_thresh_validate[model_name+fairness_method] = utils.describe_metrics(metrics_sweep[model_name+fairness_method])\n",
    "\n",
    "# Usando el mejor umbral, calculamos las métricas en el test set\n",
    "metrics_best_thresh_test[model_name+fairness_method] = utils.compute_metrics(\n",
    "    dataset=data_test_copy, \n",
    "    model=models[model_name+fairness_method], \n",
    "    threshold=metrics_best_thresh_validate[model_name+fairness_method]['best_threshold'])\n",
    "\n",
    "display(Markdown(\"**Validation set results**\"))\n",
    "utils.print_metrics(metrics_best_thresh_validate[model_name+fairness_method])\n",
    "\n",
    "# Graficamos el comportamiento del modelo para el rango de umbrales \n",
    "# utils.plot_fairness_and_accuracy(metrics_sweep[model_name+fairness_method])\n",
    "# plt.title(model_name+fairness_method)\n",
    "\n",
    "f,a = utils.plot_fairness_and_accuracy(metrics_sweep[model_name+fairness_method])\n",
    "a.set_title(model_name+fairness_method)\n",
    "f"
   ]
  },
  {
   "cell_type": "code",
   "execution_count": 52,
   "id": "bb82f0f9-6553-4d42-b659-e20ebddee999",
   "metadata": {
    "tags": []
   },
   "outputs": [
    {
     "data": {
      "text/markdown": [
       "**Test set results**"
      ],
      "text/plain": [
       "<IPython.core.display.Markdown object>"
      ]
     },
     "metadata": {},
     "output_type": "display_data"
    },
    {
     "name": "stdout",
     "output_type": "stream",
     "text": [
      "Threshold corresponding to *best balanced accuracy*: 0.7980\n",
      "AUC: 0.7450\n",
      "Balanced accuracy: 0.7012\n",
      "Accuracy: 0.6400\n",
      "Independence ( |ΔP(Y_pred = 1)| ): 0.1407\n",
      "Separation ( |ΔFPR + ΔFNR|/2 ): 0.0580\n",
      "Sufficiency ( |ΔPPV| ) : 0.1091\n"
     ]
    }
   ],
   "source": [
    "display(Markdown(\"**Test set results**\"))\n",
    "utils.print_metrics(metrics_best_thresh_test[model_name+fairness_method])"
   ]
  },
  {
   "cell_type": "markdown",
   "id": "539925b5-4481-46e0-832e-d41283b676c8",
   "metadata": {},
   "source": [
    "### XGBoost"
   ]
  },
  {
   "cell_type": "code",
   "execution_count": 53,
   "id": "fa5ec750-56cf-46b2-a45b-2f7716a3b040",
   "metadata": {
    "tags": []
   },
   "outputs": [
    {
     "name": "stdout",
     "output_type": "stream",
     "text": [
      "CPU times: user 41min 23s, sys: 1.47 s, total: 41min 25s\n",
      "Wall time: 1min 15s\n"
     ]
    }
   ],
   "source": [
    "%%time \n",
    "\n",
    "# Nombramos al modelo\n",
    "model_name = 'xgb_classifier'\n",
    "fairness_method = ''\n",
    "\n",
    "# Parámetros del modelo\n",
    "fit_params = {'eval_metric': 'error', 'eta':0.1, 'max_depth':6, 'subsample':0.8}\n",
    "\n",
    "# Asignamos el modelo al diccionario\n",
    "models[model_name+fairness_method] = XGBClassifier(**fit_params)\n",
    "\n",
    "# Entrenamos el modelo\n",
    "models[model_name+fairness_method] = models[model_name+fairness_method].fit(data_train_copy.features, data_train_copy.labels.ravel())"
   ]
  },
  {
   "cell_type": "code",
   "execution_count": 54,
   "id": "68c37c70-85a5-4330-b914-65af16874160",
   "metadata": {
    "tags": []
   },
   "outputs": [
    {
     "data": {
      "text/markdown": [
       "**Validation set results**"
      ],
      "text/plain": [
       "<IPython.core.display.Markdown object>"
      ]
     },
     "metadata": {},
     "output_type": "display_data"
    },
    {
     "name": "stdout",
     "output_type": "stream",
     "text": [
      "Threshold corresponding to *best balanced accuracy*: 0.7980\n",
      "AUC: 0.7324\n",
      "Balanced accuracy: 0.7005\n",
      "Accuracy: 0.6800\n",
      "Independence ( |ΔP(Y_pred = 1)| ): 0.1111\n",
      "Separation ( |ΔFPR + ΔFNR|/2 ): 0.1034\n",
      "Sufficiency ( |ΔPPV| ) : 0.1884\n",
      "CPU times: user 3.03 s, sys: 7.36 ms, total: 3.04 s\n",
      "Wall time: 294 ms\n"
     ]
    },
    {
     "data": {
      "image/png": "[encoded data removed]",
      "text/plain": [
       "<Figure size 640x480 with 2 Axes>"
      ]
     },
     "execution_count": 54,
     "metadata": {},
     "output_type": "execute_result"
    }
   ],
   "source": [
    "%%time \n",
    "\n",
    "# Evaluamos al modelo para un rango de umbrales\n",
    "metrics_sweep[model_name+fairness_method] = utils.metrics_threshold_sweep(\n",
    "    dataset=data_val_copy,\n",
    "    model=models[model_name+fairness_method],\n",
    "    thresh_arr=thresh_sweep\n",
    ")\n",
    "\n",
    "# Evaluamos las métricas para el mejor umbral\n",
    "metrics_best_thresh_validate[model_name+fairness_method] = utils.describe_metrics(metrics_sweep[model_name+fairness_method])\n",
    "\n",
    "# Usando el mejor umbral, calculamos las métricas en el test set\n",
    "metrics_best_thresh_test[model_name+fairness_method] = utils.compute_metrics(\n",
    "    dataset=data_test_copy, \n",
    "    model=models[model_name+fairness_method], \n",
    "    threshold=metrics_best_thresh_validate[model_name+fairness_method]['best_threshold'])\n",
    "\n",
    "display(Markdown(\"**Validation set results**\"))\n",
    "utils.print_metrics(metrics_best_thresh_validate[model_name+fairness_method])\n",
    "\n",
    "# Graficamos el comportamiento del modelo para el rango de umbrales \n",
    "# utils.plot_fairness_and_accuracy(metrics_sweep[model_name+fairness_method])\n",
    "# plt.title(model_name+fairness_method)\n",
    "\n",
    "f,a = utils.plot_fairness_and_accuracy(metrics_sweep[model_name+fairness_method])\n",
    "a.set_title(model_name+fairness_method)\n",
    "f\n"
   ]
  },
  {
   "cell_type": "code",
   "execution_count": 55,
   "id": "e28313bf-3f5f-4d69-aa4f-4e6c3d12cdbd",
   "metadata": {
    "tags": []
   },
   "outputs": [
    {
     "data": {
      "text/markdown": [
       "**Test set results**"
      ],
      "text/plain": [
       "<IPython.core.display.Markdown object>"
      ]
     },
     "metadata": {},
     "output_type": "display_data"
    },
    {
     "name": "stdout",
     "output_type": "stream",
     "text": [
      "Threshold corresponding to *best balanced accuracy*: 0.7980\n",
      "AUC: 0.7555\n",
      "Balanced accuracy: 0.6854\n",
      "Accuracy: 0.6400\n",
      "Independence ( |ΔP(Y_pred = 1)| ): 0.1111\n",
      "Separation ( |ΔFPR + ΔFNR|/2 ): 0.1570\n",
      "Sufficiency ( |ΔPPV| ) : 0.2833\n"
     ]
    }
   ],
   "source": [
    "display(Markdown(\"**Test set results**\"))\n",
    "utils.print_metrics(metrics_best_thresh_test[model_name+fairness_method])"
   ]
  },
  {
   "cell_type": "markdown",
   "id": "f721603e-0d73-4acd-972f-f76227b22e5b",
   "metadata": {
    "tags": []
   },
   "source": [
    "## Técnicas de preprocesado"
   ]
  },
  {
   "cell_type": "markdown",
   "id": "9713b654-db5a-485f-a78f-ed5b7f26e663",
   "metadata": {
    "tags": []
   },
   "source": [
    "### Reponderación"
   ]
  },
  {
   "cell_type": "code",
   "execution_count": 56,
   "id": "76abe48e-485d-49b8-a384-032453f9a579",
   "metadata": {
    "tags": []
   },
   "outputs": [
    {
     "name": "stdout",
     "output_type": "stream",
     "text": [
      "CPU times: user 7.28 ms, sys: 7.94 ms, total: 15.2 ms\n",
      "Wall time: 15.2 ms\n"
     ]
    }
   ],
   "source": [
    "%%time \n",
    "\n",
    "# Hacemos una copia de los datasets\n",
    "data_train_copy, data_val_copy, data_test_copy = data_train.copy(deepcopy=True), data_val.copy(deepcopy=True), data_test.copy(deepcopy=True)\n",
    "\n",
    "# Hacemos el pre-procesado al conjunto train\n",
    "# Inicializamos la clase de pre-procesado \n",
    "PreProcessor = Reweighing(\n",
    "    unprivileged_groups=unprivileged_groups,\n",
    "    privileged_groups=privileged_groups\n",
    ")\n",
    "# Pre-procesamos (modifica los datos)\n",
    "PreProcessor.fit(data_train_copy)\n",
    "data_train_REW = PreProcessor.transform(data_train_copy)\n",
    "data_val_REW = PreProcessor.transform(data_val_copy)\n",
    "data_test_REW = PreProcessor.transform(data_test_copy)"
   ]
  },
  {
   "cell_type": "markdown",
   "id": "218cc5fc-cfc0-4bc1-9cfc-b93eed8b0215",
   "metadata": {},
   "source": [
    "De aquí en adelante, se aplica el modelo de preferencia de manera estándar"
   ]
  },
  {
   "cell_type": "markdown",
   "id": "f3ac1ebc-5d89-4e3d-897e-cd44e7e7371f",
   "metadata": {
    "tags": []
   },
   "source": [
    "### Eliminador de impacto dispar"
   ]
  },
  {
   "cell_type": "code",
   "execution_count": 57,
   "id": "02a243f6",
   "metadata": {
    "tags": []
   },
   "outputs": [
    {
     "name": "stdout",
     "output_type": "stream",
     "text": [
      "CPU times: user 184 ms, sys: 4 ms, total: 188 ms\n",
      "Wall time: 188 ms\n"
     ]
    }
   ],
   "source": [
    "%%time \n",
    "\n",
    "# Hacemos una copia de los datasets\n",
    "data_train_copy, data_val_copy, data_test_copy = data_train.copy(deepcopy=True), data_val.copy(deepcopy=True), data_test.copy(deepcopy=True)\n",
    "\n",
    "# Parámetros del modelo\n",
    "nivel_reparacion = 0.5 # un valor 0 inidica ausencia de reparación (datos se mantienen igual) \n",
    "                       # un valor 1 indica reparación completa (se puede perder nivel predictivo).\n",
    "                       # Se puede establecer cualquier valor entre 0 y 1.\n",
    "\n",
    "# Hacemos el pre-procesado al conjunto train\n",
    "# Inicializamos la clase de pre-procesado \n",
    "PreProcessor = DisparateImpactRemover(\n",
    "    repair_level=nivel_reparacion,\n",
    "    sensitive_attribute=sensitive_attribute\n",
    ")\n",
    "# Pre-procesamos (modifica los datos)\n",
    "PreProcessor.fit_transform(data_train_copy)\n",
    "data_train_DIR = PreProcessor.fit_transform(data_train_copy)\n",
    "data_val_DIR = PreProcessor.fit_transform(data_val_copy)\n",
    "data_test_DIR = PreProcessor.fit_transform(data_test_copy)\n",
    "\n"
   ]
  },
  {
   "cell_type": "markdown",
   "id": "29825503-b371-4f92-a8b5-83dda82fae44",
   "metadata": {},
   "source": [
    "## Entrenamiento de técnicas de inprocesado"
   ]
  },
  {
   "cell_type": "markdown",
   "id": "5482278a-2608-4bba-9743-221187c22c59",
   "metadata": {},
   "source": [
    "Entrenamos ahora los algoritmos de inprocesado para aplicarlos posteriormente cuando hagan falta."
   ]
  },
  {
   "cell_type": "markdown",
   "id": "d6a2a0b0-97fc-4872-aaf7-53ee6197c977",
   "metadata": {
    "tags": []
   },
   "source": [
    "### Eliminador de prejuicios por regularización"
   ]
  },
  {
   "cell_type": "code",
   "execution_count": 58,
   "id": "191e6c64-368f-4fd8-b6d2-86cfddefb76e",
   "metadata": {
    "tags": []
   },
   "outputs": [
    {
     "ename": "FileNotFoundError",
     "evalue": "[Errno 2] No such file or directory: 'python'",
     "output_type": "error",
     "traceback": [
      "\u001b[0;31m---------------------------------------------------------------------------\u001b[0m",
      "\u001b[0;31mFileNotFoundError\u001b[0m                         Traceback (most recent call last)",
      "File \u001b[0;32m<timed exec>:14\u001b[0m\n",
      "File \u001b[0;32m~/miniconda3/envs/aif360/lib/python3.9/site-packages/aif360/algorithms/transformer.py:27\u001b[0m, in \u001b[0;36maddmetadata.<locals>.wrapper\u001b[0;34m(self, *args, **kwargs)\u001b[0m\n\u001b[1;32m     25\u001b[0m \u001b[38;5;129m@wraps\u001b[39m(func)\n\u001b[1;32m     26\u001b[0m \u001b[38;5;28;01mdef\u001b[39;00m \u001b[38;5;21mwrapper\u001b[39m(\u001b[38;5;28mself\u001b[39m, \u001b[38;5;241m*\u001b[39margs, \u001b[38;5;241m*\u001b[39m\u001b[38;5;241m*\u001b[39mkwargs):\n\u001b[0;32m---> 27\u001b[0m     new_dataset \u001b[38;5;241m=\u001b[39m \u001b[43mfunc\u001b[49m\u001b[43m(\u001b[49m\u001b[38;5;28;43mself\u001b[39;49m\u001b[43m,\u001b[49m\u001b[43m \u001b[49m\u001b[38;5;241;43m*\u001b[39;49m\u001b[43margs\u001b[49m\u001b[43m,\u001b[49m\u001b[43m \u001b[49m\u001b[38;5;241;43m*\u001b[39;49m\u001b[38;5;241;43m*\u001b[39;49m\u001b[43mkwargs\u001b[49m\u001b[43m)\u001b[49m\n\u001b[1;32m     28\u001b[0m     \u001b[38;5;28;01mif\u001b[39;00m \u001b[38;5;28misinstance\u001b[39m(new_dataset, Dataset):\n\u001b[1;32m     29\u001b[0m         new_dataset\u001b[38;5;241m.\u001b[39mmetadata \u001b[38;5;241m=\u001b[39m new_dataset\u001b[38;5;241m.\u001b[39mmetadata\u001b[38;5;241m.\u001b[39mcopy()\n",
      "File \u001b[0;32m~/miniconda3/envs/aif360/lib/python3.9/site-packages/aif360/algorithms/inprocessing/prejudice_remover.py:160\u001b[0m, in \u001b[0;36mPrejudiceRemover.fit\u001b[0;34m(self, dataset)\u001b[0m\n\u001b[1;32m    156\u001b[0m train_pr \u001b[38;5;241m=\u001b[39m os\u001b[38;5;241m.\u001b[39mpath\u001b[38;5;241m.\u001b[39mjoin(k_path, \u001b[38;5;124m'\u001b[39m\u001b[38;5;124mkamfadm-2012ecmlpkdd\u001b[39m\u001b[38;5;124m'\u001b[39m, \u001b[38;5;124m'\u001b[39m\u001b[38;5;124mtrain_pr.py\u001b[39m\u001b[38;5;124m'\u001b[39m)\n\u001b[1;32m    157\u001b[0m \u001b[38;5;66;03m# changed paths in the calls below to (a) specify path of train_pr,\u001b[39;00m\n\u001b[1;32m    158\u001b[0m \u001b[38;5;66;03m# predict_lr RELATIVE to this file, and (b) compute & use absolute path\u001b[39;00m\n\u001b[1;32m    159\u001b[0m \u001b[38;5;66;03m#  and (c) replace python3 with python\u001b[39;00m\n\u001b[0;32m--> 160\u001b[0m \u001b[43msubprocess\u001b[49m\u001b[38;5;241;43m.\u001b[39;49m\u001b[43mcall\u001b[49m\u001b[43m(\u001b[49m\u001b[43m[\u001b[49m\u001b[38;5;124;43m'\u001b[39;49m\u001b[38;5;124;43mpython\u001b[39;49m\u001b[38;5;124;43m'\u001b[39;49m\u001b[43m,\u001b[49m\u001b[43m \u001b[49m\u001b[43mtrain_pr\u001b[49m\u001b[43m,\u001b[49m\n\u001b[1;32m    161\u001b[0m \u001b[43m                 \u001b[49m\u001b[38;5;124;43m'\u001b[39;49m\u001b[38;5;124;43m-e\u001b[39;49m\u001b[38;5;124;43m'\u001b[39;49m\u001b[43m,\u001b[49m\u001b[43m \u001b[49m\u001b[38;5;28;43mstr\u001b[39;49m\u001b[43m(\u001b[49m\u001b[38;5;28;43mself\u001b[39;49m\u001b[38;5;241;43m.\u001b[39;49m\u001b[43meta\u001b[49m\u001b[43m)\u001b[49m\u001b[43m,\u001b[49m\n\u001b[1;32m    162\u001b[0m \u001b[43m                 \u001b[49m\u001b[38;5;124;43m'\u001b[39;49m\u001b[38;5;124;43m-i\u001b[39;49m\u001b[38;5;124;43m'\u001b[39;49m\u001b[43m,\u001b[49m\u001b[43m \u001b[49m\u001b[43mtrain_name\u001b[49m\u001b[43m,\u001b[49m\n\u001b[1;32m    163\u001b[0m \u001b[43m                 \u001b[49m\u001b[38;5;124;43m'\u001b[39;49m\u001b[38;5;124;43m-o\u001b[39;49m\u001b[38;5;124;43m'\u001b[39;49m\u001b[43m,\u001b[49m\u001b[43m \u001b[49m\u001b[43mmodel_name\u001b[49m\u001b[43m,\u001b[49m\n\u001b[1;32m    164\u001b[0m \u001b[43m                 \u001b[49m\u001b[38;5;124;43m'\u001b[39;49m\u001b[38;5;124;43m--quiet\u001b[39;49m\u001b[38;5;124;43m'\u001b[39;49m\u001b[43m]\u001b[49m\u001b[43m)\u001b[49m\n\u001b[1;32m    165\u001b[0m os\u001b[38;5;241m.\u001b[39munlink(train_name)\n\u001b[1;32m    167\u001b[0m \u001b[38;5;28mself\u001b[39m\u001b[38;5;241m.\u001b[39mmodel_name \u001b[38;5;241m=\u001b[39m model_name\n",
      "File \u001b[0;32m~/miniconda3/envs/aif360/lib/python3.9/subprocess.py:349\u001b[0m, in \u001b[0;36mcall\u001b[0;34m(timeout, *popenargs, **kwargs)\u001b[0m\n\u001b[1;32m    341\u001b[0m \u001b[38;5;28;01mdef\u001b[39;00m \u001b[38;5;21mcall\u001b[39m(\u001b[38;5;241m*\u001b[39mpopenargs, timeout\u001b[38;5;241m=\u001b[39m\u001b[38;5;28;01mNone\u001b[39;00m, \u001b[38;5;241m*\u001b[39m\u001b[38;5;241m*\u001b[39mkwargs):\n\u001b[1;32m    342\u001b[0m \u001b[38;5;250m    \u001b[39m\u001b[38;5;124;03m\"\"\"Run command with arguments.  Wait for command to complete or\u001b[39;00m\n\u001b[1;32m    343\u001b[0m \u001b[38;5;124;03m    timeout, then return the returncode attribute.\u001b[39;00m\n\u001b[1;32m    344\u001b[0m \n\u001b[0;32m   (...)\u001b[0m\n\u001b[1;32m    347\u001b[0m \u001b[38;5;124;03m    retcode = call([\"ls\", \"-l\"])\u001b[39;00m\n\u001b[1;32m    348\u001b[0m \u001b[38;5;124;03m    \"\"\"\u001b[39;00m\n\u001b[0;32m--> 349\u001b[0m     \u001b[38;5;28;01mwith\u001b[39;00m \u001b[43mPopen\u001b[49m\u001b[43m(\u001b[49m\u001b[38;5;241;43m*\u001b[39;49m\u001b[43mpopenargs\u001b[49m\u001b[43m,\u001b[49m\u001b[43m \u001b[49m\u001b[38;5;241;43m*\u001b[39;49m\u001b[38;5;241;43m*\u001b[39;49m\u001b[43mkwargs\u001b[49m\u001b[43m)\u001b[49m \u001b[38;5;28;01mas\u001b[39;00m p:\n\u001b[1;32m    350\u001b[0m         \u001b[38;5;28;01mtry\u001b[39;00m:\n\u001b[1;32m    351\u001b[0m             \u001b[38;5;28;01mreturn\u001b[39;00m p\u001b[38;5;241m.\u001b[39mwait(timeout\u001b[38;5;241m=\u001b[39mtimeout)\n",
      "File \u001b[0;32m~/miniconda3/envs/aif360/lib/python3.9/subprocess.py:951\u001b[0m, in \u001b[0;36mPopen.__init__\u001b[0;34m(self, args, bufsize, executable, stdin, stdout, stderr, preexec_fn, close_fds, shell, cwd, env, universal_newlines, startupinfo, creationflags, restore_signals, start_new_session, pass_fds, user, group, extra_groups, encoding, errors, text, umask)\u001b[0m\n\u001b[1;32m    947\u001b[0m         \u001b[38;5;28;01mif\u001b[39;00m \u001b[38;5;28mself\u001b[39m\u001b[38;5;241m.\u001b[39mtext_mode:\n\u001b[1;32m    948\u001b[0m             \u001b[38;5;28mself\u001b[39m\u001b[38;5;241m.\u001b[39mstderr \u001b[38;5;241m=\u001b[39m io\u001b[38;5;241m.\u001b[39mTextIOWrapper(\u001b[38;5;28mself\u001b[39m\u001b[38;5;241m.\u001b[39mstderr,\n\u001b[1;32m    949\u001b[0m                     encoding\u001b[38;5;241m=\u001b[39mencoding, errors\u001b[38;5;241m=\u001b[39merrors)\n\u001b[0;32m--> 951\u001b[0m     \u001b[38;5;28;43mself\u001b[39;49m\u001b[38;5;241;43m.\u001b[39;49m\u001b[43m_execute_child\u001b[49m\u001b[43m(\u001b[49m\u001b[43margs\u001b[49m\u001b[43m,\u001b[49m\u001b[43m \u001b[49m\u001b[43mexecutable\u001b[49m\u001b[43m,\u001b[49m\u001b[43m \u001b[49m\u001b[43mpreexec_fn\u001b[49m\u001b[43m,\u001b[49m\u001b[43m \u001b[49m\u001b[43mclose_fds\u001b[49m\u001b[43m,\u001b[49m\n\u001b[1;32m    952\u001b[0m \u001b[43m                        \u001b[49m\u001b[43mpass_fds\u001b[49m\u001b[43m,\u001b[49m\u001b[43m \u001b[49m\u001b[43mcwd\u001b[49m\u001b[43m,\u001b[49m\u001b[43m \u001b[49m\u001b[43menv\u001b[49m\u001b[43m,\u001b[49m\n\u001b[1;32m    953\u001b[0m \u001b[43m                        \u001b[49m\u001b[43mstartupinfo\u001b[49m\u001b[43m,\u001b[49m\u001b[43m \u001b[49m\u001b[43mcreationflags\u001b[49m\u001b[43m,\u001b[49m\u001b[43m \u001b[49m\u001b[43mshell\u001b[49m\u001b[43m,\u001b[49m\n\u001b[1;32m    954\u001b[0m \u001b[43m                        \u001b[49m\u001b[43mp2cread\u001b[49m\u001b[43m,\u001b[49m\u001b[43m \u001b[49m\u001b[43mp2cwrite\u001b[49m\u001b[43m,\u001b[49m\n\u001b[1;32m    955\u001b[0m \u001b[43m                        \u001b[49m\u001b[43mc2pread\u001b[49m\u001b[43m,\u001b[49m\u001b[43m \u001b[49m\u001b[43mc2pwrite\u001b[49m\u001b[43m,\u001b[49m\n\u001b[1;32m    956\u001b[0m \u001b[43m                        \u001b[49m\u001b[43merrread\u001b[49m\u001b[43m,\u001b[49m\u001b[43m \u001b[49m\u001b[43merrwrite\u001b[49m\u001b[43m,\u001b[49m\n\u001b[1;32m    957\u001b[0m \u001b[43m                        \u001b[49m\u001b[43mrestore_signals\u001b[49m\u001b[43m,\u001b[49m\n\u001b[1;32m    958\u001b[0m \u001b[43m                        \u001b[49m\u001b[43mgid\u001b[49m\u001b[43m,\u001b[49m\u001b[43m \u001b[49m\u001b[43mgids\u001b[49m\u001b[43m,\u001b[49m\u001b[43m \u001b[49m\u001b[43muid\u001b[49m\u001b[43m,\u001b[49m\u001b[43m \u001b[49m\u001b[43mumask\u001b[49m\u001b[43m,\u001b[49m\n\u001b[1;32m    959\u001b[0m \u001b[43m                        \u001b[49m\u001b[43mstart_new_session\u001b[49m\u001b[43m)\u001b[49m\n\u001b[1;32m    960\u001b[0m \u001b[38;5;28;01mexcept\u001b[39;00m:\n\u001b[1;32m    961\u001b[0m     \u001b[38;5;66;03m# Cleanup if the child failed starting.\u001b[39;00m\n\u001b[1;32m    962\u001b[0m     \u001b[38;5;28;01mfor\u001b[39;00m f \u001b[38;5;129;01min\u001b[39;00m \u001b[38;5;28mfilter\u001b[39m(\u001b[38;5;28;01mNone\u001b[39;00m, (\u001b[38;5;28mself\u001b[39m\u001b[38;5;241m.\u001b[39mstdin, \u001b[38;5;28mself\u001b[39m\u001b[38;5;241m.\u001b[39mstdout, \u001b[38;5;28mself\u001b[39m\u001b[38;5;241m.\u001b[39mstderr)):\n",
      "File \u001b[0;32m~/miniconda3/envs/aif360/lib/python3.9/subprocess.py:1837\u001b[0m, in \u001b[0;36mPopen._execute_child\u001b[0;34m(self, args, executable, preexec_fn, close_fds, pass_fds, cwd, env, startupinfo, creationflags, shell, p2cread, p2cwrite, c2pread, c2pwrite, errread, errwrite, restore_signals, gid, gids, uid, umask, start_new_session)\u001b[0m\n\u001b[1;32m   1835\u001b[0m     \u001b[38;5;28;01mif\u001b[39;00m errno_num \u001b[38;5;241m!=\u001b[39m \u001b[38;5;241m0\u001b[39m:\n\u001b[1;32m   1836\u001b[0m         err_msg \u001b[38;5;241m=\u001b[39m os\u001b[38;5;241m.\u001b[39mstrerror(errno_num)\n\u001b[0;32m-> 1837\u001b[0m     \u001b[38;5;28;01mraise\u001b[39;00m child_exception_type(errno_num, err_msg, err_filename)\n\u001b[1;32m   1838\u001b[0m \u001b[38;5;28;01mraise\u001b[39;00m child_exception_type(err_msg)\n",
      "\u001b[0;31mFileNotFoundError\u001b[0m: [Errno 2] No such file or directory: 'python'"
     ]
    }
   ],
   "source": [
    "%%time \n",
    "# Nombramos al modelo\n",
    "model_name = 'prejudice_remover'\n",
    "\n",
    "# Hacemos una copia de los datasets\n",
    "data_train_copy, data_val_copy, data_test_copy = data_train.copy(deepcopy=True), data_val.copy(deepcopy=True), data_test.copy(deepcopy=True)\n",
    "\n",
    "# Parámetros del modelo\n",
    "η = 50.0 # hyper-parameter de regularización\n",
    "\n",
    "# Inicializamos el modelo y lo asignamos al diccionario\n",
    "models[model_name] = PrejudiceRemover(sensitive_attr=sensitive_attribute, eta=η)\n",
    "\n",
    "# Entrenamos el modelo\n",
    "models[model_name] = models[model_name].fit(data_train_copy)\n",
    "\n",
    "models[model_name].scores_train = models[model_name].predict(data_train_copy).scores\n",
    "models[model_name].scores_val = models[model_name].predict(data_val_copy).scores\n",
    "models[model_name].scores_test = models[model_name].predict(data_test_copy).scores"
   ]
  },
  {
   "cell_type": "code",
   "execution_count": 59,
   "id": "9726b006-676d-4e48-a701-4b67a872b57e",
   "metadata": {
    "tags": []
   },
   "outputs": [
    {
     "ename": "AttributeError",
     "evalue": "'PrejudiceRemover' object has no attribute 'model_name'",
     "output_type": "error",
     "traceback": [
      "\u001b[0;31m---------------------------------------------------------------------------\u001b[0m",
      "\u001b[0;31mAttributeError\u001b[0m                            Traceback (most recent call last)",
      "File \u001b[0;32m~/DEFINITIVO/utils.py:502\u001b[0m, in \u001b[0;36mmetrics_threshold_sweep\u001b[0;34m(dataset, model, thresh_arr)\u001b[0m\n\u001b[1;32m    500\u001b[0m \u001b[38;5;28;01mtry\u001b[39;00m:\n\u001b[1;32m    501\u001b[0m     \u001b[38;5;66;03m# sklearn classifier\u001b[39;00m\n\u001b[0;32m--> 502\u001b[0m     y_val_pred_prob \u001b[38;5;241m=\u001b[39m \u001b[43mmodel\u001b[49m\u001b[38;5;241;43m.\u001b[39;49m\u001b[43mpredict_proba\u001b[49m(dataset\u001b[38;5;241m.\u001b[39mfeatures)\n\u001b[1;32m    503\u001b[0m     pos_ind \u001b[38;5;241m=\u001b[39m np\u001b[38;5;241m.\u001b[39mwhere(model\u001b[38;5;241m.\u001b[39mclasses_ \u001b[38;5;241m==\u001b[39m dataset\u001b[38;5;241m.\u001b[39mfavorable_label)[\u001b[38;5;241m0\u001b[39m][\u001b[38;5;241m0\u001b[39m]\n",
      "\u001b[0;31mAttributeError\u001b[0m: 'PrejudiceRemover' object has no attribute 'predict_proba'",
      "\nDuring handling of the above exception, another exception occurred:\n",
      "\u001b[0;31mAttributeError\u001b[0m                            Traceback (most recent call last)",
      "File \u001b[0;32m<timed exec>:2\u001b[0m\n",
      "File \u001b[0;32m~/DEFINITIVO/utils.py:506\u001b[0m, in \u001b[0;36mmetrics_threshold_sweep\u001b[0;34m(dataset, model, thresh_arr)\u001b[0m\n\u001b[1;32m    503\u001b[0m     pos_ind \u001b[38;5;241m=\u001b[39m np\u001b[38;5;241m.\u001b[39mwhere(model\u001b[38;5;241m.\u001b[39mclasses_ \u001b[38;5;241m==\u001b[39m dataset\u001b[38;5;241m.\u001b[39mfavorable_label)[\u001b[38;5;241m0\u001b[39m][\u001b[38;5;241m0\u001b[39m]\n\u001b[1;32m    504\u001b[0m \u001b[38;5;28;01mexcept\u001b[39;00m \u001b[38;5;167;01mAttributeError\u001b[39;00m:\n\u001b[1;32m    505\u001b[0m     \u001b[38;5;66;03m# aif360 inprocessing algorithm\u001b[39;00m\n\u001b[0;32m--> 506\u001b[0m     y_val_pred_prob \u001b[38;5;241m=\u001b[39m \u001b[43mmodel\u001b[49m\u001b[38;5;241;43m.\u001b[39;49m\u001b[43mpredict\u001b[49m\u001b[43m(\u001b[49m\u001b[43mdataset\u001b[49m\u001b[43m)\u001b[49m\u001b[38;5;241m.\u001b[39mscores\n\u001b[1;32m    507\u001b[0m     pos_ind \u001b[38;5;241m=\u001b[39m \u001b[38;5;241m0\u001b[39m\n\u001b[1;32m    509\u001b[0m \u001b[38;5;66;03m# Remove nans and turn them into score of random prediction (R=0.5)\u001b[39;00m\n",
      "File \u001b[0;32m~/miniconda3/envs/aif360/lib/python3.9/site-packages/aif360/algorithms/transformer.py:27\u001b[0m, in \u001b[0;36maddmetadata.<locals>.wrapper\u001b[0;34m(self, *args, **kwargs)\u001b[0m\n\u001b[1;32m     25\u001b[0m \u001b[38;5;129m@wraps\u001b[39m(func)\n\u001b[1;32m     26\u001b[0m \u001b[38;5;28;01mdef\u001b[39;00m \u001b[38;5;21mwrapper\u001b[39m(\u001b[38;5;28mself\u001b[39m, \u001b[38;5;241m*\u001b[39margs, \u001b[38;5;241m*\u001b[39m\u001b[38;5;241m*\u001b[39mkwargs):\n\u001b[0;32m---> 27\u001b[0m     new_dataset \u001b[38;5;241m=\u001b[39m \u001b[43mfunc\u001b[49m\u001b[43m(\u001b[49m\u001b[38;5;28;43mself\u001b[39;49m\u001b[43m,\u001b[49m\u001b[43m \u001b[49m\u001b[38;5;241;43m*\u001b[39;49m\u001b[43margs\u001b[49m\u001b[43m,\u001b[49m\u001b[43m \u001b[49m\u001b[38;5;241;43m*\u001b[39;49m\u001b[38;5;241;43m*\u001b[39;49m\u001b[43mkwargs\u001b[49m\u001b[43m)\u001b[49m\n\u001b[1;32m     28\u001b[0m     \u001b[38;5;28;01mif\u001b[39;00m \u001b[38;5;28misinstance\u001b[39m(new_dataset, Dataset):\n\u001b[1;32m     29\u001b[0m         new_dataset\u001b[38;5;241m.\u001b[39mmetadata \u001b[38;5;241m=\u001b[39m new_dataset\u001b[38;5;241m.\u001b[39mmetadata\u001b[38;5;241m.\u001b[39mcopy()\n",
      "File \u001b[0;32m~/miniconda3/envs/aif360/lib/python3.9/site-packages/aif360/algorithms/inprocessing/prejudice_remover.py:204\u001b[0m, in \u001b[0;36mPrejudiceRemover.predict\u001b[0;34m(self, dataset)\u001b[0m\n\u001b[1;32m    198\u001b[0m predict_lr \u001b[38;5;241m=\u001b[39m os\u001b[38;5;241m.\u001b[39mpath\u001b[38;5;241m.\u001b[39mjoin(k_path, \u001b[38;5;124m'\u001b[39m\u001b[38;5;124mkamfadm-2012ecmlpkdd\u001b[39m\u001b[38;5;124m'\u001b[39m, \u001b[38;5;124m'\u001b[39m\u001b[38;5;124mpredict_lr.py\u001b[39m\u001b[38;5;124m'\u001b[39m)\n\u001b[1;32m    199\u001b[0m \u001b[38;5;66;03m# changed paths in the calls below to (a) specify path of train_pr,\u001b[39;00m\n\u001b[1;32m    200\u001b[0m \u001b[38;5;66;03m# predict_lr RELATIVE to this file, and (b) compute & use absolute path,\u001b[39;00m\n\u001b[1;32m    201\u001b[0m \u001b[38;5;66;03m# and (c) replace python3 with python\u001b[39;00m\n\u001b[1;32m    202\u001b[0m subprocess\u001b[38;5;241m.\u001b[39mcall([\u001b[38;5;124m'\u001b[39m\u001b[38;5;124mpython\u001b[39m\u001b[38;5;124m'\u001b[39m, predict_lr,\n\u001b[1;32m    203\u001b[0m                  \u001b[38;5;124m'\u001b[39m\u001b[38;5;124m-i\u001b[39m\u001b[38;5;124m'\u001b[39m, test_name,\n\u001b[0;32m--> 204\u001b[0m                  \u001b[38;5;124m'\u001b[39m\u001b[38;5;124m-m\u001b[39m\u001b[38;5;124m'\u001b[39m, \u001b[38;5;28;43mself\u001b[39;49m\u001b[38;5;241;43m.\u001b[39;49m\u001b[43mmodel_name\u001b[49m,\n\u001b[1;32m    205\u001b[0m                  \u001b[38;5;124m'\u001b[39m\u001b[38;5;124m-o\u001b[39m\u001b[38;5;124m'\u001b[39m, output_name,\n\u001b[1;32m    206\u001b[0m                  \u001b[38;5;124m'\u001b[39m\u001b[38;5;124m--quiet\u001b[39m\u001b[38;5;124m'\u001b[39m])\n\u001b[1;32m    207\u001b[0m os\u001b[38;5;241m.\u001b[39munlink(test_name)\n\u001b[1;32m    208\u001b[0m m \u001b[38;5;241m=\u001b[39m np\u001b[38;5;241m.\u001b[39mloadtxt(output_name)\n",
      "\u001b[0;31mAttributeError\u001b[0m: 'PrejudiceRemover' object has no attribute 'model_name'"
     ]
    }
   ],
   "source": [
    "%%time \n",
    "\n",
    "# Evaluamos al modelo para un rango de umbrales\n",
    "metrics_sweep[model_name] = utils.metrics_threshold_sweep(\n",
    "    dataset=data_val_copy,\n",
    "    model=models[model_name],\n",
    "    thresh_arr=thresh_sweep\n",
    ")\n",
    "\n",
    "# Evaluamos las métricas para el mejor umbral\n",
    "metrics_best_thresh_validate[model_name] = utils.describe_metrics(metrics_sweep[model_name])\n",
    "\n",
    "# Usando el mejor umbral, calculamos las métricas en el test set\n",
    "metrics_best_thresh_test[model_name] = utils.compute_metrics(\n",
    "    dataset=data_test_copy, \n",
    "    model=models[model_name], \n",
    "    threshold=metrics_best_thresh_validate[model_name]['best_threshold'])\n",
    "\n",
    "display(Markdown(\"**Validation set results**\"))\n",
    "utils.print_metrics(metrics_best_thresh_validate[model_name])\n",
    "\n",
    "# Graficamos el comportamiento del modelo para el rango de umbrales \n",
    "f,a = utils.plot_fairness_and_accuracy(metrics_sweep[model_name])\n",
    "a.set_title(model_name)\n",
    "f"
   ]
  },
  {
   "cell_type": "markdown",
   "id": "e3325a79-b996-491d-b017-501786c264b1",
   "metadata": {
    "tags": []
   },
   "source": [
    "### Algoritmo de metafairness"
   ]
  },
  {
   "cell_type": "code",
   "execution_count": 60,
   "id": "85daed7e-666a-4d8e-af8e-961178d5d977",
   "metadata": {
    "tags": []
   },
   "outputs": [
    {
     "name": "stdout",
     "output_type": "stream",
     "text": [
      "CPU times: user 29.1 s, sys: 1min 23s, total: 1min 53s\n",
      "Wall time: 7.5 s\n"
     ]
    }
   ],
   "source": [
    "%%time \n",
    "# Nombramos al modelo\n",
    "model_name = 'meta_fairness'\n",
    "\n",
    "# Parámetros del modelo\n",
    "# hyper-parameter de regularización\n",
    "τ = 0.8\n",
    "# métricas fairness a optimizar\n",
    "quality_constraints = ['sr', 'fdr'] # sr: statistical rate, fdr: false discovery rate\n",
    "\n",
    "# Optimizamos un modelo nuevo por cada métrica\n",
    "for quality in quality_constraints:\n",
    "    \n",
    "    # Hacemos una copia de los datasets\n",
    "    data_train_copy, data_val_copy, data_test_copy = data_train.copy(deepcopy=True), data_val.copy(deepcopy=True), data_test.copy(deepcopy=True)\n",
    "    \n",
    "    # nombramos al modelo con su métrica específica\n",
    "    model_name_quality = '{}_{}'.format(model_name, quality)\n",
    "    \n",
    "    # Inicializamos el modelo y lo asignamos al diccionario\n",
    "    models[model_name_quality] = MetaFairClassifier(tau=τ, sensitive_attr=sensitive_attribute, type=quality, seed=seed)\n",
    "\n",
    "    # Entrenamos el modelo\n",
    "    models[model_name_quality] = models[ model_name_quality ].fit( data_train_copy )\n",
    "    models[model_name_quality].scores_train = models[model_name_quality].predict(data_train_copy).scores\n",
    "    models[model_name_quality].scores_val = models[model_name_quality].predict(data_val_copy).scores\n",
    "    models[model_name_quality].scores_test = models[model_name_quality].predict(data_test_copy).scores"
   ]
  },
  {
   "cell_type": "code",
   "execution_count": 61,
   "id": "0bc6f003-9d7e-401b-b6ea-5e90bb48f363",
   "metadata": {
    "tags": []
   },
   "outputs": [
    {
     "name": "stdout",
     "output_type": "stream",
     "text": [
      "Results for meta_fairness_sr\n",
      "Threshold corresponding to *best balanced accuracy*: 0.4747\n",
      "AUC: 0.7623\n",
      "Balanced accuracy: 0.6985\n",
      "Accuracy: 0.7400\n",
      "Independence ( |ΔP(Y_pred = 1)| ): 0.1778\n",
      "Separation ( |ΔFPR + ΔFNR|/2 ): 0.0418\n",
      "Sufficiency ( |ΔPPV| ) : 0.0417\n",
      "\n",
      "\n",
      "Results for meta_fairness_fdr\n",
      "Threshold corresponding to *best balanced accuracy*: 0.6565\n",
      "AUC: 0.7598\n",
      "Balanced accuracy: 0.7094\n",
      "Accuracy: 0.6667\n",
      "Independence ( |ΔP(Y_pred = 1)| ): 0.1852\n",
      "Separation ( |ΔFPR + ΔFNR|/2 ): 0.1011\n",
      "Sufficiency ( |ΔPPV| ) : 0.1352\n",
      "\n",
      "\n",
      "CPU times: user 1.47 s, sys: 2.58 s, total: 4.05 s\n",
      "Wall time: 811 ms\n"
     ]
    }
   ],
   "source": [
    "%%time \n",
    "\n",
    "for quality in quality_constraints:\n",
    "    \n",
    "    name_suffix = '_{}'.format(quality)\n",
    "    print(f'Results for {model_name+name_suffix}')\n",
    "\n",
    "    # Evaluamos al modelo para un rango de umbrales\n",
    "    metrics_sweep[model_name+name_suffix] = utils.metrics_threshold_sweep(\n",
    "        dataset=data_val_copy,\n",
    "        model=models[model_name+name_suffix],\n",
    "        thresh_arr=thresh_sweep\n",
    "    )\n",
    "\n",
    "    # Evaluamos las métricas para el mejor umbral\n",
    "    metrics_best_thresh_validate[model_name+name_suffix] = utils.describe_metrics(metrics_sweep[model_name+name_suffix])\n",
    "\n",
    "    # Usando el mejor umbral, calculamos las métricas en el test set\n",
    "    metrics_best_thresh_test[model_name+name_suffix] = utils.compute_metrics(\n",
    "        dataset=data_test_copy, \n",
    "        model=models[model_name+name_suffix], \n",
    "        threshold=metrics_best_thresh_validate[model_name+name_suffix]['best_threshold'])\n",
    "\n",
    "    utils.print_metrics(metrics_best_thresh_validate[model_name+name_suffix])\n",
    "    print('\\n')\n",
    "\n",
    "    # Graficamos el comportamiento del modelo para el rango de umbrales \n",
    "    # utils.plot_fairness_and_accuracy(metrics_sweep[model_name+name_suffix])\n",
    "    # plt.title(model_name+name_suffix)\n",
    "    \n",
    "    f,a = utils.plot_fairness_and_accuracy(metrics_sweep[model_name+name_suffix])\n",
    "    a.set_title(model_name+name_suffix)\n",
    "    f"
   ]
  },
  {
   "cell_type": "markdown",
   "id": "3b9a2f1c-066f-4e7e-8827-76b591a4c1f6",
   "metadata": {
    "tags": []
   },
   "source": [
    "### Eliminación de prejuicios adversarios"
   ]
  },
  {
   "cell_type": "code",
   "execution_count": 62,
   "id": "623a7389-557d-4bfc-9c2b-8d95a062854d",
   "metadata": {
    "tags": []
   },
   "outputs": [
    {
     "name": "stdout",
     "output_type": "stream",
     "text": [
      "epoch 0; iter: 0; batch classifier loss: 78.328941; batch adversarial loss: 0.603363\n",
      "epoch 1; iter: 0; batch classifier loss: 65.281570; batch adversarial loss: 0.541025\n",
      "epoch 2; iter: 0; batch classifier loss: 32.843460; batch adversarial loss: 0.521144\n",
      "epoch 3; iter: 0; batch classifier loss: 38.581749; batch adversarial loss: 0.482356\n",
      "epoch 4; iter: 0; batch classifier loss: 36.358040; batch adversarial loss: 0.504408\n",
      "epoch 5; iter: 0; batch classifier loss: 51.873779; batch adversarial loss: 0.501723\n",
      "epoch 6; iter: 0; batch classifier loss: 50.467812; batch adversarial loss: 0.522056\n",
      "epoch 7; iter: 0; batch classifier loss: 40.450191; batch adversarial loss: 0.495753\n",
      "epoch 8; iter: 0; batch classifier loss: 43.378571; batch adversarial loss: 0.540329\n",
      "epoch 9; iter: 0; batch classifier loss: 43.495224; batch adversarial loss: 0.461925\n",
      "epoch 10; iter: 0; batch classifier loss: 42.289921; batch adversarial loss: 0.495041\n",
      "epoch 11; iter: 0; batch classifier loss: 38.960400; batch adversarial loss: 0.485479\n",
      "epoch 12; iter: 0; batch classifier loss: 28.709450; batch adversarial loss: 0.537821\n",
      "epoch 13; iter: 0; batch classifier loss: 29.499805; batch adversarial loss: 0.501778\n",
      "epoch 14; iter: 0; batch classifier loss: 28.791496; batch adversarial loss: 0.465359\n",
      "epoch 15; iter: 0; batch classifier loss: 36.322029; batch adversarial loss: 0.489352\n",
      "epoch 16; iter: 0; batch classifier loss: 13.852029; batch adversarial loss: 0.456443\n",
      "epoch 17; iter: 0; batch classifier loss: 39.044098; batch adversarial loss: 0.500823\n",
      "epoch 18; iter: 0; batch classifier loss: 25.847788; batch adversarial loss: 0.503303\n",
      "epoch 19; iter: 0; batch classifier loss: 21.155632; batch adversarial loss: 0.517317\n",
      "epoch 20; iter: 0; batch classifier loss: 26.661369; batch adversarial loss: 0.483129\n",
      "epoch 21; iter: 0; batch classifier loss: 26.827717; batch adversarial loss: 0.488140\n",
      "epoch 22; iter: 0; batch classifier loss: 22.830925; batch adversarial loss: 0.472258\n",
      "epoch 23; iter: 0; batch classifier loss: 18.154385; batch adversarial loss: 0.498070\n",
      "epoch 24; iter: 0; batch classifier loss: 35.415062; batch adversarial loss: 0.438925\n",
      "epoch 25; iter: 0; batch classifier loss: 15.681000; batch adversarial loss: 0.508974\n",
      "epoch 26; iter: 0; batch classifier loss: 14.186305; batch adversarial loss: 0.472472\n",
      "epoch 27; iter: 0; batch classifier loss: 20.396448; batch adversarial loss: 0.461050\n",
      "epoch 28; iter: 0; batch classifier loss: 15.177474; batch adversarial loss: 0.461483\n",
      "epoch 29; iter: 0; batch classifier loss: 11.296066; batch adversarial loss: 0.504553\n",
      "epoch 30; iter: 0; batch classifier loss: 19.982647; batch adversarial loss: 0.469303\n",
      "epoch 31; iter: 0; batch classifier loss: 13.949452; batch adversarial loss: 0.446547\n",
      "epoch 32; iter: 0; batch classifier loss: 9.425058; batch adversarial loss: 0.474120\n",
      "epoch 33; iter: 0; batch classifier loss: 8.112881; batch adversarial loss: 0.495944\n",
      "epoch 34; iter: 0; batch classifier loss: 8.686953; batch adversarial loss: 0.510074\n",
      "epoch 35; iter: 0; batch classifier loss: 8.231815; batch adversarial loss: 0.483319\n",
      "epoch 36; iter: 0; batch classifier loss: 12.060464; batch adversarial loss: 0.457807\n",
      "epoch 37; iter: 0; batch classifier loss: 8.969665; batch adversarial loss: 0.455427\n",
      "epoch 38; iter: 0; batch classifier loss: 11.751894; batch adversarial loss: 0.493284\n",
      "epoch 39; iter: 0; batch classifier loss: 17.857330; batch adversarial loss: 0.410264\n",
      "epoch 40; iter: 0; batch classifier loss: 9.054700; batch adversarial loss: 0.481168\n",
      "epoch 41; iter: 0; batch classifier loss: 9.949656; batch adversarial loss: 0.513538\n",
      "epoch 42; iter: 0; batch classifier loss: 8.941494; batch adversarial loss: 0.472370\n",
      "epoch 43; iter: 0; batch classifier loss: 6.181714; batch adversarial loss: 0.403777\n",
      "epoch 44; iter: 0; batch classifier loss: 7.681438; batch adversarial loss: 0.469814\n",
      "epoch 45; iter: 0; batch classifier loss: 4.993016; batch adversarial loss: 0.365825\n",
      "epoch 46; iter: 0; batch classifier loss: 4.458172; batch adversarial loss: 0.440363\n",
      "epoch 47; iter: 0; batch classifier loss: 3.683964; batch adversarial loss: 0.419802\n",
      "epoch 48; iter: 0; batch classifier loss: 6.161521; batch adversarial loss: 0.433095\n",
      "epoch 49; iter: 0; batch classifier loss: 7.049829; batch adversarial loss: 0.566229\n",
      "epoch 50; iter: 0; batch classifier loss: 3.990153; batch adversarial loss: 0.434898\n",
      "epoch 51; iter: 0; batch classifier loss: 5.216830; batch adversarial loss: 0.393740\n",
      "epoch 52; iter: 0; batch classifier loss: 3.853733; batch adversarial loss: 0.443064\n",
      "epoch 53; iter: 0; batch classifier loss: 2.688002; batch adversarial loss: 0.486022\n",
      "epoch 54; iter: 0; batch classifier loss: 3.816564; batch adversarial loss: 0.405881\n",
      "epoch 55; iter: 0; batch classifier loss: 2.304069; batch adversarial loss: 0.497793\n",
      "epoch 56; iter: 0; batch classifier loss: 1.945627; batch adversarial loss: 0.437202\n",
      "epoch 57; iter: 0; batch classifier loss: 2.954269; batch adversarial loss: 0.488989\n",
      "epoch 58; iter: 0; batch classifier loss: 1.810568; batch adversarial loss: 0.342809\n",
      "epoch 59; iter: 0; batch classifier loss: 2.436377; batch adversarial loss: 0.426880\n",
      "epoch 60; iter: 0; batch classifier loss: 2.315829; batch adversarial loss: 0.367868\n",
      "epoch 61; iter: 0; batch classifier loss: 2.377776; batch adversarial loss: 0.506651\n",
      "epoch 62; iter: 0; batch classifier loss: 2.084651; batch adversarial loss: 0.549500\n",
      "epoch 63; iter: 0; batch classifier loss: 3.884405; batch adversarial loss: 0.354509\n",
      "epoch 64; iter: 0; batch classifier loss: 2.713091; batch adversarial loss: 0.512102\n",
      "epoch 65; iter: 0; batch classifier loss: 5.971482; batch adversarial loss: 0.591337\n",
      "epoch 66; iter: 0; batch classifier loss: 2.433420; batch adversarial loss: 0.525636\n",
      "epoch 67; iter: 0; batch classifier loss: 1.265543; batch adversarial loss: 0.330713\n",
      "epoch 68; iter: 0; batch classifier loss: 1.235391; batch adversarial loss: 0.427504\n",
      "epoch 69; iter: 0; batch classifier loss: 1.283587; batch adversarial loss: 0.495683\n",
      "epoch 70; iter: 0; batch classifier loss: 1.751887; batch adversarial loss: 0.501034\n",
      "epoch 71; iter: 0; batch classifier loss: 1.361112; batch adversarial loss: 0.468233\n",
      "epoch 72; iter: 0; batch classifier loss: 1.137453; batch adversarial loss: 0.489372\n",
      "epoch 73; iter: 0; batch classifier loss: 1.063756; batch adversarial loss: 0.497371\n",
      "epoch 74; iter: 0; batch classifier loss: 1.215089; batch adversarial loss: 0.507649\n",
      "epoch 75; iter: 0; batch classifier loss: 1.150445; batch adversarial loss: 0.496178\n",
      "epoch 76; iter: 0; batch classifier loss: 1.043571; batch adversarial loss: 0.453335\n",
      "epoch 77; iter: 0; batch classifier loss: 1.200417; batch adversarial loss: 0.498411\n",
      "epoch 78; iter: 0; batch classifier loss: 1.349562; batch adversarial loss: 0.519653\n",
      "epoch 79; iter: 0; batch classifier loss: 1.121505; batch adversarial loss: 0.503346\n",
      "CPU times: user 2 s, sys: 643 ms, total: 2.64 s\n",
      "Wall time: 1.31 s\n"
     ]
    }
   ],
   "source": [
    "%%time\n",
    "\n",
    "# Nombramos al modelo\n",
    "model_name = 'NN_adversarial_debiasing'\n",
    "\n",
    "# Hacemos una copia de los datasets\n",
    "data_train_copy, data_val_copy, data_test_copy = data_train.copy(deepcopy=True), data_val.copy(deepcopy=True), data_test.copy(deepcopy=True)\n",
    "\n",
    "sess = tf.Session()\n",
    "\n",
    "models[model_name] = AdversarialDebiasing(\n",
    "    privileged_groups = privileged_groups,\n",
    "    unprivileged_groups = unprivileged_groups,\n",
    "    scope_name = 'debiased_classifier',\n",
    "    debias=True,\n",
    "    sess=sess,\n",
    "    num_epochs=80)\n",
    "\n",
    "models[model_name].fit(data_train_copy)\n",
    "\n",
    "models[model_name].scores_train = models[model_name].predict(data_train_copy).scores\n",
    "models[model_name].scores_val = models[model_name].predict(data_val_copy).scores\n",
    "models[model_name].scores_test = models[model_name].predict(data_test_copy).scores"
   ]
  },
  {
   "cell_type": "code",
   "execution_count": 63,
   "id": "1ff943ad-004f-4edf-aac4-bf96a020bf15",
   "metadata": {
    "tags": []
   },
   "outputs": [
    {
     "data": {
      "text/markdown": [
       "**Validation set results**"
      ],
      "text/plain": [
       "<IPython.core.display.Markdown object>"
      ]
     },
     "metadata": {},
     "output_type": "display_data"
    },
    {
     "name": "stdout",
     "output_type": "stream",
     "text": [
      "Threshold corresponding to *best balanced accuracy*: 0.3737\n",
      "AUC: 0.5577\n",
      "Balanced accuracy: 0.5891\n",
      "Accuracy: 0.6333\n",
      "Independence ( |ΔP(Y_pred = 1)| ): 0.1481\n",
      "Separation ( |ΔFPR + ΔFNR|/2 ): 0.0142\n",
      "Sufficiency ( |ΔPPV| ) : 0.1033\n",
      "CPU times: user 222 ms, sys: 12.2 ms, total: 235 ms\n",
      "Wall time: 223 ms\n"
     ]
    },
    {
     "data": {
      "image/png": "[encoded data removed]",
      "text/plain": [
       "<Figure size 640x480 with 2 Axes>"
      ]
     },
     "execution_count": 63,
     "metadata": {},
     "output_type": "execute_result"
    }
   ],
   "source": [
    "%%time \n",
    "\n",
    "# Evaluamos al modelo para un rango de umbrales\n",
    "metrics_sweep[model_name] = utils.metrics_threshold_sweep(\n",
    "    dataset=data_val_copy,\n",
    "    model=models[model_name],\n",
    "    thresh_arr=thresh_sweep\n",
    ")\n",
    "\n",
    "# Evaluamos las métricas para el mejor umbral\n",
    "metrics_best_thresh_validate[model_name] = utils.describe_metrics(metrics_sweep[model_name])\n",
    "\n",
    "# Usando el mejor umbral, calculamos las métricas en el test set\n",
    "metrics_best_thresh_test[model_name] = utils.compute_metrics(\n",
    "    dataset=data_test_copy, \n",
    "    model=models[model_name], \n",
    "    threshold=metrics_best_thresh_validate[model_name]['best_threshold'])\n",
    "\n",
    "display(Markdown(\"**Validation set results**\"))\n",
    "utils.print_metrics(metrics_best_thresh_validate[model_name])\n",
    "\n",
    "# Graficamos el comportamiento del modelo para el rango de umbrales \n",
    "f,a = utils.plot_fairness_and_accuracy(metrics_sweep[model_name])\n",
    "a.set_title(model_name)\n",
    "f"
   ]
  },
  {
   "cell_type": "markdown",
   "id": "7902eb38-c4b6-4ffb-8095-af9eda28c741",
   "metadata": {},
   "source": [
    "#### Eliminación de prejuicios adversarios: Red neuronal sin eliminación de prejuicios "
   ]
  },
  {
   "cell_type": "code",
   "execution_count": 64,
   "id": "86ada185-6303-497f-8530-6e928e6129ee",
   "metadata": {
    "tags": []
   },
   "outputs": [
    {
     "name": "stdout",
     "output_type": "stream",
     "text": [
      "epoch 0; iter: 0; batch classifier loss: 192.066650\n",
      "epoch 1; iter: 0; batch classifier loss: 71.284561\n",
      "epoch 2; iter: 0; batch classifier loss: 62.725182\n",
      "epoch 3; iter: 0; batch classifier loss: 94.393906\n",
      "epoch 4; iter: 0; batch classifier loss: 75.588760\n",
      "epoch 5; iter: 0; batch classifier loss: 41.643898\n",
      "epoch 6; iter: 0; batch classifier loss: 75.982780\n",
      "epoch 7; iter: 0; batch classifier loss: 61.480770\n",
      "epoch 8; iter: 0; batch classifier loss: 66.756577\n",
      "epoch 9; iter: 0; batch classifier loss: 43.706657\n",
      "epoch 10; iter: 0; batch classifier loss: 38.885208\n",
      "epoch 11; iter: 0; batch classifier loss: 57.362366\n",
      "epoch 12; iter: 0; batch classifier loss: 49.004250\n",
      "epoch 13; iter: 0; batch classifier loss: 48.125507\n",
      "epoch 14; iter: 0; batch classifier loss: 54.512791\n",
      "epoch 15; iter: 0; batch classifier loss: 45.581505\n",
      "epoch 16; iter: 0; batch classifier loss: 70.077599\n",
      "epoch 17; iter: 0; batch classifier loss: 55.389221\n",
      "epoch 18; iter: 0; batch classifier loss: 49.910393\n",
      "epoch 19; iter: 0; batch classifier loss: 54.560371\n",
      "epoch 20; iter: 0; batch classifier loss: 60.297249\n",
      "epoch 21; iter: 0; batch classifier loss: 53.749352\n",
      "epoch 22; iter: 0; batch classifier loss: 30.783386\n",
      "epoch 23; iter: 0; batch classifier loss: 47.607899\n",
      "epoch 24; iter: 0; batch classifier loss: 65.116302\n",
      "epoch 25; iter: 0; batch classifier loss: 38.439941\n",
      "epoch 26; iter: 0; batch classifier loss: 44.780632\n",
      "epoch 27; iter: 0; batch classifier loss: 51.656837\n",
      "epoch 28; iter: 0; batch classifier loss: 54.819592\n",
      "epoch 29; iter: 0; batch classifier loss: 56.745796\n",
      "epoch 30; iter: 0; batch classifier loss: 33.592808\n",
      "epoch 31; iter: 0; batch classifier loss: 40.416660\n",
      "epoch 32; iter: 0; batch classifier loss: 39.945496\n",
      "epoch 33; iter: 0; batch classifier loss: 25.080866\n",
      "epoch 34; iter: 0; batch classifier loss: 38.914577\n",
      "epoch 35; iter: 0; batch classifier loss: 33.173496\n",
      "epoch 36; iter: 0; batch classifier loss: 51.579269\n",
      "epoch 37; iter: 0; batch classifier loss: 29.914173\n",
      "epoch 38; iter: 0; batch classifier loss: 34.648567\n",
      "epoch 39; iter: 0; batch classifier loss: 22.694700\n",
      "epoch 40; iter: 0; batch classifier loss: 24.619217\n",
      "epoch 41; iter: 0; batch classifier loss: 27.673405\n",
      "epoch 42; iter: 0; batch classifier loss: 27.880465\n",
      "epoch 43; iter: 0; batch classifier loss: 33.321648\n",
      "epoch 44; iter: 0; batch classifier loss: 34.132690\n",
      "epoch 45; iter: 0; batch classifier loss: 24.529779\n",
      "epoch 46; iter: 0; batch classifier loss: 50.249409\n",
      "epoch 47; iter: 0; batch classifier loss: 28.826031\n",
      "epoch 48; iter: 0; batch classifier loss: 26.998325\n",
      "epoch 49; iter: 0; batch classifier loss: 20.896412\n",
      "epoch 50; iter: 0; batch classifier loss: 21.809090\n",
      "epoch 51; iter: 0; batch classifier loss: 37.106644\n",
      "epoch 52; iter: 0; batch classifier loss: 23.076309\n",
      "epoch 53; iter: 0; batch classifier loss: 23.765842\n",
      "epoch 54; iter: 0; batch classifier loss: 31.069986\n",
      "epoch 55; iter: 0; batch classifier loss: 18.914501\n",
      "epoch 56; iter: 0; batch classifier loss: 24.109192\n",
      "epoch 57; iter: 0; batch classifier loss: 33.173523\n",
      "epoch 58; iter: 0; batch classifier loss: 24.857708\n",
      "epoch 59; iter: 0; batch classifier loss: 19.425613\n",
      "epoch 60; iter: 0; batch classifier loss: 19.775906\n",
      "epoch 61; iter: 0; batch classifier loss: 24.806032\n",
      "epoch 62; iter: 0; batch classifier loss: 19.903316\n",
      "epoch 63; iter: 0; batch classifier loss: 14.744043\n",
      "epoch 64; iter: 0; batch classifier loss: 18.211010\n",
      "epoch 65; iter: 0; batch classifier loss: 20.526455\n",
      "epoch 66; iter: 0; batch classifier loss: 19.556692\n",
      "epoch 67; iter: 0; batch classifier loss: 15.550600\n",
      "epoch 68; iter: 0; batch classifier loss: 22.893589\n",
      "epoch 69; iter: 0; batch classifier loss: 20.084215\n",
      "epoch 70; iter: 0; batch classifier loss: 21.753746\n",
      "epoch 71; iter: 0; batch classifier loss: 20.169918\n",
      "epoch 72; iter: 0; batch classifier loss: 12.762459\n",
      "epoch 73; iter: 0; batch classifier loss: 18.937595\n",
      "epoch 74; iter: 0; batch classifier loss: 13.813743\n",
      "epoch 75; iter: 0; batch classifier loss: 14.926537\n",
      "epoch 76; iter: 0; batch classifier loss: 18.097385\n",
      "epoch 77; iter: 0; batch classifier loss: 12.771014\n",
      "epoch 78; iter: 0; batch classifier loss: 18.217325\n",
      "epoch 79; iter: 0; batch classifier loss: 16.189899\n",
      "epoch 80; iter: 0; batch classifier loss: 17.064606\n",
      "epoch 81; iter: 0; batch classifier loss: 9.577509\n",
      "epoch 82; iter: 0; batch classifier loss: 13.692196\n",
      "epoch 83; iter: 0; batch classifier loss: 11.630233\n",
      "epoch 84; iter: 0; batch classifier loss: 15.396425\n",
      "epoch 85; iter: 0; batch classifier loss: 13.097826\n",
      "epoch 86; iter: 0; batch classifier loss: 11.057642\n",
      "epoch 87; iter: 0; batch classifier loss: 15.371897\n",
      "epoch 88; iter: 0; batch classifier loss: 11.352379\n",
      "epoch 89; iter: 0; batch classifier loss: 10.582000\n",
      "epoch 90; iter: 0; batch classifier loss: 9.368671\n",
      "epoch 91; iter: 0; batch classifier loss: 12.033877\n",
      "epoch 92; iter: 0; batch classifier loss: 13.300110\n",
      "epoch 93; iter: 0; batch classifier loss: 6.584888\n",
      "epoch 94; iter: 0; batch classifier loss: 8.928387\n",
      "epoch 95; iter: 0; batch classifier loss: 9.620686\n",
      "epoch 96; iter: 0; batch classifier loss: 6.820744\n",
      "epoch 97; iter: 0; batch classifier loss: 6.991138\n",
      "epoch 98; iter: 0; batch classifier loss: 8.599743\n",
      "epoch 99; iter: 0; batch classifier loss: 8.387884\n",
      "epoch 100; iter: 0; batch classifier loss: 6.027344\n",
      "epoch 101; iter: 0; batch classifier loss: 7.506739\n",
      "epoch 102; iter: 0; batch classifier loss: 9.559499\n",
      "epoch 103; iter: 0; batch classifier loss: 6.683587\n",
      "epoch 104; iter: 0; batch classifier loss: 9.238317\n",
      "epoch 105; iter: 0; batch classifier loss: 7.987811\n",
      "epoch 106; iter: 0; batch classifier loss: 7.759068\n",
      "epoch 107; iter: 0; batch classifier loss: 3.737641\n",
      "epoch 108; iter: 0; batch classifier loss: 6.776639\n",
      "epoch 109; iter: 0; batch classifier loss: 6.427900\n",
      "epoch 110; iter: 0; batch classifier loss: 6.366720\n",
      "epoch 111; iter: 0; batch classifier loss: 4.385067\n",
      "epoch 112; iter: 0; batch classifier loss: 4.764625\n",
      "epoch 113; iter: 0; batch classifier loss: 5.137970\n",
      "epoch 114; iter: 0; batch classifier loss: 4.643212\n",
      "epoch 115; iter: 0; batch classifier loss: 5.048167\n",
      "epoch 116; iter: 0; batch classifier loss: 4.527023\n",
      "epoch 117; iter: 0; batch classifier loss: 6.627792\n",
      "epoch 118; iter: 0; batch classifier loss: 7.129306\n",
      "epoch 119; iter: 0; batch classifier loss: 5.053307\n",
      "epoch 120; iter: 0; batch classifier loss: 4.369277\n",
      "epoch 121; iter: 0; batch classifier loss: 3.678745\n",
      "epoch 122; iter: 0; batch classifier loss: 4.000052\n",
      "epoch 123; iter: 0; batch classifier loss: 4.212939\n",
      "epoch 124; iter: 0; batch classifier loss: 6.048034\n",
      "CPU times: user 1.82 s, sys: 341 ms, total: 2.16 s\n",
      "Wall time: 1.08 s\n"
     ]
    }
   ],
   "source": [
    "%%time\n",
    "\n",
    "sess.close()\n",
    "tf.reset_default_graph()\n",
    "sess = tf.Session()\n",
    "\n",
    "# Nombramos al modelo\n",
    "model_name = 'Basic_NN_no_adversarial_debiasing'\n",
    "\n",
    "# Hacemos una copia de los datasets\"\n",
    "data_train_copy, data_val_copy, data_test_copy = data_train.copy(deepcopy=True), data_val.copy(deepcopy=True), data_test.copy(deepcopy=True)\n",
    "\n",
    "models[model_name] = AdversarialDebiasing(privileged_groups = privileged_groups,\n",
    "                                          unprivileged_groups = unprivileged_groups,\n",
    "                                          scope_name = 'biased_classifier',\n",
    "                                          debias=False,\n",
    "                                          sess=sess,\n",
    "                                          num_epochs=125)\n",
    "models[model_name].fit(data_train_copy)\n",
    "\n",
    "models[model_name].scores_train = models[model_name].predict(data_train_copy).scores\n",
    "models[model_name].scores_val = models[model_name].predict(data_val_copy).scores\n",
    "models[model_name].scores_test = models[model_name].predict(data_test_copy).scores"
   ]
  },
  {
   "cell_type": "code",
   "execution_count": 65,
   "id": "cbb31736-e353-440e-8621-08c3d3f990e9",
   "metadata": {
    "tags": []
   },
   "outputs": [
    {
     "data": {
      "text/markdown": [
       "**Validation set results**"
      ],
      "text/plain": [
       "<IPython.core.display.Markdown object>"
      ]
     },
     "metadata": {},
     "output_type": "display_data"
    },
    {
     "name": "stdout",
     "output_type": "stream",
     "text": [
      "Threshold corresponding to *best balanced accuracy*: 0.9394\n",
      "AUC: 0.7429\n",
      "Balanced accuracy: 0.6854\n",
      "Accuracy: 0.6600\n",
      "Independence ( |ΔP(Y_pred = 1)| ): 0.2370\n",
      "Separation ( |ΔFPR + ΔFNR|/2 ): 0.0721\n",
      "Sufficiency ( |ΔPPV| ) : 0.0882\n",
      "CPU times: user 230 ms, sys: 4.2 ms, total: 234 ms\n",
      "Wall time: 222 ms\n"
     ]
    },
    {
     "data": {
      "image/png": "[encoded data removed]",
      "text/plain": [
       "<Figure size 640x480 with 2 Axes>"
      ]
     },
     "execution_count": 65,
     "metadata": {},
     "output_type": "execute_result"
    }
   ],
   "source": [
    "%%time \n",
    "\n",
    "# Evaluamos al modelo para un rango de umbrales\n",
    "metrics_sweep[model_name] = utils.metrics_threshold_sweep(\n",
    "    dataset=data_val_copy,\n",
    "    model=models[model_name],\n",
    "    thresh_arr=thresh_sweep\n",
    ")\n",
    "\n",
    "# Evaluamos las métricas para el mejor umbral\n",
    "metrics_best_thresh_validate[model_name] = utils.describe_metrics(metrics_sweep[model_name])\n",
    "\n",
    "# Usando el mejor umbral, calculamos las métricas en el test set\n",
    "metrics_best_thresh_test[model_name] = utils.compute_metrics(\n",
    "    dataset=data_test_copy, \n",
    "    model=models[model_name], \n",
    "    threshold=metrics_best_thresh_validate[model_name]['best_threshold'])\n",
    "\n",
    "display(Markdown(\"**Validation set results**\"))\n",
    "utils.print_metrics(metrics_best_thresh_validate[model_name])\n",
    "\n",
    "# Graficamos el comportamiento del modelo para el rango de umbrales \n",
    "f,a = utils.plot_fairness_and_accuracy(metrics_sweep[model_name])\n",
    "a.set_title(model_name)\n",
    "f"
   ]
  },
  {
   "cell_type": "markdown",
   "id": "318fea03-e234-479d-a9b9-122ab5fb6b55",
   "metadata": {},
   "source": [
    "## Preprocesado + Inprocesado"
   ]
  },
  {
   "cell_type": "markdown",
   "id": "9ad185e1-7dba-459a-b839-956e249b58f1",
   "metadata": {},
   "source": [
    "### Reponderación + Eliminador de prejuicios"
   ]
  },
  {
   "cell_type": "code",
   "execution_count": 66,
   "id": "d2ed8a0a-e912-4cbe-8e90-66dc2960d366",
   "metadata": {},
   "outputs": [
    {
     "ename": "FileNotFoundError",
     "evalue": "[Errno 2] No such file or directory: 'python'",
     "output_type": "error",
     "traceback": [
      "\u001b[0;31m---------------------------------------------------------------------------\u001b[0m",
      "\u001b[0;31mFileNotFoundError\u001b[0m                         Traceback (most recent call last)",
      "Cell \u001b[0;32mIn[66], line 14\u001b[0m\n\u001b[1;32m     11\u001b[0m models[model_name] \u001b[38;5;241m=\u001b[39m PrejudiceRemover(sensitive_attr\u001b[38;5;241m=\u001b[39msensitive_attribute, eta\u001b[38;5;241m=\u001b[39mη)\n\u001b[1;32m     13\u001b[0m \u001b[38;5;66;03m# Entrenamos el modelo\u001b[39;00m\n\u001b[0;32m---> 14\u001b[0m models[model_name] \u001b[38;5;241m=\u001b[39m \u001b[43mmodels\u001b[49m\u001b[43m[\u001b[49m\u001b[43mmodel_name\u001b[49m\u001b[43m]\u001b[49m\u001b[38;5;241;43m.\u001b[39;49m\u001b[43mfit\u001b[49m\u001b[43m(\u001b[49m\u001b[43mdata_train_copy\u001b[49m\u001b[43m)\u001b[49m\n",
      "File \u001b[0;32m~/miniconda3/envs/aif360/lib/python3.9/site-packages/aif360/algorithms/transformer.py:27\u001b[0m, in \u001b[0;36maddmetadata.<locals>.wrapper\u001b[0;34m(self, *args, **kwargs)\u001b[0m\n\u001b[1;32m     25\u001b[0m \u001b[38;5;129m@wraps\u001b[39m(func)\n\u001b[1;32m     26\u001b[0m \u001b[38;5;28;01mdef\u001b[39;00m \u001b[38;5;21mwrapper\u001b[39m(\u001b[38;5;28mself\u001b[39m, \u001b[38;5;241m*\u001b[39margs, \u001b[38;5;241m*\u001b[39m\u001b[38;5;241m*\u001b[39mkwargs):\n\u001b[0;32m---> 27\u001b[0m     new_dataset \u001b[38;5;241m=\u001b[39m \u001b[43mfunc\u001b[49m\u001b[43m(\u001b[49m\u001b[38;5;28;43mself\u001b[39;49m\u001b[43m,\u001b[49m\u001b[43m \u001b[49m\u001b[38;5;241;43m*\u001b[39;49m\u001b[43margs\u001b[49m\u001b[43m,\u001b[49m\u001b[43m \u001b[49m\u001b[38;5;241;43m*\u001b[39;49m\u001b[38;5;241;43m*\u001b[39;49m\u001b[43mkwargs\u001b[49m\u001b[43m)\u001b[49m\n\u001b[1;32m     28\u001b[0m     \u001b[38;5;28;01mif\u001b[39;00m \u001b[38;5;28misinstance\u001b[39m(new_dataset, Dataset):\n\u001b[1;32m     29\u001b[0m         new_dataset\u001b[38;5;241m.\u001b[39mmetadata \u001b[38;5;241m=\u001b[39m new_dataset\u001b[38;5;241m.\u001b[39mmetadata\u001b[38;5;241m.\u001b[39mcopy()\n",
      "File \u001b[0;32m~/miniconda3/envs/aif360/lib/python3.9/site-packages/aif360/algorithms/inprocessing/prejudice_remover.py:160\u001b[0m, in \u001b[0;36mPrejudiceRemover.fit\u001b[0;34m(self, dataset)\u001b[0m\n\u001b[1;32m    156\u001b[0m train_pr \u001b[38;5;241m=\u001b[39m os\u001b[38;5;241m.\u001b[39mpath\u001b[38;5;241m.\u001b[39mjoin(k_path, \u001b[38;5;124m'\u001b[39m\u001b[38;5;124mkamfadm-2012ecmlpkdd\u001b[39m\u001b[38;5;124m'\u001b[39m, \u001b[38;5;124m'\u001b[39m\u001b[38;5;124mtrain_pr.py\u001b[39m\u001b[38;5;124m'\u001b[39m)\n\u001b[1;32m    157\u001b[0m \u001b[38;5;66;03m# changed paths in the calls below to (a) specify path of train_pr,\u001b[39;00m\n\u001b[1;32m    158\u001b[0m \u001b[38;5;66;03m# predict_lr RELATIVE to this file, and (b) compute & use absolute path\u001b[39;00m\n\u001b[1;32m    159\u001b[0m \u001b[38;5;66;03m#  and (c) replace python3 with python\u001b[39;00m\n\u001b[0;32m--> 160\u001b[0m \u001b[43msubprocess\u001b[49m\u001b[38;5;241;43m.\u001b[39;49m\u001b[43mcall\u001b[49m\u001b[43m(\u001b[49m\u001b[43m[\u001b[49m\u001b[38;5;124;43m'\u001b[39;49m\u001b[38;5;124;43mpython\u001b[39;49m\u001b[38;5;124;43m'\u001b[39;49m\u001b[43m,\u001b[49m\u001b[43m \u001b[49m\u001b[43mtrain_pr\u001b[49m\u001b[43m,\u001b[49m\n\u001b[1;32m    161\u001b[0m \u001b[43m                 \u001b[49m\u001b[38;5;124;43m'\u001b[39;49m\u001b[38;5;124;43m-e\u001b[39;49m\u001b[38;5;124;43m'\u001b[39;49m\u001b[43m,\u001b[49m\u001b[43m \u001b[49m\u001b[38;5;28;43mstr\u001b[39;49m\u001b[43m(\u001b[49m\u001b[38;5;28;43mself\u001b[39;49m\u001b[38;5;241;43m.\u001b[39;49m\u001b[43meta\u001b[49m\u001b[43m)\u001b[49m\u001b[43m,\u001b[49m\n\u001b[1;32m    162\u001b[0m \u001b[43m                 \u001b[49m\u001b[38;5;124;43m'\u001b[39;49m\u001b[38;5;124;43m-i\u001b[39;49m\u001b[38;5;124;43m'\u001b[39;49m\u001b[43m,\u001b[49m\u001b[43m \u001b[49m\u001b[43mtrain_name\u001b[49m\u001b[43m,\u001b[49m\n\u001b[1;32m    163\u001b[0m \u001b[43m                 \u001b[49m\u001b[38;5;124;43m'\u001b[39;49m\u001b[38;5;124;43m-o\u001b[39;49m\u001b[38;5;124;43m'\u001b[39;49m\u001b[43m,\u001b[49m\u001b[43m \u001b[49m\u001b[43mmodel_name\u001b[49m\u001b[43m,\u001b[49m\n\u001b[1;32m    164\u001b[0m \u001b[43m                 \u001b[49m\u001b[38;5;124;43m'\u001b[39;49m\u001b[38;5;124;43m--quiet\u001b[39;49m\u001b[38;5;124;43m'\u001b[39;49m\u001b[43m]\u001b[49m\u001b[43m)\u001b[49m\n\u001b[1;32m    165\u001b[0m os\u001b[38;5;241m.\u001b[39munlink(train_name)\n\u001b[1;32m    167\u001b[0m \u001b[38;5;28mself\u001b[39m\u001b[38;5;241m.\u001b[39mmodel_name \u001b[38;5;241m=\u001b[39m model_name\n",
      "File \u001b[0;32m~/miniconda3/envs/aif360/lib/python3.9/subprocess.py:349\u001b[0m, in \u001b[0;36mcall\u001b[0;34m(timeout, *popenargs, **kwargs)\u001b[0m\n\u001b[1;32m    341\u001b[0m \u001b[38;5;28;01mdef\u001b[39;00m \u001b[38;5;21mcall\u001b[39m(\u001b[38;5;241m*\u001b[39mpopenargs, timeout\u001b[38;5;241m=\u001b[39m\u001b[38;5;28;01mNone\u001b[39;00m, \u001b[38;5;241m*\u001b[39m\u001b[38;5;241m*\u001b[39mkwargs):\n\u001b[1;32m    342\u001b[0m \u001b[38;5;250m    \u001b[39m\u001b[38;5;124;03m\"\"\"Run command with arguments.  Wait for command to complete or\u001b[39;00m\n\u001b[1;32m    343\u001b[0m \u001b[38;5;124;03m    timeout, then return the returncode attribute.\u001b[39;00m\n\u001b[1;32m    344\u001b[0m \n\u001b[0;32m   (...)\u001b[0m\n\u001b[1;32m    347\u001b[0m \u001b[38;5;124;03m    retcode = call([\"ls\", \"-l\"])\u001b[39;00m\n\u001b[1;32m    348\u001b[0m \u001b[38;5;124;03m    \"\"\"\u001b[39;00m\n\u001b[0;32m--> 349\u001b[0m     \u001b[38;5;28;01mwith\u001b[39;00m \u001b[43mPopen\u001b[49m\u001b[43m(\u001b[49m\u001b[38;5;241;43m*\u001b[39;49m\u001b[43mpopenargs\u001b[49m\u001b[43m,\u001b[49m\u001b[43m \u001b[49m\u001b[38;5;241;43m*\u001b[39;49m\u001b[38;5;241;43m*\u001b[39;49m\u001b[43mkwargs\u001b[49m\u001b[43m)\u001b[49m \u001b[38;5;28;01mas\u001b[39;00m p:\n\u001b[1;32m    350\u001b[0m         \u001b[38;5;28;01mtry\u001b[39;00m:\n\u001b[1;32m    351\u001b[0m             \u001b[38;5;28;01mreturn\u001b[39;00m p\u001b[38;5;241m.\u001b[39mwait(timeout\u001b[38;5;241m=\u001b[39mtimeout)\n",
      "File \u001b[0;32m~/miniconda3/envs/aif360/lib/python3.9/subprocess.py:951\u001b[0m, in \u001b[0;36mPopen.__init__\u001b[0;34m(self, args, bufsize, executable, stdin, stdout, stderr, preexec_fn, close_fds, shell, cwd, env, universal_newlines, startupinfo, creationflags, restore_signals, start_new_session, pass_fds, user, group, extra_groups, encoding, errors, text, umask)\u001b[0m\n\u001b[1;32m    947\u001b[0m         \u001b[38;5;28;01mif\u001b[39;00m \u001b[38;5;28mself\u001b[39m\u001b[38;5;241m.\u001b[39mtext_mode:\n\u001b[1;32m    948\u001b[0m             \u001b[38;5;28mself\u001b[39m\u001b[38;5;241m.\u001b[39mstderr \u001b[38;5;241m=\u001b[39m io\u001b[38;5;241m.\u001b[39mTextIOWrapper(\u001b[38;5;28mself\u001b[39m\u001b[38;5;241m.\u001b[39mstderr,\n\u001b[1;32m    949\u001b[0m                     encoding\u001b[38;5;241m=\u001b[39mencoding, errors\u001b[38;5;241m=\u001b[39merrors)\n\u001b[0;32m--> 951\u001b[0m     \u001b[38;5;28;43mself\u001b[39;49m\u001b[38;5;241;43m.\u001b[39;49m\u001b[43m_execute_child\u001b[49m\u001b[43m(\u001b[49m\u001b[43margs\u001b[49m\u001b[43m,\u001b[49m\u001b[43m \u001b[49m\u001b[43mexecutable\u001b[49m\u001b[43m,\u001b[49m\u001b[43m \u001b[49m\u001b[43mpreexec_fn\u001b[49m\u001b[43m,\u001b[49m\u001b[43m \u001b[49m\u001b[43mclose_fds\u001b[49m\u001b[43m,\u001b[49m\n\u001b[1;32m    952\u001b[0m \u001b[43m                        \u001b[49m\u001b[43mpass_fds\u001b[49m\u001b[43m,\u001b[49m\u001b[43m \u001b[49m\u001b[43mcwd\u001b[49m\u001b[43m,\u001b[49m\u001b[43m \u001b[49m\u001b[43menv\u001b[49m\u001b[43m,\u001b[49m\n\u001b[1;32m    953\u001b[0m \u001b[43m                        \u001b[49m\u001b[43mstartupinfo\u001b[49m\u001b[43m,\u001b[49m\u001b[43m \u001b[49m\u001b[43mcreationflags\u001b[49m\u001b[43m,\u001b[49m\u001b[43m \u001b[49m\u001b[43mshell\u001b[49m\u001b[43m,\u001b[49m\n\u001b[1;32m    954\u001b[0m \u001b[43m                        \u001b[49m\u001b[43mp2cread\u001b[49m\u001b[43m,\u001b[49m\u001b[43m \u001b[49m\u001b[43mp2cwrite\u001b[49m\u001b[43m,\u001b[49m\n\u001b[1;32m    955\u001b[0m \u001b[43m                        \u001b[49m\u001b[43mc2pread\u001b[49m\u001b[43m,\u001b[49m\u001b[43m \u001b[49m\u001b[43mc2pwrite\u001b[49m\u001b[43m,\u001b[49m\n\u001b[1;32m    956\u001b[0m \u001b[43m                        \u001b[49m\u001b[43merrread\u001b[49m\u001b[43m,\u001b[49m\u001b[43m \u001b[49m\u001b[43merrwrite\u001b[49m\u001b[43m,\u001b[49m\n\u001b[1;32m    957\u001b[0m \u001b[43m                        \u001b[49m\u001b[43mrestore_signals\u001b[49m\u001b[43m,\u001b[49m\n\u001b[1;32m    958\u001b[0m \u001b[43m                        \u001b[49m\u001b[43mgid\u001b[49m\u001b[43m,\u001b[49m\u001b[43m \u001b[49m\u001b[43mgids\u001b[49m\u001b[43m,\u001b[49m\u001b[43m \u001b[49m\u001b[43muid\u001b[49m\u001b[43m,\u001b[49m\u001b[43m \u001b[49m\u001b[43mumask\u001b[49m\u001b[43m,\u001b[49m\n\u001b[1;32m    959\u001b[0m \u001b[43m                        \u001b[49m\u001b[43mstart_new_session\u001b[49m\u001b[43m)\u001b[49m\n\u001b[1;32m    960\u001b[0m \u001b[38;5;28;01mexcept\u001b[39;00m:\n\u001b[1;32m    961\u001b[0m     \u001b[38;5;66;03m# Cleanup if the child failed starting.\u001b[39;00m\n\u001b[1;32m    962\u001b[0m     \u001b[38;5;28;01mfor\u001b[39;00m f \u001b[38;5;129;01min\u001b[39;00m \u001b[38;5;28mfilter\u001b[39m(\u001b[38;5;28;01mNone\u001b[39;00m, (\u001b[38;5;28mself\u001b[39m\u001b[38;5;241m.\u001b[39mstdin, \u001b[38;5;28mself\u001b[39m\u001b[38;5;241m.\u001b[39mstdout, \u001b[38;5;28mself\u001b[39m\u001b[38;5;241m.\u001b[39mstderr)):\n",
      "File \u001b[0;32m~/miniconda3/envs/aif360/lib/python3.9/subprocess.py:1837\u001b[0m, in \u001b[0;36mPopen._execute_child\u001b[0;34m(self, args, executable, preexec_fn, close_fds, pass_fds, cwd, env, startupinfo, creationflags, shell, p2cread, p2cwrite, c2pread, c2pwrite, errread, errwrite, restore_signals, gid, gids, uid, umask, start_new_session)\u001b[0m\n\u001b[1;32m   1835\u001b[0m     \u001b[38;5;28;01mif\u001b[39;00m errno_num \u001b[38;5;241m!=\u001b[39m \u001b[38;5;241m0\u001b[39m:\n\u001b[1;32m   1836\u001b[0m         err_msg \u001b[38;5;241m=\u001b[39m os\u001b[38;5;241m.\u001b[39mstrerror(errno_num)\n\u001b[0;32m-> 1837\u001b[0m     \u001b[38;5;28;01mraise\u001b[39;00m child_exception_type(errno_num, err_msg, err_filename)\n\u001b[1;32m   1838\u001b[0m \u001b[38;5;28;01mraise\u001b[39;00m child_exception_type(err_msg)\n",
      "\u001b[0;31mFileNotFoundError\u001b[0m: [Errno 2] No such file or directory: 'python'"
     ]
    }
   ],
   "source": [
    "# Nombre del modelo\n",
    "model_name = 'reweighting_prejudice_remover'\n",
    "\n",
    "# Hacemos una copia de los datasets (usando uno de lo métodos de pre-procesado vistos anteriormente)\n",
    "data_train_copy, data_val_copy, data_test_copy = data_train_REW.copy(deepcopy=True), data_val_REW.copy(deepcopy=True), data_test_REW.copy(deepcopy=True)\n",
    "\n",
    "# Parámetros del modelo\n",
    "η = 50.0 # hyper-parameter de regularización\n",
    "\n",
    "# Inicializamos el modelo y lo asignamos al diccionario\n",
    "models[model_name] = PrejudiceRemover(sensitive_attr=sensitive_attribute, eta=η)\n",
    "\n",
    "# Entrenamos el modelo\n",
    "models[model_name] = models[model_name].fit(data_train_copy)"
   ]
  },
  {
   "cell_type": "code",
   "execution_count": null,
   "id": "6c507a4f-36e3-4a4f-b04d-57a74aac3a94",
   "metadata": {},
   "outputs": [],
   "source": [
    "%%time \n",
    "\n",
    "# Evaluamos al modelo para un rango de umbrales\n",
    "metrics_sweep[model_name] = utils.metrics_threshold_sweep(\n",
    "    dataset=data_val_copy,\n",
    "    model=models[model_name],\n",
    "    thresh_arr=thresh_sweep\n",
    ")\n",
    "\n",
    "# Evaluamos las métricas para el mejor umbral\n",
    "metrics_best_thresh_validate[model_name] = utils.describe_metrics(metrics_sweep[model_name])\n",
    "\n",
    "# Usando el mejor umbral, calculamos las métricas en el test set\n",
    "metrics_best_thresh_test[model_name] = utils.compute_metrics(\n",
    "    dataset=data_test_copy, \n",
    "    model=models[model_name], \n",
    "    threshold=metrics_best_thresh_validate[model_name]['best_threshold'])\n",
    "\n",
    "display(Markdown(\"**Validation set results**\"))\n",
    "utils.print_metrics(metrics_best_thresh_validate[model_name])\n",
    "\n",
    "# Graficamos el comportamiento del modelo para el rango de umbrales \n",
    "f,a = utils.plot_fairness_and_accuracy(metrics_sweep[model_name])\n",
    "a.set_title(model_name)\n",
    "f"
   ]
  },
  {
   "cell_type": "markdown",
   "id": "460a9940-9c07-4015-aafa-0c2d0968e591",
   "metadata": {},
   "source": [
    "### Impacto dispar + Eliminador de prejuicios"
   ]
  },
  {
   "cell_type": "code",
   "execution_count": null,
   "id": "21e6b222-796d-4c0e-8823-b7bfef282488",
   "metadata": {},
   "outputs": [],
   "source": [
    "# Nombre del modelo\n",
    "model_name = 'disparate_impact_prejudice_remover'\n",
    "\n",
    "# Hacemos una copia de los datasets (usando uno de lo métodos de pre-procesado vistos anteriormente)\n",
    "data_train_copy, data_val_copy, data_test_copy = data_train_DIR.copy(deepcopy=True), data_val_DIR.copy(deepcopy=True), data_test_DIR.copy(deepcopy=True)\n",
    "\n",
    "# Parámetros del modelo\n",
    "η = 50.0 # hyper-parameter de regularización\n",
    "\n",
    "# Inicializamos el modelo y lo asignamos al diccionario\n",
    "models[model_name] = PrejudiceRemover(sensitive_attr=sensitive_attribute, eta=η)\n",
    "\n",
    "# Entrenamos el modelo\n",
    "models[model_name] = models[model_name].fit(data_train_copy)"
   ]
  },
  {
   "cell_type": "code",
   "execution_count": null,
   "id": "21a68a75-d132-4835-a97d-7727b782514d",
   "metadata": {},
   "outputs": [],
   "source": [
    "%%time \n",
    "\n",
    "# Evaluamos al modelo para un rango de umbrales\n",
    "metrics_sweep[model_name] = utils.metrics_threshold_sweep(\n",
    "    dataset=data_val_copy,\n",
    "    model=models[model_name],\n",
    "    thresh_arr=thresh_sweep\n",
    ")\n",
    "\n",
    "# Evaluamos las métricas para el mejor umbral\n",
    "metrics_best_thresh_validate[model_name] = utils.describe_metrics(metrics_sweep[model_name])\n",
    "\n",
    "# Usando el mejor umbral, calculamos las métricas en el test set\n",
    "metrics_best_thresh_test[model_name] = utils.compute_metrics(\n",
    "    dataset=data_test_copy, \n",
    "    model=models[model_name], \n",
    "    threshold=metrics_best_thresh_validate[model_name]['best_threshold'])\n",
    "\n",
    "display(Markdown(\"**Validation set results**\"))\n",
    "utils.print_metrics(metrics_best_thresh_validate[model_name])\n",
    "\n",
    "# Graficamos el comportamiento del modelo para el rango de umbrales \n",
    "f,a = utils.plot_fairness_and_accuracy(metrics_sweep[model_name])\n",
    "a.set_title(model_name)\n",
    "f"
   ]
  },
  {
   "cell_type": "markdown",
   "id": "a979c4d9-55aa-4e70-b934-7b080e8ac1c8",
   "metadata": {},
   "source": [
    "### Reponderación + metafairness"
   ]
  },
  {
   "cell_type": "code",
   "execution_count": null,
   "id": "4eb4e5e1-789c-4a3a-a19e-c1d3ec8f0d1c",
   "metadata": {},
   "outputs": [],
   "source": [
    "%%time \n",
    "# Nombramos al modelo\n",
    "model_name = 'reweighing_meta_fairness'\n",
    "\n",
    "# Parámetros del modelo\n",
    "# hyper-parameter de regularización\n",
    "τ = 0.8\n",
    "# métricas fairness a optimizar\n",
    "quality_constraints = ['sr', 'fdr'] # sr: statistical rate, fdr: false discovery rate\n",
    "\n",
    "# Optimizamos un modelo nuevo por cada métrica\n",
    "for quality in quality_constraints:\n",
    "    \n",
    "    # Hacemos una copia de los datasets\n",
    "    data_train_copy, data_val_copy, data_test_copy = data_train_REW.copy(deepcopy=True), data_val_REW.copy(deepcopy=True), data_test_REW.copy(deepcopy=True)\n",
    "    \n",
    "    # nombramos al modelo con su métrica específica\n",
    "    model_name_quality = '{}_{}'.format(model_name, quality)\n",
    "    \n",
    "    # Inicializamos el modelo y lo asignamos al diccionario\n",
    "    models[model_name_quality] = MetaFairClassifier(tau=τ, sensitive_attr=sensitive_attribute, type=quality, seed=seed)\n",
    "\n",
    "    # Entrenamos el modelo\n",
    "    models[model_name_quality] = models[ model_name_quality ].fit( data_train_copy )"
   ]
  },
  {
   "cell_type": "code",
   "execution_count": null,
   "id": "1d32e4d7-7f0d-4d50-9681-e74e1a3b40eb",
   "metadata": {},
   "outputs": [],
   "source": [
    "%%time \n",
    "\n",
    "for quality in quality_constraints:\n",
    "    \n",
    "    name_suffix = '_{}'.format(quality)\n",
    "    print(f'Results for {model_name+name_suffix}')\n",
    "\n",
    "    # Evaluamos al modelo para un rango de umbrales\n",
    "    metrics_sweep[model_name+name_suffix] = utils.metrics_threshold_sweep(\n",
    "        dataset=data_val_copy,\n",
    "        model=models[model_name+name_suffix],\n",
    "        thresh_arr=thresh_sweep\n",
    "    )\n",
    "\n",
    "    # Evaluamos las métricas para el mejor umbral\n",
    "    metrics_best_thresh_validate[model_name+name_suffix] = utils.describe_metrics(metrics_sweep[model_name+name_suffix])\n",
    "\n",
    "    # Usando el mejor umbral, calculamos las métricas en el test set\n",
    "    metrics_best_thresh_test[model_name+name_suffix] = utils.compute_metrics(\n",
    "        dataset=data_test_copy, \n",
    "        model=models[model_name+name_suffix], \n",
    "        threshold=metrics_best_thresh_validate[model_name+name_suffix]['best_threshold'])\n",
    "\n",
    "    utils.print_metrics(metrics_best_thresh_validate[model_name+name_suffix])\n",
    "    print('\\n')\n",
    "\n",
    "    # Graficamos el comportamiento del modelo para el rango de umbrales \n",
    "    # utils.plot_fairness_and_accuracy(metrics_sweep[model_name+name_suffix])\n",
    "    # plt.title(model_name+name_suffix)\n",
    "    \n",
    "    f,a = utils.plot_fairness_and_accuracy(metrics_sweep[model_name+name_suffix])\n",
    "    a.set_title(model_name+name_suffix)\n",
    "    f"
   ]
  },
  {
   "cell_type": "markdown",
   "id": "d7f1f523-1846-47e6-8085-2b48256ff8ed",
   "metadata": {},
   "source": [
    "### Impacto dispar + metafairness"
   ]
  },
  {
   "cell_type": "code",
   "execution_count": null,
   "id": "9a5aa3f3-b8fc-46ab-b382-1803d8373d33",
   "metadata": {},
   "outputs": [],
   "source": [
    "%%time \n",
    "# Nombramos al modelo\n",
    "model_name = 'disparate_impact_meta_fairness'\n",
    "\n",
    "# Parámetros del modelo\n",
    "# hyper-parameter de regularización\n",
    "τ = 0.8\n",
    "# métricas fairness a optimizar\n",
    "quality_constraints = ['sr', 'fdr'] # sr: statistical rate, fdr: false discovery rate\n",
    "\n",
    "# Optimizamos un modelo nuevo por cada métrica\n",
    "for quality in quality_constraints:\n",
    "    \n",
    "    # Hacemos una copia de los datasets\n",
    "    data_train_copy, data_val_copy, data_test_copy = data_train_DIR.copy(deepcopy=True), data_val_DIR.copy(deepcopy=True), data_test_DIR.copy(deepcopy=True)\n",
    "    \n",
    "    # nombramos al modelo con su métrica específica\n",
    "    model_name_quality = '{}_{}'.format(model_name, quality)\n",
    "    \n",
    "    # Inicializamos el modelo y lo asignamos al diccionario\n",
    "    models[model_name_quality] = MetaFairClassifier(tau=τ, sensitive_attr=sensitive_attribute, type=quality, seed=seed)\n",
    "\n",
    "    # Entrenamos el modelo\n",
    "    models[model_name_quality] = models[ model_name_quality ].fit( data_train_copy )"
   ]
  },
  {
   "cell_type": "code",
   "execution_count": null,
   "id": "539121e6-df22-4091-83ff-1d1d43802c3f",
   "metadata": {},
   "outputs": [],
   "source": [
    "%%time \n",
    "\n",
    "for quality in quality_constraints:\n",
    "    \n",
    "    name_suffix = '_{}'.format(quality)\n",
    "    print(f'Results for {model_name+name_suffix}')\n",
    "\n",
    "    # Evaluamos al modelo para un rango de umbrales\n",
    "    metrics_sweep[model_name+name_suffix] = utils.metrics_threshold_sweep(\n",
    "        dataset=data_val_copy,\n",
    "        model=models[model_name+name_suffix],\n",
    "        thresh_arr=thresh_sweep\n",
    "    )\n",
    "\n",
    "    # Evaluamos las métricas para el mejor umbral\n",
    "    metrics_best_thresh_validate[model_name+name_suffix] = utils.describe_metrics(metrics_sweep[model_name+name_suffix])\n",
    "\n",
    "    # Usando el mejor umbral, calculamos las métricas en el test set\n",
    "    metrics_best_thresh_test[model_name+name_suffix] = utils.compute_metrics(\n",
    "        dataset=data_test_copy, \n",
    "        model=models[model_name+name_suffix], \n",
    "        threshold=metrics_best_thresh_validate[model_name+name_suffix]['best_threshold'])\n",
    "\n",
    "    utils.print_metrics(metrics_best_thresh_validate[model_name+name_suffix])\n",
    "    print('\\n')\n",
    "\n",
    "    # Graficamos el comportamiento del modelo para el rango de umbrales \n",
    "    # utils.plot_fairness_and_accuracy(metrics_sweep[model_name+name_suffix])\n",
    "    # plt.title(model_name+name_suffix)\n",
    "    \n",
    "    f,a = utils.plot_fairness_and_accuracy(metrics_sweep[model_name+name_suffix])\n",
    "    a.set_title(model_name+name_suffix)\n",
    "    f"
   ]
  },
  {
   "cell_type": "markdown",
   "id": "7f68159b-a804-4bd4-bdb6-b95a8ac33d63",
   "metadata": {},
   "source": [
    "### Reponderación + prejuicios adversarios"
   ]
  },
  {
   "cell_type": "code",
   "execution_count": null,
   "id": "c4f6dc06-8dd7-4668-8411-bb14a3222c35",
   "metadata": {},
   "outputs": [],
   "source": [
    "%%time\n",
    "\n",
    "# Nombramos al modelo\n",
    "model_name = 'reweighing_NN_adversarial_debiasing'\n",
    "\n",
    "# Hacemos una copia de los datasets\n",
    "data_train_copy, data_val_copy, data_test_copy = data_train_REW.copy(deepcopy=True), data_val_REW.copy(deepcopy=True), data_test_REW.copy(deepcopy=True)\n",
    "\n",
    "sess = tf.Session()\n",
    "\n",
    "models[model_name] = AdversarialDebiasing(\n",
    "    privileged_groups = privileged_groups,\n",
    "    unprivileged_groups = unprivileged_groups,\n",
    "    scope_name = 'debiased_classifier',\n",
    "    debias=True,\n",
    "    sess=sess,\n",
    "    num_epochs=80)\n",
    "\n",
    "models[model_name].fit(data_train_copy)"
   ]
  },
  {
   "cell_type": "code",
   "execution_count": null,
   "id": "9425c35d-42ba-434d-8aee-8460345f596c",
   "metadata": {},
   "outputs": [],
   "source": [
    "%%time \n",
    "\n",
    "# Evaluamos al modelo para un rango de umbrales\n",
    "metrics_sweep[model_name] = utils.metrics_threshold_sweep(\n",
    "    dataset=data_val_copy,\n",
    "    model=models[model_name],\n",
    "    thresh_arr=thresh_sweep\n",
    ")\n",
    "\n",
    "# Evaluamos las métricas para el mejor umbral\n",
    "metrics_best_thresh_validate[model_name] = utils.describe_metrics(metrics_sweep[model_name])\n",
    "\n",
    "# Usando el mejor umbral, calculamos las métricas en el test set\n",
    "metrics_best_thresh_test[model_name] = utils.compute_metrics(\n",
    "    dataset=data_test_copy, \n",
    "    model=models[model_name], \n",
    "    threshold=metrics_best_thresh_validate[model_name]['best_threshold'])\n",
    "\n",
    "display(Markdown(\"**Validation set results**\"))\n",
    "utils.print_metrics(metrics_best_thresh_validate[model_name])\n",
    "\n",
    "# Graficamos el comportamiento del modelo para el rango de umbrales \n",
    "f,a = utils.plot_fairness_and_accuracy(metrics_sweep[model_name])\n",
    "a.set_title(model_name)\n",
    "f"
   ]
  },
  {
   "cell_type": "markdown",
   "id": "bc9651b6-93c9-444a-b7e4-33c63264ecb1",
   "metadata": {},
   "source": [
    "### Reponderación + red neuronal normal"
   ]
  },
  {
   "cell_type": "code",
   "execution_count": null,
   "id": "a2ad5495-fa2a-416d-8157-52771b86437f",
   "metadata": {
    "tags": []
   },
   "outputs": [],
   "source": [
    "%%time\n",
    "\n",
    "sess.close()\n",
    "tf.reset_default_graph()\n",
    "sess = tf.Session()\n",
    "\n",
    "# Nombramos al modelo\n",
    "model_name = 'reweighin_basic_NN_no_adversarial_debiasing'\n",
    "\n",
    "# Hacemos una copia de los datasets\"\n",
    "data_train_copy, data_val_copy, data_test_copy = data_train_REW.copy(deepcopy=True), data_val_REW.copy(deepcopy=True), data_test_REW.copy(deepcopy=True)\n",
    "\n",
    "models[model_name] = AdversarialDebiasing(privileged_groups = privileged_groups,\n",
    "                                          unprivileged_groups = unprivileged_groups,\n",
    "                                          scope_name = 'biased_classifier',\n",
    "                                          debias=False,\n",
    "                                          sess=sess,\n",
    "                                          num_epochs=125)\n",
    "models[model_name].fit(data_train_copy)"
   ]
  },
  {
   "cell_type": "code",
   "execution_count": null,
   "id": "e28d81e5-caf0-46a5-a9bc-fe9e5421781f",
   "metadata": {
    "tags": []
   },
   "outputs": [],
   "source": [
    "%%time \n",
    "\n",
    "# Evaluamos al modelo para un rango de umbrales\n",
    "metrics_sweep[model_name] = utils.metrics_threshold_sweep(\n",
    "    dataset=data_val_copy,\n",
    "    model=models[model_name],\n",
    "    thresh_arr=thresh_sweep\n",
    ")\n",
    "\n",
    "# Evaluamos las métricas para el mejor umbral\n",
    "metrics_best_thresh_validate[model_name] = utils.describe_metrics(metrics_sweep[model_name])\n",
    "\n",
    "# Usando el mejor umbral, calculamos las métricas en el test set\n",
    "metrics_best_thresh_test[model_name] = utils.compute_metrics(\n",
    "    dataset=data_test_copy, \n",
    "    model=models[model_name], \n",
    "    threshold=metrics_best_thresh_validate[model_name]['best_threshold'])\n",
    "\n",
    "display(Markdown(\"**Validation set results**\"))\n",
    "utils.print_metrics(metrics_best_thresh_validate[model_name])\n",
    "\n",
    "# Graficamos el comportamiento del modelo para el rango de umbrales \n",
    "f,a = utils.plot_fairness_and_accuracy(metrics_sweep[model_name])\n",
    "a.set_title(model_name)\n",
    "f"
   ]
  },
  {
   "cell_type": "markdown",
   "id": "32234d1c-2fe1-4573-ab92-0819c92341de",
   "metadata": {},
   "source": [
    "### Impacto dispar + eliminación de prejuicios adversarios"
   ]
  },
  {
   "cell_type": "code",
   "execution_count": null,
   "id": "3a6a0ccb-7d6a-4991-8a33-0deca778ac0e",
   "metadata": {},
   "outputs": [],
   "source": [
    "%%time\n",
    "\n",
    "# Nombramos al modelo\n",
    "model_name = 'disparate_impact_NN_adversarial_debiasing'\n",
    "\n",
    "# Hacemos una copia de los datasets\n",
    "data_train_copy, data_val_copy, data_test_copy = data_train_DIR.copy(deepcopy=True), data_val_DIR.copy(deepcopy=True), data_test_DIR.copy(deepcopy=True)\n",
    "\n",
    "sess = tf.Session()\n",
    "\n",
    "models[model_name] = AdversarialDebiasing(\n",
    "    privileged_groups = privileged_groups,\n",
    "    unprivileged_groups = unprivileged_groups,\n",
    "    scope_name = 'debiased_classifier',\n",
    "    debias=True,\n",
    "    sess=sess,\n",
    "    num_epochs=80)\n",
    "\n",
    "models[model_name].fit(data_train_copy)"
   ]
  },
  {
   "cell_type": "code",
   "execution_count": null,
   "id": "c3abf705-83a5-464c-bf1e-35add7bf4539",
   "metadata": {},
   "outputs": [],
   "source": [
    "%%time \n",
    "\n",
    "# Evaluamos al modelo para un rango de umbrales\n",
    "metrics_sweep[model_name] = utils.metrics_threshold_sweep(\n",
    "    dataset=data_val_copy,\n",
    "    model=models[model_name],\n",
    "    thresh_arr=thresh_sweep\n",
    ")\n",
    "\n",
    "# Evaluamos las métricas para el mejor umbral\n",
    "metrics_best_thresh_validate[model_name] = utils.describe_metrics(metrics_sweep[model_name])\n",
    "\n",
    "# Usando el mejor umbral, calculamos las métricas en el test set\n",
    "metrics_best_thresh_test[model_name] = utils.compute_metrics(\n",
    "    dataset=data_test_copy, \n",
    "    model=models[model_name], \n",
    "    threshold=metrics_best_thresh_validate[model_name]['best_threshold'])\n",
    "\n",
    "display(Markdown(\"**Validation set results**\"))\n",
    "utils.print_metrics(metrics_best_thresh_validate[model_name])\n",
    "\n",
    "# Graficamos el comportamiento del modelo para el rango de umbrales \n",
    "f,a = utils.plot_fairness_and_accuracy(metrics_sweep[model_name])\n",
    "a.set_title(model_name)\n",
    "f"
   ]
  },
  {
   "cell_type": "markdown",
   "id": "1c8e301d-a353-49f4-ba90-26d28cf0f0f4",
   "metadata": {},
   "source": [
    "### Impacto dispar + red neuronal normal"
   ]
  },
  {
   "cell_type": "code",
   "execution_count": null,
   "id": "2447a41e",
   "metadata": {
    "tags": []
   },
   "outputs": [],
   "source": [
    "%%time\n",
    "\n",
    "sess.close()\n",
    "tf.reset_default_graph()\n",
    "sess = tf.Session()\n",
    "\n",
    "# Nombramos al modelo\n",
    "model_name = 'disparate_impact_basic_NN_no_adversarial_debiasing'\n",
    "\n",
    "# Hacemos una copia de los datasets\"\n",
    "data_train_copy, data_val_copy, data_test_copy = data_train_DIR.copy(deepcopy=True), data_val_DIR.copy(deepcopy=True), data_test_DIR.copy(deepcopy=True)\n",
    "\n",
    "models[model_name] = AdversarialDebiasing(privileged_groups = privileged_groups,\n",
    "                                          unprivileged_groups = unprivileged_groups,\n",
    "                                          scope_name = 'biased_classifier',\n",
    "                                          debias=False,\n",
    "                                          sess=sess,\n",
    "                                          num_epochs=125)\n",
    "models[model_name].fit(data_train_copy)"
   ]
  },
  {
   "cell_type": "code",
   "execution_count": null,
   "id": "73be6f06",
   "metadata": {
    "tags": []
   },
   "outputs": [],
   "source": [
    "%%time \n",
    "\n",
    "# Evaluamos al modelo para un rango de umbrales\n",
    "metrics_sweep[model_name] = utils.metrics_threshold_sweep(\n",
    "    dataset=data_val_copy,\n",
    "    model=models[model_name],\n",
    "    thresh_arr=thresh_sweep\n",
    ")\n",
    "\n",
    "# Evaluamos las métricas para el mejor umbral\n",
    "metrics_best_thresh_validate[model_name] = utils.describe_metrics(metrics_sweep[model_name])\n",
    "\n",
    "# Usando el mejor umbral, calculamos las métricas en el test set\n",
    "metrics_best_thresh_test[model_name] = utils.compute_metrics(\n",
    "    dataset=data_test_copy, \n",
    "    model=models[model_name], \n",
    "    threshold=metrics_best_thresh_validate[model_name]['best_threshold'])\n",
    "\n",
    "display(Markdown(\"**Validation set results**\"))\n",
    "utils.print_metrics(metrics_best_thresh_validate[model_name])\n",
    "\n",
    "# Graficamos el comportamiento del modelo para el rango de umbrales \n",
    "f,a = utils.plot_fairness_and_accuracy(metrics_sweep[model_name])\n",
    "a.set_title(model_name)\n",
    "f"
   ]
  },
  {
   "cell_type": "markdown",
   "id": "996c4d10-fc48-4210-8f95-9253bfaab37d",
   "metadata": {
    "tags": []
   },
   "source": [
    "## Preprocesado + Postprocesado"
   ]
  },
  {
   "cell_type": "markdown",
   "id": "b359edad-5523-41c8-be21-80eb1f689ac1",
   "metadata": {},
   "source": [
    "### Entrenamiento de modelos con técnicas de preprocesado"
   ]
  },
  {
   "cell_type": "markdown",
   "id": "ea3c0b9e-e8a9-46fc-a73f-c7ec4c1c1a96",
   "metadata": {},
   "source": [
    "#### Reponderación"
   ]
  },
  {
   "cell_type": "code",
   "execution_count": null,
   "id": "bbd0f7ae-1a51-4cde-890e-5b59377ac7ce",
   "metadata": {},
   "outputs": [],
   "source": [
    "# Hacemos una copia de los datasets\n",
    "data_train_copy, data_val_copy, data_test_copy = data_train_REW.copy(deepcopy=True), data_val_REW.copy(deepcopy=True), data_test_REW.copy(deepcopy=True)\n",
    "\n",
    "# Regresión logística\n",
    "model_name = 'reweighin_logistic_regression'\n",
    "\n",
    "# Parámetros del modelo\n",
    "fit_params = {'logisticregression__sample_weight': data_train_copy.instance_weights}\n",
    "\n",
    "# Asignamos el modelo al diccionario\n",
    "models[model_name+fairness_method] = make_pipeline(\n",
    "            #StandardScaler(),\n",
    "            LogisticRegression(solver='liblinear', random_state=seed))\n",
    "\n",
    "# Entrenamos el modelo\n",
    "models[model_name+fairness_method] = models[model_name+fairness_method].fit(data_train_copy.features, data_train_copy.labels.ravel(), **fit_params)\n",
    "\n",
    "# Evaluamos al modelo para un rango de umbrales\n",
    "metrics_sweep[model_name+fairness_method] = utils.metrics_threshold_sweep(\n",
    "    dataset=data_val_copy,\n",
    "    model=models[model_name+fairness_method],\n",
    "    thresh_arr=thresh_sweep\n",
    ")\n",
    "\n",
    "# Evaluamos las métricas para el mejor umbral\n",
    "metrics_best_thresh_validate[model_name+fairness_method] = utils.describe_metrics(metrics_sweep[model_name+fairness_method])\n",
    "\n",
    "# Usando el mejor umbral, calculamos las métricas en el test set\n",
    "metrics_best_thresh_test[model_name+fairness_method] = utils.compute_metrics(\n",
    "    dataset=data_test_copy, \n",
    "    model=models[model_name+fairness_method], \n",
    "    threshold=metrics_best_thresh_validate[model_name+fairness_method]['best_threshold'])\n",
    "\n",
    "display(Markdown(\"**Validation set results**\"))\n",
    "utils.print_metrics(metrics_best_thresh_validate[model_name+fairness_method])\n",
    "\n",
    "# Graficamos el comportamiento del modelo para el rango de umbrales \n",
    "# utils.plot_fairness_and_accuracy(metrics_sweep[model_name+fairness_method])\n",
    "# plt.title(model_name+fairness_method)\n",
    "\n",
    "f,a = utils.plot_fairness_and_accuracy(metrics_sweep[model_name+fairness_method])\n",
    "a.set_title(model_name+fairness_method)\n",
    "f"
   ]
  },
  {
   "cell_type": "code",
   "execution_count": null,
   "id": "81d8ff39-4dc7-4782-bd89-0c4d6d7eae6b",
   "metadata": {},
   "outputs": [],
   "source": [
    "%%time \n",
    "\n",
    "# Hacemos una copia de los datasets\n",
    "data_train_copy, data_val_copy, data_test_copy = data_train_REW.copy(deepcopy=True), data_val_REW.copy(deepcopy=True), data_test_REW.copy(deepcopy=True)\n",
    "\n",
    "# Nombramos al modelo\n",
    "model_name = 'reweighin_xgb_classifier'\n",
    "\n",
    "# Parámetros del modelo\n",
    "fit_params = {'eval_metric': 'error', 'eta':0.1, 'max_depth':6, 'subsample':0.8}\n",
    "\n",
    "# Asignamos el modelo al diccionario\n",
    "models[model_name+fairness_method] = XGBClassifier(**fit_params)\n",
    "\n",
    "# Entrenamos el modelo\n",
    "models[model_name+fairness_method] = models[model_name+fairness_method].fit(data_train_copy.features, data_train_copy.labels.ravel())\n",
    "\n",
    "# Evaluamos al modelo para un rango de umbrales\n",
    "metrics_sweep[model_name+fairness_method] = utils.metrics_threshold_sweep(\n",
    "    dataset=data_val_copy,\n",
    "    model=models[model_name+fairness_method],\n",
    "    thresh_arr=thresh_sweep\n",
    ")\n",
    "\n",
    "# Evaluamos las métricas para el mejor umbral\n",
    "metrics_best_thresh_validate[model_name+fairness_method] = utils.describe_metrics(metrics_sweep[model_name+fairness_method])\n",
    "\n",
    "# Usando el mejor umbral, calculamos las métricas en el test set\n",
    "metrics_best_thresh_test[model_name+fairness_method] = utils.compute_metrics(\n",
    "    dataset=data_test_copy, \n",
    "    model=models[model_name+fairness_method], \n",
    "    threshold=metrics_best_thresh_validate[model_name+fairness_method]['best_threshold'])\n",
    "\n",
    "display(Markdown(\"**Validation set results**\"))\n",
    "utils.print_metrics(metrics_best_thresh_validate[model_name+fairness_method])\n",
    "\n",
    "# Graficamos el comportamiento del modelo para el rango de umbrales \n",
    "# utils.plot_fairness_and_accuracy(metrics_sweep[model_name+fairness_method])\n",
    "# plt.title(model_name+fairness_method)\n",
    "\n",
    "f,a = utils.plot_fairness_and_accuracy(metrics_sweep[model_name+fairness_method])\n",
    "a.set_title(model_name+fairness_method)\n",
    "f"
   ]
  },
  {
   "cell_type": "markdown",
   "id": "d6428134-a7e7-4d21-93b0-6aa0fbb3530e",
   "metadata": {},
   "source": [
    "#### Disparate impact"
   ]
  },
  {
   "cell_type": "code",
   "execution_count": null,
   "id": "5aacf0b7-ed5a-42e5-997c-ca85af6a81cc",
   "metadata": {},
   "outputs": [],
   "source": [
    "# Hacemos una copia de los datasets\n",
    "data_train_copy, data_val_copy, data_test_copy = data_train_DIR.copy(deepcopy=True), data_val_DIR.copy(deepcopy=True), data_test_DIR.copy(deepcopy=True)\n",
    "\n",
    "# Regresión logística\n",
    "model_name = 'disparate_impact_logistic_regression'\n",
    "\n",
    "# Parámetros del modelo\n",
    "fit_params = {'logisticregression__sample_weight': data_train_copy.instance_weights}\n",
    "\n",
    "# Asignamos el modelo al diccionario\n",
    "models[model_name+fairness_method] = make_pipeline(\n",
    "            #StandardScaler(),\n",
    "            LogisticRegression(solver='liblinear', random_state=seed))\n",
    "\n",
    "# Entrenamos el modelo\n",
    "models[model_name+fairness_method] = models[model_name+fairness_method].fit(data_train_copy.features, data_train_copy.labels.ravel(), **fit_params)\n",
    "\n",
    "# Evaluamos al modelo para un rango de umbrales\n",
    "metrics_sweep[model_name+fairness_method] = utils.metrics_threshold_sweep(\n",
    "    dataset=data_val_copy,\n",
    "    model=models[model_name+fairness_method],\n",
    "    thresh_arr=thresh_sweep\n",
    ")\n",
    "\n",
    "# Evaluamos las métricas para el mejor umbral\n",
    "metrics_best_thresh_validate[model_name+fairness_method] = utils.describe_metrics(metrics_sweep[model_name+fairness_method])\n",
    "\n",
    "# Usando el mejor umbral, calculamos las métricas en el test set\n",
    "metrics_best_thresh_test[model_name+fairness_method] = utils.compute_metrics(\n",
    "    dataset=data_test_copy, \n",
    "    model=models[model_name+fairness_method], \n",
    "    threshold=metrics_best_thresh_validate[model_name+fairness_method]['best_threshold'])\n",
    "\n",
    "display(Markdown(\"**Validation set results**\"))\n",
    "utils.print_metrics(metrics_best_thresh_validate[model_name+fairness_method])\n",
    "\n",
    "# Graficamos el comportamiento del modelo para el rango de umbrales \n",
    "# utils.plot_fairness_and_accuracy(metrics_sweep[model_name+fairness_method])\n",
    "# plt.title(model_name+fairness_method)\n",
    "\n",
    "f,a = utils.plot_fairness_and_accuracy(metrics_sweep[model_name+fairness_method])\n",
    "a.set_title(model_name+fairness_method)\n",
    "f"
   ]
  },
  {
   "cell_type": "code",
   "execution_count": null,
   "id": "9af168b1-963b-4bf4-8730-50e1f0a2fd46",
   "metadata": {},
   "outputs": [],
   "source": [
    "%%time \n",
    "\n",
    "# Hacemos una copia de los datasets\n",
    "data_train_copy, data_val_copy, data_test_copy = data_train_DIR.copy(deepcopy=True), data_val_DIR.copy(deepcopy=True), data_test_DIR.copy(deepcopy=True)\n",
    "\n",
    "# Nombramos al modelo\n",
    "model_name = 'disparate_impact_xgb_classifier'\n",
    "\n",
    "# Parámetros del modelo\n",
    "fit_params = {'eval_metric': 'error', 'eta':0.1, 'max_depth':6, 'subsample':0.8}\n",
    "\n",
    "# Asignamos el modelo al diccionario\n",
    "models[model_name+fairness_method] = XGBClassifier(**fit_params)\n",
    "\n",
    "# Entrenamos el modelo\n",
    "models[model_name+fairness_method] = models[model_name+fairness_method].fit(data_train_copy.features, data_train_copy.labels.ravel())\n",
    "\n",
    "# Evaluamos al modelo para un rango de umbrales\n",
    "metrics_sweep[model_name+fairness_method] = utils.metrics_threshold_sweep(\n",
    "    dataset=data_val_copy,\n",
    "    model=models[model_name+fairness_method],\n",
    "    thresh_arr=thresh_sweep\n",
    ")\n",
    "\n",
    "# Evaluamos las métricas para el mejor umbral\n",
    "metrics_best_thresh_validate[model_name+fairness_method] = utils.describe_metrics(metrics_sweep[model_name+fairness_method])\n",
    "\n",
    "# Usando el mejor umbral, calculamos las métricas en el test set\n",
    "metrics_best_thresh_test[model_name+fairness_method] = utils.compute_metrics(\n",
    "    dataset=data_test_copy, \n",
    "    model=models[model_name+fairness_method], \n",
    "    threshold=metrics_best_thresh_validate[model_name+fairness_method]['best_threshold'])\n",
    "\n",
    "display(Markdown(\"**Validation set results**\"))\n",
    "utils.print_metrics(metrics_best_thresh_validate[model_name+fairness_method])\n",
    "\n",
    "# Graficamos el comportamiento del modelo para el rango de umbrales \n",
    "# utils.plot_fairness_and_accuracy(metrics_sweep[model_name+fairness_method])\n",
    "# plt.title(model_name+fairness_method)\n",
    "\n",
    "f,a = utils.plot_fairness_and_accuracy(metrics_sweep[model_name+fairness_method])\n",
    "a.set_title(model_name+fairness_method)\n",
    "f"
   ]
  },
  {
   "cell_type": "code",
   "execution_count": null,
   "id": "d0537219-a179-475b-819d-3907c532a4f3",
   "metadata": {},
   "outputs": [],
   "source": [
    "#Anotamos los nombres de los modelos\n",
    "model_names = ['reweighin_logistic_regression', 'reweighin_xgb_classifier', 'disparate_impact_logistic_regression', 'disparate_impact_xgb_classifier']"
   ]
  },
  {
   "cell_type": "markdown",
   "id": "5a53fa71-a143-41d5-a588-b397de752484",
   "metadata": {
    "tags": []
   },
   "source": [
    "### Aplicación de técnicas de postprocesado "
   ]
  },
  {
   "cell_type": "markdown",
   "id": "3e30be21-dc70-465d-a828-caf87bf47886",
   "metadata": {
    "tags": []
   },
   "source": [
    "#### Reponderación + Clasificación de rechazo de opción"
   ]
  },
  {
   "cell_type": "code",
   "execution_count": null,
   "id": "3e229f4c-a0ce-4cc6-88d4-1f0319c804ec",
   "metadata": {
    "tags": []
   },
   "outputs": [],
   "source": [
    "%%time \n",
    "\n",
    "# Nombramos al modelo\n",
    "fairness_method = '_reject_option'\n",
    "\n",
    "# Nombre del modelo al que le aplicaremos post-processing\n",
    "model_name = 'reweighin_logistic_regression'\n",
    "\n",
    "# métricas fair a optimizar\n",
    "fair_metrics = {'spd': \"Statistical parity difference\", 'aod': \"Average odds difference\", 'eod': \"Equal opportunity difference\"}\n",
    "\n",
    "# Hacemos una copia de los datasets\n",
    "data_train_copy, data_val_copy, data_test_copy = data_train.copy(deepcopy=True), data_val.copy(deepcopy=True), data_test.copy(deepcopy=True)\n",
    "\n",
    "# Hacemos una copia de las predicciones del modelo de referencia\n",
    "data_train_preds = utils.update_dataset_from_model(data_train_copy, models[model_name])\n",
    "data_val_preds = utils.update_dataset_from_model(data_val_copy, models[model_name])\n",
    "data_test_preds = utils.update_dataset_from_model(data_test_copy, models[model_name])\n",
    "\n",
    "# Optimizamos un modelo nuevo por cada métrica\n",
    "for key_metric in fair_metrics:\n",
    "    \n",
    "    # nombramos al modelo con su métrica específica\n",
    "    model_name_metric = model_name + fairness_method + '_' + key_metric\n",
    "    \n",
    "    models[model_name_metric] = RejectOptionClassification(\n",
    "        unprivileged_groups=unprivileged_groups, \n",
    "        privileged_groups=privileged_groups, \n",
    "        metric_name=fair_metrics[key_metric],\n",
    "        metric_lb=-0.01, metric_ub=0.01)\n",
    "\n",
    "    # Realizamos el post-procesado en función de las clases realies (data_copy) y las predicciones del modelo de referencia (data_preds)\n",
    "    models[model_name_metric] = models[model_name_metric].fit(data_train_copy, data_train_preds)"
   ]
  },
  {
   "cell_type": "code",
   "execution_count": null,
   "id": "c37dac01-64d3-469d-a72d-3fd83cd09962",
   "metadata": {
    "tags": []
   },
   "outputs": [],
   "source": [
    "display(Markdown(\"**Validation set results for logistic regression**\"))\n",
    "for key_metric in fair_metrics:\n",
    "    \n",
    "    model_name_metric = model_name + fairness_method + '_' + key_metric\n",
    "    \n",
    "    metrics_best_thresh_validate[model_name_metric] = utils.compute_metrics_postprocessing(\n",
    "        dataset_true=data_val_copy, \n",
    "        dataset_preds=data_val_preds, \n",
    "        model=models[model_name_metric], \n",
    "        required_threshold=False)\n",
    "    \n",
    "    print(model_name_metric)\n",
    "    utils.print_metrics(metrics_best_thresh_validate[model_name_metric])\n",
    "    print('\\n')\n",
    "    \n",
    "    metrics_best_thresh_test[model_name_metric] = utils.compute_metrics_postprocessing(\n",
    "        dataset_true=data_test_copy, \n",
    "        dataset_preds=data_test_preds, \n",
    "        model=models[model_name_metric], \n",
    "        required_threshold=False)"
   ]
  },
  {
   "cell_type": "code",
   "execution_count": null,
   "id": "31a778bb-a5dc-40d8-9362-b56410cc461d",
   "metadata": {
    "tags": []
   },
   "outputs": [],
   "source": [
    "%%time \n",
    "\n",
    "# Nombramos al modelo\n",
    "fairness_method = '_reject_option'\n",
    "\n",
    "# Nombre del modelo al que le aplicaremos post-processing\n",
    "model_name = 'reweighin_xgb_classifier'\n",
    "\n",
    "# métricas fair a optimizar\n",
    "fair_metrics = {'spd': \"Statistical parity difference\", 'aod': \"Average odds difference\", 'eod': \"Equal opportunity difference\"}\n",
    "\n",
    "# Hacemos una copia de los datasets\n",
    "data_train_copy, data_val_copy, data_test_copy = data_train.copy(deepcopy=True), data_val.copy(deepcopy=True), data_test.copy(deepcopy=True)\n",
    "\n",
    "# Hacemos una copia de las predicciones del modelo de referencia\n",
    "data_train_preds = utils.update_dataset_from_model(data_train_copy, models[model_name])\n",
    "data_val_preds = utils.update_dataset_from_model(data_val_copy, models[model_name])\n",
    "data_test_preds = utils.update_dataset_from_model(data_test_copy, models[model_name])\n",
    "\n",
    "# Optimizamos un modelo nuevo por cada métrica\n",
    "for key_metric in fair_metrics:\n",
    "    \n",
    "    # nombramos al modelo con su métrica específica\n",
    "    model_name_metric = model_name + fairness_method + '_' + key_metric\n",
    "    \n",
    "    models[model_name_metric] = RejectOptionClassification(\n",
    "        unprivileged_groups=unprivileged_groups, \n",
    "        privileged_groups=privileged_groups, \n",
    "        metric_name=fair_metrics[key_metric],\n",
    "        metric_lb=-0.01, metric_ub=0.01)\n",
    "\n",
    "    # Realizamos el post-procesado en función de las clases realies (data_copy) y las predicciones del modelo de referencia (data_preds)\n",
    "    models[model_name_metric] = models[model_name_metric].fit(data_train_copy, data_train_preds)"
   ]
  },
  {
   "cell_type": "code",
   "execution_count": null,
   "id": "a3fd1721-8104-4587-ae4b-666826fa4356",
   "metadata": {
    "tags": []
   },
   "outputs": [],
   "source": [
    "display(Markdown(\"**Validation set results for xgb classifier**\"))\n",
    "for key_metric in fair_metrics:\n",
    "    \n",
    "    model_name_metric = model_name + fairness_method + '_' + key_metric\n",
    "    \n",
    "    metrics_best_thresh_validate[model_name_metric] = utils.compute_metrics_postprocessing(\n",
    "        dataset_true=data_val_copy, \n",
    "        dataset_preds=data_val_preds, \n",
    "        model=models[model_name_metric], \n",
    "        required_threshold=False)\n",
    "    \n",
    "    print(model_name_metric)\n",
    "    utils.print_metrics(metrics_best_thresh_validate[model_name_metric])\n",
    "    print('\\n')\n",
    "    \n",
    "    metrics_best_thresh_test[model_name_metric] = utils.compute_metrics_postprocessing(\n",
    "        dataset_true=data_test_copy, \n",
    "        dataset_preds=data_test_preds, \n",
    "        model=models[model_name_metric], \n",
    "        required_threshold=False)"
   ]
  },
  {
   "cell_type": "markdown",
   "id": "6674b3de-2c9e-4bc5-820f-01134c9a13eb",
   "metadata": {},
   "source": [
    "#### Impacto dispar + Rechazo de opción"
   ]
  },
  {
   "cell_type": "code",
   "execution_count": null,
   "id": "db1d55cd-85b8-475c-8e4e-42e1bf45388f",
   "metadata": {
    "tags": []
   },
   "outputs": [],
   "source": [
    "%%time \n",
    "\n",
    "# Nombramos al modelo\n",
    "fairness_method = '_reject_option'\n",
    "\n",
    "# Nombre del modelo al que le aplicaremos post-processing\n",
    "model_name = 'disparate_impact_logistic_regression'\n",
    "\n",
    "# métricas fair a optimizar\n",
    "fair_metrics = {'spd': \"Statistical parity difference\", 'aod': \"Average odds difference\", 'eod': \"Equal opportunity difference\"}\n",
    "\n",
    "# Hacemos una copia de los datasets\n",
    "data_train_copy, data_val_copy, data_test_copy = data_train.copy(deepcopy=True), data_val.copy(deepcopy=True), data_test.copy(deepcopy=True)\n",
    "\n",
    "# Hacemos una copia de las predicciones del modelo de referencia\n",
    "data_train_preds = utils.update_dataset_from_model(data_train_copy, models[model_name])\n",
    "data_val_preds = utils.update_dataset_from_model(data_val_copy, models[model_name])\n",
    "data_test_preds = utils.update_dataset_from_model(data_test_copy, models[model_name])\n",
    "\n",
    "# Optimizamos un modelo nuevo por cada métrica\n",
    "for key_metric in fair_metrics:\n",
    "    \n",
    "    # nombramos al modelo con su métrica específica\n",
    "    model_name_metric = model_name + fairness_method + '_' + key_metric\n",
    "    \n",
    "    models[model_name_metric] = RejectOptionClassification(\n",
    "        unprivileged_groups=unprivileged_groups, \n",
    "        privileged_groups=privileged_groups, \n",
    "        metric_name=fair_metrics[key_metric],\n",
    "        metric_lb=-0.01, metric_ub=0.01)\n",
    "\n",
    "    # Realizamos el post-procesado en función de las clases realies (data_copy) y las predicciones del modelo de referencia (data_preds)\n",
    "    models[model_name_metric] = models[model_name_metric].fit(data_train_copy, data_train_preds)"
   ]
  },
  {
   "cell_type": "code",
   "execution_count": null,
   "id": "e01eac9f-660d-4d0a-b5ca-d3367093013b",
   "metadata": {
    "tags": []
   },
   "outputs": [],
   "source": [
    "display(Markdown(\"**Validation set results for logistic regression**\"))\n",
    "for key_metric in fair_metrics:\n",
    "    \n",
    "    model_name_metric = model_name + fairness_method + '_' + key_metric\n",
    "    \n",
    "    metrics_best_thresh_validate[model_name_metric] = utils.compute_metrics_postprocessing(\n",
    "        dataset_true=data_val_copy, \n",
    "        dataset_preds=data_val_preds, \n",
    "        model=models[model_name_metric], \n",
    "        required_threshold=False)\n",
    "    \n",
    "    print(model_name_metric)\n",
    "    utils.print_metrics(metrics_best_thresh_validate[model_name_metric])\n",
    "    print('\\n')\n",
    "    \n",
    "    metrics_best_thresh_test[model_name_metric] = utils.compute_metrics_postprocessing(\n",
    "        dataset_true=data_test_copy, \n",
    "        dataset_preds=data_test_preds, \n",
    "        model=models[model_name_metric], \n",
    "        required_threshold=False)"
   ]
  },
  {
   "cell_type": "code",
   "execution_count": null,
   "id": "ee75afbe-af1b-46cd-9ca8-5efe2f22f0b0",
   "metadata": {
    "tags": []
   },
   "outputs": [],
   "source": [
    "%%time \n",
    "\n",
    "# Nombramos al modelo\n",
    "fairness_method = '_reject_option'\n",
    "\n",
    "# Nombre del modelo al que le aplicaremos post-processing\n",
    "model_name = 'disparate_impact_xgb_classifier'\n",
    "\n",
    "# métricas fair a optimizar\n",
    "fair_metrics = {'spd': \"Statistical parity difference\", 'aod': \"Average odds difference\", 'eod': \"Equal opportunity difference\"}\n",
    "\n",
    "# Hacemos una copia de los datasets\n",
    "data_train_copy, data_val_copy, data_test_copy = data_train.copy(deepcopy=True), data_val.copy(deepcopy=True), data_test.copy(deepcopy=True)\n",
    "\n",
    "# Hacemos una copia de las predicciones del modelo de referencia\n",
    "data_train_preds = utils.update_dataset_from_model(data_train_copy, models[model_name])\n",
    "data_val_preds = utils.update_dataset_from_model(data_val_copy, models[model_name])\n",
    "data_test_preds = utils.update_dataset_from_model(data_test_copy, models[model_name])\n",
    "\n",
    "# Optimizamos un modelo nuevo por cada métrica\n",
    "for key_metric in fair_metrics:\n",
    "    \n",
    "    # nombramos al modelo con su métrica específica\n",
    "    model_name_metric = model_name + fairness_method + '_' + key_metric\n",
    "    \n",
    "    models[model_name_metric] = RejectOptionClassification(\n",
    "        unprivileged_groups=unprivileged_groups, \n",
    "        privileged_groups=privileged_groups, \n",
    "        metric_name=fair_metrics[key_metric],\n",
    "        metric_lb=-0.01, metric_ub=0.01)\n",
    "\n",
    "    # Realizamos el post-procesado en función de las clases realies (data_copy) y las predicciones del modelo de referencia (data_preds)\n",
    "    models[model_name_metric] = models[model_name_metric].fit(data_train_copy, data_train_preds)"
   ]
  },
  {
   "cell_type": "code",
   "execution_count": null,
   "id": "94205707-d839-4bb5-a420-89d9eeae3825",
   "metadata": {
    "tags": []
   },
   "outputs": [],
   "source": [
    "display(Markdown(\"**Validation set results for xgb classifier**\"))\n",
    "for key_metric in fair_metrics:\n",
    "    \n",
    "    model_name_metric = model_name + fairness_method + '_' + key_metric\n",
    "    \n",
    "    metrics_best_thresh_validate[model_name_metric] = utils.compute_metrics_postprocessing(\n",
    "        dataset_true=data_val_copy, \n",
    "        dataset_preds=data_val_preds, \n",
    "        model=models[model_name_metric], \n",
    "        required_threshold=False)\n",
    "    \n",
    "    print(model_name_metric)\n",
    "    utils.print_metrics(metrics_best_thresh_validate[model_name_metric])\n",
    "    print('\\n')\n",
    "    \n",
    "    metrics_best_thresh_test[model_name_metric] = utils.compute_metrics_postprocessing(\n",
    "        dataset_true=data_test_copy, \n",
    "        dataset_preds=data_test_preds, \n",
    "        model=models[model_name_metric], \n",
    "        required_threshold=False)"
   ]
  },
  {
   "cell_type": "markdown",
   "id": "a3055c6c-a395-4550-b22a-5491fbea99fa",
   "metadata": {},
   "source": [
    "#### Reponderación y impacto dispar + Escalado de Platt por grupos"
   ]
  },
  {
   "cell_type": "code",
   "execution_count": null,
   "id": "41538c5d-3d48-4813-a30f-94fdb9347129",
   "metadata": {
    "tags": []
   },
   "outputs": [],
   "source": [
    "%%time\n",
    "fairness_method = '_platt_scaling'\n",
    "model_names = model_names\n",
    "data_train_copy, data_val_copy, data_test_copy = data_train.copy(deepcopy = True), data_val.copy(deepcopy = True), data_test.copy(deepcopy = True)\n",
    "\n",
    "for model_name in model_names:\n",
    "    # Hacemos una copia de las predicciones del modelo de referencia\n",
    "    model_thresh = metrics_best_thresh_validate[model_name]['best_threshold']\n",
    "    data_val_preds = utils.update_dataset_from_model(data_val_copy, models[model_name], class_thresh = model_thresh)\n",
    "    ## Plat Scaling:\n",
    "    #1. dividir el validation data usando los groups sensibles\n",
    "    data_val_preds_priv, data_val_preds_unpriv, priv_indices, unpriv_indices = utils.split_dataset_on_sensitive_attribute(\n",
    "        dataset = data_val_preds, privileged_group_label = list((privileged_groups[0].values()))[0])\n",
    "    #2. copia el validation data para guardar los scores\n",
    "    data_val_preds2 = data_val_preds.copy(deepcopy = True)\n",
    "    #3. hacer un modelo para cada grupo\n",
    "    sensitive_groups_data = {'priv': [data_val_preds_priv, priv_indices],\n",
    "                             'unpriv': [data_val_preds_unpriv, unpriv_indices]}\n",
    "\n",
    "    for group, data_group_list in sensitive_groups_data.items():\n",
    "\n",
    "        # nombramos al modelo con su grupo específico\n",
    "        model_name_group = '{}_{}_{}'.format(model_name, fairness_method, group)\n",
    "\n",
    "        # Inicializamos el modelo y lo asignamos al diccionario\n",
    "        models[model_name_group] = LogisticRegression()\n",
    "\n",
    "        # Realizamos el modelo usando datos para cada grupo en el validation data\n",
    "        models[ model_name_group ] = models[model_name_group].fit(data_group_list[0].scores,   # data_group_list[0] -> data_val_preds_priv or data_val_preds_unpriv\n",
    "                                                                  data_val_copy.subset(data_group_list[1]).labels.ravel()) # data_group_list[1] -> priv_indices or unpriv_indices\n",
    "        # haz predicciones de probabilidad con el modelo de cada groupo y guardar lo en data_val_preds2\n",
    "        # las predicciones de probabilidad son los platt scores\n",
    "        scores_group = models[model_name_group].predict_proba(data_group_list[0].scores)\n",
    "        pos_ind_group = np.where(models[model_name_group].classes_ == data_group_list[0].favorable_label)[0][0]\n",
    "        data_val_preds2.scores[data_group_list[1]] = scores_group[:, pos_ind_group].reshape(-1,1)\n",
    "        \n",
    "        # Evaluamos a los modelos para el rango de umbrales\n",
    "    thresh_sweep_platt = np.linspace(np.min(data_val_preds2.scores.ravel()),\n",
    "                                     np.max(data_val_preds2.scores.ravel()),\n",
    "                                     50)\n",
    "\n",
    "    metrics_sweep[model_name+fairness_method] = utils.metrics_postprocessing_threshold_sweep_from_scores(\n",
    "            dataset_true = data_val_copy,\n",
    "            dataset_preds = data_val_preds2,\n",
    "            thresh_arr = thresh_sweep_platt\n",
    "        )\n",
    "\n",
    "    # Evaluamos las métricas para el mejor umbral y las guardamos\n",
    "    metrics_best_thresh_validate[model_name+fairness_method] = utils.describe_metrics( metrics_sweep[model_name+fairness_method] )\n",
    "\n",
    "    # Graficamos el comportamiento del modelo para el rango de umbrales \n",
    "    print('\\nValidation set results for {}'.format(model_name))\n",
    "    utils.print_metrics(metrics_best_thresh_validate[model_name+fairness_method])\n",
    "    # utils.plot_fairness_and_accuracy( metrics_sweep[model_name+fairness_method] )\n",
    "    # plt.title( model_name+fairness_method )\n",
    "    \n",
    "    f,a = utils.plot_fairness_and_accuracy(metrics_sweep[model_name+fairness_method])\n",
    "    a.set_title(model_name+fairness_method )\n",
    "    f\n"
   ]
  },
  {
   "cell_type": "code",
   "execution_count": null,
   "id": "1244a8f4-6a63-4d85-a705-aa742b676989",
   "metadata": {
    "tags": []
   },
   "outputs": [],
   "source": [
    "# usa el optimal cutoff para predecir usando el test dato\n",
    "\n",
    "for model_name in model_names:\n",
    "    model_thresh = metrics_best_thresh_validate[model_name]['best_threshold']\n",
    "    data_test_preds = utils.update_dataset_from_model(data_test_copy, models[model_name], class_thresh = model_thresh)\n",
    "    \n",
    "    # 1. dividir el validation data usando los groups sensibles\n",
    "    data_test_preds_priv, data_test_preds_unpriv, priv_indices, unpriv_indices = utils.split_dataset_on_sensitive_attribute(dataset = data_test_preds,\n",
    "                                                                                                                            privileged_group_label = list((privileged_groups[0].values()))[0])\n",
    "    # 2. copia el test data para guardar los platt scores\n",
    "    data_test_preds2 = data_test_preds.copy(deepcopy = True)\n",
    "    \n",
    "    # 3. predecir con el modelo de cada grupo\n",
    "    sensitive_groups_data_test = {'priv': [data_test_preds_priv, priv_indices],\n",
    "                                  'unpriv': [data_test_preds_unpriv, unpriv_indices]}\n",
    "\n",
    "    for group, data_group_list in sensitive_groups_data_test.items():    \n",
    "        # nombramos al modelo con su grupo específico\n",
    "        model_name_group = '{}_{}_{}'.format(model_name, fairness_method, group)\n",
    "\n",
    "        # haz predicciones de probabilidad con el modelo de cada groupo y guardar lo en data_val_preds2\n",
    "        # las predicciones de probabilidad son los platt scores\n",
    "        scores_group = models[model_name_group].predict_proba(data_group_list[0].scores)\n",
    "        pos_ind_group = np.where(models[model_name_group].classes_ == data_group_list[0].favorable_label)[0][0]\n",
    "        data_test_preds2.scores[data_group_list[1]] = scores_group[:, pos_ind_group].reshape(-1,1)\n",
    "    \n",
    "    metrics_best_thresh_test[model_name+fairness_method] = utils.compute_metrics_from_scores(dataset_true = data_test_copy,\n",
    "                                                                                             dataset_pred = data_test_preds2,\n",
    "                                                                                             threshold = metrics_best_thresh_validate[model_name+fairness_method]['best_threshold'])"
   ]
  },
  {
   "cell_type": "markdown",
   "id": "edd0198e-151d-4b97-a075-a280858cc74e",
   "metadata": {
    "tags": []
   },
   "source": [
    "#### Reponderación + Procesador de probabilidades igualadas"
   ]
  },
  {
   "cell_type": "markdown",
   "id": "a07f6934-8815-4a36-82c5-b274ebaf15be",
   "metadata": {},
   "source": [
    "##### Usando labels"
   ]
  },
  {
   "cell_type": "code",
   "execution_count": null,
   "id": "ab5adde4-4daa-4b1d-a0a5-be3cbd26108d",
   "metadata": {
    "tags": []
   },
   "outputs": [],
   "source": [
    "%%time \n",
    "# Nombramos al modelo\n",
    "fairness_method = '_equal_odds'\n",
    "# Nombre del modelo al que le aplicaremos post-processing\n",
    "model_name = 'reweighin_logistic_regression'\n",
    "\n",
    "# Hacemos una copia de los datasets\n",
    "data_train_copy, data_val_copy, data_test_copy = data_train.copy(deepcopy=True), data_val.copy(deepcopy=True), data_test.copy(deepcopy=True)\n",
    "\n",
    "# Hacemos una copia de las predicciones del modelo de referencia\n",
    "data_train_preds = utils.update_dataset_from_model(data_train_copy, models[model_name])\n",
    "data_val_preds = utils.update_dataset_from_model(data_val_copy, models[model_name])\n",
    "data_test_preds = utils.update_dataset_from_model(data_test_copy, models[model_name])\n",
    "\n",
    "\n",
    "# Inicializamos el modelo (dadas las predicciones, no los scores) y lo asignamos al diccionario\n",
    "models[model_name+fairness_method] = EqOddsPostprocessing(\n",
    "    privileged_groups = privileged_groups,\n",
    "    unprivileged_groups = unprivileged_groups,\n",
    "    # cost_constraint = quality,\n",
    "    seed = seed)\n",
    "\n",
    "# Realizamos el post-procesado en función de las clases realies (data_copy) y las predicciones del modelo de referencia (data_preds)\n",
    "models[model_name+fairness_method] = models[model_name+fairness_method].fit(data_train_copy, data_train_preds)"
   ]
  },
  {
   "cell_type": "code",
   "execution_count": null,
   "id": "f1dd80d7-0433-43b3-b1b6-f109d2264f19",
   "metadata": {
    "scrolled": true,
    "tags": []
   },
   "outputs": [],
   "source": [
    "%%time \n",
    "\n",
    "# Evaluamos al modelo para un rango de umbrales\n",
    "metrics_sweep[model_name+fairness_method] = utils.metrics_postprocessing_threshold_sweep(\n",
    "    dataset_true=data_val_copy,\n",
    "    dataset_preds=data_val_preds,\n",
    "    model=models[model_name+fairness_method],\n",
    "    thresh_arr=thresh_sweep,\n",
    "    scores_or_labels='labels'\n",
    ")\n",
    "\n",
    "# Evaluamos las métricas para el mejor umbral\n",
    "metrics_best_thresh_validate[model_name+fairness_method] = utils.describe_metrics(metrics_sweep[model_name+fairness_method])\n",
    "\n",
    "# Usando el mejor umbral, calculamos las métricas en el test set\n",
    "metrics_best_thresh_test[model_name+fairness_method] = utils.compute_metrics_postprocessing(\n",
    "    dataset_true=data_test_copy,\n",
    "    dataset_preds=data_test_preds,\n",
    "    model=models[model_name+fairness_method], \n",
    "    threshold=metrics_best_thresh_validate[model_name+fairness_method]['best_threshold'], \n",
    "    scores_or_labels='labels')\n",
    "\n",
    "utils.print_metrics(metrics_best_thresh_validate[model_name+fairness_method])\n",
    "print('\\n')\n",
    "\n",
    "# Graficamos el comportamiento del modelo para el rango de umbrales \n",
    "# utils.plot_fairness_and_accuracy(metrics_sweep[model_name+fairness_method])\n",
    "# plt.title(model_name+fairness_method)\n",
    "\n",
    "f,a = utils.plot_fairness_and_accuracy(metrics_sweep[model_name+fairness_method])\n",
    "a.set_title(model_name+fairness_method)\n",
    "f"
   ]
  },
  {
   "cell_type": "code",
   "execution_count": null,
   "id": "650e19fa-8556-4a70-943b-ec9b47ceb3bb",
   "metadata": {
    "tags": []
   },
   "outputs": [],
   "source": [
    "%%time \n",
    "# Nombramos al modelo\n",
    "fairness_method = '_equal_odds'\n",
    "# Nombre del modelo al que le aplicaremos post-processing\n",
    "model_name = 'reweighin_xgb_classifier'\n",
    "\n",
    "# Hacemos una copia de los datasets\n",
    "data_train_copy, data_val_copy, data_test_copy = data_train.copy(deepcopy=True), data_val.copy(deepcopy=True), data_test.copy(deepcopy=True)\n",
    "\n",
    "# Hacemos una copia de las predicciones del modelo de referencia\n",
    "data_train_preds = utils.update_dataset_from_model(data_train_copy, models[model_name])\n",
    "data_val_preds = utils.update_dataset_from_model(data_val_copy, models[model_name])\n",
    "data_test_preds = utils.update_dataset_from_model(data_test_copy, models[model_name])\n",
    "\n",
    "\n",
    "# Inicializamos el modelo (dadas las predicciones, no los scores) y lo asignamos al diccionario\n",
    "models[model_name+fairness_method] = EqOddsPostprocessing(\n",
    "    privileged_groups = privileged_groups,\n",
    "    unprivileged_groups = unprivileged_groups,\n",
    "    # cost_constraint = quality,\n",
    "    seed = seed)\n",
    "\n",
    "# Realizamos el post-procesado en función de las clases realies (data_copy) y las predicciones del modelo de referencia (data_preds)\n",
    "models[model_name+fairness_method] = models[model_name+fairness_method].fit(data_train_copy, data_train_preds)"
   ]
  },
  {
   "cell_type": "code",
   "execution_count": null,
   "id": "d5e34534-b37f-4781-ac6b-244f0bc2083d",
   "metadata": {
    "tags": []
   },
   "outputs": [],
   "source": [
    "%%time \n",
    "\n",
    "# Evaluamos al modelo para un rango de umbrales\n",
    "metrics_sweep[model_name+fairness_method] = utils.metrics_postprocessing_threshold_sweep(\n",
    "    dataset_true=data_val_copy,\n",
    "    dataset_preds=data_val_preds,\n",
    "    model=models[model_name+fairness_method],\n",
    "    thresh_arr=thresh_sweep,\n",
    "    scores_or_labels='labels'\n",
    ")\n",
    "\n",
    "# Evaluamos las métricas para el mejor umbral\n",
    "metrics_best_thresh_validate[model_name+fairness_method] = utils.describe_metrics(metrics_sweep[model_name+fairness_method])\n",
    "\n",
    "# Usando el mejor umbral, calculamos las métricas en el test set\n",
    "metrics_best_thresh_test[model_name+fairness_method] = utils.compute_metrics_postprocessing(\n",
    "    dataset_true=data_test_copy,\n",
    "    dataset_preds=data_test_preds,\n",
    "    model=models[model_name+fairness_method], \n",
    "    threshold=metrics_best_thresh_validate[model_name+fairness_method]['best_threshold'], \n",
    "    scores_or_labels='labels')\n",
    "\n",
    "utils.print_metrics(metrics_best_thresh_validate[model_name+fairness_method])\n",
    "print('\\n')\n",
    "\n",
    "# Graficamos el comportamiento del modelo para el rango de umbrales \n",
    "# utils.plot_fairness_and_accuracy(metrics_sweep[model_name+fairness_method])\n",
    "# plt.title(model_name+fairness_method)\n",
    "\n",
    "f,a = utils.plot_fairness_and_accuracy(metrics_sweep[model_name+fairness_method])\n",
    "a.set_title(model_name+fairness_method)\n",
    "f"
   ]
  },
  {
   "cell_type": "markdown",
   "id": "eed0f34b-3472-4f07-99ca-682f1d43eec4",
   "metadata": {},
   "source": [
    "#### Usando scores"
   ]
  },
  {
   "cell_type": "code",
   "execution_count": null,
   "id": "91fe772f-abfd-47b1-af84-23ca8a8e2f77",
   "metadata": {
    "tags": []
   },
   "outputs": [],
   "source": [
    "%%time \n",
    "# Nombramos al modelo\n",
    "fairness_method = '_equal_odds'\n",
    "# Nombre del modelo al que le aplicaremos post-processing\n",
    "model_name = 'reweighin_logistic_regression'\n",
    "\n",
    "# Hacemos una copia de los datasets\n",
    "data_train_copy, data_val_copy, data_test_copy = data_train.copy(deepcopy=True), data_val.copy(deepcopy=True), data_test.copy(deepcopy=True)\n",
    "\n",
    "# Hacemos una copia de las predicciones del modelo de referencia\n",
    "data_train_preds = utils.update_dataset_from_model(data_train_copy, models[model_name])\n",
    "data_val_preds = utils.update_dataset_from_model(data_val_copy, models[model_name])\n",
    "data_test_preds = utils.update_dataset_from_model(data_test_copy, models[model_name])\n",
    "\n",
    "\n",
    "# Parámetros del modelo\n",
    "# métricas fair a optimizar\n",
    "quality_constraints = [\"weighted\", 'fnr', 'fpr'] # \"weighted\" average of fnr and fpr\n",
    "\n",
    "for quality in quality_constraints:\n",
    "    # nombramos al modelo con su métrica específica\n",
    "    model_name_metric = model_name + fairness_method + '_' + quality\n",
    "    \n",
    "    # Inicializamos el modelo y lo asignamos al diccionario\n",
    "    models[model_name_metric] = CalibratedEqOddsPostprocessing(\n",
    "        privileged_groups=privileged_groups,\n",
    "        unprivileged_groups=unprivileged_groups,\n",
    "        cost_constraint=quality,\n",
    "        seed=seed)\n",
    "\n",
    "    # Realizamos el post-procesado en función de las clases realies (data_copy) y las predicciones del modelo de referencia (data_preds)\n",
    "    models[model_name_metric] = models[model_name_metric].fit(data_train_copy, data_train_preds)"
   ]
  },
  {
   "cell_type": "code",
   "execution_count": null,
   "id": "54c3bf60-5655-4dfb-bc84-81328eeb70f3",
   "metadata": {
    "tags": []
   },
   "outputs": [],
   "source": [
    "display(Markdown(\"**Validation set results for logistic regression**\"))\n",
    "for key_metric in quality_constraints:\n",
    "    \n",
    "    model_name_metric = model_name + fairness_method + '_' + key_metric\n",
    "    \n",
    "    print(f'Results for {model_name_metric}')\n",
    "    \n",
    "    # Evaluamos al modelo para un rango de umbrales\n",
    "    metrics_sweep[model_name_metric] = utils.metrics_postprocessing_threshold_sweep(\n",
    "        dataset_true=data_val_copy,\n",
    "        dataset_preds=data_val_preds,\n",
    "        model=models[model_name_metric],\n",
    "        thresh_arr=thresh_sweep,\n",
    "        scores_or_labels='scores'\n",
    "    )\n",
    "\n",
    "    # Evaluamos las métricas para el mejor umbral\n",
    "    metrics_best_thresh_validate[model_name_metric] = utils.describe_metrics(metrics_sweep[model_name_metric])\n",
    "\n",
    "    # Usando el mejor umbral, calculamos las métricas en el test set\n",
    "    metrics_best_thresh_test[model_name_metric] = utils.compute_metrics_postprocessing(\n",
    "        dataset_true=data_test_copy,\n",
    "        dataset_preds=data_test_preds,\n",
    "        model=models[model_name_metric], \n",
    "        threshold=metrics_best_thresh_validate[model_name_metric]['best_threshold'], \n",
    "        scores_or_labels='scores')\n",
    "\n",
    "    utils.print_metrics(metrics_best_thresh_validate[model_name_metric])\n",
    "    print('\\n')\n",
    "\n",
    "    # Graficamos el comportamiento del modelo para el rango de umbrales \n",
    "    # utils.plot_fairness_and_accuracy(metrics_sweep[model_name_metric])\n",
    "    # plt.title(model_name_metric)\n",
    "    \n",
    "    f,a = utils.plot_fairness_and_accuracy(metrics_sweep[model_name_metric])\n",
    "    a.set_title(model_name_metric)\n",
    "    f"
   ]
  },
  {
   "cell_type": "code",
   "execution_count": null,
   "id": "dc56a420-ac57-4e28-9501-eec5628cceb7",
   "metadata": {
    "tags": []
   },
   "outputs": [],
   "source": [
    "%%time \n",
    "# Nombramos al modelo\n",
    "fairness_method = '_equal_odds'\n",
    "# Nombre del modelo al que le aplicaremos post-processing\n",
    "model_name = 'reweighin_xgb_classifier'\n",
    "\n",
    "# Hacemos una copia de los datasets\n",
    "data_train_copy, data_val_copy, data_test_copy = data_train.copy(deepcopy=True), data_val.copy(deepcopy=True), data_test.copy(deepcopy=True)\n",
    "\n",
    "# Hacemos una copia de las predicciones del modelo de referencia\n",
    "data_train_preds = utils.update_dataset_from_model(data_train_copy, models[model_name])\n",
    "data_val_preds = utils.update_dataset_from_model(data_val_copy, models[model_name])\n",
    "data_test_preds = utils.update_dataset_from_model(data_test_copy, models[model_name])\n",
    "\n",
    "\n",
    "# Parámetros del modelo\n",
    "# métricas fair a optimizar\n",
    "quality_constraints = [\"weighted\", 'fnr', 'fpr'] # \"weighted\" average of fnr and fpr\n",
    "\n",
    "for quality in quality_constraints:\n",
    "    # nombramos al modelo con su métrica específica\n",
    "    model_name_metric = model_name + fairness_method + '_' + quality\n",
    "    \n",
    "    # Inicializamos el modelo y lo asignamos al diccionario\n",
    "    models[model_name_metric] = CalibratedEqOddsPostprocessing(\n",
    "        privileged_groups=privileged_groups,\n",
    "        unprivileged_groups=unprivileged_groups,\n",
    "        cost_constraint=quality,\n",
    "        seed=seed)\n",
    "\n",
    "    # Realizamos el post-procesado en función de las clases realies (data_copy) y las predicciones del modelo de referencia (data_preds)\n",
    "    models[model_name_metric] = models[model_name_metric].fit(data_train_copy, data_train_preds)"
   ]
  },
  {
   "cell_type": "code",
   "execution_count": null,
   "id": "fb743307-5205-4d92-8e71-faa2093a4c72",
   "metadata": {
    "tags": []
   },
   "outputs": [],
   "source": [
    "display(Markdown(\"**Validation set results for xgb classifier**\"))\n",
    "for key_metric in quality_constraints:\n",
    "    \n",
    "    model_name_metric = model_name + fairness_method + '_' + key_metric\n",
    "    \n",
    "    print(f'Results for {model_name_metric}')\n",
    "    \n",
    "    # Evaluamos al modelo para un rango de umbrales\n",
    "    metrics_sweep[model_name_metric] = utils.metrics_postprocessing_threshold_sweep(\n",
    "        dataset_true=data_val_copy,\n",
    "        dataset_preds=data_val_preds,\n",
    "        model=models[model_name_metric],\n",
    "        thresh_arr=thresh_sweep,\n",
    "        scores_or_labels='scores'\n",
    "    )\n",
    "\n",
    "    # Evaluamos las métricas para el mejor umbral\n",
    "    metrics_best_thresh_validate[model_name_metric] = utils.describe_metrics(metrics_sweep[model_name_metric])\n",
    "\n",
    "    # Usando el mejor umbral, calculamos las métricas en el test set\n",
    "    metrics_best_thresh_test[model_name_metric] = utils.compute_metrics_postprocessing(\n",
    "        dataset_true=data_test_copy,\n",
    "        dataset_preds=data_test_preds,\n",
    "        model=models[model_name_metric], \n",
    "        threshold=metrics_best_thresh_validate[model_name_metric]['best_threshold'], \n",
    "        scores_or_labels='scores')\n",
    "\n",
    "    utils.print_metrics(metrics_best_thresh_validate[model_name_metric])\n",
    "    print('\\n')\n",
    "\n",
    "    # Graficamos el comportamiento del modelo para el rango de umbrales \n",
    "    # utils.plot_fairness_and_accuracy(metrics_sweep[model_name_metric])\n",
    "    # plt.title(model_name_metric)\n",
    "    \n",
    "    f,a = utils.plot_fairness_and_accuracy(metrics_sweep[model_name_metric])\n",
    "    a.set_title(model_name_metric)\n",
    "    f"
   ]
  },
  {
   "cell_type": "markdown",
   "id": "824c4b08-519c-4864-8a74-82e64ceff92f",
   "metadata": {},
   "source": [
    "#### Impacto dispar + Procesador de probabilidades igualadas"
   ]
  },
  {
   "cell_type": "markdown",
   "id": "94dce944-432c-4ccd-948d-fd98abd4c54c",
   "metadata": {},
   "source": [
    "##### Usando labels"
   ]
  },
  {
   "cell_type": "code",
   "execution_count": null,
   "id": "b9545b23",
   "metadata": {
    "tags": []
   },
   "outputs": [],
   "source": [
    "%%time \n",
    "# Nombramos al modelo\n",
    "fairness_method = '_equal_odds'\n",
    "# Nombre del modelo al que le aplicaremos post-processing\n",
    "model_name = 'disparate_impact_logistic_regression'\n",
    "\n",
    "# Hacemos una copia de los datasets\n",
    "data_train_copy, data_val_copy, data_test_copy = data_train.copy(deepcopy=True), data_val.copy(deepcopy=True), data_test.copy(deepcopy=True)\n",
    "\n",
    "# Hacemos una copia de las predicciones del modelo de referencia\n",
    "data_train_preds = utils.update_dataset_from_model(data_train_copy, models[model_name])\n",
    "data_val_preds = utils.update_dataset_from_model(data_val_copy, models[model_name])\n",
    "data_test_preds = utils.update_dataset_from_model(data_test_copy, models[model_name])\n",
    "\n",
    "\n",
    "# Inicializamos el modelo (dadas las predicciones, no los scores) y lo asignamos al diccionario\n",
    "models[model_name+fairness_method] = EqOddsPostprocessing(\n",
    "    privileged_groups = privileged_groups,\n",
    "    unprivileged_groups = unprivileged_groups,\n",
    "    # cost_constraint = quality,\n",
    "    seed = seed)\n",
    "\n",
    "# Realizamos el post-procesado en función de las clases realies (data_copy) y las predicciones del modelo de referencia (data_preds)\n",
    "models[model_name+fairness_method] = models[model_name+fairness_method].fit(data_train_copy, data_train_preds)"
   ]
  },
  {
   "cell_type": "code",
   "execution_count": null,
   "id": "af409246",
   "metadata": {
    "tags": []
   },
   "outputs": [],
   "source": [
    "%%time \n",
    "\n",
    "# Evaluamos al modelo para un rango de umbrales\n",
    "metrics_sweep[model_name+fairness_method] = utils.metrics_postprocessing_threshold_sweep(\n",
    "    dataset_true=data_val_copy,\n",
    "    dataset_preds=data_val_preds,\n",
    "    model=models[model_name+fairness_method],\n",
    "    thresh_arr=thresh_sweep,\n",
    "    scores_or_labels='labels'\n",
    ")\n",
    "\n",
    "# Evaluamos las métricas para el mejor umbral\n",
    "metrics_best_thresh_validate[model_name+fairness_method] = utils.describe_metrics(metrics_sweep[model_name+fairness_method])\n",
    "\n",
    "# Usando el mejor umbral, calculamos las métricas en el test set\n",
    "metrics_best_thresh_test[model_name+fairness_method] = utils.compute_metrics_postprocessing(\n",
    "    dataset_true=data_test_copy,\n",
    "    dataset_preds=data_test_preds,\n",
    "    model=models[model_name+fairness_method], \n",
    "    threshold=metrics_best_thresh_validate[model_name+fairness_method]['best_threshold'], \n",
    "    scores_or_labels='labels')\n",
    "\n",
    "utils.print_metrics(metrics_best_thresh_validate[model_name+fairness_method])\n",
    "print('\\n')\n",
    "\n",
    "# Graficamos el comportamiento del modelo para el rango de umbrales \n",
    "# utils.plot_fairness_and_accuracy(metrics_sweep[model_name+fairness_method])\n",
    "# plt.title(model_name+fairness_method)\n",
    "\n",
    "f,a = utils.plot_fairness_and_accuracy(metrics_sweep[model_name+fairness_method])\n",
    "a.set_title(model_name+fairness_method)\n",
    "f"
   ]
  },
  {
   "cell_type": "code",
   "execution_count": null,
   "id": "524e80fc-7e8c-4195-ab0a-b10ba0831d14",
   "metadata": {
    "tags": []
   },
   "outputs": [],
   "source": [
    "%%time \n",
    "# Nombramos al modelo\n",
    "fairness_method = '_equal_odds'\n",
    "# Nombre del modelo al que le aplicaremos post-processing\n",
    "model_name = 'disparate_impact_xgb_classifier'\n",
    "\n",
    "# Hacemos una copia de los datasets\n",
    "data_train_copy, data_val_copy, data_test_copy = data_train.copy(deepcopy=True), data_val.copy(deepcopy=True), data_test.copy(deepcopy=True)\n",
    "\n",
    "# Hacemos una copia de las predicciones del modelo de referencia\n",
    "data_train_preds = utils.update_dataset_from_model(data_train_copy, models[model_name])\n",
    "data_val_preds = utils.update_dataset_from_model(data_val_copy, models[model_name])\n",
    "data_test_preds = utils.update_dataset_from_model(data_test_copy, models[model_name])\n",
    "\n",
    "\n",
    "# Inicializamos el modelo (dadas las predicciones, no los scores) y lo asignamos al diccionario\n",
    "models[model_name+fairness_method] = EqOddsPostprocessing(\n",
    "    privileged_groups = privileged_groups,\n",
    "    unprivileged_groups = unprivileged_groups,\n",
    "    # cost_constraint = quality,\n",
    "    seed = seed)\n",
    "\n",
    "# Realizamos el post-procesado en función de las clases realies (data_copy) y las predicciones del modelo de referencia (data_preds)\n",
    "models[model_name+fairness_method] = models[model_name+fairness_method].fit(data_train_copy, data_train_preds)"
   ]
  },
  {
   "cell_type": "code",
   "execution_count": null,
   "id": "882c9b9c-53aa-4486-aeec-ed119538886c",
   "metadata": {
    "tags": []
   },
   "outputs": [],
   "source": [
    "%%time \n",
    "\n",
    "# Evaluamos al modelo para un rango de umbrales\n",
    "metrics_sweep[model_name+fairness_method] = utils.metrics_postprocessing_threshold_sweep(\n",
    "    dataset_true=data_val_copy,\n",
    "    dataset_preds=data_val_preds,\n",
    "    model=models[model_name+fairness_method],\n",
    "    thresh_arr=thresh_sweep,\n",
    "    scores_or_labels='labels'\n",
    ")\n",
    "\n",
    "# Evaluamos las métricas para el mejor umbral\n",
    "metrics_best_thresh_validate[model_name+fairness_method] = utils.describe_metrics(metrics_sweep[model_name+fairness_method])\n",
    "\n",
    "# Usando el mejor umbral, calculamos las métricas en el test set\n",
    "metrics_best_thresh_test[model_name+fairness_method] = utils.compute_metrics_postprocessing(\n",
    "    dataset_true=data_test_copy,\n",
    "    dataset_preds=data_test_preds,\n",
    "    model=models[model_name+fairness_method], \n",
    "    threshold=metrics_best_thresh_validate[model_name+fairness_method]['best_threshold'], \n",
    "    scores_or_labels='labels')\n",
    "\n",
    "utils.print_metrics(metrics_best_thresh_validate[model_name+fairness_method])\n",
    "print('\\n')\n",
    "\n",
    "# Graficamos el comportamiento del modelo para el rango de umbrales \n",
    "# utils.plot_fairness_and_accuracy(metrics_sweep[model_name+fairness_method])\n",
    "# plt.title(model_name+fairness_method)\n",
    "\n",
    "f,a = utils.plot_fairness_and_accuracy(metrics_sweep[model_name+fairness_method])\n",
    "a.set_title(model_name+fairness_method)\n",
    "f"
   ]
  },
  {
   "cell_type": "markdown",
   "id": "5e3c0b58-e973-44e9-93fc-ccc197920baf",
   "metadata": {},
   "source": [
    "##### Usando scores"
   ]
  },
  {
   "cell_type": "code",
   "execution_count": null,
   "id": "ea2ba202-b520-4185-a710-15d19715b1b1",
   "metadata": {
    "tags": []
   },
   "outputs": [],
   "source": [
    "%%time \n",
    "# Nombramos al modelo\n",
    "fairness_method = '_equal_odds'\n",
    "# Nombre del modelo al que le aplicaremos post-processing\n",
    "model_name = 'disparate_impact_logistic_regression'\n",
    "\n",
    "# Hacemos una copia de los datasets\n",
    "data_train_copy, data_val_copy, data_test_copy = data_train.copy(deepcopy=True), data_val.copy(deepcopy=True), data_test.copy(deepcopy=True)\n",
    "\n",
    "# Hacemos una copia de las predicciones del modelo de referencia\n",
    "data_train_preds = utils.update_dataset_from_model(data_train_copy, models[model_name])\n",
    "data_val_preds = utils.update_dataset_from_model(data_val_copy, models[model_name])\n",
    "data_test_preds = utils.update_dataset_from_model(data_test_copy, models[model_name])\n",
    "\n",
    "\n",
    "# Parámetros del modelo\n",
    "# métricas fair a optimizar\n",
    "quality_constraints = [\"weighted\", 'fnr', 'fpr'] # \"weighted\" average of fnr and fpr\n",
    "\n",
    "for quality in quality_constraints:\n",
    "    # nombramos al modelo con su métrica específica\n",
    "    model_name_metric = model_name + fairness_method + '_' + quality\n",
    "    \n",
    "    # Inicializamos el modelo y lo asignamos al diccionario\n",
    "    models[model_name_metric] = CalibratedEqOddsPostprocessing(\n",
    "        privileged_groups=privileged_groups,\n",
    "        unprivileged_groups=unprivileged_groups,\n",
    "        cost_constraint=quality,\n",
    "        seed=seed)\n",
    "\n",
    "    # Realizamos el post-procesado en función de las clases realies (data_copy) y las predicciones del modelo de referencia (data_preds)\n",
    "    models[model_name_metric] = models[model_name_metric].fit(data_train_copy, data_train_preds)"
   ]
  },
  {
   "cell_type": "code",
   "execution_count": null,
   "id": "5ef03c87-6447-4d85-a83d-f373f94e116d",
   "metadata": {
    "tags": []
   },
   "outputs": [],
   "source": [
    "display(Markdown(\"**Validation set results for logistic regression**\"))\n",
    "for key_metric in quality_constraints:\n",
    "    \n",
    "    model_name_metric = model_name + fairness_method + '_' + key_metric\n",
    "    \n",
    "    print(f'Results for {model_name_metric}')\n",
    "    \n",
    "    # Evaluamos al modelo para un rango de umbrales\n",
    "    metrics_sweep[model_name_metric] = utils.metrics_postprocessing_threshold_sweep(\n",
    "        dataset_true=data_val_copy,\n",
    "        dataset_preds=data_val_preds,\n",
    "        model=models[model_name_metric],\n",
    "        thresh_arr=thresh_sweep,\n",
    "        scores_or_labels='scores'\n",
    "    )\n",
    "\n",
    "    # Evaluamos las métricas para el mejor umbral\n",
    "    metrics_best_thresh_validate[model_name_metric] = utils.describe_metrics(metrics_sweep[model_name_metric])\n",
    "\n",
    "    # Usando el mejor umbral, calculamos las métricas en el test set\n",
    "    metrics_best_thresh_test[model_name_metric] = utils.compute_metrics_postprocessing(\n",
    "        dataset_true=data_test_copy,\n",
    "        dataset_preds=data_test_preds,\n",
    "        model=models[model_name_metric], \n",
    "        threshold=metrics_best_thresh_validate[model_name_metric]['best_threshold'], \n",
    "        scores_or_labels='scores')\n",
    "\n",
    "    utils.print_metrics(metrics_best_thresh_validate[model_name_metric])\n",
    "    print('\\n')\n",
    "\n",
    "    # Graficamos el comportamiento del modelo para el rango de umbrales \n",
    "    # utils.plot_fairness_and_accuracy(metrics_sweep[model_name_metric])\n",
    "    # plt.title(model_name_metric)\n",
    "    \n",
    "    f,a = utils.plot_fairness_and_accuracy(metrics_sweep[model_name_metric])\n",
    "    a.set_title(model_name_metric)\n",
    "    f"
   ]
  },
  {
   "cell_type": "code",
   "execution_count": null,
   "id": "c5cbcbe4-a75f-4fdd-a8b7-28bde09c0d96",
   "metadata": {
    "tags": []
   },
   "outputs": [],
   "source": [
    "%%time \n",
    "# Nombramos al modelo\n",
    "fairness_method = '_equal_odds'\n",
    "# Nombre del modelo al que le aplicaremos post-processing\n",
    "model_name = 'disparate_impact_xgb_classifier'\n",
    "\n",
    "# Hacemos una copia de los datasets\n",
    "data_train_copy, data_val_copy, data_test_copy = data_train.copy(deepcopy=True), data_val.copy(deepcopy=True), data_test.copy(deepcopy=True)\n",
    "\n",
    "# Hacemos una copia de las predicciones del modelo de referencia\n",
    "data_train_preds = utils.update_dataset_from_model(data_train_copy, models[model_name])\n",
    "data_val_preds = utils.update_dataset_from_model(data_val_copy, models[model_name])\n",
    "data_test_preds = utils.update_dataset_from_model(data_test_copy, models[model_name])\n",
    "\n",
    "\n",
    "# Parámetros del modelo\n",
    "# métricas fair a optimizar\n",
    "quality_constraints = [\"weighted\", 'fnr', 'fpr'] # \"weighted\" average of fnr and fpr\n",
    "\n",
    "for quality in quality_constraints:\n",
    "    # nombramos al modelo con su métrica específica\n",
    "    model_name_metric = model_name + fairness_method + '_' + quality\n",
    "    \n",
    "    # Inicializamos el modelo y lo asignamos al diccionario\n",
    "    models[model_name_metric] = CalibratedEqOddsPostprocessing(\n",
    "        privileged_groups=privileged_groups,\n",
    "        unprivileged_groups=unprivileged_groups,\n",
    "        cost_constraint=quality,\n",
    "        seed=seed)\n",
    "\n",
    "    # Realizamos el post-procesado en función de las clases realies (data_copy) y las predicciones del modelo de referencia (data_preds)\n",
    "    models[model_name_metric] = models[model_name_metric].fit(data_train_copy, data_train_preds)"
   ]
  },
  {
   "cell_type": "code",
   "execution_count": null,
   "id": "a56c914c-0ddb-4db8-a724-b4af6b1d036c",
   "metadata": {
    "tags": []
   },
   "outputs": [],
   "source": [
    "display(Markdown(\"**Validation set results for xgb classifier**\"))\n",
    "for key_metric in quality_constraints:\n",
    "    \n",
    "    model_name_metric = model_name + fairness_method + '_' + key_metric\n",
    "    \n",
    "    print(f'Results for {model_name_metric}')\n",
    "    \n",
    "    # Evaluamos al modelo para un rango de umbrales\n",
    "    metrics_sweep[model_name_metric] = utils.metrics_postprocessing_threshold_sweep(\n",
    "        dataset_true=data_val_copy,\n",
    "        dataset_preds=data_val_preds,\n",
    "        model=models[model_name_metric],\n",
    "        thresh_arr=thresh_sweep,\n",
    "        scores_or_labels='scores'\n",
    "    )\n",
    "\n",
    "    # Evaluamos las métricas para el mejor umbral\n",
    "    metrics_best_thresh_validate[model_name_metric] = utils.describe_metrics(metrics_sweep[model_name_metric])\n",
    "\n",
    "    # Usando el mejor umbral, calculamos las métricas en el test set\n",
    "    metrics_best_thresh_test[model_name_metric] = utils.compute_metrics_postprocessing(\n",
    "        dataset_true=data_test_copy,\n",
    "        dataset_preds=data_test_preds,\n",
    "        model=models[model_name_metric], \n",
    "        threshold=metrics_best_thresh_validate[model_name_metric]['best_threshold'], \n",
    "        scores_or_labels='scores')\n",
    "\n",
    "    utils.print_metrics(metrics_best_thresh_validate[model_name_metric])\n",
    "    print('\\n')\n",
    "\n",
    "    # Graficamos el comportamiento del modelo para el rango de umbrales \n",
    "    # utils.plot_fairness_and_accuracy(metrics_sweep[model_name_metric])\n",
    "    # plt.title(model_name_metric)\n",
    "    \n",
    "    f,a = utils.plot_fairness_and_accuracy(metrics_sweep[model_name_metric])\n",
    "    a.set_title(model_name_metric)\n",
    "    f"
   ]
  },
  {
   "cell_type": "markdown",
   "id": "7c5a4aad-1885-4023-8f9d-6bf830b41eaa",
   "metadata": {},
   "source": [
    "## Inprocesado + Postprocesado"
   ]
  },
  {
   "cell_type": "code",
   "execution_count": null,
   "id": "5f42a670-5999-4b87-ad58-ed16685c8e66",
   "metadata": {},
   "outputs": [],
   "source": [
    "#Anotamos los nombres de los modelos que vamos a usar\n",
    "model_names = ['prejudice_remover', 'meta_fairness_sr', 'meta_fairness_fdr', 'NN_adversarial_debiasing', 'Basic_NN_no_adversarial_debiasing']"
   ]
  },
  {
   "cell_type": "markdown",
   "id": "910cbd96-538c-4cfa-89b7-a860eaebdf38",
   "metadata": {},
   "source": [
    "### Eliminador de prejuicios + rechazo de opción"
   ]
  },
  {
   "cell_type": "code",
   "execution_count": null,
   "id": "9ad792cc-b094-4f11-9e66-e4124c9dd105",
   "metadata": {
    "tags": []
   },
   "outputs": [],
   "source": [
    "%%time \n",
    "\n",
    "# Nombramos al modelo\n",
    "fairness_method = '_reject_option'\n",
    "\n",
    "# Nombre del modelo al que le aplicaremos post-processing\n",
    "model_name = model_names[0]\n",
    "\n",
    "# métricas fair a optimizar\n",
    "fair_metrics = {'spd': \"Statistical parity difference\", 'aod': \"Average odds difference\", 'eod': \"Equal opportunity difference\"}\n",
    "\n",
    "# Hacemos una copia de los datasets\n",
    "data_train_copy, data_val_copy, data_test_copy = data_train.copy(deepcopy=True), data_val.copy(deepcopy=True), data_test.copy(deepcopy=True)\n",
    "\n",
    "# Hacemos una copia de las predicciones del modelo de referencia\n",
    "data_train_preds = utils.update_dataset_from_model(data_train_copy, models[model_name])\n",
    "data_val_preds = utils.update_dataset_from_model(data_val_copy, models[model_name])\n",
    "data_test_preds = utils.update_dataset_from_model(data_test_copy, models[model_name])\n",
    "\n",
    "# Optimizamos un modelo nuevo por cada métrica\n",
    "for key_metric in fair_metrics:\n",
    "    \n",
    "    # nombramos al modelo con su métrica específica\n",
    "    model_name_metric = model_name + fairness_method + '_' + key_metric\n",
    "    \n",
    "    models[model_name_metric] = RejectOptionClassification(\n",
    "        unprivileged_groups=unprivileged_groups, \n",
    "        privileged_groups=privileged_groups, \n",
    "        metric_name=fair_metrics[key_metric],\n",
    "        metric_lb=-0.01, metric_ub=0.01)\n",
    "\n",
    "    # Realizamos el post-procesado en función de las clases realies (data_copy) y las predicciones del modelo de referencia (data_preds)\n",
    "    models[model_name_metric] = models[model_name_metric].fit(data_train_copy, data_train_preds)"
   ]
  },
  {
   "cell_type": "code",
   "execution_count": null,
   "id": "a38a4bbe-edb5-48b8-8b95-c870db70ca84",
   "metadata": {
    "tags": []
   },
   "outputs": [],
   "source": [
    "display(Markdown(\"**Validation set results for logistic regression**\"))\n",
    "for key_metric in fair_metrics:\n",
    "    \n",
    "    model_name_metric = model_name + fairness_method + '_' + key_metric\n",
    "    \n",
    "    metrics_best_thresh_validate[model_name_metric] = utils.compute_metrics_postprocessing(\n",
    "        dataset_true=data_val_copy, \n",
    "        dataset_preds=data_val_preds, \n",
    "        model=models[model_name_metric], \n",
    "        required_threshold=False)\n",
    "    \n",
    "    print(model_name_metric)\n",
    "    utils.print_metrics(metrics_best_thresh_validate[model_name_metric])\n",
    "    print('\\n')\n",
    "    \n",
    "    metrics_best_thresh_test[model_name_metric] = utils.compute_metrics_postprocessing(\n",
    "        dataset_true=data_test_copy, \n",
    "        dataset_preds=data_test_preds, \n",
    "        model=models[model_name_metric], \n",
    "        required_threshold=False)"
   ]
  },
  {
   "cell_type": "markdown",
   "id": "d0f8426c-7ed9-4b59-bfe6-ab8ada159152",
   "metadata": {},
   "source": [
    "### Metafairness + rechazo de opción"
   ]
  },
  {
   "cell_type": "code",
   "execution_count": null,
   "id": "42f05a88-8783-4ccf-81c0-cd1f7a0a5c84",
   "metadata": {
    "tags": []
   },
   "outputs": [],
   "source": [
    "%%time \n",
    "\n",
    "# Nombramos al modelo\n",
    "fairness_method = '_reject_option'\n",
    "\n",
    "# Nombre del modelo al que le aplicaremos post-processing\n",
    "model_name = model_names[1]\n",
    "\n",
    "# métricas fair a optimizar\n",
    "fair_metrics = {'spd': \"Statistical parity difference\", 'aod': \"Average odds difference\", 'eod': \"Equal opportunity difference\"}\n",
    "\n",
    "# Hacemos una copia de los datasets\n",
    "data_train_copy, data_val_copy, data_test_copy = data_train.copy(deepcopy=True), data_val.copy(deepcopy=True), data_test.copy(deepcopy=True)\n",
    "\n",
    "# Hacemos una copia de las predicciones del modelo de referencia\n",
    "#data_train_preds = utils.update_dataset_from_model(data_train_copy, models[model_name])\n",
    "#data_val_preds = utils.update_dataset_from_model(data_val_copy, models[model_name])\n",
    "#data_test_preds = utils.update_dataset_from_model(data_test_copy, models[model_name])\n",
    "\n",
    "# Optimizamos un modelo nuevo por cada métrica\n",
    "for key_metric in fair_metrics:\n",
    "    \n",
    "    # nombramos al modelo con su métrica específica\n",
    "    model_name_metric = model_name + fairness_method + '_' + key_metric\n",
    "    \n",
    "    models[model_name_metric] = RejectOptionClassification(\n",
    "        unprivileged_groups=unprivileged_groups, \n",
    "        privileged_groups=privileged_groups, \n",
    "        metric_name=fair_metrics[key_metric],\n",
    "        metric_lb=-0.01, metric_ub=0.01)\n",
    "\n",
    "    # Realizamos el post-procesado en función de las clases realies (data_copy) y las predicciones del modelo de referencia (data_preds)\n",
    "    models[model_name_metric] = models[model_name_metric].fit(data_train_copy, data_train_preds)"
   ]
  },
  {
   "cell_type": "code",
   "execution_count": null,
   "id": "73505277-be4d-4504-afa4-514b491a0a83",
   "metadata": {
    "tags": []
   },
   "outputs": [],
   "source": [
    "display(Markdown(\"**Validation set results for logistic regression**\"))\n",
    "for key_metric in fair_metrics:\n",
    "    \n",
    "    model_name_metric = model_name + fairness_method + '_' + key_metric\n",
    "    \n",
    "    metrics_best_thresh_validate[model_name_metric] = utils.compute_metrics_postprocessing(\n",
    "        dataset_true=data_val_copy, \n",
    "        dataset_preds=data_val_preds, \n",
    "        model=models[model_name_metric], \n",
    "        required_threshold=False)\n",
    "    \n",
    "    print(model_name_metric)\n",
    "    utils.print_metrics(metrics_best_thresh_validate[model_name_metric])\n",
    "    print('\\n')\n",
    "    \n",
    "    metrics_best_thresh_test[model_name_metric] = utils.compute_metrics_postprocessing(\n",
    "        dataset_true=data_test_copy, \n",
    "        dataset_preds=data_test_preds, \n",
    "        model=models[model_name_metric], \n",
    "        required_threshold=False)"
   ]
  },
  {
   "cell_type": "markdown",
   "id": "0e063433-4784-4390-8278-3b932b7ce8b1",
   "metadata": {},
   "source": [
    "### Prejuicios adversarios + rechazo de opción"
   ]
  },
  {
   "cell_type": "code",
   "execution_count": null,
   "id": "965df352-ce4e-4b9f-8b51-b6035c7b641d",
   "metadata": {
    "tags": []
   },
   "outputs": [],
   "source": [
    "%%time \n",
    "\n",
    "# Nombramos al modelo\n",
    "fairness_method = '_reject_option'\n",
    "\n",
    "# Nombre del modelo al que le aplicaremos post-processing\n",
    "model_name = model_names[2]\n",
    "\n",
    "# métricas fair a optimizar\n",
    "fair_metrics = {'spd': \"Statistical parity difference\", 'aod': \"Average odds difference\", 'eod': \"Equal opportunity difference\"}\n",
    "\n",
    "# Hacemos una copia de los datasets\n",
    "data_train_copy, data_val_copy, data_test_copy = data_train.copy(deepcopy=True), data_val.copy(deepcopy=True), data_test.copy(deepcopy=True)\n",
    "\n",
    "# Hacemos una copia de las predicciones del modelo de referencia\n",
    "#data_train_preds = utils.update_dataset_from_model(data_train_copy, models[model_name])\n",
    "#data_val_preds = utils.update_dataset_from_model(data_val_copy, models[model_name])\n",
    "#data_test_preds = utils.update_dataset_from_model(data_test_copy, models[model_name])\n",
    "\n",
    "# Optimizamos un modelo nuevo por cada métrica\n",
    "for key_metric in fair_metrics:\n",
    "    \n",
    "    # nombramos al modelo con su métrica específica\n",
    "    model_name_metric = model_name + fairness_method + '_' + key_metric\n",
    "    \n",
    "    models[model_name_metric] = RejectOptionClassification(\n",
    "        unprivileged_groups=unprivileged_groups, \n",
    "        privileged_groups=privileged_groups, \n",
    "        metric_name=fair_metrics[key_metric],\n",
    "        metric_lb=-0.01, metric_ub=0.01)\n",
    "\n",
    "    # Realizamos el post-procesado en función de las clases realies (data_copy) y las predicciones del modelo de referencia (data_preds)\n",
    "    models[model_name_metric] = models[model_name_metric].fit(data_train_copy, data_train_preds)"
   ]
  },
  {
   "cell_type": "code",
   "execution_count": null,
   "id": "39e941cc-340c-455b-910a-e62a94f44a2a",
   "metadata": {
    "tags": []
   },
   "outputs": [],
   "source": [
    "display(Markdown(\"**Validation set results for logistic regression**\"))\n",
    "for key_metric in fair_metrics:\n",
    "    \n",
    "    model_name_metric = model_name + fairness_method + '_' + key_metric\n",
    "    \n",
    "    metrics_best_thresh_validate[model_name_metric] = utils.compute_metrics_postprocessing(\n",
    "        dataset_true=data_val_copy, \n",
    "        dataset_preds=data_val_preds, \n",
    "        model=models[model_name_metric], \n",
    "        required_threshold=False)\n",
    "    \n",
    "    print(model_name_metric)\n",
    "    utils.print_metrics(metrics_best_thresh_validate[model_name_metric])\n",
    "    print('\\n')\n",
    "    \n",
    "    metrics_best_thresh_test[model_name_metric] = utils.compute_metrics_postprocessing(\n",
    "        dataset_true=data_test_copy, \n",
    "        dataset_preds=data_test_preds, \n",
    "        model=models[model_name_metric], \n",
    "        required_threshold=False)"
   ]
  },
  {
   "cell_type": "markdown",
   "id": "4a90ae21-181f-48d6-99da-8b42d4811ee9",
   "metadata": {},
   "source": [
    "### Red neuronal normal + rechazo de opción"
   ]
  },
  {
   "cell_type": "code",
   "execution_count": null,
   "id": "ae363a0a-9561-432f-9a12-3cde77291cba",
   "metadata": {
    "tags": []
   },
   "outputs": [],
   "source": [
    "%%time \n",
    "\n",
    "# Nombramos al modelo\n",
    "fairness_method = '_reject_option'\n",
    "\n",
    "# Nombre del modelo al que le aplicaremos post-processing\n",
    "model_name = model_names[3]\n",
    "\n",
    "# métricas fair a optimizar\n",
    "fair_metrics = {'spd': \"Statistical parity difference\", 'aod': \"Average odds difference\", 'eod': \"Equal opportunity difference\"}\n",
    "\n",
    "# Hacemos una copia de los datasets\n",
    "data_train_copy, data_val_copy, data_test_copy = data_train.copy(deepcopy=True), data_val.copy(deepcopy=True), data_test.copy(deepcopy=True)\n",
    "\n",
    "# Hacemos una copia de las predicciones del modelo de referencia\n",
    "#data_train_preds = utils.update_dataset_from_model(data_train_copy, models[model_name])\n",
    "#data_val_preds = utils.update_dataset_from_model(data_val_copy, models[model_name])\n",
    "#data_test_preds = utils.update_dataset_from_model(data_test_copy, models[model_name])\n",
    "\n",
    "# Optimizamos un modelo nuevo por cada métrica\n",
    "for key_metric in fair_metrics:\n",
    "    \n",
    "    # nombramos al modelo con su métrica específica\n",
    "    model_name_metric = model_name + fairness_method + '_' + key_metric\n",
    "    \n",
    "    models[model_name_metric] = RejectOptionClassification(\n",
    "        unprivileged_groups=unprivileged_groups, \n",
    "        privileged_groups=privileged_groups, \n",
    "        metric_name=fair_metrics[key_metric],\n",
    "        metric_lb=-0.01, metric_ub=0.01)\n",
    "\n",
    "    # Realizamos el post-procesado en función de las clases realies (data_copy) y las predicciones del modelo de referencia (data_preds)\n",
    "    models[model_name_metric] = models[model_name_metric].fit(data_train_copy, data_train_preds)"
   ]
  },
  {
   "cell_type": "code",
   "execution_count": null,
   "id": "9755a046-590c-4171-8a93-5999e40f615b",
   "metadata": {
    "tags": []
   },
   "outputs": [],
   "source": [
    "display(Markdown(\"**Validation set results for logistic regression**\"))\n",
    "for key_metric in fair_metrics:\n",
    "    \n",
    "    model_name_metric = model_name + fairness_method + '_' + key_metric\n",
    "    \n",
    "    metrics_best_thresh_validate[model_name_metric] = utils.compute_metrics_postprocessing(\n",
    "        dataset_true=data_val_copy, \n",
    "        dataset_preds=data_val_preds, \n",
    "        model=models[model_name_metric], \n",
    "        required_threshold=False)\n",
    "    \n",
    "    print(model_name_metric)\n",
    "    utils.print_metrics(metrics_best_thresh_validate[model_name_metric])\n",
    "    print('\\n')\n",
    "    \n",
    "    metrics_best_thresh_test[model_name_metric] = utils.compute_metrics_postprocessing(\n",
    "        dataset_true=data_test_copy, \n",
    "        dataset_preds=data_test_preds, \n",
    "        model=models[model_name_metric], \n",
    "        required_threshold=False)"
   ]
  },
  {
   "cell_type": "markdown",
   "id": "f82813f1-c7a9-42b0-96d1-8a4d5dcc1583",
   "metadata": {},
   "source": [
    "### Inprocesado + Escalado Platt por grupos"
   ]
  },
  {
   "cell_type": "code",
   "execution_count": null,
   "id": "8ebff766-4f0d-4318-b373-b0cf8bfcdc89",
   "metadata": {
    "tags": []
   },
   "outputs": [],
   "source": [
    "%%time\n",
    "fairness_method = '_platt_scaling'\n",
    "\n",
    "model_names = ['NN_adversarial_debiasing', 'Basic_NN_no_adversarial_debiasing']\n",
    "#model_names = ['meta_fairness_fdr', 'meta_fairness_sr', 'NN_adversarial_debiasing', 'Basic_NN_no_adversarial_debiasing']\n",
    "#model_names = ['prejudice_remover', 'meta_fairness_sr', 'meta_fairness_fdr', 'NN_adversarial_debiasing', 'Basic_NN_no_adversarial_debiasing']\n",
    "data_train_copy, data_val_copy, data_test_copy = data_train.copy(deepcopy = True), data_val.copy(deepcopy = True), data_test.copy(deepcopy = True)\n",
    "    \n",
    "for model_name in model_names:\n",
    "    # Hacemos una copia de las predicciones del modelo de referencia\n",
    "    model_thresh = metrics_best_thresh_validate[model_name]['best_threshold']\n",
    "    data_val_preds = utils.update_dataset_from_scores(data_val_copy, models[model_name].scores_val, model_thresh)\n",
    "    ## Plat Scaling:\n",
    "    #1. dividir el validation data usando los groups sensibles\n",
    "    data_val_preds_priv, data_val_preds_unpriv, priv_indices, unpriv_indices = utils.split_dataset_on_sensitive_attribute(\n",
    "        dataset = data_val_preds, privileged_group_label = list((privileged_groups[0].values()))[0])\n",
    "    #2. copia el validation data para guardar los scores\n",
    "    data_val_preds2 = data_val_preds.copy(deepcopy = True)\n",
    "    #3. hacer un modelo para cada grupo\n",
    "    sensitive_groups_data = {'priv': [data_val_preds_priv, priv_indices],\n",
    "                            'unpriv': [data_val_preds_unpriv, unpriv_indices]}\n",
    "    \n",
    "    for group, data_group_list in sensitive_groups_data.items():\n",
    "    \n",
    "        # nombramos al modelo con su grupo específico\n",
    "        model_name_group = '{}_{}_{}'.format(model_name, fairness_method, group)\n",
    "    \n",
    "        # Inicializamos el modelo y lo asignamos al diccionario\n",
    "        models[model_name_group] = LogisticRegression()\n",
    "    \n",
    "        # Realizamos el modelo usando datos para cada grupo en el validation data\n",
    "        models[ model_name_group ] = models[model_name_group].fit(data_group_list[0].scores,   # data_group_list[0] -> data_val_preds_priv or data_val_preds_unpriv\n",
    "                                                                      data_val_copy.subset(data_group_list[1]).labels.ravel()) # data_group_list[1] -> priv_indices or unpriv_indices\n",
    "        # haz predicciones de probabilidad con el modelo de cada groupo y guardar lo en data_val_preds2\n",
    "        # las predicciones de probabilidad son los platt scores\n",
    "        scores_group = models[model_name_group].predict_proba(data_group_list[0].scores)\n",
    "        pos_ind_group = np.where(models[model_name_group].classes_ == data_group_list[0].favorable_label)[0][0]\n",
    "        data_val_preds2.scores[data_group_list[1]] = scores_group[:, pos_ind_group].reshape(-1,1)\n",
    "            \n",
    "        # Evaluamos a los modelos para el rango de umbrales\n",
    "        thresh_sweep_platt = np.linspace(np.min(data_val_preds2.scores.ravel()),\n",
    "                                         np.max(data_val_preds2.scores.ravel()),\n",
    "                                         50)\n",
    "    \n",
    "        metrics_sweep[model_name+fairness_method] = utils.metrics_postprocessing_threshold_sweep_from_scores(\n",
    "                dataset_true = data_val_copy,\n",
    "                dataset_preds = data_val_preds2,\n",
    "                thresh_arr = thresh_sweep_platt\n",
    "            )\n",
    "    \n",
    "        # Evaluamos las métricas para el mejor umbral y las guardamos\n",
    "        metrics_best_thresh_validate[model_name+fairness_method] = utils.describe_metrics( metrics_sweep[model_name+fairness_method] )\n",
    "    \n",
    "        # Graficamos el comportamiento del modelo para el rango de umbrales \n",
    "        print('\\nValidation set results for {}'.format(model_name))\n",
    "        utils.print_metrics(metrics_best_thresh_validate[model_name+fairness_method])\n",
    "        # utils.plot_fairness_and_accuracy( metrics_sweep[model_name+fairness_method] )\n",
    "        # plt.title( model_name+fairness_method )\n",
    "        \n",
    "        f,a = utils.plot_fairness_and_accuracy(metrics_sweep[model_name+fairness_method])\n",
    "        a.set_title(model_name+fairness_method )\n",
    "        f"
   ]
  },
  {
   "cell_type": "code",
   "execution_count": null,
   "id": "01d6597a-b1ec-41da-98f8-a85fffe6d20c",
   "metadata": {
    "tags": []
   },
   "outputs": [],
   "source": [
    "# usa el optimal cutoff para predecir usando el test dato\n",
    "\n",
    "for model_name in model_names:\n",
    "    model_thresh = metrics_best_thresh_validate[model_name]['best_threshold']\n",
    "    data_test_preds = utils.update_dataset_from_scores(data_test_copy, models[model_name].scores_test, model_thresh)\n",
    "    \n",
    "    # 1. dividir el validation data usando los groups sensibles\n",
    "    data_test_preds_priv, data_test_preds_unpriv, priv_indices, unpriv_indices = utils.split_dataset_on_sensitive_attribute(dataset = data_test_preds,\n",
    "                                                                                                                            privileged_group_label = list((privileged_groups[0].values()))[0])\n",
    "    # 2. copia el test data para guardar los platt scores\n",
    "    data_test_preds2 = data_test_preds.copy(deepcopy = True)\n",
    "    \n",
    "    # 3. predecir con el modelo de cada grupo\n",
    "    sensitive_groups_data_test = {'priv': [data_test_preds_priv, priv_indices],\n",
    "                                  'unpriv': [data_test_preds_unpriv, unpriv_indices]}\n",
    "\n",
    "    for group, data_group_list in sensitive_groups_data_test.items():    \n",
    "        # nombramos al modelo con su grupo específico\n",
    "        model_name_group = '{}_{}_{}'.format(model_name, fairness_method, group)\n",
    "\n",
    "        # haz predicciones de probabilidad con el modelo de cada groupo y guardar lo en data_val_preds2\n",
    "        # las predicciones de probabilidad son los platt scores\n",
    "        scores_group = models[model_name_group].predict_proba(data_group_list[0].scores)\n",
    "        pos_ind_group = np.where(models[model_name_group].classes_ == data_group_list[0].favorable_label)[0][0]\n",
    "        data_test_preds2.scores[data_group_list[1]] = scores_group[:, pos_ind_group].reshape(-1,1)\n",
    "    \n",
    "    metrics_best_thresh_test[model_name+fairness_method] = utils.compute_metrics_from_scores(dataset_true = data_test_copy,\n",
    "                                                                                             dataset_pred = data_test_preds2,\n",
    "                                                                                             threshold = metrics_best_thresh_validate[model_name+fairness_method]['best_threshold'])"
   ]
  },
  {
   "cell_type": "markdown",
   "id": "6e57ad01-e8cd-44ed-9c27-78872065cb60",
   "metadata": {
    "tags": []
   },
   "source": [
    "#### Eliminador de prejuicios + Procesador de probabilidades igualadas"
   ]
  },
  {
   "cell_type": "markdown",
   "id": "5eb37f14-5301-4669-9b22-6fccced667a1",
   "metadata": {},
   "source": [
    "##### Usando labels"
   ]
  },
  {
   "cell_type": "code",
   "execution_count": null,
   "id": "b59f1464-7628-45c1-90d3-5be869dfa24c",
   "metadata": {
    "tags": []
   },
   "outputs": [],
   "source": [
    "%%time \n",
    "# Nombramos al modelo\n",
    "fairness_method = '_equal_odds'\n",
    "# Nombre del modelo al que le aplicaremos post-processing\n",
    "model_name = model_names[0]\n",
    "\n",
    "# Hacemos una copia de los datasets\n",
    "data_train_copy, data_val_copy, data_test_copy = data_train.copy(deepcopy=True), data_val.copy(deepcopy=True), data_test.copy(deepcopy=True)\n",
    "\n",
    "# Hacemos una copia de las predicciones del modelo de referencia\n",
    "data_train_preds = utils.update_dataset_from_model(data_train_copy, models[model_name])\n",
    "data_val_preds = utils.update_dataset_from_model(data_val_copy, models[model_name])\n",
    "data_test_preds = utils.update_dataset_from_model(data_test_copy, models[model_name])\n",
    "\n",
    "\n",
    "# Inicializamos el modelo (dadas las predicciones, no los scores) y lo asignamos al diccionario\n",
    "models[model_name+fairness_method] = EqOddsPostprocessing(\n",
    "    privileged_groups = privileged_groups,\n",
    "    unprivileged_groups = unprivileged_groups,\n",
    "    # cost_constraint = quality,\n",
    "    seed = seed)\n",
    "\n",
    "# Realizamos el post-procesado en función de las clases realies (data_copy) y las predicciones del modelo de referencia (data_preds)\n",
    "models[model_name+fairness_method] = models[model_name+fairness_method].fit(data_train_copy, data_train_preds)"
   ]
  },
  {
   "cell_type": "code",
   "execution_count": null,
   "id": "e72ec264-733a-41f3-bdfe-f45e7b7e3bf4",
   "metadata": {
    "scrolled": true,
    "tags": []
   },
   "outputs": [],
   "source": [
    "%%time \n",
    "\n",
    "# Evaluamos al modelo para un rango de umbrales\n",
    "metrics_sweep[model_name+fairness_method] = utils.metrics_postprocessing_threshold_sweep(\n",
    "    dataset_true=data_val_copy,\n",
    "    dataset_preds=data_val_preds,\n",
    "    model=models[model_name+fairness_method],\n",
    "    thresh_arr=thresh_sweep,\n",
    "    scores_or_labels='labels'\n",
    ")\n",
    "\n",
    "# Evaluamos las métricas para el mejor umbral\n",
    "metrics_best_thresh_validate[model_name+fairness_method] = utils.describe_metrics(metrics_sweep[model_name+fairness_method])\n",
    "\n",
    "# Usando el mejor umbral, calculamos las métricas en el test set\n",
    "metrics_best_thresh_test[model_name+fairness_method] = utils.compute_metrics_postprocessing(\n",
    "    dataset_true=data_test_copy,\n",
    "    dataset_preds=data_test_preds,\n",
    "    model=models[model_name+fairness_method], \n",
    "    threshold=metrics_best_thresh_validate[model_name+fairness_method]['best_threshold'], \n",
    "    scores_or_labels='labels')\n",
    "\n",
    "utils.print_metrics(metrics_best_thresh_validate[model_name+fairness_method])\n",
    "print('\\n')\n",
    "\n",
    "# Graficamos el comportamiento del modelo para el rango de umbrales \n",
    "# utils.plot_fairness_and_accuracy(metrics_sweep[model_name+fairness_method])\n",
    "# plt.title(model_name+fairness_method)\n",
    "\n",
    "f,a = utils.plot_fairness_and_accuracy(metrics_sweep[model_name+fairness_method])\n",
    "a.set_title(model_name+fairness_method)\n",
    "f"
   ]
  },
  {
   "cell_type": "markdown",
   "id": "d968781f-7670-44cd-9ec6-eb3cee853a60",
   "metadata": {},
   "source": [
    "#### Usando scores"
   ]
  },
  {
   "cell_type": "code",
   "execution_count": null,
   "id": "42951e98-0484-4c84-ac8e-411358ee2e2c",
   "metadata": {
    "tags": []
   },
   "outputs": [],
   "source": [
    "%%time \n",
    "# Nombramos al modelo\n",
    "fairness_method = '_equal_odds'\n",
    "# Nombre del modelo al que le aplicaremos post-processing\n",
    "model_name = model_names[0]\n",
    "\n",
    "# Hacemos una copia de los datasets\n",
    "data_train_copy, data_val_copy, data_test_copy = data_train.copy(deepcopy=True), data_val.copy(deepcopy=True), data_test.copy(deepcopy=True)\n",
    "\n",
    "# Hacemos una copia de las predicciones del modelo de referencia\n",
    "data_train_preds = utils.update_dataset_from_model(data_train_copy, models[model_name])\n",
    "data_val_preds = utils.update_dataset_from_model(data_val_copy, models[model_name])\n",
    "data_test_preds = utils.update_dataset_from_model(data_test_copy, models[model_name])\n",
    "\n",
    "\n",
    "# Parámetros del modelo\n",
    "# métricas fair a optimizar\n",
    "quality_constraints = [\"weighted\", 'fnr', 'fpr'] # \"weighted\" average of fnr and fpr\n",
    "\n",
    "for quality in quality_constraints:\n",
    "    # nombramos al modelo con su métrica específica\n",
    "    model_name_metric = model_name + fairness_method + '_' + quality\n",
    "    \n",
    "    # Inicializamos el modelo y lo asignamos al diccionario\n",
    "    models[model_name_metric] = CalibratedEqOddsPostprocessing(\n",
    "        privileged_groups=privileged_groups,\n",
    "        unprivileged_groups=unprivileged_groups,\n",
    "        cost_constraint=quality,\n",
    "        seed=seed)\n",
    "\n",
    "    # Realizamos el post-procesado en función de las clases realies (data_copy) y las predicciones del modelo de referencia (data_preds)\n",
    "    models[model_name_metric] = models[model_name_metric].fit(data_train_copy, data_train_preds)"
   ]
  },
  {
   "cell_type": "code",
   "execution_count": null,
   "id": "4dbd1b79-701b-4f36-808c-7738bc8be0ca",
   "metadata": {
    "tags": []
   },
   "outputs": [],
   "source": [
    "display(Markdown(\"**Validation set results for prejudice remover**\"))\n",
    "for key_metric in quality_constraints:\n",
    "    \n",
    "    model_name_metric = model_name + fairness_method + '_' + key_metric\n",
    "    \n",
    "    print(f'Results for {model_name_metric}')\n",
    "    \n",
    "    # Evaluamos al modelo para un rango de umbrales\n",
    "    metrics_sweep[model_name_metric] = utils.metrics_postprocessing_threshold_sweep(\n",
    "        dataset_true=data_val_copy,\n",
    "        dataset_preds=data_val_preds,\n",
    "        model=models[model_name_metric],\n",
    "        thresh_arr=thresh_sweep,\n",
    "        scores_or_labels='scores'\n",
    "    )\n",
    "\n",
    "    # Evaluamos las métricas para el mejor umbral\n",
    "    metrics_best_thresh_validate[model_name_metric] = utils.describe_metrics(metrics_sweep[model_name_metric])\n",
    "\n",
    "    # Usando el mejor umbral, calculamos las métricas en el test set\n",
    "    metrics_best_thresh_test[model_name_metric] = utils.compute_metrics_postprocessing(\n",
    "        dataset_true=data_test_copy,\n",
    "        dataset_preds=data_test_preds,\n",
    "        model=models[model_name_metric], \n",
    "        threshold=metrics_best_thresh_validate[model_name_metric]['best_threshold'], \n",
    "        scores_or_labels='scores')\n",
    "\n",
    "    utils.print_metrics(metrics_best_thresh_validate[model_name_metric])\n",
    "    print('\\n')\n",
    "\n",
    "    # Graficamos el comportamiento del modelo para el rango de umbrales \n",
    "    # utils.plot_fairness_and_accuracy(metrics_sweep[model_name_metric])\n",
    "    # plt.title(model_name_metric)\n",
    "    \n",
    "    f,a = utils.plot_fairness_and_accuracy(metrics_sweep[model_name_metric])\n",
    "    a.set_title(model_name_metric)\n",
    "    f"
   ]
  },
  {
   "cell_type": "markdown",
   "id": "c4f866d3-1aa6-4679-9ba6-3b31645ec9a4",
   "metadata": {
    "tags": []
   },
   "source": [
    "#### Metafairness + Procesador de probabilidades igualadas"
   ]
  },
  {
   "cell_type": "markdown",
   "id": "06c78d77-d22e-4415-86c0-71d37a686b61",
   "metadata": {},
   "source": [
    "##### Usando labels"
   ]
  },
  {
   "cell_type": "code",
   "execution_count": null,
   "id": "a6478d09-275f-4a15-89d4-f0b06fcec5d1",
   "metadata": {
    "tags": []
   },
   "outputs": [],
   "source": [
    "%%time \n",
    "# Nombramos al modelo\n",
    "fairness_method = '_equal_odds'\n",
    "# Nombre del modelo al que le aplicaremos post-processing\n",
    "model_name = model_names[1]\n",
    "\n",
    "# Hacemos una copia de los datasets\n",
    "data_train_copy, data_val_copy, data_test_copy = data_train.copy(deepcopy=True), data_val.copy(deepcopy=True), data_test.copy(deepcopy=True)\n",
    "\n",
    "# Hacemos una copia de las predicciones del modelo de referencia\n",
    "data_train_preds = utils.update_dataset_from_model(data_train_copy, models[model_name])\n",
    "data_val_preds = utils.update_dataset_from_model(data_val_copy, models[model_name])\n",
    "data_test_preds = utils.update_dataset_from_model(data_test_copy, models[model_name])\n",
    "\n",
    "\n",
    "# Inicializamos el modelo (dadas las predicciones, no los scores) y lo asignamos al diccionario\n",
    "models[model_name+fairness_method] = EqOddsPostprocessing(\n",
    "    privileged_groups = privileged_groups,\n",
    "    unprivileged_groups = unprivileged_groups,\n",
    "    # cost_constraint = quality,\n",
    "    seed = seed)\n",
    "\n",
    "# Realizamos el post-procesado en función de las clases realies (data_copy) y las predicciones del modelo de referencia (data_preds)\n",
    "models[model_name+fairness_method] = models[model_name+fairness_method].fit(data_train_copy, data_train_preds)"
   ]
  },
  {
   "cell_type": "code",
   "execution_count": null,
   "id": "03e32e07-22ed-4fef-af2c-ffae82c70fa1",
   "metadata": {
    "scrolled": true,
    "tags": []
   },
   "outputs": [],
   "source": [
    "%%time \n",
    "\n",
    "# Evaluamos al modelo para un rango de umbrales\n",
    "metrics_sweep[model_name+fairness_method] = utils.metrics_postprocessing_threshold_sweep(\n",
    "    dataset_true=data_val_copy,\n",
    "    dataset_preds=data_val_preds,\n",
    "    model=models[model_name+fairness_method],\n",
    "    thresh_arr=thresh_sweep,\n",
    "    scores_or_labels='labels'\n",
    ")\n",
    "\n",
    "# Evaluamos las métricas para el mejor umbral\n",
    "metrics_best_thresh_validate[model_name+fairness_method] = utils.describe_metrics(metrics_sweep[model_name+fairness_method])\n",
    "\n",
    "# Usando el mejor umbral, calculamos las métricas en el test set\n",
    "metrics_best_thresh_test[model_name+fairness_method] = utils.compute_metrics_postprocessing(\n",
    "    dataset_true=data_test_copy,\n",
    "    dataset_preds=data_test_preds,\n",
    "    model=models[model_name+fairness_method], \n",
    "    threshold=metrics_best_thresh_validate[model_name+fairness_method]['best_threshold'], \n",
    "    scores_or_labels='labels')\n",
    "\n",
    "utils.print_metrics(metrics_best_thresh_validate[model_name+fairness_method])\n",
    "print('\\n')\n",
    "\n",
    "# Graficamos el comportamiento del modelo para el rango de umbrales \n",
    "# utils.plot_fairness_and_accuracy(metrics_sweep[model_name+fairness_method])\n",
    "# plt.title(model_name+fairness_method)\n",
    "\n",
    "f,a = utils.plot_fairness_and_accuracy(metrics_sweep[model_name+fairness_method])\n",
    "a.set_title(model_name+fairness_method)\n",
    "f"
   ]
  },
  {
   "cell_type": "markdown",
   "id": "ed0081b4-a59a-4a30-b6f9-b44c2c584980",
   "metadata": {},
   "source": [
    "#### Usando scores"
   ]
  },
  {
   "cell_type": "code",
   "execution_count": null,
   "id": "d22a548a-361d-4c04-915e-f7aaca620645",
   "metadata": {
    "tags": []
   },
   "outputs": [],
   "source": [
    "%%time \n",
    "# Nombramos al modelo\n",
    "fairness_method = '_equal_odds'\n",
    "# Nombre del modelo al que le aplicaremos post-processing\n",
    "model_name = model_names[1]\n",
    "\n",
    "# Hacemos una copia de los datasets\n",
    "data_train_copy, data_val_copy, data_test_copy = data_train.copy(deepcopy=True), data_val.copy(deepcopy=True), data_test.copy(deepcopy=True)\n",
    "\n",
    "# Hacemos una copia de las predicciones del modelo de referencia\n",
    "data_train_preds = utils.update_dataset_from_model(data_train_copy, models[model_name])\n",
    "data_val_preds = utils.update_dataset_from_model(data_val_copy, models[model_name])\n",
    "data_test_preds = utils.update_dataset_from_model(data_test_copy, models[model_name])\n",
    "\n",
    "\n",
    "# Parámetros del modelo\n",
    "# métricas fair a optimizar\n",
    "quality_constraints = [\"weighted\", 'fnr', 'fpr'] # \"weighted\" average of fnr and fpr\n",
    "\n",
    "for quality in quality_constraints:\n",
    "    # nombramos al modelo con su métrica específica\n",
    "    model_name_metric = model_name + fairness_method + '_' + quality\n",
    "    \n",
    "    # Inicializamos el modelo y lo asignamos al diccionario\n",
    "    models[model_name_metric] = CalibratedEqOddsPostprocessing(\n",
    "        privileged_groups=privileged_groups,\n",
    "        unprivileged_groups=unprivileged_groups,\n",
    "        cost_constraint=quality,\n",
    "        seed=seed)\n",
    "\n",
    "    # Realizamos el post-procesado en función de las clases realies (data_copy) y las predicciones del modelo de referencia (data_preds)\n",
    "    models[model_name_metric] = models[model_name_metric].fit(data_train_copy, data_train_preds)"
   ]
  },
  {
   "cell_type": "code",
   "execution_count": null,
   "id": "69dcef15-7f08-4727-b637-eb5ac1202b51",
   "metadata": {
    "tags": []
   },
   "outputs": [],
   "source": [
    "display(Markdown(\"**Validation set results for metafairness**\"))\n",
    "for key_metric in quality_constraints:\n",
    "    \n",
    "    model_name_metric = model_name + fairness_method + '_' + key_metric\n",
    "    \n",
    "    print(f'Results for {model_name_metric}')\n",
    "    \n",
    "    # Evaluamos al modelo para un rango de umbrales\n",
    "    metrics_sweep[model_name_metric] = utils.metrics_postprocessing_threshold_sweep(\n",
    "        dataset_true=data_val_copy,\n",
    "        dataset_preds=data_val_preds,\n",
    "        model=models[model_name_metric],\n",
    "        thresh_arr=thresh_sweep,\n",
    "        scores_or_labels='scores'\n",
    "    )\n",
    "\n",
    "    # Evaluamos las métricas para el mejor umbral\n",
    "    metrics_best_thresh_validate[model_name_metric] = utils.describe_metrics(metrics_sweep[model_name_metric])\n",
    "\n",
    "    # Usando el mejor umbral, calculamos las métricas en el test set\n",
    "    metrics_best_thresh_test[model_name_metric] = utils.compute_metrics_postprocessing(\n",
    "        dataset_true=data_test_copy,\n",
    "        dataset_preds=data_test_preds,\n",
    "        model=models[model_name_metric], \n",
    "        threshold=metrics_best_thresh_validate[model_name_metric]['best_threshold'], \n",
    "        scores_or_labels='scores')\n",
    "\n",
    "    utils.print_metrics(metrics_best_thresh_validate[model_name_metric])\n",
    "    print('\\n')\n",
    "\n",
    "    # Graficamos el comportamiento del modelo para el rango de umbrales \n",
    "    # utils.plot_fairness_and_accuracy(metrics_sweep[model_name_metric])\n",
    "    # plt.title(model_name_metric)\n",
    "    \n",
    "    f,a = utils.plot_fairness_and_accuracy(metrics_sweep[model_name_metric])\n",
    "    a.set_title(model_name_metric)\n",
    "    f"
   ]
  },
  {
   "cell_type": "markdown",
   "id": "2779b89b-ff33-4a40-8b08-1ce09b70fff0",
   "metadata": {},
   "source": [
    "##### Usando labels"
   ]
  },
  {
   "cell_type": "code",
   "execution_count": null,
   "id": "bc37cc51-f124-414c-beb4-6271375588dc",
   "metadata": {
    "tags": []
   },
   "outputs": [],
   "source": [
    "%%time \n",
    "# Nombramos al modelo\n",
    "fairness_method = '_equal_odds'\n",
    "# Nombre del modelo al que le aplicaremos post-processing\n",
    "model_name = model_names[2]\n",
    "\n",
    "# Hacemos una copia de los datasets\n",
    "data_train_copy, data_val_copy, data_test_copy = data_train.copy(deepcopy=True), data_val.copy(deepcopy=True), data_test.copy(deepcopy=True)\n",
    "\n",
    "# Hacemos una copia de las predicciones del modelo de referencia\n",
    "data_train_preds = utils.update_dataset_from_model(data_train_copy, models[model_name])\n",
    "data_val_preds = utils.update_dataset_from_model(data_val_copy, models[model_name])\n",
    "data_test_preds = utils.update_dataset_from_model(data_test_copy, models[model_name])\n",
    "\n",
    "\n",
    "# Inicializamos el modelo (dadas las predicciones, no los scores) y lo asignamos al diccionario\n",
    "models[model_name+fairness_method] = EqOddsPostprocessing(\n",
    "    privileged_groups = privileged_groups,\n",
    "    unprivileged_groups = unprivileged_groups,\n",
    "    # cost_constraint = quality,\n",
    "    seed = seed)\n",
    "\n",
    "# Realizamos el post-procesado en función de las clases realies (data_copy) y las predicciones del modelo de referencia (data_preds)\n",
    "models[model_name+fairness_method] = models[model_name+fairness_method].fit(data_train_copy, data_train_preds)"
   ]
  },
  {
   "cell_type": "code",
   "execution_count": null,
   "id": "a6d2eeea-3a6c-4c99-8932-37b3b509ae9e",
   "metadata": {
    "scrolled": true,
    "tags": []
   },
   "outputs": [],
   "source": [
    "%%time \n",
    "\n",
    "# Evaluamos al modelo para un rango de umbrales\n",
    "metrics_sweep[model_name+fairness_method] = utils.metrics_postprocessing_threshold_sweep(\n",
    "    dataset_true=data_val_copy,\n",
    "    dataset_preds=data_val_preds,\n",
    "    model=models[model_name+fairness_method],\n",
    "    thresh_arr=thresh_sweep,\n",
    "    scores_or_labels='labels'\n",
    ")\n",
    "\n",
    "# Evaluamos las métricas para el mejor umbral\n",
    "metrics_best_thresh_validate[model_name+fairness_method] = utils.describe_metrics(metrics_sweep[model_name+fairness_method])\n",
    "\n",
    "# Usando el mejor umbral, calculamos las métricas en el test set\n",
    "metrics_best_thresh_test[model_name+fairness_method] = utils.compute_metrics_postprocessing(\n",
    "    dataset_true=data_test_copy,\n",
    "    dataset_preds=data_test_preds,\n",
    "    model=models[model_name+fairness_method], \n",
    "    threshold=metrics_best_thresh_validate[model_name+fairness_method]['best_threshold'], \n",
    "    scores_or_labels='labels')\n",
    "\n",
    "utils.print_metrics(metrics_best_thresh_validate[model_name+fairness_method])\n",
    "print('\\n')\n",
    "\n",
    "# Graficamos el comportamiento del modelo para el rango de umbrales \n",
    "# utils.plot_fairness_and_accuracy(metrics_sweep[model_name+fairness_method])\n",
    "# plt.title(model_name+fairness_method)\n",
    "\n",
    "f,a = utils.plot_fairness_and_accuracy(metrics_sweep[model_name+fairness_method])\n",
    "a.set_title(model_name+fairness_method)\n",
    "f"
   ]
  },
  {
   "cell_type": "markdown",
   "id": "60163e5c-11a7-40db-9ab2-d390140cecdf",
   "metadata": {},
   "source": [
    "#### Usando scores"
   ]
  },
  {
   "cell_type": "code",
   "execution_count": null,
   "id": "5e363445-676d-464d-bdfc-e6bf1edc3f47",
   "metadata": {
    "tags": []
   },
   "outputs": [],
   "source": [
    "%%time \n",
    "# Nombramos al modelo\n",
    "fairness_method = '_equal_odds'\n",
    "# Nombre del modelo al que le aplicaremos post-processing\n",
    "model_name = model_names[2]\n",
    "\n",
    "# Hacemos una copia de los datasets\n",
    "data_train_copy, data_val_copy, data_test_copy = data_train.copy(deepcopy=True), data_val.copy(deepcopy=True), data_test.copy(deepcopy=True)\n",
    "\n",
    "# Hacemos una copia de las predicciones del modelo de referencia\n",
    "data_train_preds = utils.update_dataset_from_model(data_train_copy, models[model_name])\n",
    "data_val_preds = utils.update_dataset_from_model(data_val_copy, models[model_name])\n",
    "data_test_preds = utils.update_dataset_from_model(data_test_copy, models[model_name])\n",
    "\n",
    "\n",
    "# Parámetros del modelo\n",
    "# métricas fair a optimizar\n",
    "quality_constraints = [\"weighted\", 'fnr', 'fpr'] # \"weighted\" average of fnr and fpr\n",
    "\n",
    "for quality in quality_constraints:\n",
    "    # nombramos al modelo con su métrica específica\n",
    "    model_name_metric = model_name + fairness_method + '_' + quality\n",
    "    \n",
    "    # Inicializamos el modelo y lo asignamos al diccionario\n",
    "    models[model_name_metric] = CalibratedEqOddsPostprocessing(\n",
    "        privileged_groups=privileged_groups,\n",
    "        unprivileged_groups=unprivileged_groups,\n",
    "        cost_constraint=quality,\n",
    "        seed=seed)\n",
    "\n",
    "    # Realizamos el post-procesado en función de las clases realies (data_copy) y las predicciones del modelo de referencia (data_preds)\n",
    "    models[model_name_metric] = models[model_name_metric].fit(data_train_copy, data_train_preds)"
   ]
  },
  {
   "cell_type": "code",
   "execution_count": null,
   "id": "66f7d990-42e6-4161-b18a-fc94f4c524f1",
   "metadata": {
    "tags": []
   },
   "outputs": [],
   "source": [
    "display(Markdown(\"**Validation set results for metafairness**\"))\n",
    "for key_metric in quality_constraints:\n",
    "    \n",
    "    model_name_metric = model_name + fairness_method + '_' + key_metric\n",
    "    \n",
    "    print(f'Results for {model_name_metric}')\n",
    "    \n",
    "    # Evaluamos al modelo para un rango de umbrales\n",
    "    metrics_sweep[model_name_metric] = utils.metrics_postprocessing_threshold_sweep(\n",
    "        dataset_true=data_val_copy,\n",
    "        dataset_preds=data_val_preds,\n",
    "        model=models[model_name_metric],\n",
    "        thresh_arr=thresh_sweep,\n",
    "        scores_or_labels='scores'\n",
    "    )\n",
    "\n",
    "    # Evaluamos las métricas para el mejor umbral\n",
    "    metrics_best_thresh_validate[model_name_metric] = utils.describe_metrics(metrics_sweep[model_name_metric])\n",
    "\n",
    "    # Usando el mejor umbral, calculamos las métricas en el test set\n",
    "    metrics_best_thresh_test[model_name_metric] = utils.compute_metrics_postprocessing(\n",
    "        dataset_true=data_test_copy,\n",
    "        dataset_preds=data_test_preds,\n",
    "        model=models[model_name_metric], \n",
    "        threshold=metrics_best_thresh_validate[model_name_metric]['best_threshold'], \n",
    "        scores_or_labels='scores')\n",
    "\n",
    "    utils.print_metrics(metrics_best_thresh_validate[model_name_metric])\n",
    "    print('\\n')\n",
    "\n",
    "    # Graficamos el comportamiento del modelo para el rango de umbrales \n",
    "    # utils.plot_fairness_and_accuracy(metrics_sweep[model_name_metric])\n",
    "    # plt.title(model_name_metric)\n",
    "    \n",
    "    f,a = utils.plot_fairness_and_accuracy(metrics_sweep[model_name_metric])\n",
    "    a.set_title(model_name_metric)\n",
    "    f"
   ]
  },
  {
   "cell_type": "markdown",
   "id": "9397ad35-6afd-40c2-83e1-73b0c5fdb608",
   "metadata": {
    "tags": []
   },
   "source": [
    "#### Prejuicios adversarios + Procesador de probabilidades igualadas"
   ]
  },
  {
   "cell_type": "markdown",
   "id": "f4180bd2-2516-4802-9ee0-dbc26432f2c6",
   "metadata": {},
   "source": [
    "##### Usando labels"
   ]
  },
  {
   "cell_type": "code",
   "execution_count": null,
   "id": "9783ba9e-dc4b-4f57-aa2a-683993e7c7ca",
   "metadata": {
    "tags": []
   },
   "outputs": [],
   "source": [
    "%%time \n",
    "# Nombramos al modelo\n",
    "fairness_method = '_equal_odds'\n",
    "# Nombre del modelo al que le aplicaremos post-processing\n",
    "model_name = model_names[3]\n",
    "\n",
    "# Hacemos una copia de los datasets\n",
    "data_train_copy, data_val_copy, data_test_copy = data_train.copy(deepcopy=True), data_val.copy(deepcopy=True), data_test.copy(deepcopy=True)\n",
    "\n",
    "thresh_NN_ADV = metrics_best_thresh_validate['NN_adversarial_debiasing']['best_threshold']\n",
    "\n",
    "# Hacemos una copia de las predicciones del modelo de referencia\n",
    "data_train_preds = utils.update_dataset_from_scores(data_train_copy, models[model_name].scores_train, thresh_NN_ADV)\n",
    "data_val_preds = utils.update_dataset_from_scores(data_val_copy, models[model_name].scores_val, thresh_NN_ADV)\n",
    "data_test_preds = utils.update_dataset_from_scores(data_test_copy, models[model_name].scores_test, thresh_NN_ADV)\n",
    "\n",
    "\n",
    "# Inicializamos el modelo (dadas las predicciones, no los scores) y lo asignamos al diccionario\n",
    "models[model_name+fairness_method] = EqOddsPostprocessing(\n",
    "    privileged_groups = privileged_groups,\n",
    "    unprivileged_groups = unprivileged_groups,\n",
    "    # cost_constraint = quality,\n",
    "    seed = seed)\n",
    "\n",
    "# Realizamos el post-procesado en función de las clases realies (data_copy) y las predicciones del modelo de referencia (data_preds)\n",
    "models[model_name+fairness_method] = models[model_name+fairness_method].fit(data_train_copy, data_train_preds)"
   ]
  },
  {
   "cell_type": "code",
   "execution_count": null,
   "id": "0b0ef6f5-26c7-4ca3-a15f-a035711f62c1",
   "metadata": {
    "scrolled": true,
    "tags": []
   },
   "outputs": [],
   "source": [
    "%%time \n",
    "\n",
    "# Evaluamos al modelo para un rango de umbrales\n",
    "metrics_sweep[model_name+fairness_method] = utils.metrics_postprocessing_threshold_sweep(\n",
    "    dataset_true=data_val_copy,\n",
    "    dataset_preds=data_val_preds,\n",
    "    model=models[model_name+fairness_method],\n",
    "    thresh_arr=thresh_sweep,\n",
    "    scores_or_labels='labels'\n",
    ")\n",
    "\n",
    "# Evaluamos las métricas para el mejor umbral\n",
    "metrics_best_thresh_validate[model_name+fairness_method] = utils.describe_metrics(metrics_sweep[model_name+fairness_method])\n",
    "\n",
    "# Usando el mejor umbral, calculamos las métricas en el test set\n",
    "metrics_best_thresh_test[model_name+fairness_method] = utils.compute_metrics_postprocessing(\n",
    "    dataset_true=data_test_copy,\n",
    "    dataset_preds=data_test_preds,\n",
    "    model=models[model_name+fairness_method], \n",
    "    threshold=metrics_best_thresh_validate[model_name+fairness_method]['best_threshold'], \n",
    "    scores_or_labels='labels')\n",
    "\n",
    "utils.print_metrics(metrics_best_thresh_validate[model_name+fairness_method])\n",
    "print('\\n')\n",
    "\n",
    "# Graficamos el comportamiento del modelo para el rango de umbrales \n",
    "# utils.plot_fairness_and_accuracy(metrics_sweep[model_name+fairness_method])\n",
    "# plt.title(model_name+fairness_method)\n",
    "\n",
    "f,a = utils.plot_fairness_and_accuracy(metrics_sweep[model_name+fairness_method])\n",
    "a.set_title(model_name+fairness_method)\n",
    "f"
   ]
  },
  {
   "cell_type": "markdown",
   "id": "d745c5c2-2116-4323-ab62-ea58f6d5a44b",
   "metadata": {},
   "source": [
    "#### Usando scores"
   ]
  },
  {
   "cell_type": "code",
   "execution_count": null,
   "id": "dafa13fe-aa49-4723-8e26-e65883e21eac",
   "metadata": {
    "tags": []
   },
   "outputs": [],
   "source": [
    "%%time \n",
    "# Nombramos al modelo\n",
    "fairness_method = '_equal_odds'\n",
    "# Nombre del modelo al que le aplicaremos post-processing\n",
    "model_name = model_names[3]\n",
    "\n",
    "# Hacemos una copia de los datasets\n",
    "data_train_copy, data_val_copy, data_test_copy = data_train.copy(deepcopy=True), data_val.copy(deepcopy=True), data_test.copy(deepcopy=True)\n",
    "\n",
    "thresh_NN_ADV = metrics_best_thresh_validate['NN_adversarial_debiasing']['best_threshold']\n",
    "\n",
    "# Hacemos una copia de las predicciones del modelo de referencia\n",
    "data_train_preds = utils.update_dataset_from_scores(data_train_copy, models[model_name].scores_train, thresh_NN_ADV)\n",
    "data_val_preds = utils.update_dataset_from_scores(data_val_copy, models[model_name].scores_val, thresh_NN_ADV)\n",
    "data_test_preds = utils.update_dataset_from_scores(data_test_copy, models[model_name].scores_test, thresh_NN_ADV)\n",
    "\n",
    "\n",
    "# Parámetros del modelo\n",
    "# métricas fair a optimizar\n",
    "quality_constraints = [\"weighted\", 'fnr', 'fpr'] # \"weighted\" average of fnr and fpr\n",
    "\n",
    "for quality in quality_constraints:\n",
    "    # nombramos al modelo con su métrica específica\n",
    "    model_name_metric = model_name + fairness_method + '_' + quality\n",
    "    \n",
    "    # Inicializamos el modelo y lo asignamos al diccionario\n",
    "    models[model_name_metric] = CalibratedEqOddsPostprocessing(\n",
    "        privileged_groups=privileged_groups,\n",
    "        unprivileged_groups=unprivileged_groups,\n",
    "        cost_constraint=quality,\n",
    "        seed=seed)\n",
    "\n",
    "    # Realizamos el post-procesado en función de las clases realies (data_copy) y las predicciones del modelo de referencia (data_preds)\n",
    "    models[model_name_metric] = models[model_name_metric].fit(data_train_copy, data_train_preds)"
   ]
  },
  {
   "cell_type": "code",
   "execution_count": null,
   "id": "e935d276-aa8e-4184-a745-c1ab5d4d7a35",
   "metadata": {
    "tags": []
   },
   "outputs": [],
   "source": [
    "display(Markdown(\"**Validation set results for adversarial debiasing**\"))\n",
    "for key_metric in quality_constraints:\n",
    "    \n",
    "    model_name_metric = model_name + fairness_method + '_' + key_metric\n",
    "    \n",
    "    print(f'Results for {model_name_metric}')\n",
    "    \n",
    "    # Evaluamos al modelo para un rango de umbrales\n",
    "    metrics_sweep[model_name_metric] = utils.metrics_postprocessing_threshold_sweep(\n",
    "        dataset_true=data_val_copy,\n",
    "        dataset_preds=data_val_preds,\n",
    "        model=models[model_name_metric],\n",
    "        thresh_arr=thresh_sweep,\n",
    "        scores_or_labels='scores'\n",
    "    )\n",
    "\n",
    "    # Evaluamos las métricas para el mejor umbral\n",
    "    metrics_best_thresh_validate[model_name_metric] = utils.describe_metrics(metrics_sweep[model_name_metric])\n",
    "\n",
    "    # Usando el mejor umbral, calculamos las métricas en el test set\n",
    "    metrics_best_thresh_test[model_name_metric] = utils.compute_metrics_postprocessing(\n",
    "        dataset_true=data_test_copy,\n",
    "        dataset_preds=data_test_preds,\n",
    "        model=models[model_name_metric], \n",
    "        threshold=metrics_best_thresh_validate[model_name_metric]['best_threshold'], \n",
    "        scores_or_labels='scores')\n",
    "\n",
    "    utils.print_metrics(metrics_best_thresh_validate[model_name_metric])\n",
    "    print('\\n')\n",
    "\n",
    "    # Graficamos el comportamiento del modelo para el rango de umbrales \n",
    "    # utils.plot_fairness_and_accuracy(metrics_sweep[model_name_metric])\n",
    "    # plt.title(model_name_metric)\n",
    "    \n",
    "    f,a = utils.plot_fairness_and_accuracy(metrics_sweep[model_name_metric])\n",
    "    a.set_title(model_name_metric)\n",
    "    f"
   ]
  },
  {
   "cell_type": "markdown",
   "id": "97cc62a9-4060-498a-808b-6706a202094f",
   "metadata": {
    "tags": []
   },
   "source": [
    "#### Red neuronal normal + Procesador de probabilidades igualadas"
   ]
  },
  {
   "cell_type": "markdown",
   "id": "3eeb25ef-5cfe-4ba2-8ca4-28ae32518b8c",
   "metadata": {},
   "source": [
    "##### Usando labels"
   ]
  },
  {
   "cell_type": "code",
   "execution_count": null,
   "id": "fdd44995-c2b6-4fd9-8d45-2071e6735159",
   "metadata": {
    "tags": []
   },
   "outputs": [],
   "source": [
    "%%time \n",
    "# Nombramos al modelo\n",
    "fairness_method = '_equal_odds'\n",
    "# Nombre del modelo al que le aplicaremos post-processing\n",
    "model_name = model_names[4]\n",
    "\n",
    "# Hacemos una copia de los datasets\n",
    "data_train_copy, data_val_copy, data_test_copy = data_train.copy(deepcopy=True), data_val.copy(deepcopy=True), data_test.copy(deepcopy=True)\n",
    "\n",
    "thresh_no_NN_ADV = metrics_best_thresh_validate['Basic_NN_no_adversarial_debiasing']['best_threshold']\n",
    "\n",
    "# Hacemos una copia de las predicciones del modelo de referencia\n",
    "data_train_preds = utils.update_dataset_from_scores(data_train_copy, models[model_name].scores_train, thresh_no_NN_ADV)\n",
    "data_val_preds = utils.update_dataset_from_scores(data_val_copy, models[model_name].scores_val, thresh_no_NN_ADV)\n",
    "data_test_preds = utils.update_dataset_from_scores(data_test_copy, models[model_name].scores_test, thresh_no_NN_ADV)\n",
    "\n",
    "\n",
    "# Inicializamos el modelo (dadas las predicciones, no los scores) y lo asignamos al diccionario\n",
    "models[model_name+fairness_method] = EqOddsPostprocessing(\n",
    "    privileged_groups = privileged_groups,\n",
    "    unprivileged_groups = unprivileged_groups,\n",
    "    # cost_constraint = quality,\n",
    "    seed = seed)\n",
    "\n",
    "# Realizamos el post-procesado en función de las clases realies (data_copy) y las predicciones del modelo de referencia (data_preds)\n",
    "models[model_name+fairness_method] = models[model_name+fairness_method].fit(data_train_copy, data_train_preds)"
   ]
  },
  {
   "cell_type": "code",
   "execution_count": null,
   "id": "0fa2c484-f49e-4460-b99c-5c18d67194b3",
   "metadata": {
    "scrolled": true,
    "tags": []
   },
   "outputs": [],
   "source": [
    "%%time \n",
    "\n",
    "# Evaluamos al modelo para un rango de umbrales\n",
    "metrics_sweep[model_name+fairness_method] = utils.metrics_postprocessing_threshold_sweep(\n",
    "    dataset_true=data_val_copy,\n",
    "    dataset_preds=data_val_preds,\n",
    "    model=models[model_name+fairness_method],\n",
    "    thresh_arr=thresh_sweep,\n",
    "    scores_or_labels='labels'\n",
    ")\n",
    "\n",
    "# Evaluamos las métricas para el mejor umbral\n",
    "metrics_best_thresh_validate[model_name+fairness_method] = utils.describe_metrics(metrics_sweep[model_name+fairness_method])\n",
    "\n",
    "# Usando el mejor umbral, calculamos las métricas en el test set\n",
    "metrics_best_thresh_test[model_name+fairness_method] = utils.compute_metrics_postprocessing(\n",
    "    dataset_true=data_test_copy,\n",
    "    dataset_preds=data_test_preds,\n",
    "    model=models[model_name+fairness_method], \n",
    "    threshold=metrics_best_thresh_validate[model_name+fairness_method]['best_threshold'], \n",
    "    scores_or_labels='labels')\n",
    "\n",
    "utils.print_metrics(metrics_best_thresh_validate[model_name+fairness_method])\n",
    "print('\\n')\n",
    "\n",
    "# Graficamos el comportamiento del modelo para el rango de umbrales \n",
    "# utils.plot_fairness_and_accuracy(metrics_sweep[model_name+fairness_method])\n",
    "# plt.title(model_name+fairness_method)\n",
    "\n",
    "f,a = utils.plot_fairness_and_accuracy(metrics_sweep[model_name+fairness_method])\n",
    "a.set_title(model_name+fairness_method)\n",
    "f"
   ]
  },
  {
   "cell_type": "markdown",
   "id": "8ff46d5c-63af-4c15-9873-a1f3b2f260b4",
   "metadata": {},
   "source": [
    "#### Usando scores"
   ]
  },
  {
   "cell_type": "code",
   "execution_count": null,
   "id": "a84f7171-ac87-425b-8024-e50dcaa65ee4",
   "metadata": {
    "tags": []
   },
   "outputs": [],
   "source": [
    "%%time \n",
    "# Nombramos al modelo\n",
    "fairness_method = '_equal_odds'\n",
    "# Nombre del modelo al que le aplicaremos post-processing\n",
    "model_name = model_names[4]\n",
    "\n",
    "# Hacemos una copia de los datasets\n",
    "data_train_copy, data_val_copy, data_test_copy = data_train.copy(deepcopy=True), data_val.copy(deepcopy=True), data_test.copy(deepcopy=True)\n",
    "\n",
    "thresh_no_NN_ADV = metrics_best_thresh_validate['Basic_NN_no_adversarial_debiasing']['best_threshold']\n",
    "\n",
    "# Hacemos una copia de las predicciones del modelo de referencia\n",
    "data_train_preds = utils.update_dataset_from_scores(data_train_copy, models[model_name].scores_train, thresh_no_NN_ADV)\n",
    "data_val_preds = utils.update_dataset_from_scores(data_val_copy, models[model_name].scores_val, thresh_no_NN_ADV)\n",
    "data_test_preds = utils.update_dataset_from_scores(data_test_copy, models[model_name].scores_test, thresh_no_NN_ADV)\n",
    "\n",
    "\n",
    "# Parámetros del modelo\n",
    "# métricas fair a optimizar\n",
    "quality_constraints = [\"weighted\", 'fnr', 'fpr'] # \"weighted\" average of fnr and fpr\n",
    "\n",
    "for quality in quality_constraints:\n",
    "    # nombramos al modelo con su métrica específica\n",
    "    model_name_metric = model_name + fairness_method + '_' + quality\n",
    "    \n",
    "    # Inicializamos el modelo y lo asignamos al diccionario\n",
    "    models[model_name_metric] = CalibratedEqOddsPostprocessing(\n",
    "        privileged_groups=privileged_groups,\n",
    "        unprivileged_groups=unprivileged_groups,\n",
    "        cost_constraint=quality,\n",
    "        seed=seed)\n",
    "\n",
    "    # Realizamos el post-procesado en función de las clases realies (data_copy) y las predicciones del modelo de referencia (data_preds)\n",
    "    models[model_name_metric] = models[model_name_metric].fit(data_train_copy, data_train_preds)"
   ]
  },
  {
   "cell_type": "code",
   "execution_count": null,
   "id": "bb9bee99-51f4-4de9-834a-e204628eaf98",
   "metadata": {
    "tags": []
   },
   "outputs": [],
   "source": [
    "display(Markdown(\"**Validation set results for basic NN**\"))\n",
    "for key_metric in quality_constraints:\n",
    "    \n",
    "    model_name_metric = model_name + fairness_method + '_' + key_metric\n",
    "    \n",
    "    print(f'Results for {model_name_metric}')\n",
    "    \n",
    "    # Evaluamos al modelo para un rango de umbrales\n",
    "    metrics_sweep[model_name_metric] = utils.metrics_postprocessing_threshold_sweep(\n",
    "        dataset_true=data_val_copy,\n",
    "        dataset_preds=data_val_preds,\n",
    "        model=models[model_name_metric],\n",
    "        thresh_arr=thresh_sweep,\n",
    "        scores_or_labels='scores'\n",
    "    )\n",
    "\n",
    "    # Evaluamos las métricas para el mejor umbral\n",
    "    metrics_best_thresh_validate[model_name_metric] = utils.describe_metrics(metrics_sweep[model_name_metric])\n",
    "\n",
    "    # Usando el mejor umbral, calculamos las métricas en el test set\n",
    "    metrics_best_thresh_test[model_name_metric] = utils.compute_metrics_postprocessing(\n",
    "        dataset_true=data_test_copy,\n",
    "        dataset_preds=data_test_preds,\n",
    "        model=models[model_name_metric], \n",
    "        threshold=metrics_best_thresh_validate[model_name_metric]['best_threshold'], \n",
    "        scores_or_labels='scores')\n",
    "\n",
    "    utils.print_metrics(metrics_best_thresh_validate[model_name_metric])\n",
    "    print('\\n')\n",
    "\n",
    "    # Graficamos el comportamiento del modelo para el rango de umbrales \n",
    "    # utils.plot_fairness_and_accuracy(metrics_sweep[model_name_metric])\n",
    "    # plt.title(model_name_metric)\n",
    "    \n",
    "    f,a = utils.plot_fairness_and_accuracy(metrics_sweep[model_name_metric])\n",
    "    a.set_title(model_name_metric)\n",
    "    f"
   ]
  },
  {
   "cell_type": "markdown",
   "id": "ec0ba458-01d8-4c53-b028-32d231932f50",
   "metadata": {},
   "source": [
    "## Comparación de modelos\n",
    "\n",
    "Podemos usar los diccionarios que resumen la calidad de los modelos fair para compararlos todos."
   ]
  },
  {
   "cell_type": "markdown",
   "id": "fbbebe87-e74a-48cf-b621-5781d0f187e3",
   "metadata": {},
   "source": [
    "### Resultados en validación"
   ]
  },
  {
   "cell_type": "code",
   "execution_count": null,
   "id": "a48fa550-f68f-48a9-bec4-b06db42d0327",
   "metadata": {
    "tags": []
   },
   "outputs": [],
   "source": [
    "algorithm_performance_summary = pd.DataFrame(metrics_best_thresh_validate).T\n",
    "algorithm_performance_summary"
   ]
  },
  {
   "cell_type": "markdown",
   "id": "1a06e761-8490-4df7-84ac-151da29f852a",
   "metadata": {},
   "source": [
    "### Resultados en test"
   ]
  },
  {
   "cell_type": "code",
   "execution_count": null,
   "id": "f5abfc6b-bd82-4291-8473-a1c5ccdd9bcf",
   "metadata": {
    "tags": []
   },
   "outputs": [],
   "source": [
    "algorithm_performance_summary = pd.DataFrame(metrics_best_thresh_test).T\n",
    "algorithm_performance_summary"
   ]
  },
  {
   "cell_type": "code",
   "execution_count": null,
   "id": "9cc733be-d3b1-4897-b7b3-018c54b7bede",
   "metadata": {},
   "outputs": [],
   "source": [
    "algorithm_performance_summary.to_csv('PERFORMANCE_GERMAN_MULTALG', index = True, sep=',', encoding='utf-8')"
   ]
  }
 ],
 "metadata": {
  "kernelspec": {
   "display_name": "Python 3.9 (aif360)",
   "language": "python",
   "name": "aif360"
  },
  "language_info": {
   "codemirror_mode": {
    "name": "ipython",
    "version": 3
   },
   "file_extension": ".py",
   "mimetype": "text/x-python",
   "name": "python",
   "nbconvert_exporter": "python",
   "pygments_lexer": "ipython3",
   "version": "3.9.19"
  },
  "vscode": {
   "interpreter": {
    "hash": "26de051ba29f2982a8de78e945f0abaf191376122a1563185a90213a26c5da77"
   }
  }
 },
 "nbformat": 4,
 "nbformat_minor": 5
}
