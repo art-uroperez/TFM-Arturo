{
 "cells": [
  {
   "cell_type": "markdown",
   "id": "48588bc0-c255-49d2-a039-1a2845b201d7",
   "metadata": {},
   "source": [
    "<img src=\"img/ibidat.png\" alt=\"drawing\" width=\"600\"/>"
   ]
  },
  {
   "cell_type": "markdown",
   "id": "c17e798e-ca3d-40da-ae5a-fd75dc9c093c",
   "metadata": {},
   "source": [
    "# Introducción\n",
    "\n",
    "En este cuaderno vamos a aplicar un único algoritmo con dos atributos sensibles en el dataset `homecredit`.\n"
   ]
  },
  {
   "cell_type": "markdown",
   "id": "daab952a-8d5e-4540-b2e6-0da1fe09c666",
   "metadata": {},
   "source": [
    "# Carga de librerías\n"
   ]
  },
  {
   "cell_type": "code",
   "execution_count": 1,
   "id": "5be38405-c18a-401d-8e81-8ad1e39a25b7",
   "metadata": {
    "tags": []
   },
   "outputs": [],
   "source": [
    "# Con esta celda, podemos hacer cambios en cualquier script/libreria y verlo reflejado en las funciones del notebook.\n",
    "%load_ext autoreload\n",
    "%autoreload 2\n",
    "%matplotlib inline"
   ]
  },
  {
   "cell_type": "code",
   "execution_count": 2,
   "id": "5473c1a0-a0fe-459b-b556-cc76d9815039",
   "metadata": {
    "tags": []
   },
   "outputs": [
    {
     "name": "stderr",
     "output_type": "stream",
     "text": [
      "WARNING:root:\n",
      "`load_boston` has been removed from scikit-learn since version 1.2.\n",
      "\n",
      "The Boston housing prices dataset has an ethical problem: as\n",
      "investigated in [1], the authors of this dataset engineered a\n",
      "non-invertible variable \"B\" assuming that racial self-segregation had a\n",
      "positive impact on house prices [2]. Furthermore the goal of the\n",
      "research that led to the creation of this dataset was to study the\n",
      "impact of air quality but it did not give adequate demonstration of the\n",
      "validity of this assumption.\n",
      "\n",
      "The scikit-learn maintainers therefore strongly discourage the use of\n",
      "this dataset unless the purpose of the code is to study and educate\n",
      "about ethical issues in data science and machine learning.\n",
      "\n",
      "In this special case, you can fetch the dataset from the original\n",
      "source::\n",
      "\n",
      "    import pandas as pd\n",
      "    import numpy as np\n",
      "\n",
      "    data_url = \"http://lib.stat.cmu.edu/datasets/boston\"\n",
      "    raw_df = pd.read_csv(data_url, sep=\"\\s+\", skiprows=22, header=None)\n",
      "    data = np.hstack([raw_df.values[::2, :], raw_df.values[1::2, :2]])\n",
      "    target = raw_df.values[1::2, 2]\n",
      "\n",
      "Alternative datasets include the California housing dataset and the\n",
      "Ames housing dataset. You can load the datasets as follows::\n",
      "\n",
      "    from sklearn.datasets import fetch_california_housing\n",
      "    housing = fetch_california_housing()\n",
      "\n",
      "for the California housing dataset and::\n",
      "\n",
      "    from sklearn.datasets import fetch_openml\n",
      "    housing = fetch_openml(name=\"house_prices\", as_frame=True)\n",
      "\n",
      "for the Ames housing dataset.\n",
      "\n",
      "[1] M Carlisle.\n",
      "\"Racist data destruction?\"\n",
      "<https://medium.com/@docintangible/racist-data-destruction-113e3eff54a8>\n",
      "\n",
      "[2] Harrison Jr, David, and Daniel L. Rubinfeld.\n",
      "\"Hedonic housing prices and the demand for clean air.\"\n",
      "Journal of environmental economics and management 5.1 (1978): 81-102.\n",
      "<https://www.researchgate.net/publication/4974606_Hedonic_housing_prices_and_the_demand_for_clean_air>\n",
      ": LawSchoolGPADataset will be unavailable. To install, run:\n",
      "pip install 'aif360[LawSchoolGPA]'\n",
      "2024-06-16 20:59:31.989520: I tensorflow/core/util/port.cc:113] oneDNN custom operations are on. You may see slightly different numerical results due to floating-point round-off errors from different computation orders. To turn them off, set the environment variable `TF_ENABLE_ONEDNN_OPTS=0`.\n",
      "2024-06-16 20:59:32.043443: I tensorflow/core/platform/cpu_feature_guard.cc:210] This TensorFlow binary is optimized to use available CPU instructions in performance-critical operations.\n",
      "To enable the following instructions: AVX2 AVX512F AVX512_VNNI FMA, in other operations, rebuild TensorFlow with the appropriate compiler flags.\n",
      "2024-06-16 20:59:32.942330: W tensorflow/compiler/tf2tensorrt/utils/py_utils.cc:38] TF-TRT Warning: Could not find TensorRT\n"
     ]
    }
   ],
   "source": [
    "## CARGAMOS LIBRERIAS\n",
    "# Obs: La primera vez puede tardar en cargar porque AIF360 pre-compila algunas cosas de tensorflow\n",
    "import pandas as pd\n",
    "import numpy as np\n",
    "import matplotlib.pyplot as plt\n",
    "\n",
    "# Cargamos librerías de sklearn\n",
    "# vanilla LR\n",
    "from sklearn.preprocessing import StandardScaler\n",
    "from sklearn.linear_model import LogisticRegression\n",
    "from sklearn.pipeline import make_pipeline\n",
    "\n",
    "# Cargamos xgboost\n",
    "from xgboost import XGBClassifier\n",
    "\n",
    "# Cargamos algoritmos de fairness\n",
    "# Pre-procesado\n",
    "from aif360.algorithms.preprocessing import Reweighing\n",
    "from aif360.algorithms.preprocessing import DisparateImpactRemover\n",
    "# In-procesado\n",
    "from aif360.algorithms.inprocessing import PrejudiceRemover\n",
    "from aif360.algorithms.inprocessing import MetaFairClassifier\n",
    "from aif360.algorithms.inprocessing.adversarial_debiasing import AdversarialDebiasing\n",
    "# Post-procesado\n",
    "from aif360.algorithms.postprocessing import RejectOptionClassification # when scores are given\n",
    "from aif360.algorithms.postprocessing import CalibratedEqOddsPostprocessing # when scores (R) are given\n",
    "from aif360.algorithms.postprocessing import EqOddsPostprocessing # when labels (Y^hat) are given\n",
    "from aif360.datasets import GermanDataset\n",
    "\n",
    "# TF para adversarial debiasing\n",
    "import tensorflow.compat.v1 as tf\n",
    "tf.disable_eager_execution()\n",
    "\n",
    "from IPython.display import Markdown, display\n",
    "\n",
    "# Librería local con funciones de ayuda extra\n",
    "import utils\n",
    "\n",
    "seed = 12345 # fijamos la semilla de números aleatorios para reproducir exactamante el notebook"
   ]
  },
  {
   "cell_type": "markdown",
   "id": "0cef5f86-1db9-4454-b9c5-b6b85d7e19fa",
   "metadata": {},
   "source": [
    "# Selección de dataset.\n",
    "\n",
    "El siguiente bloque permite seleccionar el conjunto de datos sobre el que trabajar. Debe recordarse que el conjunto de `homecredit` es mucho mayor por lo que tardará más tiempo en ejecutarse.\n"
   ]
  },
  {
   "cell_type": "code",
   "execution_count": 3,
   "id": "176381e5-df48-4c87-bbc4-0f73754345b5",
   "metadata": {},
   "outputs": [
    {
     "name": "stderr",
     "output_type": "stream",
     "text": [
      "/home/arturo_perez/DEFINITIVO/utils.py:1173: PerformanceWarning: DataFrame is highly fragmented.  This is usually the result of calling `frame.insert` many times, which has poor performance.  Consider joining all columns at once using pd.concat(axis=1) instead. To get a de-fragmented frame, use `newframe = frame.copy()`\n",
      "  df['AGE'] = -df['DAYS_BIRTH'].astype('float') / 365\n",
      "/home/arturo_perez/DEFINITIVO/utils.py:1176: PerformanceWarning: DataFrame is highly fragmented.  This is usually the result of calling `frame.insert` many times, which has poor performance.  Consider joining all columns at once using pd.concat(axis=1) instead. To get a de-fragmented frame, use `newframe = frame.copy()`\n",
      "  df.loc[:,'PROT_ATTR'] = 0.0\n"
     ]
    }
   ],
   "source": [
    "dataset_name = 'homecredit' # valid options are: german; homecredit\n",
    "\n",
    "if dataset_name == 'german':\n",
    "    dataset_german = GermanDataset(\n",
    "        protected_attribute_names=['age'],            \n",
    "        privileged_classes=[lambda x: x >= 25],      \n",
    "        features_to_drop=['personal_status', 'sex'] \n",
    "    )\n",
    "    \n",
    "\n",
    "    # xgboost requiere que los labels empiecen en 0, y en este conjunto empiezan en 1\n",
    "    # dataset_german.labels = dataset_german.labels - 1\n",
    "    # dataset_german.favorable_label = dataset_german.favorable_label - 1\n",
    "    # dataset_german.unfavorable_label = dataset_german.unfavorable_label - 1\n",
    "    # cambiar los labels 2 a 0 (label 2 es desfavorabel y 1 es favorable) \n",
    "    dataset_german.labels[dataset_german.labels.ravel() == 2] =  dataset_german.labels[dataset_german.labels.ravel() == 2] - 2\n",
    "    dataset_german.unfavorable_label = dataset_german.unfavorable_label - 2\n",
    "\n",
    "    \n",
    "    \n",
    "    # Separamos el conjunto de datos en train, validate, test\n",
    "    data_train, vt = dataset_german.split([0.7], shuffle=True, seed=seed)\n",
    "    data_val, data_test = vt.split([0.5], shuffle=True, seed=seed)\n",
    "\n",
    "    # Obtenemos los indicadores del grupo sensible\n",
    "    sensitive_attribute = dataset_german.protected_attribute_names[0] # age\n",
    "    privileged_groups, unprivileged_groups = utils.get_privileged_groups(dataset_german)\n",
    "    \n",
    "    print(f'Dimensiones del conjunto de datos: {dataset_german.features.shape}')\n",
    "    print(\"Grupos privilegiados:\", privileged_groups)\n",
    "    print(\"Grupos no privilegiados:\", unprivileged_groups)\n",
    "    print(\"Label del grupo favorable:\", dataset_german.favorable_label)\n",
    "    print(\"Label del grupo desfavorable:\", dataset_german.unfavorable_label) \n",
    "    \n",
    "elif dataset_name == 'homecredit':\n",
    "    dataset_homecredit = pd.read_csv('data/homecredit.csv', header=0, sep=',', quotechar='\"')\n",
    "\n",
    "    dataset_homecredit = utils.preprocess_homecredit_mult(dataset_homecredit)\n",
    "    dataset_homecredit_2 = dataset_homecredit.copy(deep = True)\n",
    "    \n",
    "    dataset_homecredit_aif = utils.convert_to_standard_dataset(\n",
    "            df=dataset_homecredit,\n",
    "            target_label_name='TARGET',\n",
    "            sensitive_attribute=['PROT_ATTR'],\n",
    "            priviledged_classes=[lambda x: x == 1],\n",
    "            favorable_target_label=[0],\n",
    "            features_to_keep=[],\n",
    "            categorical_features=[])\n",
    "\n",
    "    dataset_homecredit_aif_2 = utils.convert_to_standard_dataset(\n",
    "            df=dataset_homecredit_2,\n",
    "            target_label_name='TARGET',\n",
    "            sensitive_attribute=['AGE'],\n",
    "            priviledged_classes=[lambda x: x >= 25],\n",
    "            favorable_target_label=[0],\n",
    "            features_to_keep=[],\n",
    "            categorical_features=[])\n",
    "\n",
    "    # para hacer submuestra \n",
    "    sample_size_hc = 5000\n",
    "    ssample = np.random.randint(0, 307511+1, size=(sample_size_hc))\n",
    "    dataset_homecredit_aif = dataset_homecredit_aif.subset(ssample)\n",
    "    dataset_homecredit_aif_2 = dataset_homecredit_aif_2.subset(ssample)\n",
    "else:\n",
    "    print('Invalid dataset selected')"
   ]
  },
  {
   "cell_type": "code",
   "execution_count": 4,
   "id": "e0dd7d1c-b723-479c-a03e-9b600e459556",
   "metadata": {
    "tags": []
   },
   "outputs": [
    {
     "name": "stdout",
     "output_type": "stream",
     "text": [
      "Dimensiones del conjunto de datos: (5000, 229)\n",
      "Grupos privilegiados: [{'PROT_ATTR': 1.0}]\n",
      "Grupos no privilegiados: [{'PROT_ATTR': 0.0}]\n",
      "Label del grupo favorable: 1\n",
      "Label del grupo desfavorable: 0\n"
     ]
    }
   ],
   "source": [
    "# cambiar los labels: 1 para good y 0 para bad     \n",
    "good_customers = dataset_homecredit_aif.labels.ravel() == 0\n",
    "bad_customers = ~good_customers\n",
    "dataset_homecredit_aif.labels[good_customers] = np.array([1])\n",
    "dataset_homecredit_aif.labels[bad_customers] = np.array([0])\n",
    "    \n",
    "dataset_homecredit_aif.favorable_label = 1\n",
    "dataset_homecredit_aif.unfavorable_label = 0\n",
    "\n",
    "# cambiar los labels: 1 para good y 0 para bad     \n",
    "good_customers = dataset_homecredit_aif_2.labels.ravel() == 0\n",
    "bad_customers = ~good_customers\n",
    "dataset_homecredit_aif_2.labels[good_customers] = np.array([1])\n",
    "dataset_homecredit_aif_2.labels[bad_customers] = np.array([0])\n",
    "    \n",
    "dataset_homecredit_aif_2.favorable_label = 1\n",
    "dataset_homecredit_aif_2.unfavorable_label = 0\n",
    "    \n",
    "# Separamos el conjunto de datos en train, validate, test\n",
    "data_train, vt = dataset_homecredit_aif.split([0.7], shuffle=True, seed=seed)\n",
    "data_val, data_test = vt.split([0.5], shuffle=True, seed=seed)\n",
    "\n",
    "data_train2, vt2 = dataset_homecredit_aif_2.split([0.7], shuffle=True, seed=seed)\n",
    "data_val2, data_test2 = vt2.split([0.5], shuffle=True, seed=seed)\n",
    "\n",
    "# Obtenemos los indicadores del grupo sensible\n",
    "sensitive_attribute = dataset_homecredit_aif.protected_attribute_names[0] # age\n",
    "privileged_groups, unprivileged_groups = utils.get_privileged_groups(dataset_homecredit_aif)\n",
    "\n",
    "print(f'Dimensiones del conjunto de datos: {dataset_homecredit_aif.features.shape}')\n",
    "print(\"Grupos privilegiados:\", privileged_groups)\n",
    "print(\"Grupos no privilegiados:\", unprivileged_groups)\n",
    "print(\"Label del grupo favorable:\", dataset_homecredit_aif.favorable_label)\n",
    "print(\"Label del grupo desfavorable:\", dataset_homecredit_aif.unfavorable_label) "
   ]
  },
  {
   "cell_type": "markdown",
   "id": "cc846922-b51e-42f7-ba70-f80176d8c20e",
   "metadata": {},
   "source": [
    "## Modelos\n",
    "Para esta sección, creamos un diccionario de métricas y modelos para poder acceder los resultados de todos los modelos."
   ]
  },
  {
   "cell_type": "code",
   "execution_count": 5,
   "id": "61957d07-fe06-40c8-9176-65bb30e28891",
   "metadata": {
    "tags": []
   },
   "outputs": [],
   "source": [
    "# Inicializamos diccionarios\n",
    "models = dict()\n",
    "\n",
    "# Rango de umbrales para evaluar el score de los modelos\n",
    "thresh_sweep = np.linspace(0.01, 1.0, 50)\n",
    "\n",
    "metrics_sweep = dict()\n",
    "\n",
    "# Store results from validation and test\n",
    "metrics_best_thresh_validate = dict()\n",
    "metrics_best_thresh_test = dict()"
   ]
  },
  {
   "cell_type": "markdown",
   "id": "7fd3e46d-a36f-4124-aa39-5b33e2b11e3d",
   "metadata": {},
   "source": [
    "### Regresión Logística"
   ]
  },
  {
   "cell_type": "code",
   "execution_count": 6,
   "id": "e6c59d73-fc36-4e01-97ea-90d58ca0bfc6",
   "metadata": {
    "tags": []
   },
   "outputs": [
    {
     "name": "stdout",
     "output_type": "stream",
     "text": [
      "CPU times: user 2.81 s, sys: 2.85 s, total: 5.67 s\n",
      "Wall time: 5.68 s\n"
     ]
    }
   ],
   "source": [
    "%%time \n",
    "\n",
    "# Nombramos al modelo\n",
    "model_name = 'logistic_regression'\n",
    "fairness_method = ''\n",
    "\n",
    "# Hacemos una copia de los datasets\n",
    "data_train_copy, data_val_copy, data_test_copy = data_train.copy(deepcopy=True), data_val.copy(deepcopy=True), data_test.copy(deepcopy=True)\n",
    "data_train2_copy, data_val2_copy, data_test2_copy = data_train2.copy(deepcopy=True), data_val2.copy(deepcopy=True), data_test2.copy(deepcopy=True)\n",
    "\n",
    "# Parámetros del modelo\n",
    "fit_params = {'logisticregression__sample_weight': data_train_copy.instance_weights}\n",
    "\n",
    "# Asignamos el modelo al diccionario\n",
    "models[model_name+fairness_method] = make_pipeline(\n",
    "            #StandardScaler(),\n",
    "            LogisticRegression(solver='liblinear', random_state=seed))\n",
    "\n",
    "# Entrenamos el modelo\n",
    "models[model_name+fairness_method] = models[model_name+fairness_method].fit(data_train_copy.features, data_train_copy.labels.ravel(), **fit_params)"
   ]
  },
  {
   "cell_type": "code",
   "execution_count": 7,
   "id": "557d01f4-0db7-456e-ad01-c7b9b304bfd7",
   "metadata": {
    "tags": []
   },
   "outputs": [
    {
     "data": {
      "text/markdown": [
       "**Validation set results**"
      ],
      "text/plain": [
       "<IPython.core.display.Markdown object>"
      ]
     },
     "metadata": {},
     "output_type": "display_data"
    },
    {
     "name": "stdout",
     "output_type": "stream",
     "text": [
      "Threshold corresponding to *best balanced accuracy*: 0.9394\n",
      "AUC: 0.6035\n",
      "Balanced accuracy: 0.5863\n",
      "Accuracy: 0.4587\n",
      "Independence ( |ΔP(Y_pred = 1)| ): 0.4089\n",
      "Separation ( |ΔFPR + ΔFNR|/2 ): 0.1921\n",
      "Sufficiency ( |ΔPPV| ) : 0.9557\n",
      "CPU times: user 26.6 s, sys: 35.5 s, total: 1min 2s\n",
      "Wall time: 55.4 s\n"
     ]
    },
    {
     "data": {
      "image/png": "[encoded data removed]",
      "text/plain": [
       "<Figure size 640x480 with 2 Axes>"
      ]
     },
     "execution_count": 7,
     "metadata": {},
     "output_type": "execute_result"
    }
   ],
   "source": [
    "%%time \n",
    "\n",
    "# Evaluamos al modelo para un rango de umbrales\n",
    "metrics_sweep[model_name+fairness_method] = utils.metrics_threshold_sweep_mult(\n",
    "    dataset=data_val_copy, \n",
    "    dataset2=data_val2_copy,\n",
    "    model=models[model_name+fairness_method],\n",
    "    thresh_arr=thresh_sweep\n",
    ")\n",
    "\n",
    "# Evaluamos las métricas para el mejor umbral\n",
    "metrics_best_thresh_validate[model_name+fairness_method] = utils.describe_metrics(metrics_sweep[model_name+fairness_method])\n",
    "\n",
    "# Usando el mejor umbral, calculamos las métricas en el test set\n",
    "metrics_best_thresh_test[model_name+fairness_method] = utils.compute_metrics_mult(\n",
    "    dataset=data_test_copy, \n",
    "    dataset2=data_test2_copy,\n",
    "    model=models[model_name+fairness_method], \n",
    "    threshold=metrics_best_thresh_validate[model_name+fairness_method]['best_threshold'])\n",
    "\n",
    "display(Markdown(\"**Validation set results**\"))\n",
    "utils.print_metrics(metrics_best_thresh_validate[model_name+fairness_method])\n",
    "\n",
    "# Graficamos el comportamiento del modelo para el rango de umbrales \n",
    "# utils.plot_fairness_and_accuracy(metrics_sweep[model_name+fairness_method])\n",
    "# plt.title(model_name+fairness_method)\n",
    "\n",
    "f,a = utils.plot_fairness_and_accuracy(metrics_sweep[model_name+fairness_method])\n",
    "a.set_title(model_name+fairness_method)\n",
    "f"
   ]
  },
  {
   "cell_type": "code",
   "execution_count": 8,
   "id": "bb82f0f9-6553-4d42-b659-e20ebddee999",
   "metadata": {
    "tags": []
   },
   "outputs": [
    {
     "data": {
      "text/markdown": [
       "**Test set results**"
      ],
      "text/plain": [
       "<IPython.core.display.Markdown object>"
      ]
     },
     "metadata": {},
     "output_type": "display_data"
    },
    {
     "name": "stdout",
     "output_type": "stream",
     "text": [
      "Threshold corresponding to *best balanced accuracy*: 0.9394\n",
      "AUC: 0.6302\n",
      "Balanced accuracy: 0.5756\n",
      "Accuracy: 0.4440\n",
      "Independence ( |ΔP(Y_pred = 1)| ): 0.4185\n",
      "Separation ( |ΔFPR + ΔFNR|/2 ): 0.0763\n",
      "Sufficiency ( |ΔPPV| ) : 0.9439\n"
     ]
    }
   ],
   "source": [
    "display(Markdown(\"**Test set results**\"))\n",
    "utils.print_metrics(metrics_best_thresh_test[model_name+fairness_method])"
   ]
  },
  {
   "cell_type": "markdown",
   "id": "539925b5-4481-46e0-832e-d41283b676c8",
   "metadata": {},
   "source": [
    "### XGBoost"
   ]
  },
  {
   "cell_type": "code",
   "execution_count": 9,
   "id": "fa5ec750-56cf-46b2-a45b-2f7716a3b040",
   "metadata": {
    "tags": []
   },
   "outputs": [
    {
     "name": "stdout",
     "output_type": "stream",
     "text": [
      "CPU times: user 48min 2s, sys: 3.27 s, total: 48min 6s\n",
      "Wall time: 2min 21s\n"
     ]
    }
   ],
   "source": [
    "%%time \n",
    "\n",
    "# Nombramos al modelo\n",
    "model_name = 'xgb_classifier'\n",
    "fairness_method = ''\n",
    "\n",
    "# Parámetros del modelo\n",
    "fit_params = {'eval_metric': 'error', 'eta':0.1, 'max_depth':6, 'subsample':0.8}\n",
    "\n",
    "# Asignamos el modelo al diccionario\n",
    "models[model_name+fairness_method] = XGBClassifier(**fit_params)\n",
    "\n",
    "# Entrenamos el modelo\n",
    "models[model_name+fairness_method] = models[model_name+fairness_method].fit(data_train_copy.features, data_train_copy.labels.ravel())"
   ]
  },
  {
   "cell_type": "code",
   "execution_count": 10,
   "id": "68c37c70-85a5-4330-b914-65af16874160",
   "metadata": {
    "tags": []
   },
   "outputs": [
    {
     "data": {
      "text/markdown": [
       "**Validation set results**"
      ],
      "text/plain": [
       "<IPython.core.display.Markdown object>"
      ]
     },
     "metadata": {},
     "output_type": "display_data"
    },
    {
     "name": "stdout",
     "output_type": "stream",
     "text": [
      "Threshold corresponding to *best balanced accuracy*: 0.9798\n",
      "AUC: 0.7285\n",
      "Balanced accuracy: 0.6730\n",
      "Accuracy: 0.5147\n",
      "Independence ( |ΔP(Y_pred = 1)| ): 0.3173\n",
      "Separation ( |ΔFPR + ΔFNR|/2 ): 0.2086\n",
      "Sufficiency ( |ΔPPV| ) : 0.1794\n",
      "CPU times: user 26.7 s, sys: 23.8 s, total: 50.4 s\n",
      "Wall time: 50.7 s\n"
     ]
    },
    {
     "data": {
      "image/png": "[encoded data removed]",
      "text/plain": [
       "<Figure size 640x480 with 2 Axes>"
      ]
     },
     "execution_count": 10,
     "metadata": {},
     "output_type": "execute_result"
    }
   ],
   "source": [
    "%%time \n",
    "\n",
    "# Evaluamos al modelo para un rango de umbrales\n",
    "metrics_sweep[model_name+fairness_method] = utils.metrics_threshold_sweep_mult(\n",
    "    dataset=data_val_copy,\n",
    "    dataset2=data_val2_copy,\n",
    "    model=models[model_name+fairness_method],\n",
    "    thresh_arr=thresh_sweep\n",
    ")\n",
    "\n",
    "# Evaluamos las métricas para el mejor umbral\n",
    "metrics_best_thresh_validate[model_name+fairness_method] = utils.describe_metrics(metrics_sweep[model_name+fairness_method])\n",
    "\n",
    "# Usando el mejor umbral, calculamos las métricas en el test set\n",
    "metrics_best_thresh_test[model_name+fairness_method] = utils.compute_metrics_mult(\n",
    "    dataset=data_test_copy, \n",
    "    dataset2=data_test2_copy,\n",
    "    model=models[model_name+fairness_method], \n",
    "    threshold=metrics_best_thresh_validate[model_name+fairness_method]['best_threshold'])\n",
    "\n",
    "display(Markdown(\"**Validation set results**\"))\n",
    "utils.print_metrics(metrics_best_thresh_validate[model_name+fairness_method])\n",
    "\n",
    "# Graficamos el comportamiento del modelo para el rango de umbrales \n",
    "# utils.plot_fairness_and_accuracy(metrics_sweep[model_name+fairness_method])\n",
    "# plt.title(model_name+fairness_method)\n",
    "\n",
    "f,a = utils.plot_fairness_and_accuracy(metrics_sweep[model_name+fairness_method])\n",
    "a.set_title(model_name+fairness_method)\n",
    "f\n"
   ]
  },
  {
   "cell_type": "code",
   "execution_count": 11,
   "id": "e28313bf-3f5f-4d69-aa4f-4e6c3d12cdbd",
   "metadata": {
    "tags": []
   },
   "outputs": [
    {
     "data": {
      "text/markdown": [
       "**Test set results**"
      ],
      "text/plain": [
       "<IPython.core.display.Markdown object>"
      ]
     },
     "metadata": {},
     "output_type": "display_data"
    },
    {
     "name": "stdout",
     "output_type": "stream",
     "text": [
      "Threshold corresponding to *best balanced accuracy*: 0.9798\n",
      "AUC: 0.8072\n",
      "Balanced accuracy: 0.7180\n",
      "Accuracy: 0.5360\n",
      "Independence ( |ΔP(Y_pred = 1)| ): 0.4381\n",
      "Separation ( |ΔFPR + ΔFNR|/2 ): 0.2026\n",
      "Sufficiency ( |ΔPPV| ) : 0.0116\n"
     ]
    }
   ],
   "source": [
    "display(Markdown(\"**Test set results**\"))\n",
    "utils.print_metrics(metrics_best_thresh_test[model_name+fairness_method])"
   ]
  },
  {
   "cell_type": "markdown",
   "id": "f721603e-0d73-4acd-972f-f76227b22e5b",
   "metadata": {
    "tags": []
   },
   "source": [
    "## Técnicas de preprocesado"
   ]
  },
  {
   "cell_type": "markdown",
   "id": "9713b654-db5a-485f-a78f-ed5b7f26e663",
   "metadata": {
    "tags": []
   },
   "source": [
    "### Reponderación"
   ]
  },
  {
   "cell_type": "code",
   "execution_count": 12,
   "id": "76abe48e-485d-49b8-a384-032453f9a579",
   "metadata": {
    "tags": []
   },
   "outputs": [
    {
     "name": "stdout",
     "output_type": "stream",
     "text": [
      "CPU times: user 4.45 s, sys: 3.86 s, total: 8.31 s\n",
      "Wall time: 11.1 s\n"
     ]
    }
   ],
   "source": [
    "%%time \n",
    "# Nombramos al modelo\n",
    "fairness_method = '_reweighting'\n",
    "\n",
    "# Hacemos una copia de los datasets\n",
    "data_train_copy, data_val_copy, data_test_copy = data_train.copy(deepcopy=True), data_val.copy(deepcopy=True), data_test.copy(deepcopy=True)\n",
    "data_train2_copy, data_val2_copy, data_test2_copy = data_train2.copy(deepcopy=True), data_val2.copy(deepcopy=True), data_test2.copy(deepcopy=True)\n",
    "\n",
    "# Hacemos el pre-procesado al conjunto train\n",
    "# Inicializamos la clase de pre-procesado \n",
    "PreProcessor = Reweighing(\n",
    "    unprivileged_groups=unprivileged_groups,\n",
    "    privileged_groups=privileged_groups\n",
    ")\n",
    "# Pre-procesamos (modifica los datos)\n",
    "PreProcessor.fit(data_train_copy)\n",
    "\n",
    "data_train_copy = PreProcessor.transform(data_train_copy)\n",
    "data_val_copy = PreProcessor.transform(data_val_copy)\n",
    "data_test_copy = PreProcessor.transform(data_test_copy)"
   ]
  },
  {
   "cell_type": "markdown",
   "id": "218cc5fc-cfc0-4bc1-9cfc-b93eed8b0215",
   "metadata": {},
   "source": [
    "De aquí en adelante, se aplica el modelo de preferencia de manera estándar"
   ]
  },
  {
   "cell_type": "code",
   "execution_count": 13,
   "id": "5301d39c-1a7d-4119-b850-9b5dd8424826",
   "metadata": {
    "tags": []
   },
   "outputs": [
    {
     "data": {
      "text/markdown": [
       "**Validation set results**"
      ],
      "text/plain": [
       "<IPython.core.display.Markdown object>"
      ]
     },
     "metadata": {},
     "output_type": "display_data"
    },
    {
     "name": "stdout",
     "output_type": "stream",
     "text": [
      "Threshold corresponding to *best balanced accuracy*: 0.9394\n",
      "AUC: 0.6025\n",
      "Balanced accuracy: 0.5841\n",
      "Accuracy: 0.4547\n",
      "Independence ( |ΔP(Y_pred = 1)| ): 0.4047\n",
      "Separation ( |ΔFPR + ΔFNR|/2 ): 0.1899\n",
      "Sufficiency ( |ΔPPV| ) : 0.9553\n",
      "CPU times: user 25.4 s, sys: 24.6 s, total: 50 s\n",
      "Wall time: 1min 10s\n"
     ]
    },
    {
     "data": {
      "image/png": "[encoded data removed]",
      "text/plain": [
       "<Figure size 640x480 with 2 Axes>"
      ]
     },
     "execution_count": 13,
     "metadata": {},
     "output_type": "execute_result"
    }
   ],
   "source": [
    "%%time \n",
    "\n",
    "# Regresión logística\n",
    "model_name = 'logistic_regression'\n",
    "\n",
    "# Parámetros del modelo\n",
    "fit_params = {'logisticregression__sample_weight': data_train_copy.instance_weights}\n",
    "\n",
    "# Asignamos el modelo al diccionario\n",
    "models[model_name+fairness_method] = make_pipeline(\n",
    "            #StandardScaler(),\n",
    "            LogisticRegression(solver='liblinear', random_state=seed))\n",
    "\n",
    "# Entrenamos el modelo\n",
    "models[model_name+fairness_method] = models[model_name+fairness_method].fit(data_train_copy.features, data_train_copy.labels.ravel(), **fit_params)\n",
    "\n",
    "# Evaluamos al modelo para un rango de umbrales\n",
    "metrics_sweep[model_name+fairness_method] = utils.metrics_threshold_sweep_mult(\n",
    "    dataset=data_val_copy,\n",
    "    dataset2=data_val2_copy,\n",
    "    model=models[model_name+fairness_method],\n",
    "    thresh_arr=thresh_sweep\n",
    ")\n",
    "\n",
    "# Evaluamos las métricas para el mejor umbral\n",
    "metrics_best_thresh_validate[model_name+fairness_method] = utils.describe_metrics(metrics_sweep[model_name+fairness_method])\n",
    "\n",
    "# Usando el mejor umbral, calculamos las métricas en el test set\n",
    "metrics_best_thresh_test[model_name+fairness_method] = utils.compute_metrics_mult(\n",
    "    dataset=data_test_copy, \n",
    "    dataset2=data_test2_copy,\n",
    "    model=models[model_name+fairness_method], \n",
    "    threshold=metrics_best_thresh_validate[model_name+fairness_method]['best_threshold'])\n",
    "\n",
    "display(Markdown(\"**Validation set results**\"))\n",
    "utils.print_metrics(metrics_best_thresh_validate[model_name+fairness_method])\n",
    "\n",
    "# Graficamos el comportamiento del modelo para el rango de umbrales \n",
    "# utils.plot_fairness_and_accuracy(metrics_sweep[model_name+fairness_method])\n",
    "# plt.title(model_name+fairness_method)\n",
    "\n",
    "f,a = utils.plot_fairness_and_accuracy(metrics_sweep[model_name+fairness_method])\n",
    "a.set_title(model_name+fairness_method)\n",
    "f\n"
   ]
  },
  {
   "cell_type": "code",
   "execution_count": 14,
   "id": "e4661699-21d8-44cc-9dd0-718d3f87f8e5",
   "metadata": {
    "tags": []
   },
   "outputs": [
    {
     "data": {
      "text/markdown": [
       "**Validation set results**"
      ],
      "text/plain": [
       "<IPython.core.display.Markdown object>"
      ]
     },
     "metadata": {},
     "output_type": "display_data"
    },
    {
     "name": "stdout",
     "output_type": "stream",
     "text": [
      "Threshold corresponding to *best balanced accuracy*: 0.9798\n",
      "AUC: 0.7285\n",
      "Balanced accuracy: 0.6730\n",
      "Accuracy: 0.5147\n",
      "Independence ( |ΔP(Y_pred = 1)| ): 0.3173\n",
      "Separation ( |ΔFPR + ΔFNR|/2 ): 0.2086\n",
      "Sufficiency ( |ΔPPV| ) : 0.1794\n",
      "CPU times: user 46min 48s, sys: 29.2 s, total: 47min 17s\n",
      "Wall time: 2min 59s\n"
     ]
    },
    {
     "data": {
      "image/png": "[encoded data removed]",
      "text/plain": [
       "<Figure size 640x480 with 2 Axes>"
      ]
     },
     "execution_count": 14,
     "metadata": {},
     "output_type": "execute_result"
    }
   ],
   "source": [
    "%%time \n",
    "\n",
    "# Nombramos al modelo\n",
    "model_name = 'xgb_classifier'\n",
    "\n",
    "# Parámetros del modelo\n",
    "fit_params = {'eval_metric': 'error', 'eta':0.1, 'max_depth':6, 'subsample':0.8}\n",
    "\n",
    "# Asignamos el modelo al diccionario\n",
    "models[model_name+fairness_method] = XGBClassifier(**fit_params)\n",
    "\n",
    "# Entrenamos el modelo\n",
    "models[model_name+fairness_method] = models[model_name+fairness_method].fit(data_train_copy.features, data_train_copy.labels.ravel())\n",
    "\n",
    "# Evaluamos al modelo para un rango de umbrales\n",
    "metrics_sweep[model_name+fairness_method] = utils.metrics_threshold_sweep_mult(\n",
    "    dataset=data_val_copy,\n",
    "    dataset2=data_val2_copy,\n",
    "    model=models[model_name+fairness_method],\n",
    "    thresh_arr=thresh_sweep\n",
    ")\n",
    "\n",
    "# Evaluamos las métricas para el mejor umbral\n",
    "metrics_best_thresh_validate[model_name+fairness_method] = utils.describe_metrics(metrics_sweep[model_name+fairness_method])\n",
    "\n",
    "# Usando el mejor umbral, calculamos las métricas en el test set\n",
    "metrics_best_thresh_test[model_name+fairness_method] = utils.compute_metrics_mult(\n",
    "    dataset=data_test_copy, \n",
    "    dataset2=data_test2_copy,\n",
    "    model=models[model_name+fairness_method], \n",
    "    threshold=metrics_best_thresh_validate[model_name+fairness_method]['best_threshold'])\n",
    "\n",
    "display(Markdown(\"**Validation set results**\"))\n",
    "utils.print_metrics(metrics_best_thresh_validate[model_name+fairness_method])\n",
    "\n",
    "# Graficamos el comportamiento del modelo para el rango de umbrales \n",
    "# utils.plot_fairness_and_accuracy(metrics_sweep[model_name+fairness_method])\n",
    "# plt.title(model_name+fairness_method)\n",
    "\n",
    "f,a = utils.plot_fairness_and_accuracy(metrics_sweep[model_name+fairness_method])\n",
    "a.set_title(model_name+fairness_method)\n",
    "f\n"
   ]
  },
  {
   "cell_type": "markdown",
   "id": "f3ac1ebc-5d89-4e3d-897e-cd44e7e7371f",
   "metadata": {
    "tags": []
   },
   "source": [
    "### Eliminador de impacto dispar"
   ]
  },
  {
   "cell_type": "code",
   "execution_count": 15,
   "id": "02a243f6",
   "metadata": {
    "tags": []
   },
   "outputs": [
    {
     "name": "stdout",
     "output_type": "stream",
     "text": [
      "CPU times: user 8.58 s, sys: 3.17 s, total: 11.7 s\n",
      "Wall time: 15.1 s\n"
     ]
    }
   ],
   "source": [
    "%%time \n",
    "# Nombramos al modelo\n",
    "fairness_method = '_di_remover'\n",
    "\n",
    "# Hacemos una copia de los datasets\n",
    "data_train_copy, data_val_copy, data_test_copy = data_train.copy(deepcopy=True), data_val.copy(deepcopy=True), data_test.copy(deepcopy=True)\n",
    "data_train2_copy, data_val2_copy, data_test2_copy = data_train2.copy(deepcopy=True), data_val2.copy(deepcopy=True), data_test2.copy(deepcopy=True)\n",
    "\n",
    "# Parámetros del modelo\n",
    "nivel_reparacion = 0.5 # un valor 0 inidica ausencia de reparación (datos se mantienen igual) \n",
    "                       # un valor 1 indica reparación completa (se puede perder nivel predictivo).\n",
    "                       # Se puede establecer cualquier valor entre 0 y 1.\n",
    "\n",
    "# Hacemos el pre-procesado al conjunto train\n",
    "# Inicializamos la clase de pre-procesado \n",
    "PreProcessor = DisparateImpactRemover(\n",
    "    repair_level=nivel_reparacion,\n",
    "    sensitive_attribute=sensitive_attribute\n",
    ")\n",
    "# Pre-procesamos (modifica los datos)\n",
    "PreProcessor.fit_transform(data_train_copy)\n",
    "\n",
    "data_train_copy = PreProcessor.fit_transform(data_train_copy)\n",
    "data_val_copy = PreProcessor.fit_transform(data_val_copy)\n",
    "data_test_copy = PreProcessor.fit_transform(data_test_copy)"
   ]
  },
  {
   "cell_type": "markdown",
   "id": "d8b1136b",
   "metadata": {},
   "source": [
    "Aplicamos los métodos de regresión logística y XGBoost"
   ]
  },
  {
   "cell_type": "code",
   "execution_count": 16,
   "id": "f31a7298",
   "metadata": {
    "tags": []
   },
   "outputs": [
    {
     "data": {
      "text/markdown": [
       "**Validation set results**"
      ],
      "text/plain": [
       "<IPython.core.display.Markdown object>"
      ]
     },
     "metadata": {},
     "output_type": "display_data"
    },
    {
     "name": "stdout",
     "output_type": "stream",
     "text": [
      "Threshold corresponding to *best balanced accuracy*: 0.9394\n",
      "AUC: 0.5922\n",
      "Balanced accuracy: 0.5743\n",
      "Accuracy: 0.4960\n",
      "Independence ( |ΔP(Y_pred = 1)| ): 0.3284\n",
      "Separation ( |ΔFPR + ΔFNR|/2 ): 0.2295\n",
      "Sufficiency ( |ΔPPV| ) : 0.3511\n",
      "CPU times: user 25.9 s, sys: 28.7 s, total: 54.6 s\n",
      "Wall time: 56 s\n"
     ]
    },
    {
     "data": {
      "image/png": "[encoded data removed]",
      "text/plain": [
       "<Figure size 640x480 with 2 Axes>"
      ]
     },
     "execution_count": 16,
     "metadata": {},
     "output_type": "execute_result"
    }
   ],
   "source": [
    "%%time \n",
    "# Regresión logística\n",
    "model_name = 'logistic_regression'\n",
    "\n",
    "# Parámetros del modelo\n",
    "fit_params = {'logisticregression__sample_weight': data_train_copy.instance_weights}\n",
    "\n",
    "# Asignamos el modelo al diccionario\n",
    "models[model_name+fairness_method] = make_pipeline(\n",
    "            #StandardScaler(),\n",
    "            LogisticRegression(solver='liblinear', random_state=seed))\n",
    "\n",
    "# Entrenamos el modelo\n",
    "models[model_name+fairness_method] = models[model_name+fairness_method].fit(data_train_copy.features, data_train_copy.labels.ravel(), **fit_params)\n",
    "\n",
    "# Evaluamos al modelo para un rango de umbrales\n",
    "metrics_sweep[model_name+fairness_method] = utils.metrics_threshold_sweep_mult(\n",
    "    dataset=data_val_copy,\n",
    "    dataset2=data_val2_copy,\n",
    "    model=models[model_name+fairness_method],\n",
    "    thresh_arr=thresh_sweep\n",
    ")\n",
    "\n",
    "# Evaluamos las métricas para el mejor umbral\n",
    "metrics_best_thresh_validate[model_name+fairness_method] = utils.describe_metrics(metrics_sweep[model_name+fairness_method])\n",
    "\n",
    "# Usando el mejor umbral, calculamos las métricas en el test set\n",
    "metrics_best_thresh_test[model_name+fairness_method] = utils.compute_metrics_mult(\n",
    "    dataset=data_test_copy, \n",
    "    dataset2=data_test2_copy,\n",
    "    model=models[model_name+fairness_method], \n",
    "    threshold=metrics_best_thresh_validate[model_name+fairness_method]['best_threshold'])\n",
    "\n",
    "display(Markdown(\"**Validation set results**\"))\n",
    "utils.print_metrics(metrics_best_thresh_validate[model_name+fairness_method])\n",
    "\n",
    "# Graficamos el comportamiento del modelo para el rango de umbrales \n",
    "# utils.plot_fairness_and_accuracy(metrics_sweep[model_name+fairness_method])\n",
    "# plt.title(model_name+fairness_method)\n",
    "\n",
    "f,a = utils.plot_fairness_and_accuracy(metrics_sweep[model_name+fairness_method])\n",
    "a.set_title(model_name+fairness_method)\n",
    "f"
   ]
  },
  {
   "cell_type": "code",
   "execution_count": 17,
   "id": "22155db2",
   "metadata": {
    "tags": []
   },
   "outputs": [
    {
     "data": {
      "text/markdown": [
       "**Validation set results**"
      ],
      "text/plain": [
       "<IPython.core.display.Markdown object>"
      ]
     },
     "metadata": {},
     "output_type": "display_data"
    },
    {
     "name": "stdout",
     "output_type": "stream",
     "text": [
      "Threshold corresponding to *best balanced accuracy*: 0.9798\n",
      "AUC: 0.6661\n",
      "Balanced accuracy: 0.5870\n",
      "Accuracy: 0.6533\n",
      "Independence ( |ΔP(Y_pred = 1)| ): 0.3220\n",
      "Separation ( |ΔFPR + ΔFNR|/2 ): 0.1227\n",
      "Sufficiency ( |ΔPPV| ) : 0.1274\n",
      "CPU times: user 46min 15s, sys: 21.6 s, total: 46min 37s\n",
      "Wall time: 4min\n"
     ]
    },
    {
     "data": {
      "image/png": "[encoded data removed]",
      "text/plain": [
       "<Figure size 640x480 with 2 Axes>"
      ]
     },
     "execution_count": 17,
     "metadata": {},
     "output_type": "execute_result"
    }
   ],
   "source": [
    "%%time \n",
    "\n",
    "# Nombramos al modelo\n",
    "model_name = 'xgb_classifier'\n",
    "\n",
    "# Parámetros del modelo\n",
    "fit_params = {'eval_metric': 'error', 'eta':0.1, 'max_depth':6, 'subsample':0.8}\n",
    "\n",
    "# Asignamos el modelo al diccionario\n",
    "models[model_name+fairness_method] = XGBClassifier(**fit_params)\n",
    "\n",
    "# Entrenamos el modelo\n",
    "models[model_name+fairness_method] = models[model_name+fairness_method].fit(data_train_copy.features, data_train_copy.labels.ravel())\n",
    "\n",
    "# Evaluamos al modelo para un rango de umbrales\n",
    "metrics_sweep[model_name+fairness_method] = utils.metrics_threshold_sweep_mult(\n",
    "    dataset=data_val_copy,\n",
    "    dataset2=data_val2_copy,\n",
    "    model=models[model_name+fairness_method],\n",
    "    thresh_arr=thresh_sweep\n",
    ")\n",
    "\n",
    "# Evaluamos las métricas para el mejor umbral\n",
    "metrics_best_thresh_validate[model_name+fairness_method] = utils.describe_metrics(metrics_sweep[model_name+fairness_method])\n",
    "\n",
    "\n",
    "# Usando el mejor umbral, calculamos las métricas en el test set\n",
    "metrics_best_thresh_test[model_name+fairness_method] = utils.compute_metrics_mult(\n",
    "    dataset=data_test_copy, \n",
    "    dataset2=data_test2_copy,\n",
    "    model=models[model_name+fairness_method], \n",
    "    threshold=metrics_best_thresh_validate[model_name+fairness_method]['best_threshold'])\n",
    "\n",
    "display(Markdown(\"**Validation set results**\"))\n",
    "utils.print_metrics(metrics_best_thresh_validate[model_name+fairness_method])\n",
    "\n",
    "# Graficamos el comportamiento del modelo para el rango de umbrales \n",
    "# utils.plot_fairness_and_accuracy(metrics_sweep[model_name+fairness_method])\n",
    "# plt.title(model_name+fairness_method)\n",
    "\n",
    "f,a = utils.plot_fairness_and_accuracy(metrics_sweep[model_name+fairness_method])\n",
    "a.set_title(model_name+fairness_method)\n",
    "f\n"
   ]
  },
  {
   "cell_type": "markdown",
   "id": "996c4d10-fc48-4210-8f95-9253bfaab37d",
   "metadata": {
    "tags": []
   },
   "source": [
    "## Técnicas de inprocesado"
   ]
  },
  {
   "cell_type": "markdown",
   "id": "817df1d7-539c-4cca-ad6b-bf55dce77e60",
   "metadata": {
    "tags": []
   },
   "source": [
    "### Eliminador de prejuicios por regularización"
   ]
  },
  {
   "cell_type": "code",
   "execution_count": 18,
   "id": "b167fbe7-176e-4e7a-9863-91fd4d16eb20",
   "metadata": {
    "tags": []
   },
   "outputs": [
    {
     "ename": "FileNotFoundError",
     "evalue": "[Errno 2] No such file or directory: 'python'",
     "output_type": "error",
     "traceback": [
      "\u001b[0;31m---------------------------------------------------------------------------\u001b[0m",
      "\u001b[0;31mFileNotFoundError\u001b[0m                         Traceback (most recent call last)",
      "File \u001b[0;32m<timed exec>:15\u001b[0m\n",
      "File \u001b[0;32m~/miniconda3/envs/aif360/lib/python3.9/site-packages/aif360/algorithms/transformer.py:27\u001b[0m, in \u001b[0;36maddmetadata.<locals>.wrapper\u001b[0;34m(self, *args, **kwargs)\u001b[0m\n\u001b[1;32m     25\u001b[0m \u001b[38;5;129m@wraps\u001b[39m(func)\n\u001b[1;32m     26\u001b[0m \u001b[38;5;28;01mdef\u001b[39;00m \u001b[38;5;21mwrapper\u001b[39m(\u001b[38;5;28mself\u001b[39m, \u001b[38;5;241m*\u001b[39margs, \u001b[38;5;241m*\u001b[39m\u001b[38;5;241m*\u001b[39mkwargs):\n\u001b[0;32m---> 27\u001b[0m     new_dataset \u001b[38;5;241m=\u001b[39m \u001b[43mfunc\u001b[49m\u001b[43m(\u001b[49m\u001b[38;5;28;43mself\u001b[39;49m\u001b[43m,\u001b[49m\u001b[43m \u001b[49m\u001b[38;5;241;43m*\u001b[39;49m\u001b[43margs\u001b[49m\u001b[43m,\u001b[49m\u001b[43m \u001b[49m\u001b[38;5;241;43m*\u001b[39;49m\u001b[38;5;241;43m*\u001b[39;49m\u001b[43mkwargs\u001b[49m\u001b[43m)\u001b[49m\n\u001b[1;32m     28\u001b[0m     \u001b[38;5;28;01mif\u001b[39;00m \u001b[38;5;28misinstance\u001b[39m(new_dataset, Dataset):\n\u001b[1;32m     29\u001b[0m         new_dataset\u001b[38;5;241m.\u001b[39mmetadata \u001b[38;5;241m=\u001b[39m new_dataset\u001b[38;5;241m.\u001b[39mmetadata\u001b[38;5;241m.\u001b[39mcopy()\n",
      "File \u001b[0;32m~/miniconda3/envs/aif360/lib/python3.9/site-packages/aif360/algorithms/inprocessing/prejudice_remover.py:160\u001b[0m, in \u001b[0;36mPrejudiceRemover.fit\u001b[0;34m(self, dataset)\u001b[0m\n\u001b[1;32m    156\u001b[0m train_pr \u001b[38;5;241m=\u001b[39m os\u001b[38;5;241m.\u001b[39mpath\u001b[38;5;241m.\u001b[39mjoin(k_path, \u001b[38;5;124m'\u001b[39m\u001b[38;5;124mkamfadm-2012ecmlpkdd\u001b[39m\u001b[38;5;124m'\u001b[39m, \u001b[38;5;124m'\u001b[39m\u001b[38;5;124mtrain_pr.py\u001b[39m\u001b[38;5;124m'\u001b[39m)\n\u001b[1;32m    157\u001b[0m \u001b[38;5;66;03m# changed paths in the calls below to (a) specify path of train_pr,\u001b[39;00m\n\u001b[1;32m    158\u001b[0m \u001b[38;5;66;03m# predict_lr RELATIVE to this file, and (b) compute & use absolute path\u001b[39;00m\n\u001b[1;32m    159\u001b[0m \u001b[38;5;66;03m#  and (c) replace python3 with python\u001b[39;00m\n\u001b[0;32m--> 160\u001b[0m \u001b[43msubprocess\u001b[49m\u001b[38;5;241;43m.\u001b[39;49m\u001b[43mcall\u001b[49m\u001b[43m(\u001b[49m\u001b[43m[\u001b[49m\u001b[38;5;124;43m'\u001b[39;49m\u001b[38;5;124;43mpython\u001b[39;49m\u001b[38;5;124;43m'\u001b[39;49m\u001b[43m,\u001b[49m\u001b[43m \u001b[49m\u001b[43mtrain_pr\u001b[49m\u001b[43m,\u001b[49m\n\u001b[1;32m    161\u001b[0m \u001b[43m                 \u001b[49m\u001b[38;5;124;43m'\u001b[39;49m\u001b[38;5;124;43m-e\u001b[39;49m\u001b[38;5;124;43m'\u001b[39;49m\u001b[43m,\u001b[49m\u001b[43m \u001b[49m\u001b[38;5;28;43mstr\u001b[39;49m\u001b[43m(\u001b[49m\u001b[38;5;28;43mself\u001b[39;49m\u001b[38;5;241;43m.\u001b[39;49m\u001b[43meta\u001b[49m\u001b[43m)\u001b[49m\u001b[43m,\u001b[49m\n\u001b[1;32m    162\u001b[0m \u001b[43m                 \u001b[49m\u001b[38;5;124;43m'\u001b[39;49m\u001b[38;5;124;43m-i\u001b[39;49m\u001b[38;5;124;43m'\u001b[39;49m\u001b[43m,\u001b[49m\u001b[43m \u001b[49m\u001b[43mtrain_name\u001b[49m\u001b[43m,\u001b[49m\n\u001b[1;32m    163\u001b[0m \u001b[43m                 \u001b[49m\u001b[38;5;124;43m'\u001b[39;49m\u001b[38;5;124;43m-o\u001b[39;49m\u001b[38;5;124;43m'\u001b[39;49m\u001b[43m,\u001b[49m\u001b[43m \u001b[49m\u001b[43mmodel_name\u001b[49m\u001b[43m,\u001b[49m\n\u001b[1;32m    164\u001b[0m \u001b[43m                 \u001b[49m\u001b[38;5;124;43m'\u001b[39;49m\u001b[38;5;124;43m--quiet\u001b[39;49m\u001b[38;5;124;43m'\u001b[39;49m\u001b[43m]\u001b[49m\u001b[43m)\u001b[49m\n\u001b[1;32m    165\u001b[0m os\u001b[38;5;241m.\u001b[39munlink(train_name)\n\u001b[1;32m    167\u001b[0m \u001b[38;5;28mself\u001b[39m\u001b[38;5;241m.\u001b[39mmodel_name \u001b[38;5;241m=\u001b[39m model_name\n",
      "File \u001b[0;32m~/miniconda3/envs/aif360/lib/python3.9/subprocess.py:349\u001b[0m, in \u001b[0;36mcall\u001b[0;34m(timeout, *popenargs, **kwargs)\u001b[0m\n\u001b[1;32m    341\u001b[0m \u001b[38;5;28;01mdef\u001b[39;00m \u001b[38;5;21mcall\u001b[39m(\u001b[38;5;241m*\u001b[39mpopenargs, timeout\u001b[38;5;241m=\u001b[39m\u001b[38;5;28;01mNone\u001b[39;00m, \u001b[38;5;241m*\u001b[39m\u001b[38;5;241m*\u001b[39mkwargs):\n\u001b[1;32m    342\u001b[0m \u001b[38;5;250m    \u001b[39m\u001b[38;5;124;03m\"\"\"Run command with arguments.  Wait for command to complete or\u001b[39;00m\n\u001b[1;32m    343\u001b[0m \u001b[38;5;124;03m    timeout, then return the returncode attribute.\u001b[39;00m\n\u001b[1;32m    344\u001b[0m \n\u001b[0;32m   (...)\u001b[0m\n\u001b[1;32m    347\u001b[0m \u001b[38;5;124;03m    retcode = call([\"ls\", \"-l\"])\u001b[39;00m\n\u001b[1;32m    348\u001b[0m \u001b[38;5;124;03m    \"\"\"\u001b[39;00m\n\u001b[0;32m--> 349\u001b[0m     \u001b[38;5;28;01mwith\u001b[39;00m \u001b[43mPopen\u001b[49m\u001b[43m(\u001b[49m\u001b[38;5;241;43m*\u001b[39;49m\u001b[43mpopenargs\u001b[49m\u001b[43m,\u001b[49m\u001b[43m \u001b[49m\u001b[38;5;241;43m*\u001b[39;49m\u001b[38;5;241;43m*\u001b[39;49m\u001b[43mkwargs\u001b[49m\u001b[43m)\u001b[49m \u001b[38;5;28;01mas\u001b[39;00m p:\n\u001b[1;32m    350\u001b[0m         \u001b[38;5;28;01mtry\u001b[39;00m:\n\u001b[1;32m    351\u001b[0m             \u001b[38;5;28;01mreturn\u001b[39;00m p\u001b[38;5;241m.\u001b[39mwait(timeout\u001b[38;5;241m=\u001b[39mtimeout)\n",
      "File \u001b[0;32m~/miniconda3/envs/aif360/lib/python3.9/subprocess.py:951\u001b[0m, in \u001b[0;36mPopen.__init__\u001b[0;34m(self, args, bufsize, executable, stdin, stdout, stderr, preexec_fn, close_fds, shell, cwd, env, universal_newlines, startupinfo, creationflags, restore_signals, start_new_session, pass_fds, user, group, extra_groups, encoding, errors, text, umask)\u001b[0m\n\u001b[1;32m    947\u001b[0m         \u001b[38;5;28;01mif\u001b[39;00m \u001b[38;5;28mself\u001b[39m\u001b[38;5;241m.\u001b[39mtext_mode:\n\u001b[1;32m    948\u001b[0m             \u001b[38;5;28mself\u001b[39m\u001b[38;5;241m.\u001b[39mstderr \u001b[38;5;241m=\u001b[39m io\u001b[38;5;241m.\u001b[39mTextIOWrapper(\u001b[38;5;28mself\u001b[39m\u001b[38;5;241m.\u001b[39mstderr,\n\u001b[1;32m    949\u001b[0m                     encoding\u001b[38;5;241m=\u001b[39mencoding, errors\u001b[38;5;241m=\u001b[39merrors)\n\u001b[0;32m--> 951\u001b[0m     \u001b[38;5;28;43mself\u001b[39;49m\u001b[38;5;241;43m.\u001b[39;49m\u001b[43m_execute_child\u001b[49m\u001b[43m(\u001b[49m\u001b[43margs\u001b[49m\u001b[43m,\u001b[49m\u001b[43m \u001b[49m\u001b[43mexecutable\u001b[49m\u001b[43m,\u001b[49m\u001b[43m \u001b[49m\u001b[43mpreexec_fn\u001b[49m\u001b[43m,\u001b[49m\u001b[43m \u001b[49m\u001b[43mclose_fds\u001b[49m\u001b[43m,\u001b[49m\n\u001b[1;32m    952\u001b[0m \u001b[43m                        \u001b[49m\u001b[43mpass_fds\u001b[49m\u001b[43m,\u001b[49m\u001b[43m \u001b[49m\u001b[43mcwd\u001b[49m\u001b[43m,\u001b[49m\u001b[43m \u001b[49m\u001b[43menv\u001b[49m\u001b[43m,\u001b[49m\n\u001b[1;32m    953\u001b[0m \u001b[43m                        \u001b[49m\u001b[43mstartupinfo\u001b[49m\u001b[43m,\u001b[49m\u001b[43m \u001b[49m\u001b[43mcreationflags\u001b[49m\u001b[43m,\u001b[49m\u001b[43m \u001b[49m\u001b[43mshell\u001b[49m\u001b[43m,\u001b[49m\n\u001b[1;32m    954\u001b[0m \u001b[43m                        \u001b[49m\u001b[43mp2cread\u001b[49m\u001b[43m,\u001b[49m\u001b[43m \u001b[49m\u001b[43mp2cwrite\u001b[49m\u001b[43m,\u001b[49m\n\u001b[1;32m    955\u001b[0m \u001b[43m                        \u001b[49m\u001b[43mc2pread\u001b[49m\u001b[43m,\u001b[49m\u001b[43m \u001b[49m\u001b[43mc2pwrite\u001b[49m\u001b[43m,\u001b[49m\n\u001b[1;32m    956\u001b[0m \u001b[43m                        \u001b[49m\u001b[43merrread\u001b[49m\u001b[43m,\u001b[49m\u001b[43m \u001b[49m\u001b[43merrwrite\u001b[49m\u001b[43m,\u001b[49m\n\u001b[1;32m    957\u001b[0m \u001b[43m                        \u001b[49m\u001b[43mrestore_signals\u001b[49m\u001b[43m,\u001b[49m\n\u001b[1;32m    958\u001b[0m \u001b[43m                        \u001b[49m\u001b[43mgid\u001b[49m\u001b[43m,\u001b[49m\u001b[43m \u001b[49m\u001b[43mgids\u001b[49m\u001b[43m,\u001b[49m\u001b[43m \u001b[49m\u001b[43muid\u001b[49m\u001b[43m,\u001b[49m\u001b[43m \u001b[49m\u001b[43mumask\u001b[49m\u001b[43m,\u001b[49m\n\u001b[1;32m    959\u001b[0m \u001b[43m                        \u001b[49m\u001b[43mstart_new_session\u001b[49m\u001b[43m)\u001b[49m\n\u001b[1;32m    960\u001b[0m \u001b[38;5;28;01mexcept\u001b[39;00m:\n\u001b[1;32m    961\u001b[0m     \u001b[38;5;66;03m# Cleanup if the child failed starting.\u001b[39;00m\n\u001b[1;32m    962\u001b[0m     \u001b[38;5;28;01mfor\u001b[39;00m f \u001b[38;5;129;01min\u001b[39;00m \u001b[38;5;28mfilter\u001b[39m(\u001b[38;5;28;01mNone\u001b[39;00m, (\u001b[38;5;28mself\u001b[39m\u001b[38;5;241m.\u001b[39mstdin, \u001b[38;5;28mself\u001b[39m\u001b[38;5;241m.\u001b[39mstdout, \u001b[38;5;28mself\u001b[39m\u001b[38;5;241m.\u001b[39mstderr)):\n",
      "File \u001b[0;32m~/miniconda3/envs/aif360/lib/python3.9/subprocess.py:1837\u001b[0m, in \u001b[0;36mPopen._execute_child\u001b[0;34m(self, args, executable, preexec_fn, close_fds, pass_fds, cwd, env, startupinfo, creationflags, shell, p2cread, p2cwrite, c2pread, c2pwrite, errread, errwrite, restore_signals, gid, gids, uid, umask, start_new_session)\u001b[0m\n\u001b[1;32m   1835\u001b[0m     \u001b[38;5;28;01mif\u001b[39;00m errno_num \u001b[38;5;241m!=\u001b[39m \u001b[38;5;241m0\u001b[39m:\n\u001b[1;32m   1836\u001b[0m         err_msg \u001b[38;5;241m=\u001b[39m os\u001b[38;5;241m.\u001b[39mstrerror(errno_num)\n\u001b[0;32m-> 1837\u001b[0m     \u001b[38;5;28;01mraise\u001b[39;00m child_exception_type(errno_num, err_msg, err_filename)\n\u001b[1;32m   1838\u001b[0m \u001b[38;5;28;01mraise\u001b[39;00m child_exception_type(err_msg)\n",
      "\u001b[0;31mFileNotFoundError\u001b[0m: [Errno 2] No such file or directory: 'python'"
     ]
    }
   ],
   "source": [
    "%%time \n",
    "# Nombramos al modelo\n",
    "model_name = 'prejudice_remover'\n",
    "\n",
    "# Hacemos una copia de los datasets\n",
    "data_train_copy, data_val_copy, data_test_copy = data_train.copy(deepcopy=True), data_val.copy(deepcopy=True), data_test.copy(deepcopy=True)\n",
    "data_train2_copy, data_val2_copy, data_test2_copy = data_train2.copy(deepcopy=True), data_val2.copy(deepcopy=True), data_test2.copy(deepcopy=True)\n",
    "\n",
    "# Parámetros del modelo\n",
    "η = 50.0 # hyper-parameter de regularización\n",
    "\n",
    "# Inicializamos el modelo y lo asignamos al diccionario\n",
    "models[model_name] = PrejudiceRemover(sensitive_attr=sensitive_attribute, eta=η)\n",
    "\n",
    "# Entrenamos el modelo\n",
    "models[model_name] = models[model_name].fit(data_train_copy)"
   ]
  },
  {
   "cell_type": "code",
   "execution_count": 19,
   "id": "054f04f6-9903-41c5-9a27-e6c7d94e2781",
   "metadata": {
    "tags": []
   },
   "outputs": [
    {
     "ename": "AttributeError",
     "evalue": "'PrejudiceRemover' object has no attribute 'model_name'",
     "output_type": "error",
     "traceback": [
      "\u001b[0;31m---------------------------------------------------------------------------\u001b[0m",
      "\u001b[0;31mAttributeError\u001b[0m                            Traceback (most recent call last)",
      "File \u001b[0;32m~/DEFINITIVO/utils.py:583\u001b[0m, in \u001b[0;36mmetrics_threshold_sweep_mult\u001b[0;34m(dataset, dataset2, model, thresh_arr)\u001b[0m\n\u001b[1;32m    581\u001b[0m \u001b[38;5;28;01mtry\u001b[39;00m:\n\u001b[1;32m    582\u001b[0m     \u001b[38;5;66;03m# sklearn classifier\u001b[39;00m\n\u001b[0;32m--> 583\u001b[0m     y_val_pred_prob \u001b[38;5;241m=\u001b[39m \u001b[43mmodel\u001b[49m\u001b[38;5;241;43m.\u001b[39;49m\u001b[43mpredict_proba\u001b[49m(dataset\u001b[38;5;241m.\u001b[39mfeatures)\n\u001b[1;32m    584\u001b[0m     pos_ind \u001b[38;5;241m=\u001b[39m np\u001b[38;5;241m.\u001b[39mwhere(model\u001b[38;5;241m.\u001b[39mclasses_ \u001b[38;5;241m==\u001b[39m dataset\u001b[38;5;241m.\u001b[39mfavorable_label)[\u001b[38;5;241m0\u001b[39m][\u001b[38;5;241m0\u001b[39m]\n",
      "\u001b[0;31mAttributeError\u001b[0m: 'PrejudiceRemover' object has no attribute 'predict_proba'",
      "\nDuring handling of the above exception, another exception occurred:\n",
      "\u001b[0;31mAttributeError\u001b[0m                            Traceback (most recent call last)",
      "File \u001b[0;32m<timed exec>:2\u001b[0m\n",
      "File \u001b[0;32m~/DEFINITIVO/utils.py:587\u001b[0m, in \u001b[0;36mmetrics_threshold_sweep_mult\u001b[0;34m(dataset, dataset2, model, thresh_arr)\u001b[0m\n\u001b[1;32m    584\u001b[0m     pos_ind \u001b[38;5;241m=\u001b[39m np\u001b[38;5;241m.\u001b[39mwhere(model\u001b[38;5;241m.\u001b[39mclasses_ \u001b[38;5;241m==\u001b[39m dataset\u001b[38;5;241m.\u001b[39mfavorable_label)[\u001b[38;5;241m0\u001b[39m][\u001b[38;5;241m0\u001b[39m]\n\u001b[1;32m    585\u001b[0m \u001b[38;5;28;01mexcept\u001b[39;00m \u001b[38;5;167;01mAttributeError\u001b[39;00m:\n\u001b[1;32m    586\u001b[0m     \u001b[38;5;66;03m# aif360 inprocessing algorithm\u001b[39;00m\n\u001b[0;32m--> 587\u001b[0m     y_val_pred_prob \u001b[38;5;241m=\u001b[39m \u001b[43mmodel\u001b[49m\u001b[38;5;241;43m.\u001b[39;49m\u001b[43mpredict\u001b[49m\u001b[43m(\u001b[49m\u001b[43mdataset\u001b[49m\u001b[43m)\u001b[49m\u001b[38;5;241m.\u001b[39mscores\n\u001b[1;32m    588\u001b[0m     pos_ind \u001b[38;5;241m=\u001b[39m \u001b[38;5;241m0\u001b[39m\n\u001b[1;32m    590\u001b[0m \u001b[38;5;66;03m# Remove nans and turn them into score of random prediction (R=0.5)\u001b[39;00m\n",
      "File \u001b[0;32m~/miniconda3/envs/aif360/lib/python3.9/site-packages/aif360/algorithms/transformer.py:27\u001b[0m, in \u001b[0;36maddmetadata.<locals>.wrapper\u001b[0;34m(self, *args, **kwargs)\u001b[0m\n\u001b[1;32m     25\u001b[0m \u001b[38;5;129m@wraps\u001b[39m(func)\n\u001b[1;32m     26\u001b[0m \u001b[38;5;28;01mdef\u001b[39;00m \u001b[38;5;21mwrapper\u001b[39m(\u001b[38;5;28mself\u001b[39m, \u001b[38;5;241m*\u001b[39margs, \u001b[38;5;241m*\u001b[39m\u001b[38;5;241m*\u001b[39mkwargs):\n\u001b[0;32m---> 27\u001b[0m     new_dataset \u001b[38;5;241m=\u001b[39m \u001b[43mfunc\u001b[49m\u001b[43m(\u001b[49m\u001b[38;5;28;43mself\u001b[39;49m\u001b[43m,\u001b[49m\u001b[43m \u001b[49m\u001b[38;5;241;43m*\u001b[39;49m\u001b[43margs\u001b[49m\u001b[43m,\u001b[49m\u001b[43m \u001b[49m\u001b[38;5;241;43m*\u001b[39;49m\u001b[38;5;241;43m*\u001b[39;49m\u001b[43mkwargs\u001b[49m\u001b[43m)\u001b[49m\n\u001b[1;32m     28\u001b[0m     \u001b[38;5;28;01mif\u001b[39;00m \u001b[38;5;28misinstance\u001b[39m(new_dataset, Dataset):\n\u001b[1;32m     29\u001b[0m         new_dataset\u001b[38;5;241m.\u001b[39mmetadata \u001b[38;5;241m=\u001b[39m new_dataset\u001b[38;5;241m.\u001b[39mmetadata\u001b[38;5;241m.\u001b[39mcopy()\n",
      "File \u001b[0;32m~/miniconda3/envs/aif360/lib/python3.9/site-packages/aif360/algorithms/inprocessing/prejudice_remover.py:204\u001b[0m, in \u001b[0;36mPrejudiceRemover.predict\u001b[0;34m(self, dataset)\u001b[0m\n\u001b[1;32m    198\u001b[0m predict_lr \u001b[38;5;241m=\u001b[39m os\u001b[38;5;241m.\u001b[39mpath\u001b[38;5;241m.\u001b[39mjoin(k_path, \u001b[38;5;124m'\u001b[39m\u001b[38;5;124mkamfadm-2012ecmlpkdd\u001b[39m\u001b[38;5;124m'\u001b[39m, \u001b[38;5;124m'\u001b[39m\u001b[38;5;124mpredict_lr.py\u001b[39m\u001b[38;5;124m'\u001b[39m)\n\u001b[1;32m    199\u001b[0m \u001b[38;5;66;03m# changed paths in the calls below to (a) specify path of train_pr,\u001b[39;00m\n\u001b[1;32m    200\u001b[0m \u001b[38;5;66;03m# predict_lr RELATIVE to this file, and (b) compute & use absolute path,\u001b[39;00m\n\u001b[1;32m    201\u001b[0m \u001b[38;5;66;03m# and (c) replace python3 with python\u001b[39;00m\n\u001b[1;32m    202\u001b[0m subprocess\u001b[38;5;241m.\u001b[39mcall([\u001b[38;5;124m'\u001b[39m\u001b[38;5;124mpython\u001b[39m\u001b[38;5;124m'\u001b[39m, predict_lr,\n\u001b[1;32m    203\u001b[0m                  \u001b[38;5;124m'\u001b[39m\u001b[38;5;124m-i\u001b[39m\u001b[38;5;124m'\u001b[39m, test_name,\n\u001b[0;32m--> 204\u001b[0m                  \u001b[38;5;124m'\u001b[39m\u001b[38;5;124m-m\u001b[39m\u001b[38;5;124m'\u001b[39m, \u001b[38;5;28;43mself\u001b[39;49m\u001b[38;5;241;43m.\u001b[39;49m\u001b[43mmodel_name\u001b[49m,\n\u001b[1;32m    205\u001b[0m                  \u001b[38;5;124m'\u001b[39m\u001b[38;5;124m-o\u001b[39m\u001b[38;5;124m'\u001b[39m, output_name,\n\u001b[1;32m    206\u001b[0m                  \u001b[38;5;124m'\u001b[39m\u001b[38;5;124m--quiet\u001b[39m\u001b[38;5;124m'\u001b[39m])\n\u001b[1;32m    207\u001b[0m os\u001b[38;5;241m.\u001b[39munlink(test_name)\n\u001b[1;32m    208\u001b[0m m \u001b[38;5;241m=\u001b[39m np\u001b[38;5;241m.\u001b[39mloadtxt(output_name)\n",
      "\u001b[0;31mAttributeError\u001b[0m: 'PrejudiceRemover' object has no attribute 'model_name'"
     ]
    }
   ],
   "source": [
    "%%time \n",
    "\n",
    "# Evaluamos al modelo para un rango de umbrales\n",
    "metrics_sweep[model_name] = utils.metrics_threshold_sweep_mult(\n",
    "    dataset=data_val_copy,\n",
    "    dataset2=data_val2_copy,\n",
    "    model=models[model_name],\n",
    "    thresh_arr=thresh_sweep\n",
    ")\n",
    "\n",
    "# Evaluamos las métricas para el mejor umbral\n",
    "metrics_best_thresh_validate[model_name] = utils.describe_metrics(metrics_sweep[model_name])\n",
    "\n",
    "# Usando el mejor umbral, calculamos las métricas en el test set\n",
    "metrics_best_thresh_test[model_name] = utils.compute_metrics_mult(\n",
    "    dataset=data_test_copy, \n",
    "    dataset2=data_test2_copy,\n",
    "    model=models[model_name], \n",
    "    threshold=metrics_best_thresh_validate[model_name]['best_threshold'])\n",
    "\n",
    "display(Markdown(\"**Validation set results**\"))\n",
    "utils.print_metrics(metrics_best_thresh_validate[model_name])\n",
    "\n",
    "# Graficamos el comportamiento del modelo para el rango de umbrales \n",
    "f,a = utils.plot_fairness_and_accuracy(metrics_sweep[model_name])\n",
    "a.set_title(model_name)\n",
    "f"
   ]
  },
  {
   "cell_type": "markdown",
   "id": "fde49761-1f41-4c5c-8655-91448a6d7825",
   "metadata": {
    "tags": []
   },
   "source": [
    "### Algoritmo de metafairness"
   ]
  },
  {
   "cell_type": "code",
   "execution_count": 20,
   "id": "68c77a28-9902-4a3e-bec1-cc271a22b416",
   "metadata": {
    "tags": []
   },
   "outputs": [
    {
     "name": "stderr",
     "output_type": "stream",
     "text": [
      "/home/arturo_perez/miniconda3/envs/aif360/lib/python3.9/site-packages/scipy/stats/_multivariate.py:757: RuntimeWarning: covariance is not symmetric positive-semidefinite.\n",
      "  out = random_state.multivariate_normal(mean, cov, size)\n",
      "/home/arturo_perez/miniconda3/envs/aif360/lib/python3.9/site-packages/scipy/stats/_multivariate.py:757: RuntimeWarning: covariance is not symmetric positive-semidefinite.\n",
      "  out = random_state.multivariate_normal(mean, cov, size)\n",
      "/home/arturo_perez/miniconda3/envs/aif360/lib/python3.9/site-packages/scipy/stats/_multivariate.py:757: RuntimeWarning: covariance is not symmetric positive-semidefinite.\n",
      "  out = random_state.multivariate_normal(mean, cov, size)\n",
      "/home/arturo_perez/miniconda3/envs/aif360/lib/python3.9/site-packages/scipy/stats/_multivariate.py:757: RuntimeWarning: covariance is not symmetric positive-semidefinite.\n",
      "  out = random_state.multivariate_normal(mean, cov, size)\n",
      "/home/arturo_perez/miniconda3/envs/aif360/lib/python3.9/site-packages/scipy/stats/_multivariate.py:757: RuntimeWarning: covariance is not symmetric positive-semidefinite.\n",
      "  out = random_state.multivariate_normal(mean, cov, size)\n",
      "/home/arturo_perez/miniconda3/envs/aif360/lib/python3.9/site-packages/scipy/stats/_multivariate.py:757: RuntimeWarning: covariance is not symmetric positive-semidefinite.\n",
      "  out = random_state.multivariate_normal(mean, cov, size)\n",
      "/home/arturo_perez/miniconda3/envs/aif360/lib/python3.9/site-packages/scipy/stats/_multivariate.py:757: RuntimeWarning: covariance is not symmetric positive-semidefinite.\n",
      "  out = random_state.multivariate_normal(mean, cov, size)\n",
      "/home/arturo_perez/miniconda3/envs/aif360/lib/python3.9/site-packages/scipy/stats/_multivariate.py:757: RuntimeWarning: covariance is not symmetric positive-semidefinite.\n",
      "  out = random_state.multivariate_normal(mean, cov, size)\n",
      "/home/arturo_perez/miniconda3/envs/aif360/lib/python3.9/site-packages/scipy/stats/_multivariate.py:757: RuntimeWarning: covariance is not symmetric positive-semidefinite.\n",
      "  out = random_state.multivariate_normal(mean, cov, size)\n",
      "/home/arturo_perez/miniconda3/envs/aif360/lib/python3.9/site-packages/scipy/stats/_multivariate.py:757: RuntimeWarning: covariance is not symmetric positive-semidefinite.\n",
      "  out = random_state.multivariate_normal(mean, cov, size)\n",
      "/home/arturo_perez/miniconda3/envs/aif360/lib/python3.9/site-packages/scipy/stats/_multivariate.py:757: RuntimeWarning: covariance is not symmetric positive-semidefinite.\n",
      "  out = random_state.multivariate_normal(mean, cov, size)\n",
      "/home/arturo_perez/miniconda3/envs/aif360/lib/python3.9/site-packages/scipy/stats/_multivariate.py:757: RuntimeWarning: covariance is not symmetric positive-semidefinite.\n",
      "  out = random_state.multivariate_normal(mean, cov, size)\n",
      "/home/arturo_perez/miniconda3/envs/aif360/lib/python3.9/site-packages/scipy/stats/_multivariate.py:757: RuntimeWarning: covariance is not symmetric positive-semidefinite.\n",
      "  out = random_state.multivariate_normal(mean, cov, size)\n",
      "/home/arturo_perez/miniconda3/envs/aif360/lib/python3.9/site-packages/scipy/stats/_multivariate.py:757: RuntimeWarning: covariance is not symmetric positive-semidefinite.\n",
      "  out = random_state.multivariate_normal(mean, cov, size)\n",
      "/home/arturo_perez/miniconda3/envs/aif360/lib/python3.9/site-packages/scipy/stats/_multivariate.py:757: RuntimeWarning: covariance is not symmetric positive-semidefinite.\n",
      "  out = random_state.multivariate_normal(mean, cov, size)\n",
      "/home/arturo_perez/miniconda3/envs/aif360/lib/python3.9/site-packages/scipy/stats/_multivariate.py:757: RuntimeWarning: covariance is not symmetric positive-semidefinite.\n",
      "  out = random_state.multivariate_normal(mean, cov, size)\n"
     ]
    },
    {
     "name": "stdout",
     "output_type": "stream",
     "text": [
      "CPU times: user 7min 3s, sys: 6min 6s, total: 13min 9s\n",
      "Wall time: 1min 23s\n"
     ]
    }
   ],
   "source": [
    "%%time \n",
    "# Nombramos al modelo\n",
    "model_name = 'meta_fairness'\n",
    "\n",
    "# Parámetros del modelo\n",
    "# hyper-parameter de regularización\n",
    "τ = 0.8\n",
    "# métricas fairness a optimizar\n",
    "quality_constraints = ['sr', 'fdr'] # sr: statistical rate, fdr: false discovery rate\n",
    "\n",
    "# Optimizamos un modelo nuevo por cada métrica\n",
    "for quality in quality_constraints:\n",
    "    \n",
    "    # Hacemos una copia de los datasets\n",
    "    data_train_copy, data_val_copy, data_test_copy = data_train.copy(deepcopy=True), data_val.copy(deepcopy=True), data_test.copy(deepcopy=True)\n",
    "    data_train2_copy, data_val2_copy, data_test2_copy = data_train2.copy(deepcopy=True), data_val2.copy(deepcopy=True), data_test2.copy(deepcopy=True)\n",
    "    \n",
    "    # nombramos al modelo con su métrica específica\n",
    "    model_name_quality = '{}_{}'.format(model_name, quality)\n",
    "    \n",
    "    # Inicializamos el modelo y lo asignamos al diccionario\n",
    "    models[model_name_quality] = MetaFairClassifier(tau=τ, sensitive_attr=sensitive_attribute, type=quality, seed=seed)\n",
    "\n",
    "    # Entrenamos el modelo\n",
    "    models[model_name_quality] = models[ model_name_quality ].fit( data_train_copy )"
   ]
  },
  {
   "cell_type": "code",
   "execution_count": 21,
   "id": "17ed9fc9-6d6a-421c-9047-13d46ab73872",
   "metadata": {
    "tags": []
   },
   "outputs": [
    {
     "name": "stdout",
     "output_type": "stream",
     "text": [
      "Results for meta_fairness_sr\n",
      "Threshold corresponding to *best balanced accuracy*: 0.0100\n",
      "AUC: 0.4388\n",
      "Balanced accuracy: 0.5000\n",
      "Accuracy: 0.9240\n",
      "Independence ( |ΔP(Y_pred = 1)| ): 0.0000\n",
      "Separation ( |ΔFPR + ΔFNR|/2 ): 0.0000\n",
      "Sufficiency ( |ΔPPV| ) : 0.0838\n",
      "\n",
      "\n",
      "Results for meta_fairness_fdr\n",
      "Threshold corresponding to *best balanced accuracy*: 0.0100\n",
      "AUC: 0.4494\n",
      "Balanced accuracy: 0.5000\n",
      "Accuracy: 0.9240\n",
      "Independence ( |ΔP(Y_pred = 1)| ): 0.0000\n",
      "Separation ( |ΔFPR + ΔFNR|/2 ): 0.0000\n",
      "Sufficiency ( |ΔPPV| ) : 0.0838\n",
      "\n",
      "\n",
      "CPU times: user 54 s, sys: 1min 14s, total: 2min 8s\n",
      "Wall time: 1min 47s\n"
     ]
    }
   ],
   "source": [
    "%%time \n",
    "\n",
    "for quality in quality_constraints:\n",
    "    \n",
    "    name_suffix = '_{}'.format(quality)\n",
    "    print(f'Results for {model_name+name_suffix}')\n",
    "\n",
    "    # Evaluamos al modelo para un rango de umbrales\n",
    "    metrics_sweep[model_name+name_suffix] = utils.metrics_threshold_sweep_mult(\n",
    "        dataset=data_val_copy,\n",
    "        dataset2=data_val2_copy,\n",
    "        model=models[model_name+name_suffix],\n",
    "        thresh_arr=thresh_sweep\n",
    "    )\n",
    "\n",
    "    # Evaluamos las métricas para el mejor umbral\n",
    "    metrics_best_thresh_validate[model_name+name_suffix] = utils.describe_metrics(metrics_sweep[model_name+name_suffix])\n",
    "\n",
    "    # Usando el mejor umbral, calculamos las métricas en el test set\n",
    "    metrics_best_thresh_test[model_name+name_suffix] = utils.compute_metrics_mult(\n",
    "        dataset=data_test_copy, \n",
    "        dataset2=data_test2_copy,\n",
    "        model=models[model_name+name_suffix], \n",
    "        threshold=metrics_best_thresh_validate[model_name+name_suffix]['best_threshold'])\n",
    "\n",
    "    utils.print_metrics(metrics_best_thresh_validate[model_name+name_suffix])\n",
    "    print('\\n')\n",
    "\n",
    "    # Graficamos el comportamiento del modelo para el rango de umbrales \n",
    "    # utils.plot_fairness_and_accuracy(metrics_sweep[model_name+name_suffix])\n",
    "    # plt.title(model_name+name_suffix)\n",
    "    \n",
    "    f,a = utils.plot_fairness_and_accuracy(metrics_sweep[model_name+name_suffix])\n",
    "    a.set_title(model_name+name_suffix)\n",
    "    f"
   ]
  },
  {
   "cell_type": "markdown",
   "id": "17136a20-1db8-40f2-9258-dca562b07c64",
   "metadata": {
    "tags": []
   },
   "source": [
    "### Eliminación de prejuicios adversarios"
   ]
  },
  {
   "cell_type": "code",
   "execution_count": 22,
   "id": "c608328b-f143-4b64-9eec-bf77c02fe9b8",
   "metadata": {
    "tags": []
   },
   "outputs": [
    {
     "name": "stderr",
     "output_type": "stream",
     "text": [
      "2024-06-16 21:17:10.220978: W tensorflow/core/common_runtime/gpu/gpu_device.cc:2251] Cannot dlopen some GPU libraries. Please make sure the missing libraries mentioned above are installed properly if you would like to use GPU. Follow the guide at https://www.tensorflow.org/install/gpu for how to download and setup the required libraries for your platform.\n",
      "Skipping registering GPU devices...\n",
      "WARNING:tensorflow:From /home/arturo_perez/miniconda3/envs/aif360/lib/python3.9/site-packages/tensorflow/python/util/dispatch.py:1260: calling dropout (from tensorflow.python.ops.nn_ops) with keep_prob is deprecated and will be removed in a future version.\n",
      "Instructions for updating:\n",
      "Please use `rate` instead of `keep_prob`. Rate should be set to `rate = 1 - keep_prob`.\n",
      "2024-06-16 21:17:10.505245: I tensorflow/compiler/mlir/mlir_graph_optimization_pass.cc:388] MLIR V1 optimization pass is not enabled\n"
     ]
    },
    {
     "name": "stdout",
     "output_type": "stream",
     "text": [
      "epoch 0; iter: 0; batch classifier loss: 7161.815430; batch adversarial loss: 0.782665\n",
      "epoch 1; iter: 0; batch classifier loss: 5431.338867; batch adversarial loss: 0.747416\n",
      "epoch 2; iter: 0; batch classifier loss: nan; batch adversarial loss: nan\n",
      "epoch 3; iter: 0; batch classifier loss: nan; batch adversarial loss: nan\n",
      "epoch 4; iter: 0; batch classifier loss: nan; batch adversarial loss: nan\n",
      "epoch 5; iter: 0; batch classifier loss: nan; batch adversarial loss: nan\n",
      "epoch 6; iter: 0; batch classifier loss: nan; batch adversarial loss: nan\n",
      "epoch 7; iter: 0; batch classifier loss: nan; batch adversarial loss: nan\n",
      "epoch 8; iter: 0; batch classifier loss: nan; batch adversarial loss: nan\n",
      "epoch 9; iter: 0; batch classifier loss: nan; batch adversarial loss: nan\n",
      "epoch 10; iter: 0; batch classifier loss: nan; batch adversarial loss: nan\n",
      "epoch 11; iter: 0; batch classifier loss: nan; batch adversarial loss: nan\n",
      "epoch 12; iter: 0; batch classifier loss: nan; batch adversarial loss: nan\n",
      "epoch 13; iter: 0; batch classifier loss: nan; batch adversarial loss: nan\n",
      "epoch 14; iter: 0; batch classifier loss: nan; batch adversarial loss: nan\n",
      "epoch 15; iter: 0; batch classifier loss: nan; batch adversarial loss: nan\n",
      "epoch 16; iter: 0; batch classifier loss: nan; batch adversarial loss: nan\n",
      "epoch 17; iter: 0; batch classifier loss: nan; batch adversarial loss: nan\n",
      "epoch 18; iter: 0; batch classifier loss: nan; batch adversarial loss: nan\n",
      "epoch 19; iter: 0; batch classifier loss: nan; batch adversarial loss: nan\n",
      "epoch 20; iter: 0; batch classifier loss: nan; batch adversarial loss: nan\n",
      "epoch 21; iter: 0; batch classifier loss: nan; batch adversarial loss: nan\n",
      "epoch 22; iter: 0; batch classifier loss: nan; batch adversarial loss: nan\n",
      "epoch 23; iter: 0; batch classifier loss: nan; batch adversarial loss: nan\n",
      "epoch 24; iter: 0; batch classifier loss: nan; batch adversarial loss: nan\n",
      "epoch 25; iter: 0; batch classifier loss: nan; batch adversarial loss: nan\n",
      "epoch 26; iter: 0; batch classifier loss: nan; batch adversarial loss: nan\n",
      "epoch 27; iter: 0; batch classifier loss: nan; batch adversarial loss: nan\n",
      "epoch 28; iter: 0; batch classifier loss: nan; batch adversarial loss: nan\n",
      "epoch 29; iter: 0; batch classifier loss: nan; batch adversarial loss: nan\n",
      "epoch 30; iter: 0; batch classifier loss: nan; batch adversarial loss: nan\n",
      "epoch 31; iter: 0; batch classifier loss: nan; batch adversarial loss: nan\n",
      "epoch 32; iter: 0; batch classifier loss: nan; batch adversarial loss: nan\n",
      "epoch 33; iter: 0; batch classifier loss: nan; batch adversarial loss: nan\n",
      "epoch 34; iter: 0; batch classifier loss: nan; batch adversarial loss: nan\n",
      "epoch 35; iter: 0; batch classifier loss: nan; batch adversarial loss: nan\n",
      "epoch 36; iter: 0; batch classifier loss: nan; batch adversarial loss: nan\n",
      "epoch 37; iter: 0; batch classifier loss: nan; batch adversarial loss: nan\n",
      "epoch 38; iter: 0; batch classifier loss: nan; batch adversarial loss: nan\n",
      "epoch 39; iter: 0; batch classifier loss: nan; batch adversarial loss: nan\n",
      "epoch 40; iter: 0; batch classifier loss: nan; batch adversarial loss: nan\n",
      "epoch 41; iter: 0; batch classifier loss: nan; batch adversarial loss: nan\n",
      "epoch 42; iter: 0; batch classifier loss: nan; batch adversarial loss: nan\n",
      "epoch 43; iter: 0; batch classifier loss: nan; batch adversarial loss: nan\n",
      "epoch 44; iter: 0; batch classifier loss: nan; batch adversarial loss: nan\n",
      "epoch 45; iter: 0; batch classifier loss: nan; batch adversarial loss: nan\n",
      "epoch 46; iter: 0; batch classifier loss: nan; batch adversarial loss: nan\n",
      "epoch 47; iter: 0; batch classifier loss: nan; batch adversarial loss: nan\n",
      "epoch 48; iter: 0; batch classifier loss: nan; batch adversarial loss: nan\n",
      "epoch 49; iter: 0; batch classifier loss: nan; batch adversarial loss: nan\n",
      "epoch 50; iter: 0; batch classifier loss: nan; batch adversarial loss: nan\n",
      "epoch 51; iter: 0; batch classifier loss: nan; batch adversarial loss: nan\n",
      "epoch 52; iter: 0; batch classifier loss: nan; batch adversarial loss: nan\n",
      "epoch 53; iter: 0; batch classifier loss: nan; batch adversarial loss: nan\n",
      "epoch 54; iter: 0; batch classifier loss: nan; batch adversarial loss: nan\n",
      "epoch 55; iter: 0; batch classifier loss: nan; batch adversarial loss: nan\n",
      "epoch 56; iter: 0; batch classifier loss: nan; batch adversarial loss: nan\n",
      "epoch 57; iter: 0; batch classifier loss: nan; batch adversarial loss: nan\n",
      "epoch 58; iter: 0; batch classifier loss: nan; batch adversarial loss: nan\n",
      "epoch 59; iter: 0; batch classifier loss: nan; batch adversarial loss: nan\n",
      "epoch 60; iter: 0; batch classifier loss: nan; batch adversarial loss: nan\n",
      "epoch 61; iter: 0; batch classifier loss: nan; batch adversarial loss: nan\n",
      "epoch 62; iter: 0; batch classifier loss: nan; batch adversarial loss: nan\n",
      "epoch 63; iter: 0; batch classifier loss: nan; batch adversarial loss: nan\n",
      "epoch 64; iter: 0; batch classifier loss: nan; batch adversarial loss: nan\n",
      "epoch 65; iter: 0; batch classifier loss: nan; batch adversarial loss: nan\n",
      "epoch 66; iter: 0; batch classifier loss: nan; batch adversarial loss: nan\n",
      "epoch 67; iter: 0; batch classifier loss: nan; batch adversarial loss: nan\n",
      "epoch 68; iter: 0; batch classifier loss: nan; batch adversarial loss: nan\n",
      "epoch 69; iter: 0; batch classifier loss: nan; batch adversarial loss: nan\n",
      "epoch 70; iter: 0; batch classifier loss: nan; batch adversarial loss: nan\n",
      "epoch 71; iter: 0; batch classifier loss: nan; batch adversarial loss: nan\n",
      "epoch 72; iter: 0; batch classifier loss: nan; batch adversarial loss: nan\n",
      "epoch 73; iter: 0; batch classifier loss: nan; batch adversarial loss: nan\n",
      "epoch 74; iter: 0; batch classifier loss: nan; batch adversarial loss: nan\n",
      "epoch 75; iter: 0; batch classifier loss: nan; batch adversarial loss: nan\n",
      "epoch 76; iter: 0; batch classifier loss: nan; batch adversarial loss: nan\n",
      "epoch 77; iter: 0; batch classifier loss: nan; batch adversarial loss: nan\n",
      "epoch 78; iter: 0; batch classifier loss: nan; batch adversarial loss: nan\n",
      "epoch 79; iter: 0; batch classifier loss: nan; batch adversarial loss: nan\n",
      "CPU times: user 24.7 s, sys: 6.82 s, total: 31.6 s\n",
      "Wall time: 13.8 s\n"
     ]
    },
    {
     "data": {
      "text/plain": [
       "<aif360.algorithms.inprocessing.adversarial_debiasing.AdversarialDebiasing at 0x7f556c1c5730>"
      ]
     },
     "execution_count": 22,
     "metadata": {},
     "output_type": "execute_result"
    }
   ],
   "source": [
    "%%time\n",
    "\n",
    "# Nombramos al modelo\n",
    "model_name = 'NN_adversarial_debiasing'\n",
    "\n",
    "# Hacemos una copia de los datasets\n",
    "data_train_copy, data_val_copy, data_test_copy = data_train.copy(deepcopy=True), data_val.copy(deepcopy=True), data_test.copy(deepcopy=True)\n",
    "data_train2_copy, data_val2_copy, data_test2_copy = data_train2.copy(deepcopy=True), data_val2.copy(deepcopy=True), data_test2.copy(deepcopy=True)\n",
    "\n",
    "sess = tf.Session()\n",
    "\n",
    "models[model_name] = AdversarialDebiasing(\n",
    "    privileged_groups = privileged_groups,\n",
    "    unprivileged_groups = unprivileged_groups,\n",
    "    scope_name = 'debiased_classifier',\n",
    "    debias=True,\n",
    "    sess=sess,\n",
    "    num_epochs=80)\n",
    "\n",
    "models[model_name].fit(data_train_copy)"
   ]
  },
  {
   "cell_type": "code",
   "execution_count": 23,
   "id": "061c3d01-00f3-444b-ab04-b64ba37b396a",
   "metadata": {
    "tags": []
   },
   "outputs": [
    {
     "data": {
      "text/markdown": [
       "**Validation set results**"
      ],
      "text/plain": [
       "<IPython.core.display.Markdown object>"
      ]
     },
     "metadata": {},
     "output_type": "display_data"
    },
    {
     "name": "stdout",
     "output_type": "stream",
     "text": [
      "Threshold corresponding to *best balanced accuracy*: 0.0100\n",
      "AUC: 0.5000\n",
      "Balanced accuracy: 0.5000\n",
      "Accuracy: 0.9240\n",
      "Independence ( |ΔP(Y_pred = 1)| ): 0.0000\n",
      "Separation ( |ΔFPR + ΔFNR|/2 ): 0.0000\n",
      "Sufficiency ( |ΔPPV| ) : 0.0838\n",
      "CPU times: user 24.1 s, sys: 28.5 s, total: 52.6 s\n",
      "Wall time: 52.6 s\n"
     ]
    },
    {
     "data": {
      "image/png": "[encoded data removed]",
      "text/plain": [
       "<Figure size 640x480 with 2 Axes>"
      ]
     },
     "execution_count": 23,
     "metadata": {},
     "output_type": "execute_result"
    }
   ],
   "source": [
    "%%time \n",
    "\n",
    "# Evaluamos al modelo para un rango de umbrales\n",
    "metrics_sweep[model_name] = utils.metrics_threshold_sweep_mult(\n",
    "    dataset=data_val_copy,\n",
    "    dataset2=data_val2_copy,\n",
    "    model=models[model_name],\n",
    "    thresh_arr=thresh_sweep\n",
    ")\n",
    "\n",
    "# Evaluamos las métricas para el mejor umbral\n",
    "metrics_best_thresh_validate[model_name] = utils.describe_metrics(metrics_sweep[model_name])\n",
    "\n",
    "# Usando el mejor umbral, calculamos las métricas en el test set\n",
    "metrics_best_thresh_test[model_name] = utils.compute_metrics_mult(\n",
    "    dataset=data_test_copy, \n",
    "    dataset2=data_test2_copy,\n",
    "    model=models[model_name], \n",
    "    threshold=metrics_best_thresh_validate[model_name]['best_threshold'])\n",
    "\n",
    "display(Markdown(\"**Validation set results**\"))\n",
    "utils.print_metrics(metrics_best_thresh_validate[model_name])\n",
    "\n",
    "# Graficamos el comportamiento del modelo para el rango de umbrales \n",
    "f,a = utils.plot_fairness_and_accuracy(metrics_sweep[model_name])\n",
    "a.set_title(model_name)\n",
    "f"
   ]
  },
  {
   "cell_type": "markdown",
   "id": "d7fc8a18-6bc9-40e3-84a3-849ff51bfa6e",
   "metadata": {},
   "source": [
    "#### Eliminación de prejuicios adversarios: Red neuronal sin eliminación de prejuicios "
   ]
  },
  {
   "cell_type": "code",
   "execution_count": 24,
   "id": "86ada185-6303-497f-8530-6e928e6129ee",
   "metadata": {
    "tags": []
   },
   "outputs": [
    {
     "name": "stdout",
     "output_type": "stream",
     "text": [
      "epoch 0; iter: 0; batch classifier loss: 10727.774414\n",
      "epoch 1; iter: 0; batch classifier loss: 5086.688477\n",
      "epoch 2; iter: 0; batch classifier loss: 1850.122559\n",
      "epoch 3; iter: 0; batch classifier loss: 4884.759766\n",
      "epoch 4; iter: 0; batch classifier loss: 3002.610840\n",
      "epoch 5; iter: 0; batch classifier loss: 1140.803345\n",
      "epoch 6; iter: 0; batch classifier loss: 1900.184448\n",
      "epoch 7; iter: 0; batch classifier loss: 1769.797607\n",
      "epoch 8; iter: 0; batch classifier loss: 1405.108643\n",
      "epoch 9; iter: 0; batch classifier loss: 1080.045654\n",
      "epoch 10; iter: 0; batch classifier loss: 1155.909912\n",
      "epoch 11; iter: 0; batch classifier loss: 907.202454\n",
      "epoch 12; iter: 0; batch classifier loss: 379.746429\n",
      "epoch 13; iter: 0; batch classifier loss: 658.548828\n",
      "epoch 14; iter: 0; batch classifier loss: 442.441345\n",
      "epoch 15; iter: 0; batch classifier loss: 247.329559\n",
      "epoch 16; iter: 0; batch classifier loss: 205.171127\n",
      "epoch 17; iter: 0; batch classifier loss: 203.107574\n",
      "epoch 18; iter: 0; batch classifier loss: 162.573624\n",
      "epoch 19; iter: 0; batch classifier loss: 141.996918\n",
      "epoch 20; iter: 0; batch classifier loss: 182.017303\n",
      "epoch 21; iter: 0; batch classifier loss: 110.906937\n",
      "epoch 22; iter: 0; batch classifier loss: 3.858181\n",
      "epoch 23; iter: 0; batch classifier loss: 34.243080\n",
      "epoch 24; iter: 0; batch classifier loss: 69.879341\n",
      "epoch 25; iter: 0; batch classifier loss: 43.820068\n",
      "epoch 26; iter: 0; batch classifier loss: 7.585218\n",
      "epoch 27; iter: 0; batch classifier loss: 39.126694\n",
      "epoch 28; iter: 0; batch classifier loss: 19.316301\n",
      "epoch 29; iter: 0; batch classifier loss: 32.258373\n",
      "epoch 30; iter: 0; batch classifier loss: 58.699291\n",
      "epoch 31; iter: 0; batch classifier loss: 10.961252\n",
      "epoch 32; iter: 0; batch classifier loss: 27.172848\n",
      "epoch 33; iter: 0; batch classifier loss: 6.738446\n",
      "epoch 34; iter: 0; batch classifier loss: 34.315891\n",
      "epoch 35; iter: 0; batch classifier loss: 21.267385\n",
      "epoch 36; iter: 0; batch classifier loss: 8.693081\n",
      "epoch 37; iter: 0; batch classifier loss: 4.802175\n",
      "epoch 38; iter: 0; batch classifier loss: 3.458841\n",
      "epoch 39; iter: 0; batch classifier loss: 4.171815\n",
      "epoch 40; iter: 0; batch classifier loss: 4.425804\n",
      "epoch 41; iter: 0; batch classifier loss: 5.787230\n",
      "epoch 42; iter: 0; batch classifier loss: 14.528799\n",
      "epoch 43; iter: 0; batch classifier loss: 6.186252\n",
      "epoch 44; iter: 0; batch classifier loss: 7.985062\n",
      "epoch 45; iter: 0; batch classifier loss: 13.609273\n",
      "epoch 46; iter: 0; batch classifier loss: 10.061575\n",
      "epoch 47; iter: 0; batch classifier loss: 5.007587\n",
      "epoch 48; iter: 0; batch classifier loss: 3.404842\n",
      "epoch 49; iter: 0; batch classifier loss: 1.722262\n",
      "epoch 50; iter: 0; batch classifier loss: 3.345069\n",
      "epoch 51; iter: 0; batch classifier loss: 0.338447\n",
      "epoch 52; iter: 0; batch classifier loss: 6.885179\n",
      "epoch 53; iter: 0; batch classifier loss: 2.670683\n",
      "epoch 54; iter: 0; batch classifier loss: 1.498103\n",
      "epoch 55; iter: 0; batch classifier loss: 0.663349\n",
      "epoch 56; iter: 0; batch classifier loss: 0.883067\n",
      "epoch 57; iter: 0; batch classifier loss: 2.994920\n",
      "epoch 58; iter: 0; batch classifier loss: 2.103136\n",
      "epoch 59; iter: 0; batch classifier loss: 0.919908\n",
      "epoch 60; iter: 0; batch classifier loss: 0.947029\n",
      "epoch 61; iter: 0; batch classifier loss: 0.542708\n",
      "epoch 62; iter: 0; batch classifier loss: 2.235010\n",
      "epoch 63; iter: 0; batch classifier loss: 1.475736\n",
      "epoch 64; iter: 0; batch classifier loss: 0.493943\n",
      "epoch 65; iter: 0; batch classifier loss: 0.572710\n",
      "epoch 66; iter: 0; batch classifier loss: 0.495799\n",
      "epoch 67; iter: 0; batch classifier loss: 0.338114\n",
      "epoch 68; iter: 0; batch classifier loss: 1.276907\n",
      "epoch 69; iter: 0; batch classifier loss: 0.750698\n",
      "epoch 70; iter: 0; batch classifier loss: 0.647034\n",
      "epoch 71; iter: 0; batch classifier loss: 0.457745\n",
      "epoch 72; iter: 0; batch classifier loss: 0.379242\n",
      "epoch 73; iter: 0; batch classifier loss: 0.576263\n",
      "epoch 74; iter: 0; batch classifier loss: 0.537249\n",
      "epoch 75; iter: 0; batch classifier loss: 0.274930\n",
      "epoch 76; iter: 0; batch classifier loss: 0.782456\n",
      "epoch 77; iter: 0; batch classifier loss: 0.331687\n",
      "epoch 78; iter: 0; batch classifier loss: 0.417143\n",
      "epoch 79; iter: 0; batch classifier loss: 0.116740\n",
      "epoch 80; iter: 0; batch classifier loss: 0.512667\n",
      "epoch 81; iter: 0; batch classifier loss: 0.914320\n",
      "epoch 82; iter: 0; batch classifier loss: 0.759271\n",
      "epoch 83; iter: 0; batch classifier loss: 1.523214\n",
      "epoch 84; iter: 0; batch classifier loss: 0.441489\n",
      "epoch 85; iter: 0; batch classifier loss: 0.661317\n",
      "epoch 86; iter: 0; batch classifier loss: 0.408244\n",
      "epoch 87; iter: 0; batch classifier loss: 0.801490\n",
      "epoch 88; iter: 0; batch classifier loss: 0.849914\n",
      "epoch 89; iter: 0; batch classifier loss: 0.665225\n",
      "epoch 90; iter: 0; batch classifier loss: 0.319346\n",
      "epoch 91; iter: 0; batch classifier loss: 0.317871\n",
      "epoch 92; iter: 0; batch classifier loss: 0.509151\n",
      "epoch 93; iter: 0; batch classifier loss: 0.576518\n",
      "epoch 94; iter: 0; batch classifier loss: 0.420596\n",
      "epoch 95; iter: 0; batch classifier loss: 0.328293\n",
      "epoch 96; iter: 0; batch classifier loss: 0.508974\n",
      "epoch 97; iter: 0; batch classifier loss: 1.065119\n",
      "epoch 98; iter: 0; batch classifier loss: 1.027658\n",
      "epoch 99; iter: 0; batch classifier loss: 0.190933\n",
      "epoch 100; iter: 0; batch classifier loss: 0.505142\n",
      "epoch 101; iter: 0; batch classifier loss: 0.246997\n",
      "epoch 102; iter: 0; batch classifier loss: 0.317154\n",
      "epoch 103; iter: 0; batch classifier loss: 0.266393\n",
      "epoch 104; iter: 0; batch classifier loss: 1.207937\n",
      "epoch 105; iter: 0; batch classifier loss: 0.577969\n",
      "epoch 106; iter: 0; batch classifier loss: 0.427246\n",
      "epoch 107; iter: 0; batch classifier loss: 0.474436\n",
      "epoch 108; iter: 0; batch classifier loss: 0.352617\n",
      "epoch 109; iter: 0; batch classifier loss: 0.303560\n",
      "epoch 110; iter: 0; batch classifier loss: 0.337772\n",
      "epoch 111; iter: 0; batch classifier loss: 0.368483\n",
      "epoch 112; iter: 0; batch classifier loss: 0.218595\n",
      "epoch 113; iter: 0; batch classifier loss: 0.202554\n",
      "epoch 114; iter: 0; batch classifier loss: 0.357378\n",
      "epoch 115; iter: 0; batch classifier loss: 0.327318\n",
      "epoch 116; iter: 0; batch classifier loss: 0.385898\n",
      "epoch 117; iter: 0; batch classifier loss: 0.227618\n",
      "epoch 118; iter: 0; batch classifier loss: 0.173647\n",
      "epoch 119; iter: 0; batch classifier loss: 0.186830\n",
      "epoch 120; iter: 0; batch classifier loss: 0.228252\n",
      "epoch 121; iter: 0; batch classifier loss: 0.204968\n",
      "epoch 122; iter: 0; batch classifier loss: 0.279601\n",
      "epoch 123; iter: 0; batch classifier loss: 0.160406\n",
      "epoch 124; iter: 0; batch classifier loss: 0.714365\n",
      "CPU times: user 36.4 s, sys: 10.4 s, total: 46.9 s\n",
      "Wall time: 15.8 s\n"
     ]
    },
    {
     "data": {
      "text/plain": [
       "<aif360.algorithms.inprocessing.adversarial_debiasing.AdversarialDebiasing at 0x7f55476853d0>"
      ]
     },
     "execution_count": 24,
     "metadata": {},
     "output_type": "execute_result"
    }
   ],
   "source": [
    "%%time\n",
    "\n",
    "sess.close()\n",
    "tf.reset_default_graph()\n",
    "sess = tf.Session()\n",
    "\n",
    "# Nombramos al modelo\n",
    "model_name = 'Basic_NN_no_adversarial_debiasing'\n",
    "\n",
    "# Hacemos una copia de los datasets\"\n",
    "data_train_copy, data_val_copy, data_test_copy = data_train.copy(deepcopy=True), data_val.copy(deepcopy=True), data_test.copy(deepcopy=True)\n",
    "data_train2_copy, data_val2_copy, data_test2_copy = data_train2.copy(deepcopy=True), data_val2.copy(deepcopy=True), data_test2.copy(deepcopy=True)\n",
    "\n",
    "models[model_name] = AdversarialDebiasing(privileged_groups = privileged_groups,\n",
    "                                          unprivileged_groups = unprivileged_groups,\n",
    "                                          scope_name = 'biased_classifier',\n",
    "                                          debias=False,\n",
    "                                          sess=sess,\n",
    "                                          num_epochs=125)\n",
    "models[model_name].fit(data_train_copy)"
   ]
  },
  {
   "cell_type": "code",
   "execution_count": 25,
   "id": "cbb31736-e353-440e-8621-08c3d3f990e9",
   "metadata": {
    "tags": []
   },
   "outputs": [
    {
     "data": {
      "text/markdown": [
       "**Validation set results**"
      ],
      "text/plain": [
       "<IPython.core.display.Markdown object>"
      ]
     },
     "metadata": {},
     "output_type": "display_data"
    },
    {
     "name": "stdout",
     "output_type": "stream",
     "text": [
      "Threshold corresponding to *best balanced accuracy*: 0.9394\n",
      "AUC: 0.5615\n",
      "Balanced accuracy: 0.5677\n",
      "Accuracy: 0.5880\n",
      "Independence ( |ΔP(Y_pred = 1)| ): 0.2482\n",
      "Separation ( |ΔFPR + ΔFNR|/2 ): 0.1036\n",
      "Sufficiency ( |ΔPPV| ) : 0.1253\n",
      "CPU times: user 23.9 s, sys: 25.8 s, total: 49.7 s\n",
      "Wall time: 49.8 s\n"
     ]
    },
    {
     "data": {
      "image/png": "[encoded data removed]",
      "text/plain": [
       "<Figure size 640x480 with 2 Axes>"
      ]
     },
     "execution_count": 25,
     "metadata": {},
     "output_type": "execute_result"
    }
   ],
   "source": [
    "%%time \n",
    "\n",
    "# Evaluamos al modelo para un rango de umbrales\n",
    "metrics_sweep[model_name] = utils.metrics_threshold_sweep_mult(\n",
    "    dataset=data_val_copy,\n",
    "    dataset2=data_val2_copy,\n",
    "    model=models[model_name],\n",
    "    thresh_arr=thresh_sweep\n",
    ")\n",
    "\n",
    "# Evaluamos las métricas para el mejor umbral\n",
    "metrics_best_thresh_validate[model_name] = utils.describe_metrics(metrics_sweep[model_name])\n",
    "\n",
    "# Usando el mejor umbral, calculamos las métricas en el test set\n",
    "metrics_best_thresh_test[model_name] = utils.compute_metrics_mult(\n",
    "    dataset=data_test_copy, \n",
    "    dataset2=data_test2_copy,\n",
    "    model=models[model_name], \n",
    "    threshold=metrics_best_thresh_validate[model_name]['best_threshold'])\n",
    "\n",
    "display(Markdown(\"**Validation set results**\"))\n",
    "utils.print_metrics(metrics_best_thresh_validate[model_name])\n",
    "\n",
    "# Graficamos el comportamiento del modelo para el rango de umbrales \n",
    "f,a = utils.plot_fairness_and_accuracy(metrics_sweep[model_name])\n",
    "a.set_title(model_name)\n",
    "f"
   ]
  },
  {
   "cell_type": "markdown",
   "id": "5a53fa71-a143-41d5-a588-b397de752484",
   "metadata": {
    "tags": []
   },
   "source": [
    "## Técnicas de postprocesado "
   ]
  },
  {
   "cell_type": "markdown",
   "id": "3e30be21-dc70-465d-a828-caf87bf47886",
   "metadata": {
    "tags": []
   },
   "source": [
    "### Clasificación de rechazo de opción"
   ]
  },
  {
   "cell_type": "code",
   "execution_count": 26,
   "id": "3e229f4c-a0ce-4cc6-88d4-1f0319c804ec",
   "metadata": {
    "tags": []
   },
   "outputs": [
    {
     "name": "stdout",
     "output_type": "stream",
     "text": [
      "CPU times: user 38.8 s, sys: 16.9 s, total: 55.7 s\n",
      "Wall time: 39.4 s\n"
     ]
    }
   ],
   "source": [
    "%%time \n",
    "\n",
    "# Nombramos al modelo\n",
    "fairness_method = '_reject_option'\n",
    "\n",
    "# Nombre del modelo al que le aplicaremos post-processing\n",
    "model_name = 'logistic_regression'\n",
    "\n",
    "# métricas fair a optimizar\n",
    "fair_metrics = {'spd': \"Statistical parity difference\", 'aod': \"Average odds difference\", 'eod': \"Equal opportunity difference\"}\n",
    "\n",
    "# Hacemos una copia de los datasets\n",
    "data_train_copy, data_val_copy, data_test_copy = data_train.copy(deepcopy=True), data_val.copy(deepcopy=True), data_test.copy(deepcopy=True)\n",
    "data_train2_copy, data_val2_copy, data_test2_copy = data_train2.copy(deepcopy=True), data_val2.copy(deepcopy=True), data_test2.copy(deepcopy=True)\n",
    "\n",
    "# Hacemos una copia de las predicciones del modelo de referencia\n",
    "data_train_preds = utils.update_dataset_from_model(data_train_copy, models[model_name])\n",
    "data_val_preds = utils.update_dataset_from_model(data_val_copy, models[model_name])\n",
    "data_test_preds = utils.update_dataset_from_model(data_test_copy, models[model_name])\n",
    "\n",
    "# Optimizamos un modelo nuevo por cada métrica\n",
    "for key_metric in fair_metrics:\n",
    "    \n",
    "    # nombramos al modelo con su métrica específica\n",
    "    model_name_metric = model_name + fairness_method + '_' + key_metric\n",
    "    \n",
    "    models[model_name_metric] = RejectOptionClassification(\n",
    "        unprivileged_groups=unprivileged_groups, \n",
    "        privileged_groups=privileged_groups, \n",
    "        metric_name=fair_metrics[key_metric],\n",
    "        metric_lb=-0.01, metric_ub=0.01)\n",
    "\n",
    "    # Realizamos el post-procesado en función de las clases realies (data_copy) y las predicciones del modelo de referencia (data_preds)\n",
    "    models[model_name_metric] = models[model_name_metric].fit(data_train_copy, data_train_preds)"
   ]
  },
  {
   "cell_type": "code",
   "execution_count": 27,
   "id": "c37dac01-64d3-469d-a72d-3fd83cd09962",
   "metadata": {
    "tags": []
   },
   "outputs": [
    {
     "data": {
      "text/markdown": [
       "**Validation set results for logistic regression**"
      ],
      "text/plain": [
       "<IPython.core.display.Markdown object>"
      ]
     },
     "metadata": {},
     "output_type": "display_data"
    },
    {
     "name": "stdout",
     "output_type": "stream",
     "text": [
      "logistic_regression_reject_option_spd\n",
      "Threshold corresponding to *best balanced accuracy*: 0.8217\n",
      "AUC: 0.6035\n",
      "Balanced accuracy: 0.5000\n",
      "Accuracy: 0.9240\n",
      "Independence ( |ΔP(Y_pred = 1)| ): 0.0000\n",
      "Separation ( |ΔFPR + ΔFNR|/2 ): 0.0000\n",
      "Sufficiency ( |ΔPPV| ) : 0.0838\n",
      "\n",
      "\n",
      "logistic_regression_reject_option_aod\n",
      "Threshold corresponding to *best balanced accuracy*: 0.8316\n",
      "AUC: 0.6035\n",
      "Balanced accuracy: 0.5000\n",
      "Accuracy: 0.9240\n",
      "Independence ( |ΔP(Y_pred = 1)| ): 0.0000\n",
      "Separation ( |ΔFPR + ΔFNR|/2 ): 0.0000\n",
      "Sufficiency ( |ΔPPV| ) : 0.0838\n",
      "\n",
      "\n",
      "logistic_regression_reject_option_eod\n",
      "Threshold corresponding to *best balanced accuracy*: 0.8316\n",
      "AUC: 0.6035\n",
      "Balanced accuracy: 0.5000\n",
      "Accuracy: 0.9240\n",
      "Independence ( |ΔP(Y_pred = 1)| ): 0.0000\n",
      "Separation ( |ΔFPR + ΔFNR|/2 ): 0.0000\n",
      "Sufficiency ( |ΔPPV| ) : 0.0838\n",
      "\n",
      "\n"
     ]
    }
   ],
   "source": [
    "display(Markdown(\"**Validation set results for logistic regression**\"))\n",
    "for key_metric in fair_metrics:\n",
    "    \n",
    "    model_name_metric = model_name + fairness_method + '_' + key_metric\n",
    "    \n",
    "    metrics_best_thresh_validate[model_name_metric] = utils.compute_metrics_postprocessing_mult(\n",
    "        dataset_true=data_val_copy, \n",
    "        dataset_preds=data_val_preds, \n",
    "        dataset2 = data_val2_copy,\n",
    "        model=models[model_name_metric], \n",
    "        required_threshold=False)\n",
    "    \n",
    "    print(model_name_metric)\n",
    "    utils.print_metrics(metrics_best_thresh_validate[model_name_metric])\n",
    "    print('\\n')\n",
    "    \n",
    "    metrics_best_thresh_test[model_name_metric] = utils.compute_metrics_postprocessing_mult(\n",
    "        dataset_true=data_test_copy, \n",
    "        dataset2 = data_test2_copy,\n",
    "        dataset_preds=data_test_preds, \n",
    "        model=models[model_name_metric], \n",
    "        required_threshold=False)"
   ]
  },
  {
   "cell_type": "code",
   "execution_count": 28,
   "id": "31a778bb-a5dc-40d8-9362-b56410cc461d",
   "metadata": {
    "tags": []
   },
   "outputs": [
    {
     "name": "stdout",
     "output_type": "stream",
     "text": [
      "CPU times: user 46.3 s, sys: 7.27 s, total: 53.5 s\n",
      "Wall time: 42.9 s\n"
     ]
    }
   ],
   "source": [
    "%%time \n",
    "\n",
    "# Nombramos al modelo\n",
    "fairness_method = '_reject_option'\n",
    "\n",
    "# Nombre del modelo al que le aplicaremos post-processing\n",
    "model_name = 'xgb_classifier'\n",
    "\n",
    "# métricas fair a optimizar\n",
    "fair_metrics = {'spd': \"Statistical parity difference\", 'aod': \"Average odds difference\", 'eod': \"Equal opportunity difference\"}\n",
    "\n",
    "# Hacemos una copia de los datasets\n",
    "data_train_copy, data_val_copy, data_test_copy = data_train.copy(deepcopy=True), data_val.copy(deepcopy=True), data_test.copy(deepcopy=True)\n",
    "data_train2_copy, data_val2_copy, data_test2_copy = data_train2.copy(deepcopy=True), data_val2.copy(deepcopy=True), data_test2.copy(deepcopy=True)\n",
    "\n",
    "# Hacemos una copia de las predicciones del modelo de referencia\n",
    "data_train_preds = utils.update_dataset_from_model(data_train_copy, models[model_name])\n",
    "data_val_preds = utils.update_dataset_from_model(data_val_copy, models[model_name])\n",
    "data_test_preds = utils.update_dataset_from_model(data_test_copy, models[model_name])\n",
    "\n",
    "data_train2_preds = utils.update_dataset_from_model2(data_train_copy, data_train2_copy, models[model_name])\n",
    "data_val2_preds = utils.update_dataset_from_model2(data_val_copy, data_val2_copy, models[model_name])\n",
    "data_test2_preds = utils.update_dataset_from_model2(data_test_copy, data_test2_copy, models[model_name])\n",
    "\n",
    "# Optimizamos un modelo nuevo por cada métrica\n",
    "for key_metric in fair_metrics:\n",
    "    \n",
    "    # nombramos al modelo con su métrica específica\n",
    "    model_name_metric = model_name + fairness_method + '_' + key_metric\n",
    "    \n",
    "    models[model_name_metric] = RejectOptionClassification(\n",
    "        unprivileged_groups=unprivileged_groups, \n",
    "        privileged_groups=privileged_groups, \n",
    "        metric_name=fair_metrics[key_metric],\n",
    "        metric_lb=-0.01, metric_ub=0.01)\n",
    "\n",
    "    # Realizamos el post-procesado en función de las clases realies (data_copy) y las predicciones del modelo de referencia (data_preds)\n",
    "    models[model_name_metric] = models[model_name_metric].fit(data_train_copy, data_train_preds)"
   ]
  },
  {
   "cell_type": "code",
   "execution_count": 29,
   "id": "a3fd1721-8104-4587-ae4b-666826fa4356",
   "metadata": {
    "tags": []
   },
   "outputs": [
    {
     "data": {
      "text/markdown": [
       "**Validation set results for xgb classifier**"
      ],
      "text/plain": [
       "<IPython.core.display.Markdown object>"
      ]
     },
     "metadata": {},
     "output_type": "display_data"
    },
    {
     "name": "stdout",
     "output_type": "stream",
     "text": [
      "xgb_classifier_reject_option_spd\n",
      "Threshold corresponding to *best balanced accuracy*: 0.6039\n",
      "AUC: 0.7285\n",
      "Balanced accuracy: 0.5154\n",
      "Accuracy: 0.9227\n",
      "Independence ( |ΔP(Y_pred = 1)| ): 0.0070\n",
      "Separation ( |ΔFPR + ΔFNR|/2 ): 0.0170\n",
      "Sufficiency ( |ΔPPV| ) : 0.0861\n",
      "\n",
      "\n",
      "xgb_classifier_reject_option_aod\n",
      "Threshold corresponding to *best balanced accuracy*: 0.7722\n",
      "AUC: 0.7285\n",
      "Balanced accuracy: 0.5154\n",
      "Accuracy: 0.9227\n",
      "Independence ( |ΔP(Y_pred = 1)| ): 0.0070\n",
      "Separation ( |ΔFPR + ΔFNR|/2 ): 0.0170\n",
      "Sufficiency ( |ΔPPV| ) : 0.0861\n",
      "\n",
      "\n",
      "xgb_classifier_reject_option_eod\n",
      "Threshold corresponding to *best balanced accuracy*: 0.7722\n",
      "AUC: 0.7285\n",
      "Balanced accuracy: 0.5154\n",
      "Accuracy: 0.9227\n",
      "Independence ( |ΔP(Y_pred = 1)| ): 0.0070\n",
      "Separation ( |ΔFPR + ΔFNR|/2 ): 0.0170\n",
      "Sufficiency ( |ΔPPV| ) : 0.0861\n",
      "\n",
      "\n"
     ]
    }
   ],
   "source": [
    "display(Markdown(\"**Validation set results for xgb classifier**\"))\n",
    "for key_metric in fair_metrics:\n",
    "    \n",
    "    model_name_metric = model_name + fairness_method + '_' + key_metric\n",
    "    \n",
    "    metrics_best_thresh_validate[model_name_metric] = utils.compute_metrics_postprocessing_mult(\n",
    "        dataset_true=data_val_copy, \n",
    "        dataset_preds=data_val_preds, \n",
    "        dataset2 = data_val2_copy,\n",
    "        model=models[model_name_metric], \n",
    "        required_threshold=False)\n",
    "    \n",
    "    print(model_name_metric)\n",
    "    utils.print_metrics(metrics_best_thresh_validate[model_name_metric])\n",
    "    print('\\n')\n",
    "    \n",
    "    metrics_best_thresh_test[model_name_metric] = utils.compute_metrics_postprocessing_mult(\n",
    "        dataset_true=data_test_copy, \n",
    "        dataset_preds=data_test_preds, \n",
    "        dataset2 = data_test2_copy,\n",
    "        model=models[model_name_metric], \n",
    "        required_threshold=False)"
   ]
  },
  {
   "cell_type": "markdown",
   "id": "a3055c6c-a395-4550-b22a-5491fbea99fa",
   "metadata": {},
   "source": [
    "### Escalado de Platt por grupos"
   ]
  },
  {
   "cell_type": "code",
   "execution_count": 30,
   "id": "41538c5d-3d48-4813-a30f-94fdb9347129",
   "metadata": {
    "tags": []
   },
   "outputs": [
    {
     "name": "stdout",
     "output_type": "stream",
     "text": [
      "\n",
      "Validation set results for logistic_regression_platt_scaling\n",
      "Threshold corresponding to *best balanced accuracy*: 0.9291\n",
      "AUC: 0.6226\n",
      "Balanced accuracy: 0.6028\n",
      "Accuracy: 0.4147\n",
      "Independence ( |ΔP(Y_pred = 1)| ): 0.3816\n",
      "Separation ( |ΔFPR + ΔFNR|/2 ): 0.1020\n",
      "Sufficiency ( |ΔPPV| ) : 0.9635\n",
      "\n",
      "Validation set results for xgb_classifier_platt_scaling\n",
      "Threshold corresponding to *best balanced accuracy*: 0.9307\n",
      "AUC: 0.7340\n",
      "Balanced accuracy: 0.6794\n",
      "Accuracy: 0.6307\n",
      "Independence ( |ΔP(Y_pred = 1)| ): 0.5559\n",
      "Separation ( |ΔFPR + ΔFNR|/2 ): 0.1408\n",
      "Sufficiency ( |ΔPPV| ) : 0.0338\n",
      "CPU times: user 54.8 s, sys: 59.2 s, total: 1min 54s\n",
      "Wall time: 1min 39s\n"
     ]
    }
   ],
   "source": [
    "%%time\n",
    "fairness_method = '_platt_scaling'\n",
    "model_names = ['logistic_regression', 'xgb_classifier']\n",
    "data_train_copy, data_val_copy, data_test_copy = data_train.copy(deepcopy = True), data_val.copy(deepcopy = True), data_test.copy(deepcopy = True)\n",
    "data_train2_copy, data_val2_copy, data_test2_copy = data_train2.copy(deepcopy=True), data_val2.copy(deepcopy=True), data_test2.copy(deepcopy=True)\n",
    "\n",
    "for model_name in model_names:\n",
    "    # Hacemos una copia de las predicciones del modelo de referencia\n",
    "    model_thresh = metrics_best_thresh_validate[model_name]['best_threshold']\n",
    "    data_val_preds = utils.update_dataset_from_model(data_val, models[model_name], class_thresh = model_thresh)\n",
    "    data_val_preds_m = utils.update_dataset_from_model2(data_val, data_val2_copy, models[model_name], class_thresh = model_thresh)\n",
    "    ## Plat Scaling:\n",
    "    #1. dividir el validation data usando los groups sensibles\n",
    "    data_val_preds_priv, data_val_preds_unpriv, priv_indices, unpriv_indices = utils.split_dataset_on_sensitive_attribute(\n",
    "        dataset = data_val_preds, privileged_group_label = list((privileged_groups[0].values()))[0])\n",
    "    #2. copia el validation data para guardar los scores\n",
    "    data_val_preds2_m = data_val_preds_m.copy(deepcopy = True)\n",
    "    data_val_preds2 = data_val_preds.copy(deepcopy = True)\n",
    "    #3. hacer un modelo para cada grupo\n",
    "    sensitive_groups_data = {'priv': [data_val_preds_priv, priv_indices],\n",
    "                             'unpriv': [data_val_preds_unpriv, unpriv_indices]}\n",
    "\n",
    "    for group, data_group_list in sensitive_groups_data.items():\n",
    "\n",
    "        # nombramos al modelo con su grupo específico\n",
    "        model_name_group = '{}_{}_{}'.format(model_name, fairness_method, group)\n",
    "\n",
    "        # Inicializamos el modelo y lo asignamos al diccionario\n",
    "        models[model_name_group] = LogisticRegression()\n",
    "\n",
    "        # Realizamos el modelo usando datos para cada grupo en el validation data\n",
    "        models[ model_name_group ] = models[model_name_group].fit(data_group_list[0].scores,   # data_group_list[0] -> data_val_preds_priv or data_val_preds_unpriv\n",
    "                                                                  data_val_copy.subset(data_group_list[1]).labels.ravel()) # data_group_list[1] -> priv_indices or unpriv_indices\n",
    "        # haz predicciones de probabilidad con el modelo de cada groupo y guardar lo en data_val_preds2\n",
    "        # las predicciones de probabilidad son los platt scores\n",
    "        scores_group = models[model_name_group].predict_proba(data_group_list[0].scores)\n",
    "        pos_ind_group = np.where(models[model_name_group].classes_ == data_group_list[0].favorable_label)[0][0]\n",
    "        data_val_preds2.scores[data_group_list[1]] = scores_group[:, pos_ind_group].reshape(-1,1)\n",
    "        data_val_preds2_m.scores[data_group_list[1]] = scores_group[:, pos_ind_group].reshape(-1,1)\n",
    "        \n",
    "        # Evaluamos a los modelos para el rango de umbrales\n",
    "    thresh_sweep_platt = np.linspace(np.min(data_val_preds2.scores.ravel()),\n",
    "                                     np.max(data_val_preds2.scores.ravel()),\n",
    "                                     50)\n",
    "\n",
    "    metrics_sweep[model_name+fairness_method] = utils.metrics_postprocessing_threshold_sweep_from_scores_mult(\n",
    "            dataset_true = data_val_copy,\n",
    "            dataset2 = data_val2_copy,\n",
    "            dataset_preds = data_val_preds2_m,\n",
    "            thresh_arr = thresh_sweep_platt\n",
    "        )\n",
    "\n",
    "    # Evaluamos las métricas para el mejor umbral y las guardamos\n",
    "    metrics_best_thresh_validate[model_name+fairness_method] = utils.describe_metrics( metrics_sweep[model_name+fairness_method] )\n",
    "\n",
    "    # Graficamos el comportamiento del modelo para el rango de umbrales \n",
    "    print('\\nValidation set results for {}'.format(model_name+fairness_method))\n",
    "    utils.print_metrics(metrics_best_thresh_validate[model_name+fairness_method])\n",
    "    # utils.plot_fairness_and_accuracy( metrics_sweep[model_name+fairness_method] )\n",
    "    # plt.title( model_name+fairness_method )\n",
    "    \n",
    "    f,a = utils.plot_fairness_and_accuracy(metrics_sweep[model_name+fairness_method])\n",
    "    a.set_title(model_name+fairness_method )\n",
    "    f\n"
   ]
  },
  {
   "cell_type": "code",
   "execution_count": 31,
   "id": "1244a8f4-6a63-4d85-a705-aa742b676989",
   "metadata": {
    "tags": []
   },
   "outputs": [
    {
     "name": "stdout",
     "output_type": "stream",
     "text": [
      "\n",
      "Test set results for logistic_regression_platt_scaling\n",
      "Threshold corresponding to *best balanced accuracy*: 0.9291\n",
      "AUC: 0.6302\n",
      "Balanced accuracy: 0.5740\n",
      "Accuracy: 0.5187\n",
      "Independence ( |ΔP(Y_pred = 1)| ): 0.5124\n",
      "Separation ( |ΔFPR + ΔFNR|/2 ): 0.0739\n",
      "Sufficiency ( |ΔPPV| ) : 0.9380\n",
      "\n",
      "Test set results for xgb_classifier_platt_scaling\n",
      "Threshold corresponding to *best balanced accuracy*: 0.9307\n",
      "AUC: 0.8072\n",
      "Balanced accuracy: 0.7261\n",
      "Accuracy: 0.7840\n",
      "Independence ( |ΔP(Y_pred = 1)| ): 0.3463\n",
      "Separation ( |ΔFPR + ΔFNR|/2 ): 0.0160\n",
      "Sufficiency ( |ΔPPV| ) : 0.0395\n"
     ]
    }
   ],
   "source": [
    "# usa el optimal cutoff para predecir usando el test dato\n",
    "\n",
    "for model_name in model_names:\n",
    "    # Obtenemos los scores del modelo de referencia en el teest data\n",
    "    model_thresh = metrics_best_thresh_validate[model_name]['best_threshold']\n",
    "    data_test_preds = utils.update_dataset_from_model(data_test_copy, models[model_name], class_thresh = model_thresh)\n",
    "    data_test_preds_m = utils.update_dataset_from_model2(data_test_copy, data_test2_copy, models[model_name], class_thresh = model_thresh)\n",
    "    \n",
    "    # 1. dividir el test data usando los groups sensibles\n",
    "    data_test_preds_priv, data_test_preds_unpriv, priv_indices, unpriv_indices = utils.split_dataset_on_sensitive_attribute(dataset = data_test_preds,\n",
    "                                                                                                                            privileged_group_label = list((privileged_groups[0].values()))[0])\n",
    "    # 2. copia el test data para guardar los platt scores\n",
    "    data_test_preds2 = data_test_preds.copy(deepcopy = True)\n",
    "    data_test_preds2_m = data_test_preds_m.copy(deepcopy = True)\n",
    "    \n",
    "    # 3. predecir con el modelo de cada grupo\n",
    "    sensitive_groups_data_test = {'priv': [data_test_preds_priv, priv_indices],\n",
    "                                  'unpriv': [data_test_preds_unpriv, unpriv_indices]}\n",
    "\n",
    "    for group, data_group_list in sensitive_groups_data_test.items():    \n",
    "        # nombramos al modelo con su grupo específico\n",
    "        model_name_group = '{}_{}_{}'.format(model_name, fairness_method, group)\n",
    "\n",
    "        # haz predicciones de probabilidad con el modelo de cada groupo y guardar lo en data_test_preds2\n",
    "        scores_group = models[model_name_group].predict_proba(data_group_list[0].scores)\n",
    "        pos_ind_group = np.where(models[model_name_group].classes_ == data_group_list[0].favorable_label)[0][0]\n",
    "        data_test_preds2.scores[data_group_list[1]] = scores_group[:, pos_ind_group].reshape(-1,1)\n",
    "    \n",
    "    metrics_best_thresh_test[model_name+fairness_method] = utils.compute_metrics_from_scores_mult(dataset_true = data_test_copy,\n",
    "                                                                                             dataset_pred = data_test_preds2_m,\n",
    "                                                                                             dataset2 = data_test2_copy,\n",
    "                                                                                             threshold = metrics_best_thresh_validate[model_name+fairness_method]['best_threshold'])\n",
    "    print('\\nTest set results for {}'.format(model_name+fairness_method))\n",
    "    utils.print_metrics(metrics_best_thresh_test[model_name+fairness_method])"
   ]
  },
  {
   "cell_type": "markdown",
   "id": "edd0198e-151d-4b97-a075-a280858cc74e",
   "metadata": {
    "tags": []
   },
   "source": [
    "### Procesador de probabilidades igualadas"
   ]
  },
  {
   "cell_type": "markdown",
   "id": "a07f6934-8815-4a36-82c5-b274ebaf15be",
   "metadata": {},
   "source": [
    "#### Usando labels"
   ]
  },
  {
   "cell_type": "code",
   "execution_count": 32,
   "id": "ab5adde4-4daa-4b1d-a0a5-be3cbd26108d",
   "metadata": {
    "tags": []
   },
   "outputs": [
    {
     "ename": "TypeError",
     "evalue": "No loop matching the specified signature and casting was found for ufunc logical_and",
     "output_type": "error",
     "traceback": [
      "\u001b[0;31m---------------------------------------------------------------------------\u001b[0m",
      "\u001b[0;31mTypeError\u001b[0m                                 Traceback (most recent call last)",
      "File \u001b[0;32m<timed exec>:28\u001b[0m\n",
      "File \u001b[0;32m~/miniconda3/envs/aif360/lib/python3.9/site-packages/aif360/algorithms/transformer.py:27\u001b[0m, in \u001b[0;36maddmetadata.<locals>.wrapper\u001b[0;34m(self, *args, **kwargs)\u001b[0m\n\u001b[1;32m     25\u001b[0m \u001b[38;5;129m@wraps\u001b[39m(func)\n\u001b[1;32m     26\u001b[0m \u001b[38;5;28;01mdef\u001b[39;00m \u001b[38;5;21mwrapper\u001b[39m(\u001b[38;5;28mself\u001b[39m, \u001b[38;5;241m*\u001b[39margs, \u001b[38;5;241m*\u001b[39m\u001b[38;5;241m*\u001b[39mkwargs):\n\u001b[0;32m---> 27\u001b[0m     new_dataset \u001b[38;5;241m=\u001b[39m \u001b[43mfunc\u001b[49m\u001b[43m(\u001b[49m\u001b[38;5;28;43mself\u001b[39;49m\u001b[43m,\u001b[49m\u001b[43m \u001b[49m\u001b[38;5;241;43m*\u001b[39;49m\u001b[43margs\u001b[49m\u001b[43m,\u001b[49m\u001b[43m \u001b[49m\u001b[38;5;241;43m*\u001b[39;49m\u001b[38;5;241;43m*\u001b[39;49m\u001b[43mkwargs\u001b[49m\u001b[43m)\u001b[49m\n\u001b[1;32m     28\u001b[0m     \u001b[38;5;28;01mif\u001b[39;00m \u001b[38;5;28misinstance\u001b[39m(new_dataset, Dataset):\n\u001b[1;32m     29\u001b[0m         new_dataset\u001b[38;5;241m.\u001b[39mmetadata \u001b[38;5;241m=\u001b[39m new_dataset\u001b[38;5;241m.\u001b[39mmetadata\u001b[38;5;241m.\u001b[39mcopy()\n",
      "File \u001b[0;32m~/miniconda3/envs/aif360/lib/python3.9/site-packages/aif360/algorithms/postprocessing/eq_odds_postprocessing.py:144\u001b[0m, in \u001b[0;36mEqOddsPostprocessing.fit\u001b[0;34m(self, dataset_true, dataset_pred)\u001b[0m\n\u001b[1;32m    139\u001b[0m oflip \u001b[38;5;241m=\u001b[39m np\u001b[38;5;241m.\u001b[39mravel(\n\u001b[1;32m    140\u001b[0m     dataset_pred\u001b[38;5;241m.\u001b[39mlabels[cond_vec_unpriv] \u001b[38;5;241m==\u001b[39m dataset_pred\u001b[38;5;241m.\u001b[39munfavorable_label)\n\u001b[1;32m    142\u001b[0m y_true \u001b[38;5;241m=\u001b[39m dataset_true\u001b[38;5;241m.\u001b[39mlabels\u001b[38;5;241m.\u001b[39mravel()\n\u001b[0;32m--> 144\u001b[0m sm_tn \u001b[38;5;241m=\u001b[39m \u001b[43mnp\u001b[49m\u001b[38;5;241;43m.\u001b[39;49m\u001b[43mlogical_and\u001b[49m\u001b[43m(\u001b[49m\u001b[43msflip\u001b[49m\u001b[43m,\u001b[49m\n\u001b[1;32m    145\u001b[0m \u001b[43m    \u001b[49m\u001b[43my_true\u001b[49m\u001b[43m[\u001b[49m\u001b[43mcond_vec_priv\u001b[49m\u001b[43m]\u001b[49m\u001b[43m \u001b[49m\u001b[38;5;241;43m==\u001b[39;49m\u001b[43m \u001b[49m\u001b[43mdataset_true\u001b[49m\u001b[38;5;241;43m.\u001b[39;49m\u001b[43munfavorable_label\u001b[49m\u001b[43m,\u001b[49m\n\u001b[1;32m    146\u001b[0m \u001b[43m    \u001b[49m\u001b[43mdtype\u001b[49m\u001b[38;5;241;43m=\u001b[39;49m\u001b[43mnp\u001b[49m\u001b[38;5;241;43m.\u001b[39;49m\u001b[43mfloat64\u001b[49m\u001b[43m)\u001b[49m\n\u001b[1;32m    147\u001b[0m sm_fn \u001b[38;5;241m=\u001b[39m np\u001b[38;5;241m.\u001b[39mlogical_and(sflip,\n\u001b[1;32m    148\u001b[0m     y_true[cond_vec_priv] \u001b[38;5;241m==\u001b[39m dataset_true\u001b[38;5;241m.\u001b[39mfavorable_label,\n\u001b[1;32m    149\u001b[0m     dtype\u001b[38;5;241m=\u001b[39mnp\u001b[38;5;241m.\u001b[39mfloat64)\n\u001b[1;32m    150\u001b[0m sm_fp \u001b[38;5;241m=\u001b[39m np\u001b[38;5;241m.\u001b[39mlogical_and(sconst,\n\u001b[1;32m    151\u001b[0m     y_true[cond_vec_priv] \u001b[38;5;241m==\u001b[39m dataset_true\u001b[38;5;241m.\u001b[39munfavorable_label,\n\u001b[1;32m    152\u001b[0m     dtype\u001b[38;5;241m=\u001b[39mnp\u001b[38;5;241m.\u001b[39mfloat64)\n",
      "\u001b[0;31mTypeError\u001b[0m: No loop matching the specified signature and casting was found for ufunc logical_and"
     ]
    }
   ],
   "source": [
    "%%time \n",
    "# Nombramos al modelo\n",
    "fairness_method = '_equal_odds'\n",
    "# Nombre del modelo al que le aplicaremos post-processing\n",
    "model_name = 'logistic_regression'\n",
    "\n",
    "# Hacemos una copia de los datasets\n",
    "data_train_copy, data_val_copy, data_test_copy = data_train.copy(deepcopy=True), data_val.copy(deepcopy=True), data_test.copy(deepcopy=True)\n",
    "data_train2_copy, data_val2_copy, data_test2_copy = data_train2.copy(deepcopy=True), data_val2.copy(deepcopy=True), data_test2.copy(deepcopy=True)\n",
    "\n",
    "# Hacemos una copia de las predicciones del modelo de referencia\n",
    "data_train_preds = utils.update_dataset_from_model(data_train_copy, models[model_name])\n",
    "data_val_preds = utils.update_dataset_from_model(data_val_copy, models[model_name])\n",
    "data_test_preds = utils.update_dataset_from_model(data_test_copy, models[model_name])\n",
    "\n",
    "\n",
    "#data_train2_preds = utils.update_dataset_from_model2(data_train_copy, data_train2_copy, models[model_name])\n",
    "#data_val2_preds = utils.update_dataset_from_model2(data_val_copy, data_val2_copy, models[model_name])\n",
    "#data_test2_preds = utils.update_dataset_from_model2(data_test_copy, data_test2_copy, models[model_name])\n",
    "\n",
    "# Inicializamos el modelo (dadas las predicciones, no los scores) y lo asignamos al diccionario\n",
    "models[model_name+fairness_method] = EqOddsPostprocessing(\n",
    "    privileged_groups = privileged_groups,\n",
    "    unprivileged_groups = unprivileged_groups,\n",
    "    #cost_constraint = quality,\n",
    "    seed = seed)\n",
    "\n",
    "# Realizamos el post-procesado en función de las clases realies (data_copy) y las predicciones del modelo de referencia (data_preds)\n",
    "models[model_name+fairness_method] = models[model_name+fairness_method].fit(data_train_copy, data_train_preds)"
   ]
  },
  {
   "cell_type": "code",
   "execution_count": 33,
   "id": "f1dd80d7-0433-43b3-b1b6-f109d2264f19",
   "metadata": {
    "tags": []
   },
   "outputs": [
    {
     "ename": "AttributeError",
     "evalue": "'NoneType' object has no attribute 'x'",
     "output_type": "error",
     "traceback": [
      "\u001b[0;31m---------------------------------------------------------------------------\u001b[0m",
      "\u001b[0;31mAttributeError\u001b[0m                            Traceback (most recent call last)",
      "File \u001b[0;32m<timed exec>:2\u001b[0m\n",
      "File \u001b[0;32m~/DEFINITIVO/utils.py:783\u001b[0m, in \u001b[0;36mmetrics_postprocessing_threshold_sweep\u001b[0;34m(dataset_true, dataset_preds, model, thresh_arr, scores_or_labels)\u001b[0m\n\u001b[1;32m    781\u001b[0m     dataset_preds \u001b[38;5;241m=\u001b[39m update_dataset_from_scores(dataset_preds, dataset_preds\u001b[38;5;241m.\u001b[39mscores, t)\n\u001b[1;32m    782\u001b[0m     dataset_preds_trans \u001b[38;5;241m=\u001b[39m dataset_preds\u001b[38;5;241m.\u001b[39mcopy()\n\u001b[0;32m--> 783\u001b[0m     dataset_preds_trans\u001b[38;5;241m.\u001b[39mlabels \u001b[38;5;241m=\u001b[39m \u001b[43mmodel\u001b[49m\u001b[38;5;241;43m.\u001b[39;49m\u001b[43mpredict\u001b[49m\u001b[43m(\u001b[49m\u001b[43mdataset_preds\u001b[49m\u001b[43m)\u001b[49m\u001b[38;5;241m.\u001b[39mlabels\n\u001b[1;32m    784\u001b[0m \u001b[38;5;28;01melse\u001b[39;00m:\n\u001b[1;32m    785\u001b[0m     \u001b[38;5;28;01mraise\u001b[39;00m \u001b[38;5;167;01mValueError\u001b[39;00m(\u001b[38;5;124m'\u001b[39m\u001b[38;5;124mInvalid value for parameter scores_or_labels. Valid values are: scores; labels\u001b[39m\u001b[38;5;124m'\u001b[39m)\n",
      "File \u001b[0;32m~/miniconda3/envs/aif360/lib/python3.9/site-packages/aif360/algorithms/transformer.py:27\u001b[0m, in \u001b[0;36maddmetadata.<locals>.wrapper\u001b[0;34m(self, *args, **kwargs)\u001b[0m\n\u001b[1;32m     25\u001b[0m \u001b[38;5;129m@wraps\u001b[39m(func)\n\u001b[1;32m     26\u001b[0m \u001b[38;5;28;01mdef\u001b[39;00m \u001b[38;5;21mwrapper\u001b[39m(\u001b[38;5;28mself\u001b[39m, \u001b[38;5;241m*\u001b[39margs, \u001b[38;5;241m*\u001b[39m\u001b[38;5;241m*\u001b[39mkwargs):\n\u001b[0;32m---> 27\u001b[0m     new_dataset \u001b[38;5;241m=\u001b[39m \u001b[43mfunc\u001b[49m\u001b[43m(\u001b[49m\u001b[38;5;28;43mself\u001b[39;49m\u001b[43m,\u001b[49m\u001b[43m \u001b[49m\u001b[38;5;241;43m*\u001b[39;49m\u001b[43margs\u001b[49m\u001b[43m,\u001b[49m\u001b[43m \u001b[49m\u001b[38;5;241;43m*\u001b[39;49m\u001b[38;5;241;43m*\u001b[39;49m\u001b[43mkwargs\u001b[49m\u001b[43m)\u001b[49m\n\u001b[1;32m     28\u001b[0m     \u001b[38;5;28;01mif\u001b[39;00m \u001b[38;5;28misinstance\u001b[39m(new_dataset, Dataset):\n\u001b[1;32m     29\u001b[0m         new_dataset\u001b[38;5;241m.\u001b[39mmetadata \u001b[38;5;241m=\u001b[39m new_dataset\u001b[38;5;241m.\u001b[39mmetadata\u001b[38;5;241m.\u001b[39mcopy()\n",
      "File \u001b[0;32m~/miniconda3/envs/aif360/lib/python3.9/site-packages/aif360/algorithms/postprocessing/eq_odds_postprocessing.py:207\u001b[0m, in \u001b[0;36mEqOddsPostprocessing.predict\u001b[0;34m(self, dataset)\u001b[0m\n\u001b[1;32m    204\u001b[0m     np\u001b[38;5;241m.\u001b[39mrandom\u001b[38;5;241m.\u001b[39mseed(\u001b[38;5;28mself\u001b[39m\u001b[38;5;241m.\u001b[39mseed)\n\u001b[1;32m    206\u001b[0m \u001b[38;5;66;03m# Get the model parameters output from fit\u001b[39;00m\n\u001b[0;32m--> 207\u001b[0m sp2p, sn2p, op2p, on2p \u001b[38;5;241m=\u001b[39m \u001b[38;5;28;43mself\u001b[39;49m\u001b[38;5;241;43m.\u001b[39;49m\u001b[43mmodel_params\u001b[49m\u001b[38;5;241;43m.\u001b[39;49m\u001b[43mx\u001b[49m\n\u001b[1;32m    209\u001b[0m \u001b[38;5;66;03m# Create boolean conditioning vectors for protected groups\u001b[39;00m\n\u001b[1;32m    210\u001b[0m cond_vec_priv \u001b[38;5;241m=\u001b[39m utils\u001b[38;5;241m.\u001b[39mcompute_boolean_conditioning_vector(\n\u001b[1;32m    211\u001b[0m     dataset\u001b[38;5;241m.\u001b[39mprotected_attributes, dataset\u001b[38;5;241m.\u001b[39mprotected_attribute_names,\n\u001b[1;32m    212\u001b[0m     \u001b[38;5;28mself\u001b[39m\u001b[38;5;241m.\u001b[39mprivileged_groups)\n",
      "\u001b[0;31mAttributeError\u001b[0m: 'NoneType' object has no attribute 'x'"
     ]
    }
   ],
   "source": [
    "%%time \n",
    "\n",
    "# Evaluamos al modelo para un rango de umbrales\n",
    "metrics_sweep[model_name+fairness_method] = utils.metrics_postprocessing_threshold_sweep(\n",
    "    dataset_true=data_val_copy,\n",
    "    dataset_preds=data_val_preds,\n",
    "    model=models[model_name+fairness_method],\n",
    "    thresh_arr=thresh_sweep,\n",
    "    scores_or_labels='labels'\n",
    ")\n",
    "\n",
    "# Evaluamos las métricas para el mejor umbral\n",
    "metrics_best_thresh_validate[model_name+fairness_method] = utils.describe_metrics(metrics_sweep[model_name+fairness_method])\n",
    "\n",
    "# Usando el mejor umbral, calculamos las métricas en el test set\n",
    "metrics_best_thresh_test[model_name+fairness_method] = utils.compute_metrics_postprocessing_mult(\n",
    "    dataset_true=data_test_copy,\n",
    "    dataset2 = data_test2_copy,\n",
    "    dataset_preds=data_test_preds,\n",
    "    model=models[model_name+fairness_method], \n",
    "    threshold=metrics_best_thresh_validate[model_name+fairness_method]['best_threshold'], \n",
    "    scores_or_labels='labels')\n",
    "\n",
    "utils.print_metrics(metrics_best_thresh_validate[model_name+fairness_method])\n",
    "print('\\n')\n",
    "\n",
    "# Graficamos el comportamiento del modelo para el rango de umbrales \n",
    "# utils.plot_fairness_and_accuracy(metrics_sweep[model_name+fairness_method])\n",
    "# plt.title(model_name+fairness_method)\n",
    "\n",
    "f,a = utils.plot_fairness_and_accuracy(metrics_sweep[model_name+fairness_method])\n",
    "a.set_title(model_name+fairness_method)\n",
    "f"
   ]
  },
  {
   "cell_type": "code",
   "execution_count": 34,
   "id": "650e19fa-8556-4a70-943b-ec9b47ceb3bb",
   "metadata": {
    "tags": []
   },
   "outputs": [
    {
     "ename": "TypeError",
     "evalue": "__init__() got an unexpected keyword argument 'cost_constraint'",
     "output_type": "error",
     "traceback": [
      "\u001b[0;31m---------------------------------------------------------------------------\u001b[0m",
      "\u001b[0;31mTypeError\u001b[0m                                 Traceback (most recent call last)",
      "File \u001b[0;32m<timed exec>:20\u001b[0m\n",
      "\u001b[0;31mTypeError\u001b[0m: __init__() got an unexpected keyword argument 'cost_constraint'"
     ]
    }
   ],
   "source": [
    "%%time \n",
    "# Nombramos al modelo\n",
    "fairness_method = '_equal_odds'\n",
    "# Nombre del modelo al que le aplicaremos post-processing\n",
    "model_name = 'xgb_classifier'\n",
    "\n",
    "# Hacemos una copia de los datasets\n",
    "data_train_copy, data_val_copy, data_test_copy = data_train.copy(deepcopy=True), data_val.copy(deepcopy=True), data_test.copy(deepcopy=True)\n",
    "\n",
    "# Hacemos una copia de las predicciones del modelo de referencia\n",
    "data_train_preds = utils.update_dataset_from_model(data_train_copy, models[model_name])\n",
    "data_val_preds = utils.update_dataset_from_model(data_val_copy, models[model_name])\n",
    "data_test_preds = utils.update_dataset_from_model(data_test_copy, models[model_name])\n",
    "\n",
    "#data_train2_preds = utils.update_dataset_from_model2(data_train_copy, data_train2_copy, models[model_name])\n",
    "#data_val2_preds = utils.update_dataset_from_model2(data_val_copy, data_val2_copy, models[model_name])\n",
    "#data_test2_preds = utils.update_dataset_from_model2(data_test_copy, data_test2_copy, models[model_name])\n",
    "\n",
    "\n",
    "# Inicializamos el modelo (dadas las predicciones, no los scores) y lo asignamos al diccionario\n",
    "models[model_name+fairness_method] = EqOddsPostprocessing(\n",
    "    privileged_groups = privileged_groups,\n",
    "    unprivileged_groups = unprivileged_groups,\n",
    "    cost_constraint = quality,\n",
    "    seed = seed)\n",
    "\n",
    "# Realizamos el post-procesado en función de las clases realies (data_copy) y las predicciones del modelo de referencia (data_preds)\n",
    "models[model_name+fairness_method] = models[model_name+fairness_method].fit(data_train_copy, data_train_preds)"
   ]
  },
  {
   "cell_type": "code",
   "execution_count": 35,
   "id": "d5e34534-b37f-4781-ac6b-244f0bc2083d",
   "metadata": {
    "tags": []
   },
   "outputs": [
    {
     "ename": "KeyError",
     "evalue": "'xgb_classifier_equal_odds'",
     "output_type": "error",
     "traceback": [
      "\u001b[0;31m---------------------------------------------------------------------------\u001b[0m",
      "\u001b[0;31mKeyError\u001b[0m                                  Traceback (most recent call last)",
      "File \u001b[0;32m<timed exec>:5\u001b[0m\n",
      "\u001b[0;31mKeyError\u001b[0m: 'xgb_classifier_equal_odds'"
     ]
    }
   ],
   "source": [
    "%%time \n",
    "\n",
    "# Evaluamos al modelo para un rango de umbrales\n",
    "metrics_sweep[model_name+fairness_method] = utils.metrics_postprocessing_threshold_sweep(\n",
    "    dataset_true=data_val_copy,\n",
    "    dataset_preds=data_val_preds,\n",
    "    model=models[model_name+fairness_method],\n",
    "    thresh_arr=thresh_sweep,\n",
    "    scores_or_labels='labels'\n",
    ")\n",
    "\n",
    "# Evaluamos las métricas para el mejor umbral\n",
    "metrics_best_thresh_validate[model_name+fairness_method] = utils.describe_metrics(metrics_sweep[model_name+fairness_method])\n",
    "\n",
    "# Usando el mejor umbral, calculamos las métricas en el test set\n",
    "metrics_best_thresh_test[model_name+fairness_method] = utils.compute_metrics_postprocessing_mult(\n",
    "    dataset_true=data_test_copy,\n",
    "    dataset_preds=data_test_preds,\n",
    "    dataset2=data_test2_copy,\n",
    "    model=models[model_name+fairness_method], \n",
    "    threshold=metrics_best_thresh_validate[model_name+fairness_method]['best_threshold'], \n",
    "    scores_or_labels='labels')\n",
    "\n",
    "utils.print_metrics(metrics_best_thresh_validate[model_name+fairness_method])\n",
    "print('\\n')\n",
    "\n",
    "# Graficamos el comportamiento del modelo para el rango de umbrales \n",
    "# utils.plot_fairness_and_accuracy(metrics_sweep[model_name+fairness_method])\n",
    "# plt.title(model_name+fairness_method)\n",
    "\n",
    "f,a = utils.plot_fairness_and_accuracy(metrics_sweep[model_name+fairness_method])\n",
    "a.set_title(model_name+fairness_method)\n",
    "f"
   ]
  },
  {
   "cell_type": "markdown",
   "id": "eed0f34b-3472-4f07-99ca-682f1d43eec4",
   "metadata": {},
   "source": [
    "#### Usando scores"
   ]
  },
  {
   "cell_type": "code",
   "execution_count": 36,
   "id": "91fe772f-abfd-47b1-af84-23ca8a8e2f77",
   "metadata": {
    "tags": []
   },
   "outputs": [
    {
     "name": "stdout",
     "output_type": "stream",
     "text": [
      "CPU times: user 8.28 s, sys: 18.1 s, total: 26.4 s\n",
      "Wall time: 11.3 s\n"
     ]
    }
   ],
   "source": [
    "%%time \n",
    "# Nombramos al modelo\n",
    "fairness_method = '_equal_odds'\n",
    "# Nombre del modelo al que le aplicaremos post-processing\n",
    "model_name = 'logistic_regression'\n",
    "\n",
    "# Hacemos una copia de los datasets\n",
    "data_train_copy, data_val_copy, data_test_copy = data_train.copy(deepcopy=True), data_val.copy(deepcopy=True), data_test.copy(deepcopy=True)\n",
    "data_train2_copy, data_val2_copy, data_test2_copy = data_train2.copy(deepcopy=True), data_val2.copy(deepcopy=True), data_test2.copy(deepcopy=True)\n",
    "\n",
    "# Hacemos una copia de las predicciones del modelo de referencia\n",
    "data_train_preds = utils.update_dataset_from_model(data_train_copy, models[model_name])\n",
    "data_val_preds = utils.update_dataset_from_model(data_val_copy, models[model_name])\n",
    "data_test_preds = utils.update_dataset_from_model(data_test_copy, models[model_name])\n",
    "\n",
    "#data_train2_preds = utils.update_dataset_from_model2(data_train_copy, data_train2_copy, models[model_name])\n",
    "#data_val2_preds = utils.update_dataset_from_model2(data_val_copy, data_val2_copy, models[model_name])\n",
    "#data_test2_preds = utils.update_dataset_from_model2(data_test_copy, data_test2_copy, models[model_name])\n",
    "\n",
    "# Parámetros del modelo\n",
    "# métricas fair a optimizar\n",
    "quality_constraints = [\"weighted\", 'fnr', 'fpr'] # \"weighted\" average of fnr and fpr\n",
    "\n",
    "for quality in quality_constraints:\n",
    "    # nombramos al modelo con su métrica específica\n",
    "    model_name_metric = model_name + fairness_method + '_' + quality\n",
    "    \n",
    "    # Inicializamos el modelo y lo asignamos al diccionario\n",
    "    models[model_name_metric] = CalibratedEqOddsPostprocessing(\n",
    "        privileged_groups=privileged_groups,\n",
    "        unprivileged_groups=unprivileged_groups,\n",
    "        cost_constraint=quality,\n",
    "        seed=seed)\n",
    "\n",
    "    # Realizamos el post-procesado en función de las clases realies (data_copy) y las predicciones del modelo de referencia (data_preds)\n",
    "    models[model_name_metric] = models[model_name_metric].fit(data_train_copy, data_train_preds)"
   ]
  },
  {
   "cell_type": "code",
   "execution_count": 37,
   "id": "54c3bf60-5655-4dfb-bc84-81328eeb70f3",
   "metadata": {
    "tags": []
   },
   "outputs": [
    {
     "data": {
      "text/markdown": [
       "**Validation set results for logistic regression**"
      ],
      "text/plain": [
       "<IPython.core.display.Markdown object>"
      ]
     },
     "metadata": {},
     "output_type": "display_data"
    },
    {
     "name": "stdout",
     "output_type": "stream",
     "text": [
      "Results for logistic_regression_equal_odds_weighted\n",
      "Threshold corresponding to *best balanced accuracy*: 0.9394\n",
      "AUC: 0.6035\n",
      "Balanced accuracy: 0.5863\n",
      "Accuracy: 0.4587\n",
      "Independence ( |ΔP(Y_pred = 1)| ): 0.3829\n",
      "Separation ( |ΔFPR + ΔFNR|/2 ): 0.2160\n",
      "Sufficiency ( |ΔPPV| ) : 0.9557\n",
      "\n",
      "\n",
      "Results for logistic_regression_equal_odds_fnr\n",
      "Threshold corresponding to *best balanced accuracy*: 0.9394\n",
      "AUC: 0.6035\n",
      "Balanced accuracy: 0.5863\n",
      "Accuracy: 0.4587\n",
      "Independence ( |ΔP(Y_pred = 1)| ): 0.3829\n",
      "Separation ( |ΔFPR + ΔFNR|/2 ): 0.2160\n",
      "Sufficiency ( |ΔPPV| ) : 0.9557\n",
      "\n",
      "\n",
      "Results for logistic_regression_equal_odds_fpr\n",
      "Threshold corresponding to *best balanced accuracy*: 0.9394\n",
      "AUC: 0.6035\n",
      "Balanced accuracy: 0.5951\n",
      "Accuracy: 0.4600\n",
      "Independence ( |ΔP(Y_pred = 1)| ): 0.4329\n",
      "Separation ( |ΔFPR + ΔFNR|/2 ): 0.0910\n",
      "Sufficiency ( |ΔPPV| ) : 0.9557\n",
      "\n",
      "\n"
     ]
    }
   ],
   "source": [
    "display(Markdown(\"**Validation set results for logistic regression**\"))\n",
    "for key_metric in quality_constraints:\n",
    "    \n",
    "    model_name_metric = model_name + fairness_method + '_' + key_metric\n",
    "    \n",
    "    print(f'Results for {model_name_metric}')\n",
    "    \n",
    "    # Evaluamos al modelo para un rango de umbrales\n",
    "    metrics_sweep[model_name_metric] = utils.metrics_postprocessing_threshold_sweep(\n",
    "        dataset_true=data_val_copy,\n",
    "        dataset_preds=data_val_preds, \n",
    "        model=models[model_name_metric],\n",
    "        thresh_arr=thresh_sweep,\n",
    "        scores_or_labels='scores'\n",
    "    )\n",
    "\n",
    "    # Evaluamos las métricas para el mejor umbral\n",
    "    metrics_best_thresh_validate[model_name_metric] = utils.describe_metrics(metrics_sweep[model_name_metric])\n",
    "\n",
    "    # Usando el mejor umbral, calculamos las métricas en el test set\n",
    "    metrics_best_thresh_test[model_name_metric] = utils.compute_metrics_postprocessing_mult(\n",
    "        dataset_true=data_test_copy,\n",
    "        dataset_preds=data_test_preds,\n",
    "        dataset2=data_test2_copy,\n",
    "        model=models[model_name_metric], \n",
    "        threshold=metrics_best_thresh_validate[model_name_metric]['best_threshold'], \n",
    "        scores_or_labels='scores')\n",
    "\n",
    "    utils.print_metrics(metrics_best_thresh_validate[model_name_metric])\n",
    "    print('\\n')\n",
    "\n",
    "    # Graficamos el comportamiento del modelo para el rango de umbrales \n",
    "    # utils.plot_fairness_and_accuracy(metrics_sweep[model_name_metric])\n",
    "    # plt.title(model_name_metric)\n",
    "    \n",
    "    f,a = utils.plot_fairness_and_accuracy(metrics_sweep[model_name_metric])\n",
    "    a.set_title(model_name_metric)\n",
    "    f"
   ]
  },
  {
   "cell_type": "code",
   "execution_count": 38,
   "id": "dc56a420-ac57-4e28-9501-eec5628cceb7",
   "metadata": {
    "tags": []
   },
   "outputs": [
    {
     "name": "stdout",
     "output_type": "stream",
     "text": [
      "CPU times: user 9.91 s, sys: 5.34 s, total: 15.2 s\n",
      "Wall time: 11.3 s\n"
     ]
    }
   ],
   "source": [
    "%%time \n",
    "# Nombramos al modelo\n",
    "fairness_method = '_equal_odds'\n",
    "# Nombre del modelo al que le aplicaremos post-processing\n",
    "model_name = 'xgb_classifier'\n",
    "\n",
    "# Hacemos una copia de los datasets\n",
    "data_train_copy, data_val_copy, data_test_copy = data_train.copy(deepcopy=True), data_val.copy(deepcopy=True), data_test.copy(deepcopy=True)\n",
    "data_train2_copy, data_val2_copy, data_test2_copy = data_train2.copy(deepcopy=True), data_val2.copy(deepcopy=True), data_test2.copy(deepcopy=True)\n",
    "\n",
    "# Hacemos una copia de las predicciones del modelo de referencia\n",
    "data_train_preds = utils.update_dataset_from_model(data_train_copy, models[model_name])\n",
    "data_val_preds = utils.update_dataset_from_model(data_val_copy, models[model_name])\n",
    "data_test_preds = utils.update_dataset_from_model(data_test_copy, models[model_name])\n",
    "\n",
    "\n",
    "# Parámetros del modelo\n",
    "# métricas fair a optimizar\n",
    "quality_constraints = [\"weighted\", 'fnr', 'fpr'] # \"weighted\" average of fnr and fpr\n",
    "\n",
    "for quality in quality_constraints:\n",
    "    # nombramos al modelo con su métrica específica\n",
    "    model_name_metric = model_name + fairness_method + '_' + quality\n",
    "    \n",
    "    # Inicializamos el modelo y lo asignamos al diccionario\n",
    "    models[model_name_metric] = CalibratedEqOddsPostprocessing(\n",
    "        privileged_groups=privileged_groups,\n",
    "        unprivileged_groups=unprivileged_groups,\n",
    "        cost_constraint=quality,\n",
    "        seed=seed)\n",
    "\n",
    "    # Realizamos el post-procesado en función de las clases realies (data_copy) y las predicciones del modelo de referencia (data_preds)\n",
    "    models[model_name_metric] = models[model_name_metric].fit(data_train_copy, data_train_preds)"
   ]
  },
  {
   "cell_type": "code",
   "execution_count": 39,
   "id": "fb743307-5205-4d92-8e71-faa2093a4c72",
   "metadata": {
    "tags": []
   },
   "outputs": [
    {
     "data": {
      "text/markdown": [
       "**Validation set results for xgb classifier**"
      ],
      "text/plain": [
       "<IPython.core.display.Markdown object>"
      ]
     },
     "metadata": {},
     "output_type": "display_data"
    },
    {
     "name": "stdout",
     "output_type": "stream",
     "text": [
      "Results for xgb_classifier_equal_odds_weighted\n",
      "Threshold corresponding to *best balanced accuracy*: 0.9192\n",
      "AUC: 0.7285\n",
      "Balanced accuracy: 0.5831\n",
      "Accuracy: 0.8693\n",
      "Independence ( |ΔP(Y_pred = 1)| ): 0.3164\n",
      "Separation ( |ΔFPR + ΔFNR|/2 ): 0.0145\n",
      "Sufficiency ( |ΔPPV| ) : 0.1054\n",
      "\n",
      "\n",
      "Results for xgb_classifier_equal_odds_fnr\n",
      "Threshold corresponding to *best balanced accuracy*: 0.9596\n",
      "AUC: 0.7285\n",
      "Balanced accuracy: 0.5544\n",
      "Accuracy: 0.2360\n",
      "Independence ( |ΔP(Y_pred = 1)| ): 0.1329\n",
      "Separation ( |ΔFPR + ΔFNR|/2 ): 0.0283\n",
      "Sufficiency ( |ΔPPV| ) : 0.1421\n",
      "\n",
      "\n",
      "Results for xgb_classifier_equal_odds_fpr\n",
      "Threshold corresponding to *best balanced accuracy*: 0.9798\n",
      "AUC: 0.7285\n",
      "Balanced accuracy: 0.6722\n",
      "Accuracy: 0.5133\n",
      "Independence ( |ΔP(Y_pred = 1)| ): 0.3685\n",
      "Separation ( |ΔFPR + ΔFNR|/2 ): 0.2751\n",
      "Sufficiency ( |ΔPPV| ) : 0.4795\n",
      "\n",
      "\n"
     ]
    }
   ],
   "source": [
    "display(Markdown(\"**Validation set results for xgb classifier**\"))\n",
    "for key_metric in quality_constraints:\n",
    "    \n",
    "    model_name_metric = model_name + fairness_method + '_' + key_metric\n",
    "    \n",
    "    print(f'Results for {model_name_metric}')\n",
    "    \n",
    "    # Evaluamos al modelo para un rango de umbrales\n",
    "    metrics_sweep[model_name_metric] = utils.metrics_postprocessing_threshold_sweep(\n",
    "        dataset_true=data_val_copy,\n",
    "        dataset_preds=data_val_preds,\n",
    "#        dataset2=data_val2_copy,\n",
    "        model=models[model_name_metric],\n",
    "        thresh_arr=thresh_sweep,\n",
    "        scores_or_labels='scores'\n",
    "    )\n",
    "\n",
    "    # Evaluamos las métricas para el mejor umbral\n",
    "    metrics_best_thresh_validate[model_name_metric] = utils.describe_metrics(metrics_sweep[model_name_metric])\n",
    "\n",
    "    # Usando el mejor umbral, calculamos las métricas en el test set\n",
    "    metrics_best_thresh_test[model_name_metric] = utils.compute_metrics_postprocessing_mult(\n",
    "        dataset_true=data_test_copy,\n",
    "        dataset_preds=data_test_preds,\n",
    "        dataset2=data_test2_copy,\n",
    "        model=models[model_name_metric], \n",
    "        threshold=metrics_best_thresh_validate[model_name_metric]['best_threshold'], \n",
    "        scores_or_labels='scores')\n",
    "\n",
    "    utils.print_metrics(metrics_best_thresh_validate[model_name_metric])\n",
    "    print('\\n')\n",
    "\n",
    "    # Graficamos el comportamiento del modelo para el rango de umbrales \n",
    "    # utils.plot_fairness_and_accuracy(metrics_sweep[model_name_metric])\n",
    "    # plt.title(model_name_metric)\n",
    "    \n",
    "    f,a = utils.plot_fairness_and_accuracy(metrics_sweep[model_name_metric])\n",
    "    a.set_title(model_name_metric)\n",
    "    f"
   ]
  },
  {
   "cell_type": "markdown",
   "id": "ec0ba458-01d8-4c53-b028-32d231932f50",
   "metadata": {},
   "source": [
    "## Comparación de modelos\n",
    "\n",
    "Podemos usar los diccionarios que resumen la calidad de los modelos fair para compararlos todos."
   ]
  },
  {
   "cell_type": "markdown",
   "id": "fbbebe87-e74a-48cf-b621-5781d0f187e3",
   "metadata": {},
   "source": [
    "### Resultados en validación"
   ]
  },
  {
   "cell_type": "code",
   "execution_count": 40,
   "id": "a48fa550-f68f-48a9-bec4-b06db42d0327",
   "metadata": {
    "tags": []
   },
   "outputs": [
    {
     "data": {
      "text/html": [
       "<div>\n",
       "<style scoped>\n",
       "    .dataframe tbody tr th:only-of-type {\n",
       "        vertical-align: middle;\n",
       "    }\n",
       "\n",
       "    .dataframe tbody tr th {\n",
       "        vertical-align: top;\n",
       "    }\n",
       "\n",
       "    .dataframe thead th {\n",
       "        text-align: right;\n",
       "    }\n",
       "</style>\n",
       "<table border=\"1\" class=\"dataframe\">\n",
       "  <thead>\n",
       "    <tr style=\"text-align: right;\">\n",
       "      <th></th>\n",
       "      <th>best_threshold</th>\n",
       "      <th>bal_acc</th>\n",
       "      <th>acc</th>\n",
       "      <th>independence</th>\n",
       "      <th>separation</th>\n",
       "      <th>sufficiency</th>\n",
       "      <th>auc</th>\n",
       "    </tr>\n",
       "  </thead>\n",
       "  <tbody>\n",
       "    <tr>\n",
       "      <th>logistic_regression</th>\n",
       "      <td>0.939388</td>\n",
       "      <td>0.586314</td>\n",
       "      <td>0.458667</td>\n",
       "      <td>0.408861</td>\n",
       "      <td>0.192111</td>\n",
       "      <td>0.955696</td>\n",
       "      <td>0.603529</td>\n",
       "    </tr>\n",
       "    <tr>\n",
       "      <th>xgb_classifier</th>\n",
       "      <td>0.979796</td>\n",
       "      <td>0.672970</td>\n",
       "      <td>0.514667</td>\n",
       "      <td>0.317288</td>\n",
       "      <td>0.208618</td>\n",
       "      <td>0.179412</td>\n",
       "      <td>0.728463</td>\n",
       "    </tr>\n",
       "    <tr>\n",
       "      <th>logistic_regression_reweighting</th>\n",
       "      <td>0.939388</td>\n",
       "      <td>0.584150</td>\n",
       "      <td>0.454667</td>\n",
       "      <td>0.404683</td>\n",
       "      <td>0.189859</td>\n",
       "      <td>0.955272</td>\n",
       "      <td>0.602516</td>\n",
       "    </tr>\n",
       "    <tr>\n",
       "      <th>xgb_classifier_reweighting</th>\n",
       "      <td>0.979796</td>\n",
       "      <td>0.672970</td>\n",
       "      <td>0.514667</td>\n",
       "      <td>0.317288</td>\n",
       "      <td>0.208618</td>\n",
       "      <td>0.179412</td>\n",
       "      <td>0.728463</td>\n",
       "    </tr>\n",
       "    <tr>\n",
       "      <th>logistic_regression_di_remover</th>\n",
       "      <td>0.939388</td>\n",
       "      <td>0.574315</td>\n",
       "      <td>0.496000</td>\n",
       "      <td>0.328430</td>\n",
       "      <td>0.229481</td>\n",
       "      <td>0.351149</td>\n",
       "      <td>0.592213</td>\n",
       "    </tr>\n",
       "    <tr>\n",
       "      <th>xgb_classifier_di_remover</th>\n",
       "      <td>0.979796</td>\n",
       "      <td>0.586998</td>\n",
       "      <td>0.653333</td>\n",
       "      <td>0.321988</td>\n",
       "      <td>0.122673</td>\n",
       "      <td>0.127425</td>\n",
       "      <td>0.666110</td>\n",
       "    </tr>\n",
       "    <tr>\n",
       "      <th>meta_fairness_sr</th>\n",
       "      <td>0.010000</td>\n",
       "      <td>0.500000</td>\n",
       "      <td>0.924000</td>\n",
       "      <td>0.000000</td>\n",
       "      <td>0.000000</td>\n",
       "      <td>0.083827</td>\n",
       "      <td>0.438824</td>\n",
       "    </tr>\n",
       "    <tr>\n",
       "      <th>meta_fairness_fdr</th>\n",
       "      <td>0.010000</td>\n",
       "      <td>0.500000</td>\n",
       "      <td>0.924000</td>\n",
       "      <td>0.000000</td>\n",
       "      <td>0.000000</td>\n",
       "      <td>0.083827</td>\n",
       "      <td>0.449381</td>\n",
       "    </tr>\n",
       "    <tr>\n",
       "      <th>NN_adversarial_debiasing</th>\n",
       "      <td>0.010000</td>\n",
       "      <td>0.500000</td>\n",
       "      <td>0.924000</td>\n",
       "      <td>0.000000</td>\n",
       "      <td>0.000000</td>\n",
       "      <td>0.083827</td>\n",
       "      <td>0.500000</td>\n",
       "    </tr>\n",
       "    <tr>\n",
       "      <th>Basic_NN_no_adversarial_debiasing</th>\n",
       "      <td>0.939388</td>\n",
       "      <td>0.567745</td>\n",
       "      <td>0.588000</td>\n",
       "      <td>0.248172</td>\n",
       "      <td>0.103615</td>\n",
       "      <td>0.125348</td>\n",
       "      <td>0.561454</td>\n",
       "    </tr>\n",
       "    <tr>\n",
       "      <th>logistic_regression_reject_option_spd</th>\n",
       "      <td>0.821717</td>\n",
       "      <td>0.500000</td>\n",
       "      <td>0.924000</td>\n",
       "      <td>0.000000</td>\n",
       "      <td>0.000000</td>\n",
       "      <td>0.083827</td>\n",
       "      <td>0.603529</td>\n",
       "    </tr>\n",
       "    <tr>\n",
       "      <th>logistic_regression_reject_option_aod</th>\n",
       "      <td>0.831616</td>\n",
       "      <td>0.500000</td>\n",
       "      <td>0.924000</td>\n",
       "      <td>0.000000</td>\n",
       "      <td>0.000000</td>\n",
       "      <td>0.083827</td>\n",
       "      <td>0.603529</td>\n",
       "    </tr>\n",
       "    <tr>\n",
       "      <th>logistic_regression_reject_option_eod</th>\n",
       "      <td>0.831616</td>\n",
       "      <td>0.500000</td>\n",
       "      <td>0.924000</td>\n",
       "      <td>0.000000</td>\n",
       "      <td>0.000000</td>\n",
       "      <td>0.083827</td>\n",
       "      <td>0.603529</td>\n",
       "    </tr>\n",
       "    <tr>\n",
       "      <th>xgb_classifier_reject_option_spd</th>\n",
       "      <td>0.603939</td>\n",
       "      <td>0.515379</td>\n",
       "      <td>0.922667</td>\n",
       "      <td>0.006964</td>\n",
       "      <td>0.016979</td>\n",
       "      <td>0.086124</td>\n",
       "      <td>0.728463</td>\n",
       "    </tr>\n",
       "    <tr>\n",
       "      <th>xgb_classifier_reject_option_aod</th>\n",
       "      <td>0.772222</td>\n",
       "      <td>0.515379</td>\n",
       "      <td>0.922667</td>\n",
       "      <td>0.006964</td>\n",
       "      <td>0.016979</td>\n",
       "      <td>0.086124</td>\n",
       "      <td>0.728463</td>\n",
       "    </tr>\n",
       "    <tr>\n",
       "      <th>xgb_classifier_reject_option_eod</th>\n",
       "      <td>0.772222</td>\n",
       "      <td>0.515379</td>\n",
       "      <td>0.922667</td>\n",
       "      <td>0.006964</td>\n",
       "      <td>0.016979</td>\n",
       "      <td>0.086124</td>\n",
       "      <td>0.728463</td>\n",
       "    </tr>\n",
       "    <tr>\n",
       "      <th>logistic_regression_platt_scaling</th>\n",
       "      <td>0.929063</td>\n",
       "      <td>0.602757</td>\n",
       "      <td>0.414667</td>\n",
       "      <td>0.381616</td>\n",
       "      <td>0.102044</td>\n",
       "      <td>0.963504</td>\n",
       "      <td>0.622592</td>\n",
       "    </tr>\n",
       "    <tr>\n",
       "      <th>xgb_classifier_platt_scaling</th>\n",
       "      <td>0.930702</td>\n",
       "      <td>0.679388</td>\n",
       "      <td>0.630667</td>\n",
       "      <td>0.555884</td>\n",
       "      <td>0.140804</td>\n",
       "      <td>0.033784</td>\n",
       "      <td>0.733981</td>\n",
       "    </tr>\n",
       "    <tr>\n",
       "      <th>logistic_regression_equal_odds_weighted</th>\n",
       "      <td>0.939388</td>\n",
       "      <td>0.586314</td>\n",
       "      <td>0.458667</td>\n",
       "      <td>0.382877</td>\n",
       "      <td>0.215967</td>\n",
       "      <td>0.955696</td>\n",
       "      <td>0.603529</td>\n",
       "    </tr>\n",
       "    <tr>\n",
       "      <th>logistic_regression_equal_odds_fnr</th>\n",
       "      <td>0.939388</td>\n",
       "      <td>0.586314</td>\n",
       "      <td>0.458667</td>\n",
       "      <td>0.382877</td>\n",
       "      <td>0.215967</td>\n",
       "      <td>0.955696</td>\n",
       "      <td>0.603529</td>\n",
       "    </tr>\n",
       "    <tr>\n",
       "      <th>logistic_regression_equal_odds_fpr</th>\n",
       "      <td>0.939388</td>\n",
       "      <td>0.595086</td>\n",
       "      <td>0.460000</td>\n",
       "      <td>0.432877</td>\n",
       "      <td>0.090967</td>\n",
       "      <td>0.955696</td>\n",
       "      <td>0.603529</td>\n",
       "    </tr>\n",
       "    <tr>\n",
       "      <th>xgb_classifier_equal_odds_weighted</th>\n",
       "      <td>0.919184</td>\n",
       "      <td>0.583124</td>\n",
       "      <td>0.869333</td>\n",
       "      <td>0.316438</td>\n",
       "      <td>0.014518</td>\n",
       "      <td>0.105381</td>\n",
       "      <td>0.728463</td>\n",
       "    </tr>\n",
       "    <tr>\n",
       "      <th>xgb_classifier_equal_odds_fnr</th>\n",
       "      <td>0.959592</td>\n",
       "      <td>0.554378</td>\n",
       "      <td>0.236000</td>\n",
       "      <td>0.132877</td>\n",
       "      <td>0.028336</td>\n",
       "      <td>0.142077</td>\n",
       "      <td>0.728463</td>\n",
       "    </tr>\n",
       "    <tr>\n",
       "      <th>xgb_classifier_equal_odds_fpr</th>\n",
       "      <td>0.979796</td>\n",
       "      <td>0.672249</td>\n",
       "      <td>0.513333</td>\n",
       "      <td>0.368493</td>\n",
       "      <td>0.275127</td>\n",
       "      <td>0.479532</td>\n",
       "      <td>0.728463</td>\n",
       "    </tr>\n",
       "  </tbody>\n",
       "</table>\n",
       "</div>"
      ],
      "text/plain": [
       "                                         best_threshold   bal_acc       acc  \\\n",
       "logistic_regression                            0.939388  0.586314  0.458667   \n",
       "xgb_classifier                                 0.979796  0.672970  0.514667   \n",
       "logistic_regression_reweighting                0.939388  0.584150  0.454667   \n",
       "xgb_classifier_reweighting                     0.979796  0.672970  0.514667   \n",
       "logistic_regression_di_remover                 0.939388  0.574315  0.496000   \n",
       "xgb_classifier_di_remover                      0.979796  0.586998  0.653333   \n",
       "meta_fairness_sr                               0.010000  0.500000  0.924000   \n",
       "meta_fairness_fdr                              0.010000  0.500000  0.924000   \n",
       "NN_adversarial_debiasing                       0.010000  0.500000  0.924000   \n",
       "Basic_NN_no_adversarial_debiasing              0.939388  0.567745  0.588000   \n",
       "logistic_regression_reject_option_spd          0.821717  0.500000  0.924000   \n",
       "logistic_regression_reject_option_aod          0.831616  0.500000  0.924000   \n",
       "logistic_regression_reject_option_eod          0.831616  0.500000  0.924000   \n",
       "xgb_classifier_reject_option_spd               0.603939  0.515379  0.922667   \n",
       "xgb_classifier_reject_option_aod               0.772222  0.515379  0.922667   \n",
       "xgb_classifier_reject_option_eod               0.772222  0.515379  0.922667   \n",
       "logistic_regression_platt_scaling              0.929063  0.602757  0.414667   \n",
       "xgb_classifier_platt_scaling                   0.930702  0.679388  0.630667   \n",
       "logistic_regression_equal_odds_weighted        0.939388  0.586314  0.458667   \n",
       "logistic_regression_equal_odds_fnr             0.939388  0.586314  0.458667   \n",
       "logistic_regression_equal_odds_fpr             0.939388  0.595086  0.460000   \n",
       "xgb_classifier_equal_odds_weighted             0.919184  0.583124  0.869333   \n",
       "xgb_classifier_equal_odds_fnr                  0.959592  0.554378  0.236000   \n",
       "xgb_classifier_equal_odds_fpr                  0.979796  0.672249  0.513333   \n",
       "\n",
       "                                         independence  separation  \\\n",
       "logistic_regression                          0.408861    0.192111   \n",
       "xgb_classifier                               0.317288    0.208618   \n",
       "logistic_regression_reweighting              0.404683    0.189859   \n",
       "xgb_classifier_reweighting                   0.317288    0.208618   \n",
       "logistic_regression_di_remover               0.328430    0.229481   \n",
       "xgb_classifier_di_remover                    0.321988    0.122673   \n",
       "meta_fairness_sr                             0.000000    0.000000   \n",
       "meta_fairness_fdr                            0.000000    0.000000   \n",
       "NN_adversarial_debiasing                     0.000000    0.000000   \n",
       "Basic_NN_no_adversarial_debiasing            0.248172    0.103615   \n",
       "logistic_regression_reject_option_spd        0.000000    0.000000   \n",
       "logistic_regression_reject_option_aod        0.000000    0.000000   \n",
       "logistic_regression_reject_option_eod        0.000000    0.000000   \n",
       "xgb_classifier_reject_option_spd             0.006964    0.016979   \n",
       "xgb_classifier_reject_option_aod             0.006964    0.016979   \n",
       "xgb_classifier_reject_option_eod             0.006964    0.016979   \n",
       "logistic_regression_platt_scaling            0.381616    0.102044   \n",
       "xgb_classifier_platt_scaling                 0.555884    0.140804   \n",
       "logistic_regression_equal_odds_weighted      0.382877    0.215967   \n",
       "logistic_regression_equal_odds_fnr           0.382877    0.215967   \n",
       "logistic_regression_equal_odds_fpr           0.432877    0.090967   \n",
       "xgb_classifier_equal_odds_weighted           0.316438    0.014518   \n",
       "xgb_classifier_equal_odds_fnr                0.132877    0.028336   \n",
       "xgb_classifier_equal_odds_fpr                0.368493    0.275127   \n",
       "\n",
       "                                         sufficiency       auc  \n",
       "logistic_regression                         0.955696  0.603529  \n",
       "xgb_classifier                              0.179412  0.728463  \n",
       "logistic_regression_reweighting             0.955272  0.602516  \n",
       "xgb_classifier_reweighting                  0.179412  0.728463  \n",
       "logistic_regression_di_remover              0.351149  0.592213  \n",
       "xgb_classifier_di_remover                   0.127425  0.666110  \n",
       "meta_fairness_sr                            0.083827  0.438824  \n",
       "meta_fairness_fdr                           0.083827  0.449381  \n",
       "NN_adversarial_debiasing                    0.083827  0.500000  \n",
       "Basic_NN_no_adversarial_debiasing           0.125348  0.561454  \n",
       "logistic_regression_reject_option_spd       0.083827  0.603529  \n",
       "logistic_regression_reject_option_aod       0.083827  0.603529  \n",
       "logistic_regression_reject_option_eod       0.083827  0.603529  \n",
       "xgb_classifier_reject_option_spd            0.086124  0.728463  \n",
       "xgb_classifier_reject_option_aod            0.086124  0.728463  \n",
       "xgb_classifier_reject_option_eod            0.086124  0.728463  \n",
       "logistic_regression_platt_scaling           0.963504  0.622592  \n",
       "xgb_classifier_platt_scaling                0.033784  0.733981  \n",
       "logistic_regression_equal_odds_weighted     0.955696  0.603529  \n",
       "logistic_regression_equal_odds_fnr          0.955696  0.603529  \n",
       "logistic_regression_equal_odds_fpr          0.955696  0.603529  \n",
       "xgb_classifier_equal_odds_weighted          0.105381  0.728463  \n",
       "xgb_classifier_equal_odds_fnr               0.142077  0.728463  \n",
       "xgb_classifier_equal_odds_fpr               0.479532  0.728463  "
      ]
     },
     "execution_count": 40,
     "metadata": {},
     "output_type": "execute_result"
    }
   ],
   "source": [
    "algorithm_performance_summary = pd.DataFrame(metrics_best_thresh_validate).T\n",
    "algorithm_performance_summary"
   ]
  },
  {
   "cell_type": "markdown",
   "id": "1a06e761-8490-4df7-84ac-151da29f852a",
   "metadata": {},
   "source": [
    "### Resultados en test"
   ]
  },
  {
   "cell_type": "code",
   "execution_count": 41,
   "id": "f5abfc6b-bd82-4291-8473-a1c5ccdd9bcf",
   "metadata": {
    "tags": []
   },
   "outputs": [
    {
     "data": {
      "text/html": [
       "<div>\n",
       "<style scoped>\n",
       "    .dataframe tbody tr th:only-of-type {\n",
       "        vertical-align: middle;\n",
       "    }\n",
       "\n",
       "    .dataframe tbody tr th {\n",
       "        vertical-align: top;\n",
       "    }\n",
       "\n",
       "    .dataframe thead th {\n",
       "        text-align: right;\n",
       "    }\n",
       "</style>\n",
       "<table border=\"1\" class=\"dataframe\">\n",
       "  <thead>\n",
       "    <tr style=\"text-align: right;\">\n",
       "      <th></th>\n",
       "      <th>best_threshold</th>\n",
       "      <th>bal_acc</th>\n",
       "      <th>acc</th>\n",
       "      <th>independence</th>\n",
       "      <th>separation</th>\n",
       "      <th>sufficiency</th>\n",
       "      <th>auc</th>\n",
       "    </tr>\n",
       "  </thead>\n",
       "  <tbody>\n",
       "    <tr>\n",
       "      <th>logistic_regression</th>\n",
       "      <td>0.939388</td>\n",
       "      <td>0.575642</td>\n",
       "      <td>0.444000</td>\n",
       "      <td>0.418508</td>\n",
       "      <td>0.076342</td>\n",
       "      <td>0.943894</td>\n",
       "      <td>0.630170</td>\n",
       "    </tr>\n",
       "    <tr>\n",
       "      <th>xgb_classifier</th>\n",
       "      <td>0.979796</td>\n",
       "      <td>0.718021</td>\n",
       "      <td>0.536000</td>\n",
       "      <td>0.438058</td>\n",
       "      <td>0.202638</td>\n",
       "      <td>0.011594</td>\n",
       "      <td>0.807193</td>\n",
       "    </tr>\n",
       "    <tr>\n",
       "      <th>logistic_regression_reweighting</th>\n",
       "      <td>0.939388</td>\n",
       "      <td>0.575642</td>\n",
       "      <td>0.444000</td>\n",
       "      <td>0.418508</td>\n",
       "      <td>0.076342</td>\n",
       "      <td>0.943894</td>\n",
       "      <td>0.630034</td>\n",
       "    </tr>\n",
       "    <tr>\n",
       "      <th>xgb_classifier_reweighting</th>\n",
       "      <td>0.979796</td>\n",
       "      <td>0.718021</td>\n",
       "      <td>0.536000</td>\n",
       "      <td>0.438058</td>\n",
       "      <td>0.202638</td>\n",
       "      <td>0.011594</td>\n",
       "      <td>0.807193</td>\n",
       "    </tr>\n",
       "    <tr>\n",
       "      <th>logistic_regression_di_remover</th>\n",
       "      <td>0.939388</td>\n",
       "      <td>0.575938</td>\n",
       "      <td>0.509333</td>\n",
       "      <td>0.380472</td>\n",
       "      <td>0.008603</td>\n",
       "      <td>0.061281</td>\n",
       "      <td>0.631036</td>\n",
       "    </tr>\n",
       "    <tr>\n",
       "      <th>xgb_classifier_di_remover</th>\n",
       "      <td>0.979796</td>\n",
       "      <td>0.663493</td>\n",
       "      <td>0.721333</td>\n",
       "      <td>0.372078</td>\n",
       "      <td>0.036218</td>\n",
       "      <td>0.050000</td>\n",
       "      <td>0.763188</td>\n",
       "    </tr>\n",
       "    <tr>\n",
       "      <th>meta_fairness_sr</th>\n",
       "      <td>0.010000</td>\n",
       "      <td>0.500000</td>\n",
       "      <td>0.914667</td>\n",
       "      <td>0.000000</td>\n",
       "      <td>0.000000</td>\n",
       "      <td>0.031130</td>\n",
       "      <td>0.448205</td>\n",
       "    </tr>\n",
       "    <tr>\n",
       "      <th>meta_fairness_fdr</th>\n",
       "      <td>0.010000</td>\n",
       "      <td>0.500000</td>\n",
       "      <td>0.914667</td>\n",
       "      <td>0.000000</td>\n",
       "      <td>0.000000</td>\n",
       "      <td>0.031130</td>\n",
       "      <td>0.451235</td>\n",
       "    </tr>\n",
       "    <tr>\n",
       "      <th>NN_adversarial_debiasing</th>\n",
       "      <td>0.010000</td>\n",
       "      <td>0.500000</td>\n",
       "      <td>0.914667</td>\n",
       "      <td>0.000000</td>\n",
       "      <td>0.000000</td>\n",
       "      <td>0.031130</td>\n",
       "      <td>0.500000</td>\n",
       "    </tr>\n",
       "    <tr>\n",
       "      <th>Basic_NN_no_adversarial_debiasing</th>\n",
       "      <td>0.939388</td>\n",
       "      <td>0.584457</td>\n",
       "      <td>0.602667</td>\n",
       "      <td>0.334360</td>\n",
       "      <td>0.124121</td>\n",
       "      <td>0.081072</td>\n",
       "      <td>0.621549</td>\n",
       "    </tr>\n",
       "    <tr>\n",
       "      <th>logistic_regression_reject_option_spd</th>\n",
       "      <td>0.821717</td>\n",
       "      <td>0.500000</td>\n",
       "      <td>0.914667</td>\n",
       "      <td>0.000000</td>\n",
       "      <td>0.000000</td>\n",
       "      <td>0.031130</td>\n",
       "      <td>0.630170</td>\n",
       "    </tr>\n",
       "    <tr>\n",
       "      <th>logistic_regression_reject_option_aod</th>\n",
       "      <td>0.831616</td>\n",
       "      <td>0.500000</td>\n",
       "      <td>0.914667</td>\n",
       "      <td>0.000000</td>\n",
       "      <td>0.000000</td>\n",
       "      <td>0.031130</td>\n",
       "      <td>0.630170</td>\n",
       "    </tr>\n",
       "    <tr>\n",
       "      <th>logistic_regression_reject_option_eod</th>\n",
       "      <td>0.831616</td>\n",
       "      <td>0.500000</td>\n",
       "      <td>0.914667</td>\n",
       "      <td>0.000000</td>\n",
       "      <td>0.000000</td>\n",
       "      <td>0.031130</td>\n",
       "      <td>0.630170</td>\n",
       "    </tr>\n",
       "    <tr>\n",
       "      <th>xgb_classifier_reject_option_spd</th>\n",
       "      <td>0.603939</td>\n",
       "      <td>0.513438</td>\n",
       "      <td>0.913333</td>\n",
       "      <td>0.032937</td>\n",
       "      <td>0.036624</td>\n",
       "      <td>0.038056</td>\n",
       "      <td>0.807193</td>\n",
       "    </tr>\n",
       "    <tr>\n",
       "      <th>xgb_classifier_reject_option_aod</th>\n",
       "      <td>0.772222</td>\n",
       "      <td>0.513438</td>\n",
       "      <td>0.913333</td>\n",
       "      <td>0.032937</td>\n",
       "      <td>0.036624</td>\n",
       "      <td>0.038056</td>\n",
       "      <td>0.807193</td>\n",
       "    </tr>\n",
       "    <tr>\n",
       "      <th>xgb_classifier_reject_option_eod</th>\n",
       "      <td>0.772222</td>\n",
       "      <td>0.513438</td>\n",
       "      <td>0.913333</td>\n",
       "      <td>0.032937</td>\n",
       "      <td>0.036624</td>\n",
       "      <td>0.038056</td>\n",
       "      <td>0.807193</td>\n",
       "    </tr>\n",
       "    <tr>\n",
       "      <th>logistic_regression_platt_scaling</th>\n",
       "      <td>0.929063</td>\n",
       "      <td>0.573957</td>\n",
       "      <td>0.518667</td>\n",
       "      <td>0.512431</td>\n",
       "      <td>0.073919</td>\n",
       "      <td>0.938005</td>\n",
       "      <td>0.630170</td>\n",
       "    </tr>\n",
       "    <tr>\n",
       "      <th>xgb_classifier_platt_scaling</th>\n",
       "      <td>0.930702</td>\n",
       "      <td>0.726084</td>\n",
       "      <td>0.784000</td>\n",
       "      <td>0.346260</td>\n",
       "      <td>0.015989</td>\n",
       "      <td>0.039497</td>\n",
       "      <td>0.807193</td>\n",
       "    </tr>\n",
       "    <tr>\n",
       "      <th>logistic_regression_equal_odds_weighted</th>\n",
       "      <td>0.939388</td>\n",
       "      <td>0.575642</td>\n",
       "      <td>0.444000</td>\n",
       "      <td>0.418508</td>\n",
       "      <td>0.076342</td>\n",
       "      <td>0.943894</td>\n",
       "      <td>0.630170</td>\n",
       "    </tr>\n",
       "    <tr>\n",
       "      <th>logistic_regression_equal_odds_fnr</th>\n",
       "      <td>0.939388</td>\n",
       "      <td>0.575642</td>\n",
       "      <td>0.444000</td>\n",
       "      <td>0.418508</td>\n",
       "      <td>0.076342</td>\n",
       "      <td>0.943894</td>\n",
       "      <td>0.630170</td>\n",
       "    </tr>\n",
       "    <tr>\n",
       "      <th>logistic_regression_equal_odds_fpr</th>\n",
       "      <td>0.939388</td>\n",
       "      <td>0.575642</td>\n",
       "      <td>0.444000</td>\n",
       "      <td>0.418508</td>\n",
       "      <td>0.076342</td>\n",
       "      <td>0.943894</td>\n",
       "      <td>0.630170</td>\n",
       "    </tr>\n",
       "    <tr>\n",
       "      <th>xgb_classifier_equal_odds_weighted</th>\n",
       "      <td>0.919184</td>\n",
       "      <td>0.605958</td>\n",
       "      <td>0.849333</td>\n",
       "      <td>0.355185</td>\n",
       "      <td>0.210252</td>\n",
       "      <td>0.068006</td>\n",
       "      <td>0.807193</td>\n",
       "    </tr>\n",
       "    <tr>\n",
       "      <th>xgb_classifier_equal_odds_fnr</th>\n",
       "      <td>0.959592</td>\n",
       "      <td>0.572567</td>\n",
       "      <td>0.244000</td>\n",
       "      <td>0.010518</td>\n",
       "      <td>0.015115</td>\n",
       "      <td>0.016807</td>\n",
       "      <td>0.807193</td>\n",
       "    </tr>\n",
       "    <tr>\n",
       "      <th>xgb_classifier_equal_odds_fpr</th>\n",
       "      <td>0.979796</td>\n",
       "      <td>0.718021</td>\n",
       "      <td>0.536000</td>\n",
       "      <td>0.438058</td>\n",
       "      <td>0.202638</td>\n",
       "      <td>0.011594</td>\n",
       "      <td>0.807193</td>\n",
       "    </tr>\n",
       "  </tbody>\n",
       "</table>\n",
       "</div>"
      ],
      "text/plain": [
       "                                         best_threshold   bal_acc       acc  \\\n",
       "logistic_regression                            0.939388  0.575642  0.444000   \n",
       "xgb_classifier                                 0.979796  0.718021  0.536000   \n",
       "logistic_regression_reweighting                0.939388  0.575642  0.444000   \n",
       "xgb_classifier_reweighting                     0.979796  0.718021  0.536000   \n",
       "logistic_regression_di_remover                 0.939388  0.575938  0.509333   \n",
       "xgb_classifier_di_remover                      0.979796  0.663493  0.721333   \n",
       "meta_fairness_sr                               0.010000  0.500000  0.914667   \n",
       "meta_fairness_fdr                              0.010000  0.500000  0.914667   \n",
       "NN_adversarial_debiasing                       0.010000  0.500000  0.914667   \n",
       "Basic_NN_no_adversarial_debiasing              0.939388  0.584457  0.602667   \n",
       "logistic_regression_reject_option_spd          0.821717  0.500000  0.914667   \n",
       "logistic_regression_reject_option_aod          0.831616  0.500000  0.914667   \n",
       "logistic_regression_reject_option_eod          0.831616  0.500000  0.914667   \n",
       "xgb_classifier_reject_option_spd               0.603939  0.513438  0.913333   \n",
       "xgb_classifier_reject_option_aod               0.772222  0.513438  0.913333   \n",
       "xgb_classifier_reject_option_eod               0.772222  0.513438  0.913333   \n",
       "logistic_regression_platt_scaling              0.929063  0.573957  0.518667   \n",
       "xgb_classifier_platt_scaling                   0.930702  0.726084  0.784000   \n",
       "logistic_regression_equal_odds_weighted        0.939388  0.575642  0.444000   \n",
       "logistic_regression_equal_odds_fnr             0.939388  0.575642  0.444000   \n",
       "logistic_regression_equal_odds_fpr             0.939388  0.575642  0.444000   \n",
       "xgb_classifier_equal_odds_weighted             0.919184  0.605958  0.849333   \n",
       "xgb_classifier_equal_odds_fnr                  0.959592  0.572567  0.244000   \n",
       "xgb_classifier_equal_odds_fpr                  0.979796  0.718021  0.536000   \n",
       "\n",
       "                                         independence  separation  \\\n",
       "logistic_regression                          0.418508    0.076342   \n",
       "xgb_classifier                               0.438058    0.202638   \n",
       "logistic_regression_reweighting              0.418508    0.076342   \n",
       "xgb_classifier_reweighting                   0.438058    0.202638   \n",
       "logistic_regression_di_remover               0.380472    0.008603   \n",
       "xgb_classifier_di_remover                    0.372078    0.036218   \n",
       "meta_fairness_sr                             0.000000    0.000000   \n",
       "meta_fairness_fdr                            0.000000    0.000000   \n",
       "NN_adversarial_debiasing                     0.000000    0.000000   \n",
       "Basic_NN_no_adversarial_debiasing            0.334360    0.124121   \n",
       "logistic_regression_reject_option_spd        0.000000    0.000000   \n",
       "logistic_regression_reject_option_aod        0.000000    0.000000   \n",
       "logistic_regression_reject_option_eod        0.000000    0.000000   \n",
       "xgb_classifier_reject_option_spd             0.032937    0.036624   \n",
       "xgb_classifier_reject_option_aod             0.032937    0.036624   \n",
       "xgb_classifier_reject_option_eod             0.032937    0.036624   \n",
       "logistic_regression_platt_scaling            0.512431    0.073919   \n",
       "xgb_classifier_platt_scaling                 0.346260    0.015989   \n",
       "logistic_regression_equal_odds_weighted      0.418508    0.076342   \n",
       "logistic_regression_equal_odds_fnr           0.418508    0.076342   \n",
       "logistic_regression_equal_odds_fpr           0.418508    0.076342   \n",
       "xgb_classifier_equal_odds_weighted           0.355185    0.210252   \n",
       "xgb_classifier_equal_odds_fnr                0.010518    0.015115   \n",
       "xgb_classifier_equal_odds_fpr                0.438058    0.202638   \n",
       "\n",
       "                                         sufficiency       auc  \n",
       "logistic_regression                         0.943894  0.630170  \n",
       "xgb_classifier                              0.011594  0.807193  \n",
       "logistic_regression_reweighting             0.943894  0.630034  \n",
       "xgb_classifier_reweighting                  0.011594  0.807193  \n",
       "logistic_regression_di_remover              0.061281  0.631036  \n",
       "xgb_classifier_di_remover                   0.050000  0.763188  \n",
       "meta_fairness_sr                            0.031130  0.448205  \n",
       "meta_fairness_fdr                           0.031130  0.451235  \n",
       "NN_adversarial_debiasing                    0.031130  0.500000  \n",
       "Basic_NN_no_adversarial_debiasing           0.081072  0.621549  \n",
       "logistic_regression_reject_option_spd       0.031130  0.630170  \n",
       "logistic_regression_reject_option_aod       0.031130  0.630170  \n",
       "logistic_regression_reject_option_eod       0.031130  0.630170  \n",
       "xgb_classifier_reject_option_spd            0.038056  0.807193  \n",
       "xgb_classifier_reject_option_aod            0.038056  0.807193  \n",
       "xgb_classifier_reject_option_eod            0.038056  0.807193  \n",
       "logistic_regression_platt_scaling           0.938005  0.630170  \n",
       "xgb_classifier_platt_scaling                0.039497  0.807193  \n",
       "logistic_regression_equal_odds_weighted     0.943894  0.630170  \n",
       "logistic_regression_equal_odds_fnr          0.943894  0.630170  \n",
       "logistic_regression_equal_odds_fpr          0.943894  0.630170  \n",
       "xgb_classifier_equal_odds_weighted          0.068006  0.807193  \n",
       "xgb_classifier_equal_odds_fnr               0.016807  0.807193  \n",
       "xgb_classifier_equal_odds_fpr               0.011594  0.807193  "
      ]
     },
     "execution_count": 41,
     "metadata": {},
     "output_type": "execute_result"
    }
   ],
   "source": [
    "algorithm_performance_summary = pd.DataFrame(metrics_best_thresh_test).T\n",
    "algorithm_performance_summary"
   ]
  },
  {
   "cell_type": "code",
   "execution_count": 42,
   "id": "b7b92c06-f74f-46f1-9768-d91a43e96850",
   "metadata": {},
   "outputs": [],
   "source": [
    "algorithm_performance_summary.to_csv('PERFORMANCE_HOMECREDIT_MULTSENS', index = True, sep=',', encoding='utf-8')"
   ]
  }
 ],
 "metadata": {
  "kernelspec": {
   "display_name": "Python 3.9 (aif360)",
   "language": "python",
   "name": "aif360"
  },
  "language_info": {
   "codemirror_mode": {
    "name": "ipython",
    "version": 3
   },
   "file_extension": ".py",
   "mimetype": "text/x-python",
   "name": "python",
   "nbconvert_exporter": "python",
   "pygments_lexer": "ipython3",
   "version": "3.9.19"
  },
  "vscode": {
   "interpreter": {
    "hash": "26de051ba29f2982a8de78e945f0abaf191376122a1563185a90213a26c5da77"
   }
  }
 },
 "nbformat": 4,
 "nbformat_minor": 5
}
