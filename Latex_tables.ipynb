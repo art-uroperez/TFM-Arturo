{
 "cells": [
  {
   "cell_type": "markdown",
   "id": "9568eb88-3042-48f5-89ec-86347292a1a3",
   "metadata": {},
   "source": [
    "# Introducción"
   ]
  },
  {
   "cell_type": "markdown",
   "id": "e44587b3-8645-4cf0-8c47-cadc76922cc6",
   "metadata": {},
   "source": [
    "Este código sirve para imprimir los resultados que hemos obtenido en formato compatible con tablas de lattex."
   ]
  },
  {
   "cell_type": "code",
   "execution_count": 1,
   "id": "ffdb26b2-05f8-499c-8113-625f12daf24c",
   "metadata": {
    "scrolled": true
   },
   "outputs": [],
   "source": [
    "import pandas as pd"
   ]
  },
  {
   "cell_type": "markdown",
   "id": "c79f80f2-9041-4363-bfcd-fd7917ec9cf0",
   "metadata": {},
   "source": [
    "# Simulation study"
   ]
  },
  {
   "cell_type": "markdown",
   "id": "5218bb03-adda-4322-a33d-23d7daf8c8ad",
   "metadata": {},
   "source": [
    "## Simple case"
   ]
  },
  {
   "cell_type": "code",
   "execution_count": 2,
   "id": "9e29aac4-135a-4411-b643-397ad9428432",
   "metadata": {},
   "outputs": [
    {
     "name": "stdout",
     "output_type": "stream",
     "text": [
      "\\begin{tabular}{lrrrrrrr}\n",
      "\\toprule\n",
      " & best_threshold & bal_acc & acc & independence & separation & sufficiency & auc \\\\\n",
      "Model &  &  &  &  &  &  &  \\\\\n",
      "\\midrule\n",
      "logistic_regression & 0.373673 & 0.605366 & 0.593333 & 0.229437 & 0.042972 & 0.059066 & 0.653949 \\\\\n",
      "xgb_classifier & 0.272653 & 0.589142 & 0.580000 & 0.162338 & 0.030776 & 0.000000 & 0.608130 \\\\\n",
      "logistic_regression_reweighting & 0.434286 & 0.598400 & 0.594188 & 0.013103 & 0.056583 & 0.178052 & 0.660011 \\\\\n",
      "xgb_classifier_reweighting & 0.313061 & 0.562879 & 0.557373 & 0.163727 & 0.028283 & 0.126409 & 0.608130 \\\\\n",
      "logistic_regression_di_remover & 0.373673 & 0.605366 & 0.593333 & 0.229437 & 0.042972 & 0.059066 & 0.653949 \\\\\n",
      "xgb_classifier_di_remover & 0.272653 & 0.589142 & 0.580000 & 0.162338 & 0.030776 & 0.000000 & 0.608130 \\\\\n",
      "NN_adversarial_debiasing & 0.515102 & 0.518720 & 0.513333 & 0.638528 & 0.003435 & 0.013514 & 0.572295 \\\\\n",
      "Basic_NN_no_adversarial_debiasing & 0.838367 & 0.493047 & 0.513333 & 0.029221 & 0.054373 & 0.222222 & 0.587984 \\\\\n",
      "logistic_regression_reject_option_spd & 0.524747 & 0.614994 & 0.620000 & 0.119048 & 0.059803 & 0.040670 & 0.653949 \\\\\n",
      "logistic_regression_reject_option_aod & 0.514848 & 0.609378 & 0.613333 & 0.046537 & 0.097895 & 0.110187 & 0.653949 \\\\\n",
      "logistic_regression_reject_option_eod & 0.504949 & 0.596720 & 0.600000 & 0.070346 & 0.075168 & 0.076923 & 0.653949 \\\\\n",
      "xgb_classifier_reject_option_spd & 0.227778 & 0.549117 & 0.533333 & 0.090909 & 0.074874 & 0.044898 & 0.608130 \\\\\n",
      "xgb_classifier_reject_option_aod & 0.326768 & 0.574345 & 0.566667 & 0.182900 & 0.028283 & 0.001303 & 0.608130 \\\\\n",
      "xgb_classifier_reject_option_eod & 0.326768 & 0.574345 & 0.566667 & 0.182900 & 0.028283 & 0.001303 & 0.608130 \\\\\n",
      "logistic_regression_platt_scaling & 0.508738 & 0.596630 & 0.606667 & 0.547619 & 0.169318 & 0.630435 & 0.534498 \\\\\n",
      "xgb_classifier_platt_scaling & 0.500216 & 0.579872 & 0.580000 & 0.204545 & 0.018836 & 0.008980 & 0.589766 \\\\\n",
      "logistic_regression_equal_odds_weighted & 0.373673 & 0.600464 & 0.586667 & 0.169913 & 0.033881 & 0.043546 & 0.653949 \\\\\n",
      "logistic_regression_equal_odds_fnr & 0.373673 & 0.568818 & 0.553333 & 0.380952 & 0.125000 & 0.107226 & 0.653949 \\\\\n",
      "logistic_regression_equal_odds_fpr & 0.373673 & 0.536548 & 0.513333 & 0.151515 & 0.082028 & 0.041667 & 0.653949 \\\\\n",
      "xgb_classifier_equal_odds_weighted & 0.272653 & 0.589142 & 0.580000 & 0.162338 & 0.030776 & 0.000000 & 0.608130 \\\\\n",
      "xgb_classifier_equal_odds_fnr & 0.272653 & 0.589142 & 0.580000 & 0.162338 & 0.030776 & 0.000000 & 0.608130 \\\\\n",
      "xgb_classifier_equal_odds_fpr & 0.272653 & 0.596185 & 0.586667 & 0.150433 & 0.018276 & 0.009020 & 0.608130 \\\\\n",
      "\\bottomrule\n",
      "\\end{tabular}\n",
      "\n"
     ]
    }
   ],
   "source": [
    "data11 = pd.read_csv('SIMULATION_SIMPLE_mild', sep=',', encoding='utf-8')\n",
    "data11 = data11.rename(columns = {'Unnamed: 0': 'Model'})\n",
    "data11 = data11.set_index('Model')\n",
    "print(data11.to_latex())"
   ]
  },
  {
   "cell_type": "code",
   "execution_count": 3,
   "id": "03b31760-2006-4b6f-976d-286628127682",
   "metadata": {},
   "outputs": [
    {
     "name": "stdout",
     "output_type": "stream",
     "text": [
      "\\begin{tabular}{lrrrrrrr}\n",
      "\\toprule\n",
      " & best_threshold & bal_acc & acc & independence & separation & sufficiency & auc \\\\\n",
      "Model &  &  &  &  &  &  &  \\\\\n",
      "\\midrule\n",
      "logistic_regression & 0.353469 & 0.598214 & 0.580000 & 0.146104 & 0.072590 & 0.163741 & 0.699821 \\\\\n",
      "xgb_classifier & 0.494898 & 0.576786 & 0.580000 & 0.122294 & 0.032318 & 0.165775 & 0.593214 \\\\\n",
      "logistic_regression_reweighting & 0.313061 & 0.568611 & 0.548828 & 0.004951 & 0.009913 & 0.183283 & 0.715179 \\\\\n",
      "xgb_classifier_reweighting & 0.494898 & 0.571906 & 0.574605 & 0.110448 & 0.032318 & 0.236147 & 0.593214 \\\\\n",
      "logistic_regression_di_remover & 0.353469 & 0.598214 & 0.580000 & 0.146104 & 0.072590 & 0.163741 & 0.699821 \\\\\n",
      "xgb_classifier_di_remover & 0.494898 & 0.576786 & 0.580000 & 0.122294 & 0.032318 & 0.165775 & 0.593214 \\\\\n",
      "NN_adversarial_debiasing & 0.414082 & 0.532143 & 0.520000 & 0.564935 & 0.059158 & 0.041667 & 0.629107 \\\\\n",
      "Basic_NN_no_adversarial_debiasing & 0.333265 & 0.573214 & 0.566667 & 0.076840 & 0.018268 & 0.098278 & 0.608036 \\\\\n",
      "logistic_regression_reject_option_spd & 0.514848 & 0.647321 & 0.653333 & 0.037879 & 0.160837 & 0.291429 & 0.699821 \\\\\n",
      "logistic_regression_reject_option_aod & 0.425758 & 0.649107 & 0.640000 & 0.009740 & 0.031163 & 0.129314 & 0.699821 \\\\\n",
      "logistic_regression_reject_option_eod & 0.544545 & 0.621429 & 0.633333 & 0.045455 & 0.089020 & 0.223684 & 0.699821 \\\\\n",
      "xgb_classifier_reject_option_spd & 0.207980 & 0.547321 & 0.526667 & 0.060606 & 0.039158 & 0.077591 & 0.593214 \\\\\n",
      "xgb_classifier_reject_option_aod & 0.257475 & 0.562500 & 0.546667 & 0.070346 & 0.000304 & 0.108342 & 0.593214 \\\\\n",
      "xgb_classifier_reject_option_eod & 0.257475 & 0.562500 & 0.546667 & 0.070346 & 0.000304 & 0.108342 & 0.593214 \\\\\n",
      "logistic_regression_platt_scaling & 0.547726 & 0.584821 & 0.586667 & 0.833333 & 0.075440 & 0.557143 & 0.659821 \\\\\n",
      "xgb_classifier_platt_scaling & 0.568280 & 0.591964 & 0.606667 & 0.488095 & 0.119399 & 0.634146 & 0.601607 \\\\\n",
      "logistic_regression_equal_odds_weighted & 0.474694 & 0.679464 & 0.680000 & 0.143939 & 0.063971 & 0.230888 & 0.699821 \\\\\n",
      "logistic_regression_equal_odds_fnr & 0.555510 & 0.604464 & 0.626667 & 0.285714 & 0.159955 & 0.791667 & 0.699821 \\\\\n",
      "logistic_regression_equal_odds_fpr & 0.353469 & 0.535714 & 0.506667 & 0.151515 & 0.065527 & 0.065476 & 0.699821 \\\\\n",
      "xgb_classifier_equal_odds_weighted & 0.494898 & 0.576786 & 0.580000 & 0.122294 & 0.032318 & 0.165775 & 0.593214 \\\\\n",
      "xgb_classifier_equal_odds_fnr & 0.494898 & 0.576786 & 0.580000 & 0.122294 & 0.032318 & 0.165775 & 0.593214 \\\\\n",
      "xgb_classifier_equal_odds_fpr & 0.494898 & 0.583036 & 0.586667 & 0.134199 & 0.044513 & 0.185662 & 0.593214 \\\\\n",
      "\\bottomrule\n",
      "\\end{tabular}\n",
      "\n"
     ]
    }
   ],
   "source": [
    "data01 = pd.read_csv('SIMULATION_SIMPLE_low', sep=',', encoding='utf-8')\n",
    "data01 = data01.rename(columns = {'Unnamed: 0': 'Model'})\n",
    "data01 = data01.set_index('Model')\n",
    "print(data01.to_latex())"
   ]
  },
  {
   "cell_type": "code",
   "execution_count": 4,
   "id": "c97b58d3-4d41-42c0-b536-eea431f0fda8",
   "metadata": {},
   "outputs": [
    {
     "name": "stdout",
     "output_type": "stream",
     "text": [
      "\\begin{tabular}{lrrrrrrr}\n",
      "\\toprule\n",
      " & best_threshold & bal_acc & acc & independence & separation & sufficiency & auc \\\\\n",
      "Model &  &  &  &  &  &  &  \\\\\n",
      "\\midrule\n",
      "logistic_regression & 0.555510 & 0.548137 & 0.553333 & 0.611472 & 0.062263 & 0.430427 & 0.564093 \\\\\n",
      "xgb_classifier & 0.595918 & 0.526297 & 0.533333 & 0.427489 & 0.031565 & 0.333333 & 0.548404 \\\\\n",
      "logistic_regression_reweighting & 0.757551 & 0.494409 & 0.512643 & 0.010426 & 0.009434 & 0.000000 & 0.496167 \\\\\n",
      "xgb_classifier_reweighting & 0.616122 & 0.461298 & 0.467383 & 0.369358 & 0.030935 & 0.124879 & 0.548404 \\\\\n",
      "logistic_regression_di_remover & 0.555510 & 0.548137 & 0.553333 & 0.611472 & 0.062263 & 0.430427 & 0.564093 \\\\\n",
      "xgb_classifier_di_remover & 0.595918 & 0.526297 & 0.533333 & 0.427489 & 0.031565 & 0.333333 & 0.548404 \\\\\n",
      "NN_adversarial_debiasing & 0.010000 & 0.500000 & 0.473333 & 0.000000 & 0.000000 & 0.237013 & 0.346764 \\\\\n",
      "Basic_NN_no_adversarial_debiasing & 0.171633 & 0.528080 & 0.506667 & 0.178571 & 0.013694 & 0.229249 & 0.481369 \\\\\n",
      "logistic_regression_reject_option_spd & 0.465354 & 0.524425 & 0.513333 & 0.063853 & 0.015035 & 0.226280 & 0.564093 \\\\\n",
      "logistic_regression_reject_option_aod & 0.495051 & 0.533518 & 0.526667 & 0.071429 & 0.085603 & 0.299091 & 0.564093 \\\\\n",
      "logistic_regression_reject_option_eod & 0.455455 & 0.511767 & 0.500000 & 0.121212 & 0.024867 & 0.221154 & 0.564093 \\\\\n",
      "xgb_classifier_reject_option_spd & 0.534646 & 0.427884 & 0.426667 & 0.805195 & 0.013119 & 0.421622 & 0.548404 \\\\\n",
      "xgb_classifier_reject_option_aod & 0.217879 & 0.502050 & 0.480000 & 0.127706 & 0.002107 & 0.238889 & 0.548404 \\\\\n",
      "xgb_classifier_reject_option_eod & 0.217879 & 0.502050 & 0.480000 & 0.127706 & 0.002107 & 0.238889 & 0.548404 \\\\\n",
      "logistic_regression_platt_scaling & 0.633562 & 0.617133 & 0.620000 & 1.000000 & 0.000000 & 0.606061 & 0.627919 \\\\\n",
      "xgb_classifier_platt_scaling & 0.624908 & 0.606525 & 0.613333 & 0.833333 & 0.021154 & 0.618182 & 0.634516 \\\\\n",
      "logistic_regression_equal_odds_weighted & 0.555510 & 0.555179 & 0.560000 & 0.626623 & 0.074763 & 0.438182 & 0.564093 \\\\\n",
      "logistic_regression_equal_odds_fnr & 0.555510 & 0.574256 & 0.573333 & 0.869048 & 0.052648 & 0.424242 & 0.564093 \\\\\n",
      "logistic_regression_equal_odds_fpr & 0.474694 & 0.594580 & 0.600000 & 0.893939 & 0.024038 & 0.593220 & 0.564093 \\\\\n",
      "xgb_classifier_equal_odds_weighted & 0.595918 & 0.526297 & 0.533333 & 0.427489 & 0.031565 & 0.333333 & 0.548404 \\\\\n",
      "xgb_classifier_equal_odds_fnr & 0.535306 & 0.530576 & 0.533333 & 0.419913 & 0.019952 & 0.281818 & 0.548404 \\\\\n",
      "xgb_classifier_equal_odds_fpr & 0.595918 & 0.526297 & 0.533333 & 0.427489 & 0.031565 & 0.333333 & 0.548404 \\\\\n",
      "\\bottomrule\n",
      "\\end{tabular}\n",
      "\n"
     ]
    }
   ],
   "source": [
    "data10 = pd.read_csv('SIMULATION_SIMPLE_high', sep=',', encoding='utf-8')\n",
    "data10 = data10.rename(columns = {'Unnamed: 0': 'Model'})\n",
    "data10 = data10.set_index('Model')\n",
    "print(data10.to_latex())"
   ]
  },
  {
   "cell_type": "markdown",
   "id": "b0058db2-9921-4e80-8010-f5c0f36fb38c",
   "metadata": {},
   "source": [
    "## Multiple algorithms"
   ]
  },
  {
   "cell_type": "code",
   "execution_count": 5,
   "id": "88340172-d265-4c5f-bf84-8585db3afd32",
   "metadata": {},
   "outputs": [
    {
     "name": "stdout",
     "output_type": "stream",
     "text": [
      "\\begin{tabular}{lrrrrrrr}\n",
      "\\toprule\n",
      " & best_threshold & bal_acc & acc & independence & separation & sufficiency & auc \\\\\n",
      "Model &  &  &  &  &  &  &  \\\\\n",
      "\\midrule\n",
      "logistic_regression & 0.373673 & 0.605366 & 0.593333 & 0.229437 & 0.042972 & 0.059066 & 0.653949 \\\\\n",
      "xgb_classifier & 0.272653 & 0.589142 & 0.580000 & 0.162338 & 0.030776 & 0.000000 & 0.608130 \\\\\n",
      "NN_adversarial_debiasing & 0.737347 & 0.503655 & 0.520000 & 0.168831 & 0.057656 & 0.178947 & 0.571047 \\\\\n",
      "Basic_NN_no_adversarial_debiasing & 0.757551 & 0.522642 & 0.540000 & 0.096320 & 0.097706 & 0.327273 & 0.584061 \\\\\n",
      "reweighing_NN_adversarial_debiasing & 0.656531 & 0.459127 & 0.470877 & 0.190748 & 0.030064 & 0.033046 & 0.561063 \\\\\n",
      "reweighin_basic_NN_no_adversarial_debiasing & 0.898980 & 0.485848 & 0.502651 & 0.072722 & 0.001472 & 0.023446 & 0.566768 \\\\\n",
      "disparate_impact_NN_adversarial_debiasing & 0.717143 & 0.495899 & 0.513333 & 0.150433 & 0.046999 & 0.143791 & 0.570868 \\\\\n",
      "disparate_impact_basic_NN_no_adversarial_debiasing & 0.797959 & 0.475486 & 0.493333 & 0.162338 & 0.064914 & 0.147059 & 0.556605 \\\\\n",
      "reweighin_logistic_regression & 0.434286 & 0.598400 & 0.594188 & 0.013103 & 0.056583 & 0.178052 & 0.660011 \\\\\n",
      "reweighin_xgb_classifier & 0.313061 & 0.562879 & 0.557373 & 0.163727 & 0.028283 & 0.126409 & 0.608130 \\\\\n",
      "disparate_impact_logistic_regression & 0.373673 & 0.605366 & 0.593333 & 0.229437 & 0.042972 & 0.059066 & 0.653949 \\\\\n",
      "disparate_impact_xgb_classifier & 0.272653 & 0.589142 & 0.580000 & 0.162338 & 0.030776 & 0.000000 & 0.608130 \\\\\n",
      "reweighin_logistic_regression_reject_option_spd & 0.534646 & 0.606525 & 0.613333 & 0.113636 & 0.048010 & 0.028571 & 0.660011 \\\\\n",
      "reweighin_logistic_regression_reject_option_aod & 0.514848 & 0.595293 & 0.600000 & 0.022727 & 0.072895 & 0.090110 & 0.660011 \\\\\n",
      "reweighin_logistic_regression_reject_option_eod & 0.504949 & 0.610091 & 0.613333 & 0.043290 & 0.070402 & 0.076023 & 0.660011 \\\\\n",
      "reweighin_xgb_classifier_reject_option_spd & 0.227778 & 0.549117 & 0.533333 & 0.090909 & 0.074874 & 0.044898 & 0.608130 \\\\\n",
      "reweighin_xgb_classifier_reject_option_aod & 0.326768 & 0.574345 & 0.566667 & 0.182900 & 0.028283 & 0.001303 & 0.608130 \\\\\n",
      "reweighin_xgb_classifier_reject_option_eod & 0.326768 & 0.574345 & 0.566667 & 0.182900 & 0.028283 & 0.001303 & 0.608130 \\\\\n",
      "disparate_impact_logistic_regression_reject_option_spd & 0.524747 & 0.614994 & 0.620000 & 0.119048 & 0.059803 & 0.040670 & 0.653949 \\\\\n",
      "disparate_impact_logistic_regression_reject_option_aod & 0.514848 & 0.609378 & 0.613333 & 0.046537 & 0.097895 & 0.110187 & 0.653949 \\\\\n",
      "disparate_impact_logistic_regression_reject_option_eod & 0.504949 & 0.596720 & 0.600000 & 0.070346 & 0.075168 & 0.076923 & 0.653949 \\\\\n",
      "disparate_impact_xgb_classifier_reject_option_spd & 0.227778 & 0.549117 & 0.533333 & 0.090909 & 0.074874 & 0.044898 & 0.608130 \\\\\n",
      "disparate_impact_xgb_classifier_reject_option_aod & 0.326768 & 0.574345 & 0.566667 & 0.182900 & 0.028283 & 0.001303 & 0.608130 \\\\\n",
      "disparate_impact_xgb_classifier_reject_option_eod & 0.326768 & 0.574345 & 0.566667 & 0.182900 & 0.028283 & 0.001303 & 0.608130 \\\\\n",
      "reweighin_logistic_regression_platt_scaling & 0.508742 & 0.590301 & 0.600000 & 0.559524 & 0.157955 & 0.617021 & 0.533607 \\\\\n",
      "reweighin_xgb_classifier_platt_scaling & 0.500216 & 0.579872 & 0.580000 & 0.204545 & 0.018836 & 0.008980 & 0.589766 \\\\\n",
      "disparate_impact_logistic_regression_platt_scaling & 0.508738 & 0.596630 & 0.606667 & 0.547619 & 0.169318 & 0.630435 & 0.534498 \\\\\n",
      "disparate_impact_xgb_classifier_platt_scaling & 0.500216 & 0.579872 & 0.580000 & 0.204545 & 0.018836 & 0.008980 & 0.589766 \\\\\n",
      "reweighin_logistic_regression_equal_odds_weighted & 0.434286 & 0.603851 & 0.600000 & 0.070346 & 0.065673 & 0.075000 & 0.660011 \\\\\n",
      "reweighin_logistic_regression_equal_odds_fnr & 0.777755 & 0.514798 & 0.540000 & 0.047619 & 0.026136 & 0.750000 & 0.660011 \\\\\n",
      "reweighin_logistic_regression_equal_odds_fpr & 0.777755 & 0.514798 & 0.540000 & 0.047619 & 0.026136 & 0.750000 & 0.660011 \\\\\n",
      "reweighin_xgb_classifier_equal_odds_weighted & 0.272653 & 0.589142 & 0.580000 & 0.162338 & 0.030776 & 0.000000 & 0.608130 \\\\\n",
      "reweighin_xgb_classifier_equal_odds_fnr & 0.272653 & 0.589142 & 0.580000 & 0.162338 & 0.030776 & 0.000000 & 0.608130 \\\\\n",
      "reweighin_xgb_classifier_equal_odds_fpr & 0.272653 & 0.596185 & 0.586667 & 0.150433 & 0.018276 & 0.009020 & 0.608130 \\\\\n",
      "disparate_impact_logistic_regression_equal_odds_weighted & 0.373673 & 0.600464 & 0.586667 & 0.169913 & 0.033881 & 0.043546 & 0.653949 \\\\\n",
      "disparate_impact_logistic_regression_equal_odds_fnr & 0.373673 & 0.568818 & 0.553333 & 0.380952 & 0.125000 & 0.107226 & 0.653949 \\\\\n",
      "disparate_impact_logistic_regression_equal_odds_fpr & 0.373673 & 0.536548 & 0.513333 & 0.151515 & 0.082028 & 0.041667 & 0.653949 \\\\\n",
      "disparate_impact_xgb_classifier_equal_odds_weighted & 0.272653 & 0.589142 & 0.580000 & 0.162338 & 0.030776 & 0.000000 & 0.608130 \\\\\n",
      "disparate_impact_xgb_classifier_equal_odds_fnr & 0.272653 & 0.589142 & 0.580000 & 0.162338 & 0.030776 & 0.000000 & 0.608130 \\\\\n",
      "disparate_impact_xgb_classifier_equal_odds_fpr & 0.272653 & 0.596185 & 0.586667 & 0.150433 & 0.018276 & 0.009020 & 0.608130 \\\\\n",
      "meta_fairness_sr_reject_option_spd & 0.227778 & 0.549117 & 0.533333 & 0.090909 & 0.074874 & 0.044898 & 0.608130 \\\\\n",
      "meta_fairness_sr_reject_option_aod & 0.326768 & 0.574345 & 0.566667 & 0.182900 & 0.028283 & 0.001303 & 0.608130 \\\\\n",
      "meta_fairness_sr_reject_option_eod & 0.326768 & 0.574345 & 0.566667 & 0.182900 & 0.028283 & 0.001303 & 0.608130 \\\\\n",
      "meta_fairness_fdr_reject_option_spd & 0.227778 & 0.549117 & 0.533333 & 0.090909 & 0.074874 & 0.044898 & 0.608130 \\\\\n",
      "meta_fairness_fdr_reject_option_aod & 0.326768 & 0.574345 & 0.566667 & 0.182900 & 0.028283 & 0.001303 & 0.608130 \\\\\n",
      "meta_fairness_fdr_reject_option_eod & 0.326768 & 0.574345 & 0.566667 & 0.182900 & 0.028283 & 0.001303 & 0.608130 \\\\\n",
      "NN_adversarial_debiasing_reject_option_spd & 0.227778 & 0.549117 & 0.533333 & 0.090909 & 0.074874 & 0.044898 & 0.608130 \\\\\n",
      "NN_adversarial_debiasing_reject_option_aod & 0.326768 & 0.574345 & 0.566667 & 0.182900 & 0.028283 & 0.001303 & 0.608130 \\\\\n",
      "NN_adversarial_debiasing_reject_option_eod & 0.326768 & 0.574345 & 0.566667 & 0.182900 & 0.028283 & 0.001303 & 0.608130 \\\\\n",
      "NN_adversarial_debiasing_platt_scaling & 0.512965 & 0.519166 & 0.533333 & 0.389610 & 0.057468 & 0.529412 & 0.494919 \\\\\n",
      "Basic_NN_no_adversarial_debiasing_platt_scaling & 0.512009 & 0.541006 & 0.553333 & 0.476190 & 0.070455 & 0.550000 & 0.532715 \\\\\n",
      "NN_adversarial_debiasing_equal_odds_weighted & 0.535306 & 0.574167 & 0.580000 & 0.310606 & 0.046146 & 0.153153 & 0.571047 \\\\\n",
      "NN_adversarial_debiasing_equal_odds_fnr & 0.494898 & 0.576395 & 0.573333 & 0.391775 & 0.026718 & 0.033088 & 0.571047 \\\\\n",
      "NN_adversarial_debiasing_equal_odds_fpr & 0.676735 & 0.502229 & 0.520000 & 0.351732 & 0.020795 & 0.541667 & 0.571047 \\\\\n",
      "Basic_NN_no_adversarial_debiasing_equal_odds_weighted & 0.757551 & 0.522642 & 0.540000 & 0.096320 & 0.097706 & 0.327273 & 0.584061 \\\\\n",
      "Basic_NN_no_adversarial_debiasing_equal_odds_fnr & 0.676735 & 0.517739 & 0.533333 & 0.063853 & 0.059986 & 0.162500 & 0.584061 \\\\\n",
      "Basic_NN_no_adversarial_debiasing_equal_odds_fpr & 0.757551 & 0.521929 & 0.540000 & 0.120130 & 0.096570 & 0.377778 & 0.584061 \\\\\n",
      "\\bottomrule\n",
      "\\end{tabular}\n",
      "\n"
     ]
    }
   ],
   "source": [
    "dataMS11 = pd.read_csv('SIMULATION_MULTALG_mild', sep=',', encoding='utf-8')\n",
    "dataMS11 = dataMS11.rename(columns = {'Unnamed: 0': 'Model'})\n",
    "dataMS11 = dataMS11.set_index('Model')\n",
    "print(dataMS11.to_latex())"
   ]
  },
  {
   "cell_type": "code",
   "execution_count": 6,
   "id": "7d83b061-c020-4254-90cb-305054db71c4",
   "metadata": {},
   "outputs": [
    {
     "name": "stdout",
     "output_type": "stream",
     "text": [
      "\\begin{tabular}{lrrrrrrr}\n",
      "\\toprule\n",
      " & best_threshold & bal_acc & acc & independence & separation & sufficiency & auc \\\\\n",
      "Model &  &  &  &  &  &  &  \\\\\n",
      "\\midrule\n",
      "logistic_regression & 0.353469 & 0.598214 & 0.580000 & 0.146104 & 0.072590 & 0.163741 & 0.699821 \\\\\n",
      "xgb_classifier & 0.494898 & 0.576786 & 0.580000 & 0.122294 & 0.032318 & 0.165775 & 0.593214 \\\\\n",
      "NN_adversarial_debiasing & 0.414082 & 0.532143 & 0.520000 & 0.564935 & 0.059158 & 0.041667 & 0.629107 \\\\\n",
      "Basic_NN_no_adversarial_debiasing & 0.333265 & 0.573214 & 0.566667 & 0.076840 & 0.018268 & 0.098278 & 0.608036 \\\\\n",
      "reweighing_NN_adversarial_debiasing & 0.454490 & 0.540181 & 0.538955 & 0.198764 & 0.050883 & 0.152472 & 0.565000 \\\\\n",
      "reweighin_basic_NN_no_adversarial_debiasing & 0.555510 & 0.586131 & 0.592989 & 0.130737 & 0.026271 & 0.260069 & 0.618750 \\\\\n",
      "disparate_impact_NN_adversarial_debiasing & 0.535306 & 0.586607 & 0.593333 & 0.028139 & 0.048786 & 0.174769 & 0.595000 \\\\\n",
      "disparate_impact_basic_NN_no_adversarial_debiasing & 0.838367 & 0.541071 & 0.566667 & 0.040043 & 0.015818 & 0.030303 & 0.595536 \\\\\n",
      "reweighin_logistic_regression & 0.313061 & 0.568611 & 0.548828 & 0.004951 & 0.009913 & 0.183283 & 0.715179 \\\\\n",
      "reweighin_xgb_classifier & 0.494898 & 0.571906 & 0.574605 & 0.110448 & 0.032318 & 0.236147 & 0.593214 \\\\\n",
      "disparate_impact_logistic_regression & 0.353469 & 0.598214 & 0.580000 & 0.146104 & 0.072590 & 0.163741 & 0.699821 \\\\\n",
      "disparate_impact_xgb_classifier & 0.494898 & 0.576786 & 0.580000 & 0.122294 & 0.032318 & 0.165775 & 0.593214 \\\\\n",
      "reweighin_logistic_regression_reject_option_spd & 0.504949 & 0.648214 & 0.653333 & 0.034632 & 0.185285 & 0.316239 & 0.715179 \\\\\n",
      "reweighin_logistic_regression_reject_option_aod & 0.425758 & 0.649107 & 0.640000 & 0.009740 & 0.031163 & 0.129314 & 0.715179 \\\\\n",
      "reweighin_logistic_regression_reject_option_eod & 0.524747 & 0.633036 & 0.640000 & 0.014069 & 0.137581 & 0.277576 & 0.715179 \\\\\n",
      "reweighin_xgb_classifier_reject_option_spd & 0.207980 & 0.547321 & 0.526667 & 0.060606 & 0.039158 & 0.077591 & 0.593214 \\\\\n",
      "reweighin_xgb_classifier_reject_option_aod & 0.257475 & 0.562500 & 0.546667 & 0.070346 & 0.000304 & 0.108342 & 0.593214 \\\\\n",
      "reweighin_xgb_classifier_reject_option_eod & 0.257475 & 0.562500 & 0.546667 & 0.070346 & 0.000304 & 0.108342 & 0.593214 \\\\\n",
      "disparate_impact_logistic_regression_reject_option_spd & 0.514848 & 0.647321 & 0.653333 & 0.037879 & 0.160837 & 0.291429 & 0.699821 \\\\\n",
      "disparate_impact_logistic_regression_reject_option_aod & 0.425758 & 0.649107 & 0.640000 & 0.009740 & 0.031163 & 0.129314 & 0.699821 \\\\\n",
      "disparate_impact_logistic_regression_reject_option_eod & 0.544545 & 0.621429 & 0.633333 & 0.045455 & 0.089020 & 0.223684 & 0.699821 \\\\\n",
      "disparate_impact_xgb_classifier_reject_option_spd & 0.207980 & 0.547321 & 0.526667 & 0.060606 & 0.039158 & 0.077591 & 0.593214 \\\\\n",
      "disparate_impact_xgb_classifier_reject_option_aod & 0.257475 & 0.562500 & 0.546667 & 0.070346 & 0.000304 & 0.108342 & 0.593214 \\\\\n",
      "disparate_impact_xgb_classifier_reject_option_eod & 0.257475 & 0.562500 & 0.546667 & 0.070346 & 0.000304 & 0.108342 & 0.593214 \\\\\n",
      "reweighin_logistic_regression_platt_scaling & 0.545679 & 0.591964 & 0.593333 & 0.845238 & 0.087067 & 0.563380 & 0.659821 \\\\\n",
      "reweighin_xgb_classifier_platt_scaling & 0.568280 & 0.591964 & 0.606667 & 0.488095 & 0.119399 & 0.634146 & 0.601607 \\\\\n",
      "disparate_impact_logistic_regression_platt_scaling & 0.547726 & 0.584821 & 0.586667 & 0.833333 & 0.075440 & 0.557143 & 0.659821 \\\\\n",
      "disparate_impact_xgb_classifier_platt_scaling & 0.568280 & 0.591964 & 0.606667 & 0.488095 & 0.119399 & 0.634146 & 0.601607 \\\\\n",
      "reweighin_logistic_regression_equal_odds_weighted & 0.313061 & 0.569643 & 0.546667 & 0.015152 & 0.009913 & 0.110714 & 0.715179 \\\\\n",
      "reweighin_logistic_regression_equal_odds_fnr & 0.353469 & 0.567857 & 0.546667 & 0.008658 & 0.016178 & 0.114379 & 0.715179 \\\\\n",
      "reweighin_logistic_regression_equal_odds_fpr & 0.313061 & 0.569643 & 0.546667 & 0.015152 & 0.009913 & 0.110714 & 0.715179 \\\\\n",
      "reweighin_xgb_classifier_equal_odds_weighted & 0.494898 & 0.576786 & 0.580000 & 0.122294 & 0.032318 & 0.165775 & 0.593214 \\\\\n",
      "reweighin_xgb_classifier_equal_odds_fnr & 0.494898 & 0.576786 & 0.580000 & 0.122294 & 0.032318 & 0.165775 & 0.593214 \\\\\n",
      "reweighin_xgb_classifier_equal_odds_fpr & 0.494898 & 0.583036 & 0.586667 & 0.134199 & 0.044513 & 0.185662 & 0.593214 \\\\\n",
      "disparate_impact_logistic_regression_equal_odds_weighted & 0.474694 & 0.679464 & 0.680000 & 0.143939 & 0.063971 & 0.230888 & 0.699821 \\\\\n",
      "disparate_impact_logistic_regression_equal_odds_fnr & 0.555510 & 0.604464 & 0.626667 & 0.285714 & 0.159955 & 0.791667 & 0.699821 \\\\\n",
      "disparate_impact_logistic_regression_equal_odds_fpr & 0.353469 & 0.535714 & 0.506667 & 0.151515 & 0.065527 & 0.065476 & 0.699821 \\\\\n",
      "disparate_impact_xgb_classifier_equal_odds_weighted & 0.494898 & 0.576786 & 0.580000 & 0.122294 & 0.032318 & 0.165775 & 0.593214 \\\\\n",
      "disparate_impact_xgb_classifier_equal_odds_fnr & 0.494898 & 0.576786 & 0.580000 & 0.122294 & 0.032318 & 0.165775 & 0.593214 \\\\\n",
      "disparate_impact_xgb_classifier_equal_odds_fpr & 0.494898 & 0.583036 & 0.586667 & 0.134199 & 0.044513 & 0.185662 & 0.593214 \\\\\n",
      "meta_fairness_sr_reject_option_spd & 0.207980 & 0.547321 & 0.526667 & 0.060606 & 0.039158 & 0.077591 & 0.593214 \\\\\n",
      "meta_fairness_sr_reject_option_aod & 0.257475 & 0.562500 & 0.546667 & 0.070346 & 0.000304 & 0.108342 & 0.593214 \\\\\n",
      "meta_fairness_sr_reject_option_eod & 0.257475 & 0.562500 & 0.546667 & 0.070346 & 0.000304 & 0.108342 & 0.593214 \\\\\n",
      "meta_fairness_fdr_reject_option_spd & 0.207980 & 0.547321 & 0.526667 & 0.060606 & 0.039158 & 0.077591 & 0.593214 \\\\\n",
      "meta_fairness_fdr_reject_option_aod & 0.257475 & 0.562500 & 0.546667 & 0.070346 & 0.000304 & 0.108342 & 0.593214 \\\\\n",
      "meta_fairness_fdr_reject_option_eod & 0.257475 & 0.562500 & 0.546667 & 0.070346 & 0.000304 & 0.108342 & 0.593214 \\\\\n",
      "NN_adversarial_debiasing_reject_option_spd & 0.207980 & 0.547321 & 0.526667 & 0.060606 & 0.039158 & 0.077591 & 0.593214 \\\\\n",
      "NN_adversarial_debiasing_reject_option_aod & 0.257475 & 0.562500 & 0.546667 & 0.070346 & 0.000304 & 0.108342 & 0.593214 \\\\\n",
      "NN_adversarial_debiasing_reject_option_eod & 0.257475 & 0.562500 & 0.546667 & 0.070346 & 0.000304 & 0.108342 & 0.593214 \\\\\n",
      "NN_adversarial_debiasing_platt_scaling & 0.553969 & 0.558929 & 0.560000 & 0.857143 & 0.027226 & 0.527778 & 0.613214 \\\\\n",
      "Basic_NN_no_adversarial_debiasing_platt_scaling & 0.537167 & 0.583036 & 0.586667 & 0.785714 & 0.076574 & 0.560606 & 0.571964 \\\\\n",
      "Basic_NN_no_adversarial_debiasing_equal_odds_weighted & 0.333265 & 0.580357 & 0.573333 & 0.064935 & 0.006640 & 0.107143 & 0.608036 \\\\\n",
      "Basic_NN_no_adversarial_debiasing_equal_odds_fnr & 0.333265 & 0.573214 & 0.566667 & 0.076840 & 0.018268 & 0.098278 & 0.608036 \\\\\n",
      "Basic_NN_no_adversarial_debiasing_equal_odds_fpr & 0.333265 & 0.588393 & 0.580000 & 0.029221 & 0.004421 & 0.112045 & 0.608036 \\\\\n",
      "\\bottomrule\n",
      "\\end{tabular}\n",
      "\n"
     ]
    }
   ],
   "source": [
    "dataMS01 = pd.read_csv('SIMULATION_MULTALG_low', sep=',', encoding='utf-8')\n",
    "dataMS01 = dataMS01.rename(columns = {'Unnamed: 0': 'Model'})\n",
    "dataMS01 = dataMS01.set_index('Model')\n",
    "print(dataMS01.to_latex())"
   ]
  },
  {
   "cell_type": "code",
   "execution_count": 7,
   "id": "facd6498-5f0b-44a5-829c-9396d42485c6",
   "metadata": {},
   "outputs": [
    {
     "name": "stdout",
     "output_type": "stream",
     "text": [
      "\\begin{tabular}{lrrrrrrr}\n",
      "\\toprule\n",
      " & best_threshold & bal_acc & acc & independence & separation & sufficiency & auc \\\\\n",
      "Model &  &  &  &  &  &  &  \\\\\n",
      "\\midrule\n",
      "logistic_regression & 0.555510 & 0.548137 & 0.553333 & 0.611472 & 0.062263 & 0.430427 & 0.564093 \\\\\n",
      "xgb_classifier & 0.595918 & 0.526297 & 0.533333 & 0.427489 & 0.031565 & 0.333333 & 0.548404 \\\\\n",
      "NN_adversarial_debiasing & 0.010000 & 0.500000 & 0.473333 & 0.000000 & 0.000000 & 0.237013 & 0.346764 \\\\\n",
      "Basic_NN_no_adversarial_debiasing & 0.171633 & 0.528080 & 0.506667 & 0.178571 & 0.013694 & 0.229249 & 0.481369 \\\\\n",
      "reweighing_NN_adversarial_debiasing & 0.232245 & 0.511400 & 0.495838 & 0.141140 & 0.010956 & 0.070615 & 0.534855 \\\\\n",
      "reweighin_basic_NN_no_adversarial_debiasing & 0.212041 & 0.496573 & 0.481971 & 0.139783 & 0.029260 & 0.061590 & 0.485113 \\\\\n",
      "disparate_impact_NN_adversarial_debiasing & 0.434286 & 0.486361 & 0.480000 & 0.435065 & 0.092248 & 0.346491 & 0.523801 \\\\\n",
      "disparate_impact_basic_NN_no_adversarial_debiasing & 0.151429 & 0.502763 & 0.480000 & 0.049784 & 0.004552 & 0.234754 & 0.495275 \\\\\n",
      "reweighin_logistic_regression & 0.757551 & 0.494409 & 0.512643 & 0.010426 & 0.009434 & 0.000000 & 0.496167 \\\\\n",
      "reweighin_xgb_classifier & 0.616122 & 0.461298 & 0.467383 & 0.369358 & 0.030935 & 0.124879 & 0.548404 \\\\\n",
      "disparate_impact_logistic_regression & 0.555510 & 0.548137 & 0.553333 & 0.611472 & 0.062263 & 0.430427 & 0.564093 \\\\\n",
      "disparate_impact_xgb_classifier & 0.595918 & 0.526297 & 0.533333 & 0.427489 & 0.031565 & 0.333333 & 0.548404 \\\\\n",
      "reweighin_logistic_regression_reject_option_spd & 0.405960 & 0.520324 & 0.500000 & 0.024892 & 0.076686 & 0.195960 & 0.496167 \\\\\n",
      "reweighin_logistic_regression_reject_option_aod & 0.485152 & 0.515243 & 0.506667 & 0.120130 & 0.049844 & 0.272059 & 0.496167 \\\\\n",
      "reweighin_logistic_regression_reject_option_eod & 0.524747 & 0.509538 & 0.506667 & 0.121212 & 0.074883 & 0.300813 & 0.496167 \\\\\n",
      "reweighin_xgb_classifier_reject_option_spd & 0.534646 & 0.427884 & 0.426667 & 0.805195 & 0.013119 & 0.421622 & 0.548404 \\\\\n",
      "reweighin_xgb_classifier_reject_option_aod & 0.217879 & 0.502050 & 0.480000 & 0.127706 & 0.002107 & 0.238889 & 0.548404 \\\\\n",
      "reweighin_xgb_classifier_reject_option_eod & 0.217879 & 0.502050 & 0.480000 & 0.127706 & 0.002107 & 0.238889 & 0.548404 \\\\\n",
      "disparate_impact_logistic_regression_reject_option_spd & 0.465354 & 0.524425 & 0.513333 & 0.063853 & 0.015035 & 0.226280 & 0.564093 \\\\\n",
      "disparate_impact_logistic_regression_reject_option_aod & 0.495051 & 0.533518 & 0.526667 & 0.071429 & 0.085603 & 0.299091 & 0.564093 \\\\\n",
      "disparate_impact_logistic_regression_reject_option_eod & 0.455455 & 0.511767 & 0.500000 & 0.121212 & 0.024867 & 0.221154 & 0.564093 \\\\\n",
      "disparate_impact_xgb_classifier_reject_option_spd & 0.534646 & 0.427884 & 0.426667 & 0.805195 & 0.013119 & 0.421622 & 0.548404 \\\\\n",
      "disparate_impact_xgb_classifier_reject_option_aod & 0.217879 & 0.502050 & 0.480000 & 0.127706 & 0.002107 & 0.238889 & 0.548404 \\\\\n",
      "disparate_impact_xgb_classifier_reject_option_eod & 0.217879 & 0.502050 & 0.480000 & 0.127706 & 0.002107 & 0.238889 & 0.548404 \\\\\n",
      "reweighin_logistic_regression_platt_scaling & 0.633620 & 0.622749 & 0.626667 & 0.954545 & 0.025962 & 0.619048 & 0.628276 \\\\\n",
      "reweighin_xgb_classifier_platt_scaling & 0.624908 & 0.606525 & 0.613333 & 0.833333 & 0.021154 & 0.618182 & 0.634516 \\\\\n",
      "disparate_impact_logistic_regression_platt_scaling & 0.633562 & 0.617133 & 0.620000 & 1.000000 & 0.000000 & 0.606061 & 0.627919 \\\\\n",
      "disparate_impact_xgb_classifier_platt_scaling & 0.624908 & 0.606525 & 0.613333 & 0.833333 & 0.021154 & 0.618182 & 0.634516 \\\\\n",
      "reweighin_logistic_regression_equal_odds_weighted & 0.535306 & 0.517204 & 0.520000 & 0.203463 & 0.045658 & 0.288288 & 0.496167 \\\\\n",
      "reweighin_logistic_regression_equal_odds_fnr & 0.434286 & 0.501248 & 0.486667 & 0.107143 & 0.002509 & 0.239344 & 0.496167 \\\\\n",
      "reweighin_logistic_regression_equal_odds_fpr & 0.757551 & 0.493671 & 0.520000 & 0.011905 & 0.009434 & 0.000000 & 0.496167 \\\\\n",
      "reweighin_xgb_classifier_equal_odds_weighted & 0.595918 & 0.526297 & 0.533333 & 0.427489 & 0.031565 & 0.333333 & 0.548404 \\\\\n",
      "reweighin_xgb_classifier_equal_odds_fnr & 0.535306 & 0.530576 & 0.533333 & 0.419913 & 0.019952 & 0.281818 & 0.548404 \\\\\n",
      "reweighin_xgb_classifier_equal_odds_fpr & 0.595918 & 0.526297 & 0.533333 & 0.427489 & 0.031565 & 0.333333 & 0.548404 \\\\\n",
      "disparate_impact_logistic_regression_equal_odds_weighted & 0.555510 & 0.555179 & 0.560000 & 0.626623 & 0.074763 & 0.438182 & 0.564093 \\\\\n",
      "disparate_impact_logistic_regression_equal_odds_fnr & 0.555510 & 0.574256 & 0.573333 & 0.869048 & 0.052648 & 0.424242 & 0.564093 \\\\\n",
      "disparate_impact_logistic_regression_equal_odds_fpr & 0.474694 & 0.594580 & 0.600000 & 0.893939 & 0.024038 & 0.593220 & 0.564093 \\\\\n",
      "disparate_impact_xgb_classifier_equal_odds_weighted & 0.595918 & 0.526297 & 0.533333 & 0.427489 & 0.031565 & 0.333333 & 0.548404 \\\\\n",
      "disparate_impact_xgb_classifier_equal_odds_fnr & 0.535306 & 0.530576 & 0.533333 & 0.419913 & 0.019952 & 0.281818 & 0.548404 \\\\\n",
      "disparate_impact_xgb_classifier_equal_odds_fpr & 0.595918 & 0.526297 & 0.533333 & 0.427489 & 0.031565 & 0.333333 & 0.548404 \\\\\n",
      "meta_fairness_sr_reject_option_spd & 0.534646 & 0.427884 & 0.426667 & 0.805195 & 0.013119 & 0.421622 & 0.548404 \\\\\n",
      "meta_fairness_sr_reject_option_aod & 0.217879 & 0.502050 & 0.480000 & 0.127706 & 0.002107 & 0.238889 & 0.548404 \\\\\n",
      "meta_fairness_sr_reject_option_eod & 0.217879 & 0.502050 & 0.480000 & 0.127706 & 0.002107 & 0.238889 & 0.548404 \\\\\n",
      "meta_fairness_fdr_reject_option_spd & 0.534646 & 0.427884 & 0.426667 & 0.805195 & 0.013119 & 0.421622 & 0.548404 \\\\\n",
      "meta_fairness_fdr_reject_option_aod & 0.217879 & 0.502050 & 0.480000 & 0.127706 & 0.002107 & 0.238889 & 0.548404 \\\\\n",
      "meta_fairness_fdr_reject_option_eod & 0.217879 & 0.502050 & 0.480000 & 0.127706 & 0.002107 & 0.238889 & 0.548404 \\\\\n",
      "NN_adversarial_debiasing_reject_option_spd & 0.534646 & 0.427884 & 0.426667 & 0.805195 & 0.013119 & 0.421622 & 0.548404 \\\\\n",
      "NN_adversarial_debiasing_reject_option_aod & 0.217879 & 0.502050 & 0.480000 & 0.127706 & 0.002107 & 0.238889 & 0.548404 \\\\\n",
      "NN_adversarial_debiasing_reject_option_eod & 0.217879 & 0.502050 & 0.480000 & 0.127706 & 0.002107 & 0.238889 & 0.548404 \\\\\n",
      "NN_adversarial_debiasing_platt_scaling & 0.623489 & 0.606525 & 0.613333 & 0.833333 & 0.021154 & 0.618182 & 0.660189 \\\\\n",
      "Basic_NN_no_adversarial_debiasing_platt_scaling & 0.584995 & 0.612854 & 0.620000 & 0.818182 & 0.040385 & 0.629630 & 0.655910 \\\\\n",
      "Basic_NN_no_adversarial_debiasing_equal_odds_weighted & 0.171633 & 0.528080 & 0.506667 & 0.178571 & 0.013694 & 0.229249 & 0.481369 \\\\\n",
      "Basic_NN_no_adversarial_debiasing_equal_odds_fnr & 0.232245 & 0.497771 & 0.480000 & 0.162338 & 0.014945 & 0.230789 & 0.481369 \\\\\n",
      "Basic_NN_no_adversarial_debiasing_equal_odds_fpr & 0.151429 & 0.517561 & 0.493333 & 0.083333 & 0.014912 & 0.229437 & 0.481369 \\\\\n",
      "\\bottomrule\n",
      "\\end{tabular}\n",
      "\n"
     ]
    }
   ],
   "source": [
    "dataMS10 = pd.read_csv('SIMULATION_MULTALG_high', sep=',', encoding='utf-8')\n",
    "dataMS10 = dataMS10.rename(columns = {'Unnamed: 0': 'Model'})\n",
    "dataMS10 = dataMS10.set_index('Model')\n",
    "print(dataMS10.to_latex())"
   ]
  },
  {
   "cell_type": "markdown",
   "id": "170e10ab-7411-4054-a87a-161b473673d7",
   "metadata": {},
   "source": [
    "## Multiple sensible attributes"
   ]
  },
  {
   "cell_type": "code",
   "execution_count": 8,
   "id": "3b508c45-b33d-4526-966a-01a065e3918e",
   "metadata": {},
   "outputs": [
    {
     "name": "stdout",
     "output_type": "stream",
     "text": [
      "\\begin{tabular}{lrrrrrrr}\n",
      "\\toprule\n",
      " & best_threshold & bal_acc & acc & independence & separation & sufficiency & auc \\\\\n",
      "Model &  &  &  &  &  &  &  \\\\\n",
      "\\midrule\n",
      "logistic_regression & 0.515102 & 0.613782 & 0.613333 & 0.011905 & 0.124878 & 0.028894 & 0.662749 \\\\\n",
      "xgb_classifier & 0.454490 & 0.576389 & 0.573333 & 0.058442 & 0.090470 & 0.006522 & 0.631766 \\\\\n",
      "logistic_regression_reweighting & 0.515102 & 0.594017 & 0.593333 & 0.104978 & 0.173486 & 0.062411 & 0.650463 \\\\\n",
      "xgb_classifier_reweighting & 0.454490 & 0.576389 & 0.573333 & 0.058442 & 0.090470 & 0.006522 & 0.631766 \\\\\n",
      "logistic_regression_di_remover & 0.515102 & 0.613782 & 0.613333 & 0.011905 & 0.124878 & 0.028894 & 0.662749 \\\\\n",
      "xgb_classifier_di_remover & 0.454490 & 0.576389 & 0.573333 & 0.058442 & 0.090470 & 0.006522 & 0.631766 \\\\\n",
      "NN_adversarial_debiasing & 0.151429 & 0.506410 & 0.493333 & 0.150433 & 0.077395 & 0.043537 & 0.527244 \\\\\n",
      "Basic_NN_no_adversarial_debiasing & 0.393878 & 0.573184 & 0.566667 & 0.011905 & 0.149586 & 0.022727 & 0.595085 \\\\\n",
      "logistic_regression_reject_option_spd & 0.455455 & 0.615919 & 0.613333 & 0.028139 & 0.106516 & 0.008009 & 0.662749 \\\\\n",
      "logistic_regression_reject_option_aod & 0.495051 & 0.615919 & 0.613333 & 0.028139 & 0.106516 & 0.008009 & 0.662749 \\\\\n",
      "logistic_regression_reject_option_eod & 0.405960 & 0.615919 & 0.613333 & 0.028139 & 0.106516 & 0.008009 & 0.662749 \\\\\n",
      "xgb_classifier_reject_option_spd & 0.198081 & 0.600427 & 0.600000 & 0.150433 & 0.097631 & 0.030492 & 0.631766 \\\\\n",
      "xgb_classifier_reject_option_aod & 0.227778 & 0.600427 & 0.600000 & 0.150433 & 0.097631 & 0.030492 & 0.631766 \\\\\n",
      "xgb_classifier_reject_option_eod & 0.227778 & 0.600427 & 0.600000 & 0.150433 & 0.097631 & 0.030492 & 0.631766 \\\\\n",
      "logistic_regression_platt_scaling & 0.516753 & 0.613782 & 0.613333 & 0.011905 & 0.124878 & 0.028894 & 0.662749 \\\\\n",
      "xgb_classifier_platt_scaling & 0.499753 & 0.600427 & 0.600000 & 0.150433 & 0.097631 & 0.030492 & 0.631766 \\\\\n",
      "logistic_regression_equal_odds_weighted & 0.515102 & 0.613782 & 0.613333 & 0.011905 & 0.124878 & 0.028894 & 0.662749 \\\\\n",
      "logistic_regression_equal_odds_fnr & 0.515102 & 0.566774 & 0.553333 & 0.297619 & 0.096895 & 0.021828 & 0.662749 \\\\\n",
      "logistic_regression_equal_odds_fpr & 0.474694 & 0.566774 & 0.566667 & 0.243506 & 0.061549 & 0.002165 & 0.662749 \\\\\n",
      "xgb_classifier_equal_odds_weighted & 0.454490 & 0.576389 & 0.573333 & 0.058442 & 0.090470 & 0.006522 & 0.631766 \\\\\n",
      "xgb_classifier_equal_odds_fnr & 0.454490 & 0.569979 & 0.566667 & 0.073593 & 0.106599 & 0.006893 & 0.631766 \\\\\n",
      "xgb_classifier_equal_odds_fpr & 0.454490 & 0.582799 & 0.580000 & 0.070346 & 0.101109 & 0.005556 & 0.631766 \\\\\n",
      "\\bottomrule\n",
      "\\end{tabular}\n",
      "\n"
     ]
    }
   ],
   "source": [
    "dataMA11 = pd.read_csv('SIMULATION_MULTSENS_mild', sep=',', encoding='utf-8')\n",
    "dataMA11 = dataMA11.rename(columns = {'Unnamed: 0': 'Model'})\n",
    "dataMA11 = dataMA11.set_index('Model')\n",
    "print(dataMA11.to_latex())"
   ]
  },
  {
   "cell_type": "code",
   "execution_count": 9,
   "id": "ccb60031-4c2a-45ff-b972-136073383baa",
   "metadata": {},
   "outputs": [
    {
     "name": "stdout",
     "output_type": "stream",
     "text": [
      "\\begin{tabular}{lrrrrrrr}\n",
      "\\toprule\n",
      " & best_threshold & bal_acc & acc & independence & separation & sufficiency & auc \\\\\n",
      "Model &  &  &  &  &  &  &  \\\\\n",
      "\\midrule\n",
      "logistic_regression & 0.474694 & 0.615549 & 0.613333 & 0.088745 & 0.041951 & 0.024725 & 0.713930 \\\\\n",
      "xgb_classifier & 0.212041 & 0.595268 & 0.586667 & 0.057359 & 0.073112 & 0.044150 & 0.694894 \\\\\n",
      "logistic_regression_reweighting & 0.454490 & 0.622754 & 0.620000 & 0.097403 & 0.026893 & 0.009259 & 0.713752 \\\\\n",
      "xgb_classifier_reweighting & 0.212041 & 0.595268 & 0.586667 & 0.057359 & 0.073112 & 0.044150 & 0.694894 \\\\\n",
      "logistic_regression_di_remover & 0.474694 & 0.615549 & 0.613333 & 0.088745 & 0.041951 & 0.024725 & 0.713930 \\\\\n",
      "xgb_classifier_di_remover & 0.212041 & 0.595268 & 0.586667 & 0.057359 & 0.073112 & 0.044150 & 0.694894 \\\\\n",
      "NN_adversarial_debiasing & 0.171633 & 0.579078 & 0.573333 & 0.272727 & 0.082976 & 0.043629 & 0.602206 \\\\\n",
      "Basic_NN_no_adversarial_debiasing & 0.515102 & 0.592510 & 0.593333 & 0.005411 & 0.004368 & 0.009098 & 0.632272 \\\\\n",
      "logistic_regression_reject_option_spd & 0.415859 & 0.647305 & 0.646667 & 0.089827 & 0.101929 & 0.078929 & 0.713930 \\\\\n",
      "logistic_regression_reject_option_aod & 0.425758 & 0.647305 & 0.646667 & 0.089827 & 0.101929 & 0.078929 & 0.713930 \\\\\n",
      "logistic_regression_reject_option_eod & 0.475253 & 0.647305 & 0.646667 & 0.089827 & 0.101929 & 0.078929 & 0.713930 \\\\\n",
      "xgb_classifier_reject_option_spd & 0.217879 & 0.632895 & 0.633333 & 0.126623 & 0.028931 & 0.066667 & 0.694894 \\\\\n",
      "xgb_classifier_reject_option_aod & 0.247576 & 0.632895 & 0.633333 & 0.126623 & 0.028931 & 0.066667 & 0.694894 \\\\\n",
      "xgb_classifier_reject_option_eod & 0.247576 & 0.632895 & 0.633333 & 0.126623 & 0.028931 & 0.066667 & 0.694894 \\\\\n",
      "logistic_regression_platt_scaling & 0.501441 & 0.647305 & 0.646667 & 0.089827 & 0.101929 & 0.078929 & 0.713930 \\\\\n",
      "xgb_classifier_platt_scaling & 0.438012 & 0.627824 & 0.626667 & 0.152597 & 0.067597 & 0.098039 & 0.694894 \\\\\n",
      "logistic_regression_equal_odds_weighted & 0.414082 & 0.572585 & 0.566667 & 0.041126 & 0.016572 & 0.011220 & 0.713930 \\\\\n",
      "logistic_regression_equal_odds_fnr & 0.373673 & 0.574720 & 0.566667 & 0.048701 & 0.010193 & 0.006820 & 0.713930 \\\\\n",
      "logistic_regression_equal_odds_fpr & 0.353469 & 0.587707 & 0.580000 & 0.024892 & 0.033448 & 0.022827 & 0.713930 \\\\\n",
      "xgb_classifier_equal_odds_weighted & 0.212041 & 0.595268 & 0.586667 & 0.057359 & 0.073112 & 0.044150 & 0.694894 \\\\\n",
      "xgb_classifier_equal_odds_fnr & 0.212041 & 0.595268 & 0.586667 & 0.057359 & 0.073112 & 0.044150 & 0.694894 \\\\\n",
      "xgb_classifier_equal_odds_fpr & 0.212041 & 0.595268 & 0.586667 & 0.057359 & 0.073112 & 0.044150 & 0.694894 \\\\\n",
      "\\bottomrule\n",
      "\\end{tabular}\n",
      "\n"
     ]
    }
   ],
   "source": [
    "dataMA01 = pd.read_csv('SIMULATION_MULTSENS_low', sep=',', encoding='utf-8')\n",
    "dataMA01 = dataMA01.rename(columns = {'Unnamed: 0': 'Model'})\n",
    "dataMA01 = dataMA01.set_index('Model')\n",
    "print(dataMA01.to_latex())"
   ]
  },
  {
   "cell_type": "code",
   "execution_count": 10,
   "id": "47b40676-c245-4cb8-b3c0-98e4694ff71e",
   "metadata": {},
   "outputs": [
    {
     "name": "stdout",
     "output_type": "stream",
     "text": [
      "\\begin{tabular}{lrrrrrrr}\n",
      "\\toprule\n",
      " & best_threshold & bal_acc & acc & independence & separation & sufficiency & auc \\\\\n",
      "Model &  &  &  &  &  &  &  \\\\\n",
      "\\midrule\n",
      "logistic_regression & 0.474694 & 0.560714 & 0.560000 & 0.123377 & 0.051745 & 0.052632 & 0.537679 \\\\\n",
      "xgb_classifier & 0.676735 & 0.567857 & 0.586667 & 0.133117 & 0.050165 & 0.145749 & 0.597857 \\\\\n",
      "logistic_regression_reweighting & 0.434286 & 0.498214 & 0.486667 & 0.120130 & 0.034167 & 0.140164 & 0.485893 \\\\\n",
      "xgb_classifier_reweighting & 0.676735 & 0.567857 & 0.586667 & 0.133117 & 0.050165 & 0.145749 & 0.597857 \\\\\n",
      "logistic_regression_di_remover & 0.474694 & 0.560714 & 0.560000 & 0.123377 & 0.051745 & 0.052632 & 0.537679 \\\\\n",
      "xgb_classifier_di_remover & 0.676735 & 0.567857 & 0.586667 & 0.133117 & 0.050165 & 0.145749 & 0.597857 \\\\\n",
      "NN_adversarial_debiasing & 0.151429 & 0.469643 & 0.446667 & 0.159091 & 0.065767 & 0.150390 & 0.425000 \\\\\n",
      "Basic_NN_no_adversarial_debiasing & 0.434286 & 0.547321 & 0.546667 & 0.177489 & 0.029888 & 0.130556 & 0.542679 \\\\\n",
      "logistic_regression_reject_option_spd & 0.435657 & 0.564286 & 0.566667 & 0.179654 & 0.078275 & 0.009291 & 0.537679 \\\\\n",
      "logistic_regression_reject_option_aod & 0.485152 & 0.564286 & 0.566667 & 0.179654 & 0.078275 & 0.009291 & 0.537679 \\\\\n",
      "logistic_regression_reject_option_eod & 0.485152 & 0.564286 & 0.566667 & 0.179654 & 0.078275 & 0.009291 & 0.537679 \\\\\n",
      "xgb_classifier_reject_option_spd & 0.366364 & 0.550000 & 0.553333 & 0.149351 & 0.002962 & 0.102679 & 0.597857 \\\\\n",
      "xgb_classifier_reject_option_aod & 0.237677 & 0.550000 & 0.553333 & 0.149351 & 0.002962 & 0.102679 & 0.597857 \\\\\n",
      "xgb_classifier_reject_option_eod & 0.237677 & 0.550000 & 0.553333 & 0.149351 & 0.002962 & 0.102679 & 0.597857 \\\\\n",
      "logistic_regression_platt_scaling & 0.543595 & 0.542857 & 0.553333 & 0.204545 & 0.002567 & 0.090476 & 0.537679 \\\\\n",
      "xgb_classifier_platt_scaling & 0.565457 & 0.563393 & 0.573333 & 0.192641 & 0.018697 & 0.100000 & 0.597857 \\\\\n",
      "logistic_regression_equal_odds_weighted & 0.454490 & 0.553571 & 0.553333 & 0.243506 & 0.087887 & 0.008658 & 0.537679 \\\\\n",
      "logistic_regression_equal_odds_fnr & 0.515102 & 0.564286 & 0.546667 & 0.428571 & 0.073469 & 0.051136 & 0.537679 \\\\\n",
      "logistic_regression_equal_odds_fpr & 0.454490 & 0.553571 & 0.553333 & 0.243506 & 0.087887 & 0.008658 & 0.537679 \\\\\n",
      "xgb_classifier_equal_odds_weighted & 0.676735 & 0.567857 & 0.586667 & 0.133117 & 0.050165 & 0.145749 & 0.597857 \\\\\n",
      "xgb_classifier_equal_odds_fnr & 0.232245 & 0.556250 & 0.533333 & 0.015152 & 0.029756 & 0.096429 & 0.597857 \\\\\n",
      "xgb_classifier_equal_odds_fpr & 0.676735 & 0.567857 & 0.586667 & 0.133117 & 0.050165 & 0.145749 & 0.597857 \\\\\n",
      "\\bottomrule\n",
      "\\end{tabular}\n",
      "\n"
     ]
    }
   ],
   "source": [
    "dataMA10 = pd.read_csv('SIMULATION_MULTSENS_high', sep=',', encoding='utf-8')\n",
    "dataMA10 = dataMA10.rename(columns = {'Unnamed: 0': 'Model'})\n",
    "dataMA10 = dataMA10.set_index('Model')\n",
    "print(dataMA10.to_latex())"
   ]
  },
  {
   "cell_type": "markdown",
   "id": "12fecd3d-ed83-42c8-99bc-cbb929ce370a",
   "metadata": {},
   "source": [
    "## General case"
   ]
  },
  {
   "cell_type": "code",
   "execution_count": 11,
   "id": "e3e95a34-177a-4620-861c-2d980b5bd9ba",
   "metadata": {},
   "outputs": [
    {
     "name": "stdout",
     "output_type": "stream",
     "text": [
      "\\begin{tabular}{lrrrrrrr}\n",
      "\\toprule\n",
      " & best_threshold & bal_acc & acc & independence & separation & sufficiency & auc \\\\\n",
      "Model &  &  &  &  &  &  &  \\\\\n",
      "\\midrule\n",
      "logistic_regression & 0.515102 & 0.576389 & 0.580000 & 0.055287 & 0.038636 & 0.139560 & 0.603989 \\\\\n",
      "xgb_classifier & 0.272653 & 0.494658 & 0.486667 & 0.088567 & 0.085859 & 0.138889 & 0.464387 \\\\\n",
      "NN_adversarial_debiasing & 0.171633 & 0.483440 & 0.473333 & 0.160494 & 0.073485 & 0.125568 & 0.438034 \\\\\n",
      "Basic_NN_no_adversarial_debiasing & 0.434286 & 0.466880 & 0.466667 & 0.025765 & 0.033838 & 0.042017 & 0.475249 \\\\\n",
      "reweighing_NN_adversarial_debiasing & 0.575714 & 0.486111 & 0.480000 & 0.212560 & 0.006061 & 0.087212 & 0.468483 \\\\\n",
      "reweighin_basic_NN_no_adversarial_debiasing & 0.636327 & 0.456197 & 0.466667 & 0.038647 & 0.098485 & 0.111111 & 0.458689 \\\\\n",
      "disparate_impact_NN_adversarial_debiasing & 0.494898 & 0.450855 & 0.460000 & 0.345142 & 0.006061 & 0.066667 & 0.472578 \\\\\n",
      "disparate_impact_basic_NN_no_adversarial_debiasing & 0.595918 & 0.476496 & 0.486667 & 0.053140 & 0.055556 & 0.023392 & 0.488426 \\\\\n",
      "reweighin_logistic_regression & 0.454490 & 0.575855 & 0.573333 & 0.124530 & 0.028788 & 0.068235 & 0.603989 \\\\\n",
      "reweighin_xgb_classifier & 0.272653 & 0.494658 & 0.486667 & 0.088567 & 0.085859 & 0.138889 & 0.464387 \\\\\n",
      "disparate_impact_logistic_regression & 0.515102 & 0.576389 & 0.580000 & 0.055287 & 0.038636 & 0.139560 & 0.603989 \\\\\n",
      "disparate_impact_xgb_classifier & 0.272653 & 0.494658 & 0.486667 & 0.088567 & 0.085859 & 0.138889 & 0.464387 \\\\\n",
      "reweighin_logistic_regression_reject_option_spd & 0.495051 & 0.576923 & 0.580000 & 0.053140 & 0.009596 & 0.101852 & 0.603989 \\\\\n",
      "reweighin_logistic_regression_reject_option_aod & 0.495051 & 0.576923 & 0.580000 & 0.053140 & 0.009596 & 0.101852 & 0.603989 \\\\\n",
      "reweighin_logistic_regression_reject_option_eod & 0.445556 & 0.576923 & 0.580000 & 0.053140 & 0.009596 & 0.101852 & 0.603989 \\\\\n",
      "reweighin_xgb_classifier_reject_option_spd & 0.237677 & 0.489316 & 0.493333 & 0.016103 & 0.039899 & 0.026936 & 0.464387 \\\\\n",
      "reweighin_xgb_classifier_reject_option_aod & 0.237677 & 0.489316 & 0.493333 & 0.016103 & 0.039899 & 0.026936 & 0.464387 \\\\\n",
      "reweighin_xgb_classifier_reject_option_eod & 0.237677 & 0.489316 & 0.493333 & 0.016103 & 0.039899 & 0.026936 & 0.464387 \\\\\n",
      "disparate_impact_logistic_regression_reject_option_spd & 0.306970 & 0.576923 & 0.580000 & 0.053140 & 0.009596 & 0.101852 & 0.603989 \\\\\n",
      "disparate_impact_logistic_regression_reject_option_aod & 0.306970 & 0.576923 & 0.580000 & 0.053140 & 0.009596 & 0.101852 & 0.603989 \\\\\n",
      "disparate_impact_logistic_regression_reject_option_eod & 0.445556 & 0.576923 & 0.580000 & 0.053140 & 0.009596 & 0.101852 & 0.603989 \\\\\n",
      "disparate_impact_xgb_classifier_reject_option_spd & 0.237677 & 0.489316 & 0.493333 & 0.016103 & 0.039899 & 0.026936 & 0.464387 \\\\\n",
      "disparate_impact_xgb_classifier_reject_option_aod & 0.237677 & 0.489316 & 0.493333 & 0.016103 & 0.039899 & 0.026936 & 0.464387 \\\\\n",
      "disparate_impact_xgb_classifier_reject_option_eod & 0.237677 & 0.489316 & 0.493333 & 0.016103 & 0.039899 & 0.026936 & 0.464387 \\\\\n",
      "reweighin_logistic_regression_platt_scaling & 0.523216 & 0.626603 & 0.626667 & 0.240472 & 0.027020 & 0.008252 & 0.624644 \\\\\n",
      "reweighin_xgb_classifier_platt_scaling & 0.487302 & 0.545406 & 0.540000 & 0.330113 & 0.018939 & 0.048535 & 0.522614 \\\\\n",
      "disparate_impact_logistic_regression_platt_scaling & 0.523289 & 0.626603 & 0.626667 & 0.240472 & 0.027020 & 0.008252 & 0.624822 \\\\\n",
      "disparate_impact_xgb_classifier_platt_scaling & 0.487302 & 0.545406 & 0.540000 & 0.330113 & 0.018939 & 0.048535 & 0.522614 \\\\\n",
      "reweighin_logistic_regression_equal_odds_weighted & 0.515102 & 0.588675 & 0.593333 & 0.005904 & 0.019192 & 0.105459 & 0.603989 \\\\\n",
      "reweighin_logistic_regression_equal_odds_fnr & 0.454490 & 0.590278 & 0.586667 & 0.173913 & 0.059343 & 0.051198 & 0.603989 \\\\\n",
      "reweighin_logistic_regression_equal_odds_fpr & 0.454490 & 0.563568 & 0.560000 & 0.093398 & 0.034091 & 0.057764 & 0.603989 \\\\\n",
      "reweighin_xgb_classifier_equal_odds_weighted & 0.272653 & 0.494658 & 0.486667 & 0.088567 & 0.085859 & 0.138889 & 0.464387 \\\\\n",
      "reweighin_xgb_classifier_equal_odds_fnr & 0.272653 & 0.494658 & 0.486667 & 0.088567 & 0.085859 & 0.138889 & 0.464387 \\\\\n",
      "reweighin_xgb_classifier_equal_odds_fpr & 0.272653 & 0.494658 & 0.486667 & 0.088567 & 0.085859 & 0.138889 & 0.464387 \\\\\n",
      "disparate_impact_logistic_regression_equal_odds_weighted & 0.515102 & 0.582265 & 0.586667 & 0.018250 & 0.030303 & 0.122596 & 0.603989 \\\\\n",
      "disparate_impact_logistic_regression_equal_odds_fnr & 0.515102 & 0.595085 & 0.600000 & 0.006441 & 0.008081 & 0.087179 & 0.603989 \\\\\n",
      "disparate_impact_logistic_regression_equal_odds_fpr & 0.454490 & 0.571581 & 0.566667 & 0.101449 & 0.052020 & 0.045584 & 0.603989 \\\\\n",
      "disparate_impact_xgb_classifier_equal_odds_weighted & 0.272653 & 0.494658 & 0.486667 & 0.088567 & 0.085859 & 0.138889 & 0.464387 \\\\\n",
      "disparate_impact_xgb_classifier_equal_odds_fnr & 0.272653 & 0.494658 & 0.486667 & 0.088567 & 0.085859 & 0.138889 & 0.464387 \\\\\n",
      "disparate_impact_xgb_classifier_equal_odds_fpr & 0.272653 & 0.494658 & 0.486667 & 0.088567 & 0.085859 & 0.138889 & 0.464387 \\\\\n",
      "meta_fairness_sr_reject_option_spd & 0.237677 & 0.489316 & 0.493333 & 0.016103 & 0.039899 & 0.026936 & 0.464387 \\\\\n",
      "meta_fairness_sr_reject_option_aod & 0.237677 & 0.489316 & 0.493333 & 0.016103 & 0.039899 & 0.026936 & 0.464387 \\\\\n",
      "meta_fairness_sr_reject_option_eod & 0.237677 & 0.489316 & 0.493333 & 0.016103 & 0.039899 & 0.026936 & 0.464387 \\\\\n",
      "meta_fairness_fdr_reject_option_spd & 0.237677 & 0.489316 & 0.493333 & 0.016103 & 0.039899 & 0.026936 & 0.464387 \\\\\n",
      "meta_fairness_fdr_reject_option_aod & 0.237677 & 0.489316 & 0.493333 & 0.016103 & 0.039899 & 0.026936 & 0.464387 \\\\\n",
      "meta_fairness_fdr_reject_option_eod & 0.237677 & 0.489316 & 0.493333 & 0.016103 & 0.039899 & 0.026936 & 0.464387 \\\\\n",
      "NN_adversarial_debiasing_reject_option_spd & 0.237677 & 0.489316 & 0.493333 & 0.016103 & 0.039899 & 0.026936 & 0.464387 \\\\\n",
      "NN_adversarial_debiasing_reject_option_aod & 0.237677 & 0.489316 & 0.493333 & 0.016103 & 0.039899 & 0.026936 & 0.464387 \\\\\n",
      "NN_adversarial_debiasing_reject_option_eod & 0.237677 & 0.489316 & 0.493333 & 0.016103 & 0.039899 & 0.026936 & 0.464387 \\\\\n",
      "NN_adversarial_debiasing_platt_scaling & 0.510783 & 0.532585 & 0.533333 & 0.292002 & 0.016414 & 0.081169 & 0.537215 \\\\\n",
      "Basic_NN_no_adversarial_debiasing_platt_scaling & 0.492141 & 0.542735 & 0.540000 & 0.104670 & 0.012121 & 0.081949 & 0.509793 \\\\\n",
      "NN_adversarial_debiasing_equal_odds_weighted & 0.171633 & 0.480235 & 0.466667 & 0.133119 & 0.007828 & 0.071078 & 0.438034 \\\\\n",
      "NN_adversarial_debiasing_equal_odds_fnr & 0.171633 & 0.483440 & 0.473333 & 0.160494 & 0.073485 & 0.125568 & 0.438034 \\\\\n",
      "NN_adversarial_debiasing_equal_odds_fpr & 0.878776 & 0.481303 & 0.500000 & 0.061728 & 0.030556 & 0.200000 & 0.438034 \\\\\n",
      "Basic_NN_no_adversarial_debiasing_equal_odds_weighted & 0.434286 & 0.467415 & 0.466667 & 0.050456 & 0.036616 & 0.038770 & 0.475249 \\\\\n",
      "Basic_NN_no_adversarial_debiasing_equal_odds_fnr & 0.434286 & 0.467415 & 0.466667 & 0.050456 & 0.036616 & 0.038770 & 0.475249 \\\\\n",
      "Basic_NN_no_adversarial_debiasing_equal_odds_fpr & 0.434286 & 0.467415 & 0.466667 & 0.050456 & 0.036616 & 0.038770 & 0.475249 \\\\\n",
      "\\bottomrule\n",
      "\\end{tabular}\n",
      "\n"
     ]
    }
   ],
   "source": [
    "dataMAMS11 = pd.read_csv('SIMULATION_MULTALG_MULTSENS_mild', sep=',', encoding='utf-8')\n",
    "dataMAMS11 = dataMAMS11.rename(columns = {'Unnamed: 0': 'Model'})\n",
    "dataMAMS11 = dataMAMS11.set_index('Model')\n",
    "print(dataMAMS11.to_latex())"
   ]
  },
  {
   "cell_type": "code",
   "execution_count": 15,
   "id": "1766158d-f8de-431f-847d-98b959e23b43",
   "metadata": {},
   "outputs": [
    {
     "name": "stdout",
     "output_type": "stream",
     "text": [
      "\\begin{tabular}{lrrrrrrr}\n",
      "\\toprule\n",
      " & best_threshold & bal_acc & acc & independence & separation & sufficiency & auc \\\\\n",
      "Model &  &  &  &  &  &  &  \\\\\n",
      "\\midrule\n",
      "logistic_regression & 0.373673 & 0.536047 & 0.560000 & 0.283414 & 0.067030 & 0.038282 & 0.504125 \\\\\n",
      "xgb_classifier & 0.373673 & 0.537482 & 0.553333 & 0.229200 & 0.032796 & 0.056522 & 0.522956 \\\\\n",
      "NN_adversarial_debiasing & 0.131224 & 0.506277 & 0.546667 & 0.064412 & 0.008014 & 0.083954 & 0.406923 \\\\\n",
      "Basic_NN_no_adversarial_debiasing & 0.595918 & 0.473278 & 0.466667 & 0.149222 & 0.037239 & 0.060099 & 0.515782 \\\\\n",
      "reweighing_NN_adversarial_debiasing & 0.535306 & 0.553443 & 0.566667 & 0.359098 & 0.039678 & 0.039346 & 0.552547 \\\\\n",
      "reweighin_basic_NN_no_adversarial_debiasing & 0.616122 & 0.518651 & 0.506667 & 0.167472 & 0.076220 & 0.020833 & 0.551291 \\\\\n",
      "disparate_impact_NN_adversarial_debiasing & 0.676735 & 0.468077 & 0.426667 & 0.045089 & 0.010105 & 0.333333 & 0.434720 \\\\\n",
      "disparate_impact_basic_NN_no_adversarial_debiasing & 0.616122 & 0.487984 & 0.480000 & 0.173913 & 0.062239 & 0.024339 & 0.518651 \\\\\n",
      "reweighin_logistic_regression & 0.555510 & 0.440638 & 0.420000 & 0.130435 & 0.083275 & 0.124339 & 0.443867 \\\\\n",
      "reweighin_xgb_classifier & 0.373673 & 0.537482 & 0.553333 & 0.229200 & 0.032796 & 0.056522 & 0.522956 \\\\\n",
      "disparate_impact_logistic_regression & 0.373673 & 0.536047 & 0.560000 & 0.283414 & 0.067030 & 0.038282 & 0.504125 \\\\\n",
      "disparate_impact_xgb_classifier & 0.373673 & 0.537482 & 0.553333 & 0.229200 & 0.032796 & 0.056522 & 0.522956 \\\\\n",
      "reweighin_logistic_regression_reject_option_spd & 0.534646 & 0.443867 & 0.440000 & 0.046162 & 0.036019 & 0.058009 & 0.443867 \\\\\n",
      "reweighin_logistic_regression_reject_option_aod & 0.534646 & 0.443867 & 0.440000 & 0.046162 & 0.036019 & 0.058009 & 0.443867 \\\\\n",
      "reweighin_logistic_regression_reject_option_eod & 0.495051 & 0.443867 & 0.440000 & 0.046162 & 0.036019 & 0.058009 & 0.443867 \\\\\n",
      "reweighin_xgb_classifier_reject_option_spd & 0.168384 & 0.541607 & 0.540000 & 0.199141 & 0.080096 & 0.008384 & 0.522956 \\\\\n",
      "reweighin_xgb_classifier_reject_option_aod & 0.207980 & 0.541607 & 0.540000 & 0.199141 & 0.080096 & 0.008384 & 0.522956 \\\\\n",
      "reweighin_xgb_classifier_reject_option_eod & 0.207980 & 0.541607 & 0.540000 & 0.199141 & 0.080096 & 0.008384 & 0.522956 \\\\\n",
      "disparate_impact_logistic_regression_reject_option_spd & 0.485152 & 0.537841 & 0.540000 & 0.232421 & 0.200610 & 0.113725 & 0.504125 \\\\\n",
      "disparate_impact_logistic_regression_reject_option_aod & 0.465354 & 0.537841 & 0.540000 & 0.232421 & 0.200610 & 0.113725 & 0.504125 \\\\\n",
      "disparate_impact_logistic_regression_reject_option_eod & 0.485152 & 0.537841 & 0.540000 & 0.232421 & 0.200610 & 0.113725 & 0.504125 \\\\\n",
      "disparate_impact_xgb_classifier_reject_option_spd & 0.168384 & 0.541607 & 0.540000 & 0.199141 & 0.080096 & 0.008384 & 0.522956 \\\\\n",
      "disparate_impact_xgb_classifier_reject_option_aod & 0.207980 & 0.541607 & 0.540000 & 0.199141 & 0.080096 & 0.008384 & 0.522956 \\\\\n",
      "disparate_impact_xgb_classifier_reject_option_eod & 0.207980 & 0.541607 & 0.540000 & 0.199141 & 0.080096 & 0.008384 & 0.522956 \\\\\n",
      "reweighin_logistic_regression_platt_scaling & 0.558176 & 0.566714 & 0.586667 & 0.518519 & 0.080488 & 0.004459 & 0.629304 \\\\\n",
      "reweighin_xgb_classifier_platt_scaling & 0.564358 & 0.601506 & 0.600000 & 0.347826 & 0.010017 & 0.029945 & 0.596306 \\\\\n",
      "disparate_impact_logistic_regression_platt_scaling & 0.570059 & 0.608680 & 0.613333 & 0.519592 & 0.018598 & 0.015915 & 0.626255 \\\\\n",
      "disparate_impact_xgb_classifier_platt_scaling & 0.564358 & 0.601506 & 0.600000 & 0.347826 & 0.010017 & 0.029945 & 0.596306 \\\\\n",
      "reweighin_logistic_regression_equal_odds_weighted & 0.555510 & 0.440638 & 0.420000 & 0.130435 & 0.083275 & 0.124339 & 0.443867 \\\\\n",
      "reweighin_logistic_regression_equal_odds_fnr & 0.555510 & 0.440638 & 0.420000 & 0.130435 & 0.083275 & 0.124339 & 0.443867 \\\\\n",
      "reweighin_logistic_regression_equal_odds_fpr & 0.555510 & 0.440638 & 0.420000 & 0.130435 & 0.083275 & 0.124339 & 0.443867 \\\\\n",
      "reweighin_xgb_classifier_equal_odds_weighted & 0.373673 & 0.537482 & 0.553333 & 0.229200 & 0.032796 & 0.056522 & 0.522956 \\\\\n",
      "reweighin_xgb_classifier_equal_odds_fnr & 0.535306 & 0.529412 & 0.526667 & 0.250671 & 0.031315 & 0.043514 & 0.522956 \\\\\n",
      "reweighin_xgb_classifier_equal_odds_fpr & 0.373673 & 0.531385 & 0.546667 & 0.241546 & 0.020601 & 0.066667 & 0.522956 \\\\\n",
      "disparate_impact_logistic_regression_equal_odds_weighted & 0.333265 & 0.575323 & 0.593333 & 0.475040 & 0.056969 & 0.016317 & 0.504125 \\\\\n",
      "disparate_impact_logistic_regression_equal_odds_fnr & 0.535306 & 0.572812 & 0.593333 & 0.506173 & 0.092683 & 0.005797 & 0.504125 \\\\\n",
      "disparate_impact_logistic_regression_equal_odds_fpr & 0.333265 & 0.575323 & 0.593333 & 0.475040 & 0.056969 & 0.016317 & 0.504125 \\\\\n",
      "disparate_impact_xgb_classifier_equal_odds_weighted & 0.373673 & 0.537482 & 0.553333 & 0.229200 & 0.032796 & 0.056522 & 0.522956 \\\\\n",
      "disparate_impact_xgb_classifier_equal_odds_fnr & 0.535306 & 0.529412 & 0.526667 & 0.250671 & 0.031315 & 0.043514 & 0.522956 \\\\\n",
      "disparate_impact_xgb_classifier_equal_odds_fpr & 0.373673 & 0.531385 & 0.546667 & 0.241546 & 0.020601 & 0.066667 & 0.522956 \\\\\n",
      "meta_fairness_sr_reject_option_spd & 0.168384 & 0.541607 & 0.540000 & 0.199141 & 0.080096 & 0.008384 & 0.522956 \\\\\n",
      "meta_fairness_sr_reject_option_aod & 0.207980 & 0.541607 & 0.540000 & 0.199141 & 0.080096 & 0.008384 & 0.522956 \\\\\n",
      "meta_fairness_sr_reject_option_eod & 0.207980 & 0.541607 & 0.540000 & 0.199141 & 0.080096 & 0.008384 & 0.522956 \\\\\n",
      "meta_fairness_fdr_reject_option_spd & 0.168384 & 0.541607 & 0.540000 & 0.199141 & 0.080096 & 0.008384 & 0.522956 \\\\\n",
      "meta_fairness_fdr_reject_option_aod & 0.207980 & 0.541607 & 0.540000 & 0.199141 & 0.080096 & 0.008384 & 0.522956 \\\\\n",
      "meta_fairness_fdr_reject_option_eod & 0.207980 & 0.541607 & 0.540000 & 0.199141 & 0.080096 & 0.008384 & 0.522956 \\\\\n",
      "NN_adversarial_debiasing_reject_option_spd & 0.168384 & 0.541607 & 0.540000 & 0.199141 & 0.080096 & 0.008384 & 0.522956 \\\\\n",
      "NN_adversarial_debiasing_reject_option_aod & 0.207980 & 0.541607 & 0.540000 & 0.199141 & 0.080096 & 0.008384 & 0.522956 \\\\\n",
      "NN_adversarial_debiasing_reject_option_eod & 0.207980 & 0.541607 & 0.540000 & 0.199141 & 0.080096 & 0.008384 & 0.522956 \\\\\n",
      "NN_adversarial_debiasing_platt_scaling & 0.344516 & 0.566714 & 0.586667 & 0.518519 & 0.080488 & 0.004459 & 0.528156 \\\\\n",
      "Basic_NN_no_adversarial_debiasing_platt_scaling & 0.374931 & 0.566714 & 0.586667 & 0.518519 & 0.080488 & 0.004459 & 0.526722 \\\\\n",
      "NN_adversarial_debiasing_equal_odds_weighted & 0.010000 & 0.500000 & 0.546667 & 0.000000 & 0.000000 & 0.088030 & 0.406923 \\\\\n",
      "NN_adversarial_debiasing_equal_odds_fnr & 0.131224 & 0.506277 & 0.546667 & 0.064412 & 0.008014 & 0.083954 & 0.406923 \\\\\n",
      "NN_adversarial_debiasing_equal_odds_fpr & 0.010000 & 0.500000 & 0.546667 & 0.000000 & 0.000000 & 0.088030 & 0.406923 \\\\\n",
      "Basic_NN_no_adversarial_debiasing_equal_odds_weighted & 0.595918 & 0.473278 & 0.466667 & 0.149222 & 0.037239 & 0.060099 & 0.515782 \\\\\n",
      "Basic_NN_no_adversarial_debiasing_equal_odds_fnr & 0.616122 & 0.489598 & 0.466667 & 0.013956 & 0.036890 & 0.161111 & 0.515782 \\\\\n",
      "Basic_NN_no_adversarial_debiasing_equal_odds_fpr & 0.595918 & 0.480631 & 0.473333 & 0.161567 & 0.049739 & 0.042857 & 0.515782 \\\\\n",
      "\\bottomrule\n",
      "\\end{tabular}\n",
      "\n"
     ]
    }
   ],
   "source": [
    "dataMAMS01 = pd.read_csv('SIMULATION_MULTALG_MULTSENS_low', sep=',', encoding='utf-8')\n",
    "dataMAMS01 = dataMAMS01.rename(columns = {'Unnamed: 0': 'Model'})\n",
    "dataMAMS01 = dataMAMS01.set_index('Model')\n",
    "print(dataMAMS01.to_latex())"
   ]
  },
  {
   "cell_type": "code",
   "execution_count": 16,
   "id": "1abc515a-46db-4f69-8ad6-46ee9fdfd55f",
   "metadata": {},
   "outputs": [
    {
     "name": "stdout",
     "output_type": "stream",
     "text": [
      "\\begin{tabular}{lrrrrrrr}\n",
      "\\toprule\n",
      " & best_threshold & bal_acc & acc & independence & separation & sufficiency & auc \\\\\n",
      "Model &  &  &  &  &  &  &  \\\\\n",
      "\\midrule\n",
      "logistic_regression & 0.414082 & 0.526667 & 0.526667 & 0.202455 & 0.027922 & 0.109971 & 0.537600 \\\\\n",
      "xgb_classifier & 0.090816 & 0.500000 & 0.500000 & 0.054795 & 0.005303 & 0.096179 & 0.486756 \\\\\n",
      "NN_adversarial_debiasing & 0.090816 & 0.500000 & 0.500000 & 0.025974 & 0.002381 & 0.094612 & 0.430933 \\\\\n",
      "Basic_NN_no_adversarial_debiasing & 0.232245 & 0.466667 & 0.466667 & 0.102295 & 0.020292 & 0.108359 & 0.501689 \\\\\n",
      "reweighing_NN_adversarial_debiasing & 0.636327 & 0.506667 & 0.506667 & 0.283046 & 0.015801 & 0.078788 & 0.511289 \\\\\n",
      "reweighin_basic_NN_no_adversarial_debiasing & 0.232245 & 0.513333 & 0.513333 & 0.061911 & 0.002814 & 0.094612 & 0.488889 \\\\\n",
      "disparate_impact_NN_adversarial_debiasing & 0.232245 & 0.520000 & 0.520000 & 0.025440 & 0.063745 & 0.137374 & 0.474667 \\\\\n",
      "disparate_impact_basic_NN_no_adversarial_debiasing & 0.353469 & 0.460000 & 0.460000 & 0.125245 & 0.041234 & 0.131924 & 0.465600 \\\\\n",
      "reweighin_logistic_regression & 0.353469 & 0.500000 & 0.500000 & 0.008539 & 0.023647 & 0.079445 & 0.523556 \\\\\n",
      "reweighin_xgb_classifier & 0.090816 & 0.500000 & 0.500000 & 0.054795 & 0.005303 & 0.096179 & 0.486756 \\\\\n",
      "disparate_impact_logistic_regression & 0.414082 & 0.526667 & 0.526667 & 0.202455 & 0.027922 & 0.109971 & 0.537600 \\\\\n",
      "disparate_impact_xgb_classifier & 0.090816 & 0.500000 & 0.500000 & 0.054795 & 0.005303 & 0.096179 & 0.486756 \\\\\n",
      "reweighin_logistic_regression_reject_option_spd & 0.465354 & 0.526667 & 0.526667 & 0.026330 & 0.042965 & 0.050000 & 0.523556 \\\\\n",
      "reweighin_logistic_regression_reject_option_aod & 0.524747 & 0.526667 & 0.526667 & 0.026330 & 0.042965 & 0.050000 & 0.523556 \\\\\n",
      "reweighin_logistic_regression_reject_option_eod & 0.574242 & 0.526667 & 0.526667 & 0.026330 & 0.042965 & 0.050000 & 0.523556 \\\\\n",
      "reweighin_xgb_classifier_reject_option_spd & 0.346566 & 0.493333 & 0.493333 & 0.040740 & 0.056926 & 0.152338 & 0.486756 \\\\\n",
      "reweighin_xgb_classifier_reject_option_aod & 0.247576 & 0.493333 & 0.493333 & 0.040740 & 0.056926 & 0.152338 & 0.486756 \\\\\n",
      "reweighin_xgb_classifier_reject_option_eod & 0.247576 & 0.493333 & 0.493333 & 0.040740 & 0.056926 & 0.152338 & 0.486756 \\\\\n",
      "disparate_impact_logistic_regression_reject_option_spd & 0.435657 & 0.520000 & 0.520000 & 0.171322 & 0.088528 & 0.005682 & 0.537600 \\\\\n",
      "disparate_impact_logistic_regression_reject_option_aod & 0.425758 & 0.520000 & 0.520000 & 0.171322 & 0.088528 & 0.005682 & 0.537600 \\\\\n",
      "disparate_impact_logistic_regression_reject_option_eod & 0.445556 & 0.520000 & 0.520000 & 0.171322 & 0.088528 & 0.005682 & 0.537600 \\\\\n",
      "disparate_impact_xgb_classifier_reject_option_spd & 0.346566 & 0.493333 & 0.493333 & 0.040740 & 0.056926 & 0.152338 & 0.486756 \\\\\n",
      "disparate_impact_xgb_classifier_reject_option_aod & 0.247576 & 0.493333 & 0.493333 & 0.040740 & 0.056926 & 0.152338 & 0.486756 \\\\\n",
      "disparate_impact_xgb_classifier_reject_option_eod & 0.247576 & 0.493333 & 0.493333 & 0.040740 & 0.056926 & 0.152338 & 0.486756 \\\\\n",
      "reweighin_logistic_regression_platt_scaling & 0.519643 & 0.526667 & 0.526667 & 0.420922 & 0.019697 & 0.107280 & 0.510400 \\\\\n",
      "reweighin_xgb_classifier_platt_scaling & 0.487744 & 0.500000 & 0.500000 & 0.397082 & 0.103517 & 0.000000 & 0.521956 \\\\\n",
      "disparate_impact_logistic_regression_platt_scaling & 0.354892 & 0.520000 & 0.520000 & 0.452055 & 0.002273 & 0.095455 & 0.513600 \\\\\n",
      "disparate_impact_xgb_classifier_platt_scaling & 0.487744 & 0.500000 & 0.500000 & 0.397082 & 0.103517 & 0.000000 & 0.521956 \\\\\n",
      "reweighin_logistic_regression_equal_odds_weighted & 0.353469 & 0.500000 & 0.500000 & 0.008539 & 0.023647 & 0.079445 & 0.523556 \\\\\n",
      "reweighin_logistic_regression_equal_odds_fnr & 0.353469 & 0.500000 & 0.500000 & 0.035937 & 0.020996 & 0.080834 & 0.523556 \\\\\n",
      "reweighin_logistic_regression_equal_odds_fpr & 0.353469 & 0.500000 & 0.500000 & 0.008539 & 0.023647 & 0.079445 & 0.523556 \\\\\n",
      "reweighin_xgb_classifier_equal_odds_weighted & 0.090816 & 0.500000 & 0.500000 & 0.054795 & 0.005303 & 0.096179 & 0.486756 \\\\\n",
      "reweighin_xgb_classifier_equal_odds_fnr & 0.090816 & 0.500000 & 0.500000 & 0.054795 & 0.005303 & 0.096179 & 0.486756 \\\\\n",
      "reweighin_xgb_classifier_equal_odds_fpr & 0.090816 & 0.493333 & 0.493333 & 0.041096 & 0.017803 & 0.102597 & 0.486756 \\\\\n",
      "disparate_impact_logistic_regression_equal_odds_weighted & 0.393878 & 0.533333 & 0.533333 & 0.377691 & 0.032576 & 0.059740 & 0.537600 \\\\\n",
      "disparate_impact_logistic_regression_equal_odds_fnr & 0.474694 & 0.520000 & 0.520000 & 0.342466 & 0.008333 & 0.087121 & 0.537600 \\\\\n",
      "disparate_impact_logistic_regression_equal_odds_fpr & 0.393878 & 0.533333 & 0.533333 & 0.377691 & 0.032576 & 0.059740 & 0.537600 \\\\\n",
      "disparate_impact_xgb_classifier_equal_odds_weighted & 0.090816 & 0.500000 & 0.500000 & 0.054795 & 0.005303 & 0.096179 & 0.486756 \\\\\n",
      "disparate_impact_xgb_classifier_equal_odds_fnr & 0.090816 & 0.500000 & 0.500000 & 0.054795 & 0.005303 & 0.096179 & 0.486756 \\\\\n",
      "disparate_impact_xgb_classifier_equal_odds_fpr & 0.090816 & 0.493333 & 0.493333 & 0.041096 & 0.017803 & 0.102597 & 0.486756 \\\\\n",
      "meta_fairness_sr_reject_option_spd & 0.346566 & 0.493333 & 0.493333 & 0.040740 & 0.056926 & 0.152338 & 0.486756 \\\\\n",
      "meta_fairness_sr_reject_option_aod & 0.247576 & 0.493333 & 0.493333 & 0.040740 & 0.056926 & 0.152338 & 0.486756 \\\\\n",
      "meta_fairness_sr_reject_option_eod & 0.247576 & 0.493333 & 0.493333 & 0.040740 & 0.056926 & 0.152338 & 0.486756 \\\\\n",
      "meta_fairness_fdr_reject_option_spd & 0.346566 & 0.493333 & 0.493333 & 0.040740 & 0.056926 & 0.152338 & 0.486756 \\\\\n",
      "meta_fairness_fdr_reject_option_aod & 0.247576 & 0.493333 & 0.493333 & 0.040740 & 0.056926 & 0.152338 & 0.486756 \\\\\n",
      "meta_fairness_fdr_reject_option_eod & 0.247576 & 0.493333 & 0.493333 & 0.040740 & 0.056926 & 0.152338 & 0.486756 \\\\\n",
      "NN_adversarial_debiasing_reject_option_spd & 0.346566 & 0.493333 & 0.493333 & 0.040740 & 0.056926 & 0.152338 & 0.486756 \\\\\n",
      "NN_adversarial_debiasing_reject_option_aod & 0.247576 & 0.493333 & 0.493333 & 0.040740 & 0.056926 & 0.152338 & 0.486756 \\\\\n",
      "NN_adversarial_debiasing_reject_option_eod & 0.247576 & 0.493333 & 0.493333 & 0.040740 & 0.056926 & 0.152338 & 0.486756 \\\\\n",
      "NN_adversarial_debiasing_platt_scaling & 0.507144 & 0.500000 & 0.500000 & 0.440491 & 0.030790 & 0.079659 & 0.572267 \\\\\n",
      "Basic_NN_no_adversarial_debiasing_platt_scaling & 0.516796 & 0.526667 & 0.526667 & 0.293186 & 0.095455 & 0.018462 & 0.545422 \\\\\n",
      "NN_adversarial_debiasing_equal_odds_weighted & 0.010000 & 0.500000 & 0.500000 & 0.000000 & 0.000000 & 0.093400 & 0.430933 \\\\\n",
      "NN_adversarial_debiasing_equal_odds_fnr & 0.090816 & 0.500000 & 0.500000 & 0.025974 & 0.002381 & 0.094612 & 0.430933 \\\\\n",
      "NN_adversarial_debiasing_equal_odds_fpr & 0.010000 & 0.500000 & 0.500000 & 0.000000 & 0.000000 & 0.093400 & 0.430933 \\\\\n",
      "Basic_NN_no_adversarial_debiasing_equal_odds_weighted & 0.333265 & 0.486667 & 0.486667 & 0.120975 & 0.078517 & 0.149214 & 0.501689 \\\\\n",
      "Basic_NN_no_adversarial_debiasing_equal_odds_fnr & 0.232245 & 0.473333 & 0.473333 & 0.087885 & 0.029545 & 0.112503 & 0.501689 \\\\\n",
      "Basic_NN_no_adversarial_debiasing_equal_odds_fpr & 0.353469 & 0.506667 & 0.506667 & 0.245686 & 0.054004 & 0.138269 & 0.501689 \\\\\n",
      "\\bottomrule\n",
      "\\end{tabular}\n",
      "\n"
     ]
    }
   ],
   "source": [
    "dataMAMS10 = pd.read_csv('SIMULATION_MULTALG_MULTSENS_high', sep=',', encoding='utf-8')\n",
    "dataMAMS10 = dataMAMS10.rename(columns = {'Unnamed: 0': 'Model'})\n",
    "dataMAMS10 = dataMAMS10.set_index('Model')\n",
    "print(dataMAMS10.to_latex())"
   ]
  },
  {
   "cell_type": "markdown",
   "id": "cdb222b6-8517-4f3e-9436-0c57fc19628e",
   "metadata": {},
   "source": [
    "# German dataset"
   ]
  },
  {
   "cell_type": "code",
   "execution_count": null,
   "id": "bcdb9da3-827d-463a-adf4-4e3f53206fa8",
   "metadata": {},
   "outputs": [],
   "source": [
    "German = pd.read_csv('PERFORMANCE_GERMAN_SIMPLE', sep=',', encoding='utf-8')\n",
    "German = German.rename(columns = {'Unnamed: 0': 'Model'})\n",
    "German = German.set_index('Model')\n",
    "print(German.to_latex())"
   ]
  },
  {
   "cell_type": "code",
   "execution_count": null,
   "id": "eefd029b-7f61-493f-ab72-20e548786df8",
   "metadata": {},
   "outputs": [],
   "source": [
    "GermanMA = pd.read_csv('PERFORMANCE_GERMAN_MULTALG', sep=',', encoding='utf-8')\n",
    "GermanMA = GermanMA.rename(columns = {'Unnamed: 0': 'Model'})\n",
    "GermanMA = GermanMA.set_index('Model')\n",
    "print(GermanMA.to_latex())"
   ]
  },
  {
   "cell_type": "code",
   "execution_count": null,
   "id": "8ee1d5cd-5d16-492c-a7f2-4f270a456baa",
   "metadata": {},
   "outputs": [],
   "source": [
    "GermanMS = pd.read_csv('PERFORMANCE_GERMAN_MULTSENS', sep=',', encoding='utf-8')\n",
    "GermanMS = GermanMS.rename(columns = {'Unnamed: 0': 'Model'})\n",
    "GermanMS = GermanMS.set_index('Model')\n",
    "print(GermanMS.to_latex())"
   ]
  },
  {
   "cell_type": "code",
   "execution_count": null,
   "id": "c1891a26-4dec-4044-96e3-85d269746ca5",
   "metadata": {},
   "outputs": [],
   "source": [
    "GermanMAMS = pd.read_csv('PERFORMANCE_GERMAN_MULTALG_MULTSENS', sep=',', encoding='utf-8')\n",
    "GermanMAMS = GermanMAMS.rename(columns = {'Unnamed: 0': 'Model'})\n",
    "GermanMAMS = GermanMAMS.set_index('Model')\n",
    "print(GermanMAMS.to_latex())"
   ]
  },
  {
   "cell_type": "markdown",
   "id": "a817828e-214c-4b90-835d-c942609bac03",
   "metadata": {},
   "source": [
    "# Homecredit dataset"
   ]
  },
  {
   "cell_type": "code",
   "execution_count": null,
   "id": "32108e17-cc5d-4c30-b164-4c624d9f01dc",
   "metadata": {},
   "outputs": [],
   "source": [
    "HC = pd.read_csv('PERFORMANCE_HOMECREDIT_SIMPLE', sep=',', encoding='utf-8')\n",
    "HC = HC.rename(columns = {'Unnamed: 0': 'Model'})\n",
    "HC = HC.set_index('Model')\n",
    "print(HC.to_latex())"
   ]
  },
  {
   "cell_type": "code",
   "execution_count": null,
   "id": "863b9c13-16da-4658-b11f-9ba3cde129bf",
   "metadata": {},
   "outputs": [],
   "source": [
    "HCMA = pd.read_csv('PERFORMANCE_HOMECREDIT_MULTALG', sep=',', encoding='utf-8')\n",
    "HCMA = HCMA.rename(columns = {'Unnamed: 0': 'Model'})\n",
    "HCMA = HCMA.set_index('Model')\n",
    "print(HCMA.to_latex())"
   ]
  },
  {
   "cell_type": "code",
   "execution_count": null,
   "id": "4d743587-47f5-4513-967c-c9a54872424b",
   "metadata": {},
   "outputs": [],
   "source": [
    "HCMS = pd.read_csv('PERFORMANCE_HOMECREDIT_MULTSENS', sep=',', encoding='utf-8')\n",
    "HCMS = HCMS.rename(columns = {'Unnamed: 0': 'Model'})\n",
    "HCMS = HCMS.set_index('Model')\n",
    "print(HCMS.to_latex())"
   ]
  },
  {
   "cell_type": "code",
   "execution_count": null,
   "id": "c5a77853-c68a-4aed-9305-76167564fc46",
   "metadata": {},
   "outputs": [],
   "source": [
    "HCMAMS = pd.read_csv('PERFORMANCE_HOMECREDIT_MULTALG_MULTSENS', sep=',', encoding='utf-8')\n",
    "HCMAMS = HCMAMS.rename(columns = {'Unnamed: 0': 'Model'})\n",
    "HCMAMS = HCMAMS.set_index('Model')\n",
    "print(HCMAMS.to_latex())"
   ]
  }
 ],
 "metadata": {
  "kernelspec": {
   "display_name": "Python 3",
   "language": "python",
   "name": "python3"
  },
  "language_info": {
   "codemirror_mode": {
    "name": "ipython",
    "version": 3
   },
   "file_extension": ".py",
   "mimetype": "text/x-python",
   "name": "python",
   "nbconvert_exporter": "python",
   "pygments_lexer": "ipython3",
   "version": "3.10.12"
  }
 },
 "nbformat": 4,
 "nbformat_minor": 5
}
